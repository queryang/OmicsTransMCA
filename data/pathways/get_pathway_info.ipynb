{
 "cells": [
  {
   "cell_type": "code",
   "execution_count": 1,
   "id": "ffb700e0089f2cde",
   "metadata": {
    "collapsed": false,
    "ExecuteTime": {
     "end_time": "2024-03-05T08:07:16.099907Z",
     "start_time": "2024-03-05T08:07:15.359949Z"
    }
   },
   "outputs": [],
   "source": [
    "# 设计一个程序，用于获取pathway的信息\n",
    "#读取pathway的信息\n",
    "import os\n",
    "import pandas as pd\n",
    "import re\n",
    "import requests\n",
    "from bs4 import BeautifulSoup"
   ]
  },
  {
   "cell_type": "code",
   "outputs": [
    {
     "data": {
      "text/plain": "0      nt06252 Mitochondrial ROS formation.\n1       nt06251 CYP-mediated ROS formation.\n2                    nt06210 ERK signaling.\n3             nt06250 DNA adduct formation.\n4       nt06227 Nuclear receptor signaling.\n                       ...                 \n495                                       .\n512                nt06272 Prostate cancer.\n524               nt06360 Cushing syndrome.\n538           nt06269 Basal cell carcinoma.\n554             nt06461 Huntington disease.\nName: pathway_class, Length: 111, dtype: object"
     },
     "execution_count": 2,
     "metadata": {},
     "output_type": "execute_result"
    }
   ],
   "source": [
    "df_pathway = pd.read_csv('c2.cp.kegg_medicus.v2023.2.Hs.symbols_INFO.csv')\n",
    "# 对pathway_name进行去重，打印\n",
    "df_pathway['pathway_class'].drop_duplicates()"
   ],
   "metadata": {
    "collapsed": false,
    "ExecuteTime": {
     "end_time": "2024-03-05T08:07:16.120668Z",
     "start_time": "2024-03-05T08:07:16.101136Z"
    }
   },
   "id": "1736579e342954f5",
   "execution_count": 2
  },
  {
   "cell_type": "code",
   "outputs": [
    {
     "name": "stdout",
     "output_type": "stream",
     "text": [
      "(186, 4)\n",
      "                                        pathway_name  pathway_id  \\\n",
      "0                         KEGG_N_GLYCAN_BIOSYNTHESIS         NaN   \n",
      "1                      KEGG_OTHER_GLYCAN_DEGRADATION         NaN   \n",
      "2                         KEGG_O_GLYCAN_BIOSYNTHESIS         NaN   \n",
      "3                 KEGG_GLYCOSAMINOGLYCAN_DEGRADATION         NaN   \n",
      "4  KEGG_GLYCOSAMINOGLYCAN_BIOSYNTHESIS_KERATAN_SU...         NaN   \n",
      "\n",
      "   pathway_type  pathway_class  \n",
      "0           NaN            NaN  \n",
      "1           NaN            NaN  \n",
      "2           NaN            NaN  \n",
      "3           NaN            NaN  \n",
      "4           NaN            NaN  \n"
     ]
    }
   ],
   "source": [
    "df_pathway = pd.read_csv('c2.cp.kegg.v2023.1.Hs.symbols_info.csv')\n",
    "print(df_pathway.shape)\n",
    "print(df_pathway.head())"
   ],
   "metadata": {
    "collapsed": true,
    "ExecuteTime": {
     "end_time": "2024-02-15T16:07:21.020183300Z",
     "start_time": "2024-02-15T16:07:20.997924800Z"
    }
   },
   "id": "initial_id",
   "execution_count": 6
  },
  {
   "cell_type": "code",
   "outputs": [],
   "source": [
    "import re\n",
    "import requests\n",
    "from bs4 import BeautifulSoup\n",
    "\n",
    "def get_pathway_info(pathway_name):\n",
    "    url = f'https://www.gsea-msigdb.org/gsea/msigdb/human/geneset/{pathway_name}.html'\n",
    "    response = requests.get(url)\n",
    "    soup = BeautifulSoup(response.text, 'html.parser')\n",
    "    table = soup.find(\"table\",class_=\"lists4 human\")\n",
    "    trs = table.find_all(\"tr\")\n",
    "    pathway_id = ''\n",
    "    pathway_type = ''\n",
    "    pathway_class = ''\n",
    "    pattern = r'Pathway ID: (.+)\\. Pathway type: (.+)\\. Pathway class: (.+)'\n",
    "\n",
    "    for tr in trs:\n",
    "        if \"Full description or abstract\" in tr.text:\n",
    "            match = re.search(pattern, tr.find(\"td\").text)\n",
    "            pathway_id = match.group(1)\n",
    "            pathway_type = match.group(2)\n",
    "            pathway_class = match.group(3)\n",
    "            break\n",
    "    return pathway_id, pathway_type, pathway_class"
   ],
   "metadata": {
    "collapsed": false,
    "ExecuteTime": {
     "end_time": "2024-02-15T16:07:21.066587900Z",
     "start_time": "2024-02-15T16:07:21.031928800Z"
    }
   },
   "id": "64aa631554119d71",
   "execution_count": 7
  },
  {
   "cell_type": "code",
   "outputs": [
    {
     "name": "stdout",
     "output_type": "stream",
     "text": [
      "0 KEGG_N_GLYCAN_BIOSYNTHESIS\n"
     ]
    },
    {
     "ename": "AttributeError",
     "evalue": "'NoneType' object has no attribute 'group'",
     "output_type": "error",
     "traceback": [
      "\u001B[1;31m---------------------------------------------------------------------------\u001B[0m",
      "\u001B[1;31mAttributeError\u001B[0m                            Traceback (most recent call last)",
      "Cell \u001B[1;32mIn[8], line 7\u001B[0m\n\u001B[0;32m      5\u001B[0m \u001B[38;5;28mprint\u001B[39m(count,pathway_name)\n\u001B[0;32m      6\u001B[0m count \u001B[38;5;241m+\u001B[39m\u001B[38;5;241m=\u001B[39m \u001B[38;5;241m1\u001B[39m\n\u001B[1;32m----> 7\u001B[0m pathway_id, pathway_type, pathway_class \u001B[38;5;241m=\u001B[39m get_pathway_info(pathway_name)\n\u001B[0;32m      8\u001B[0m pathway_info\u001B[38;5;241m.\u001B[39mappend([pathway_id, pathway_type, pathway_class])\n",
      "Cell \u001B[1;32mIn[7], line 19\u001B[0m, in \u001B[0;36mget_pathway_info\u001B[1;34m(pathway_name)\u001B[0m\n\u001B[0;32m     17\u001B[0m \u001B[38;5;28;01mif\u001B[39;00m \u001B[38;5;124m\"\u001B[39m\u001B[38;5;124mFull description or abstract\u001B[39m\u001B[38;5;124m\"\u001B[39m \u001B[38;5;129;01min\u001B[39;00m tr\u001B[38;5;241m.\u001B[39mtext:\n\u001B[0;32m     18\u001B[0m     match \u001B[38;5;241m=\u001B[39m re\u001B[38;5;241m.\u001B[39msearch(pattern, tr\u001B[38;5;241m.\u001B[39mfind(\u001B[38;5;124m\"\u001B[39m\u001B[38;5;124mtd\u001B[39m\u001B[38;5;124m\"\u001B[39m)\u001B[38;5;241m.\u001B[39mtext)\n\u001B[1;32m---> 19\u001B[0m     pathway_id \u001B[38;5;241m=\u001B[39m match\u001B[38;5;241m.\u001B[39mgroup(\u001B[38;5;241m1\u001B[39m)\n\u001B[0;32m     20\u001B[0m     pathway_type \u001B[38;5;241m=\u001B[39m match\u001B[38;5;241m.\u001B[39mgroup(\u001B[38;5;241m2\u001B[39m)\n\u001B[0;32m     21\u001B[0m     pathway_class \u001B[38;5;241m=\u001B[39m match\u001B[38;5;241m.\u001B[39mgroup(\u001B[38;5;241m3\u001B[39m)\n",
      "\u001B[1;31mAttributeError\u001B[0m: 'NoneType' object has no attribute 'group'"
     ]
    }
   ],
   "source": [
    "# 循环df_pathway的pathway_name，获取pathway的信息\n",
    "pathway_info = []\n",
    "count = 0\n",
    "for pathway_name in df_pathway['pathway_name']:\n",
    "    print(count,pathway_name)\n",
    "    count += 1\n",
    "    pathway_id, pathway_type, pathway_class = get_pathway_info(pathway_name)\n",
    "    pathway_info.append([pathway_id, pathway_type, pathway_class])"
   ],
   "metadata": {
    "collapsed": false,
    "ExecuteTime": {
     "end_time": "2024-02-15T16:07:24.080726400Z",
     "start_time": "2024-02-15T16:07:21.075391700Z"
    }
   },
   "id": "a9848f4eeba9f07a",
   "execution_count": 8
  },
  {
   "cell_type": "code",
   "outputs": [
    {
     "data": {
      "text/plain": "  pathway_id pathway_type                         pathway_class  \\\n0     N01394   Env factor  nt06252 Mitochondrial ROS formation.   \n1     N01401   Env factor   nt06251 CYP-mediated ROS formation.   \n2     N01352   Env factor                nt06210 ERK signaling.   \n3     N01386   Env factor         nt06250 DNA adduct formation.   \n4     N01364   Env factor   nt06227 Nuclear receptor signaling.   \n\n                                        pathway_name  \n0  KEGG_MEDICUS_ENV_FACTOR_ARSENIC_TO_ELECTRON_TR...  \n1  KEGG_MEDICUS_ENV_FACTOR_BENZO_A_PYRENRE_TO_CYP...  \n2  KEGG_MEDICUS_ENV_FACTOR_BPA_TO_RAS_ERK_SIGNALI...  \n3         KEGG_MEDICUS_ENV_FACTOR_DCE_TO_DNA_ADDUCTS  \n4  KEGG_MEDICUS_ENV_FACTOR_E2_TO_NUCLEAR_INITIATE...  ",
      "text/html": "<div>\n<style scoped>\n    .dataframe tbody tr th:only-of-type {\n        vertical-align: middle;\n    }\n\n    .dataframe tbody tr th {\n        vertical-align: top;\n    }\n\n    .dataframe thead th {\n        text-align: right;\n    }\n</style>\n<table border=\"1\" class=\"dataframe\">\n  <thead>\n    <tr style=\"text-align: right;\">\n      <th></th>\n      <th>pathway_id</th>\n      <th>pathway_type</th>\n      <th>pathway_class</th>\n      <th>pathway_name</th>\n    </tr>\n  </thead>\n  <tbody>\n    <tr>\n      <th>0</th>\n      <td>N01394</td>\n      <td>Env factor</td>\n      <td>nt06252 Mitochondrial ROS formation.</td>\n      <td>KEGG_MEDICUS_ENV_FACTOR_ARSENIC_TO_ELECTRON_TR...</td>\n    </tr>\n    <tr>\n      <th>1</th>\n      <td>N01401</td>\n      <td>Env factor</td>\n      <td>nt06251 CYP-mediated ROS formation.</td>\n      <td>KEGG_MEDICUS_ENV_FACTOR_BENZO_A_PYRENRE_TO_CYP...</td>\n    </tr>\n    <tr>\n      <th>2</th>\n      <td>N01352</td>\n      <td>Env factor</td>\n      <td>nt06210 ERK signaling.</td>\n      <td>KEGG_MEDICUS_ENV_FACTOR_BPA_TO_RAS_ERK_SIGNALI...</td>\n    </tr>\n    <tr>\n      <th>3</th>\n      <td>N01386</td>\n      <td>Env factor</td>\n      <td>nt06250 DNA adduct formation.</td>\n      <td>KEGG_MEDICUS_ENV_FACTOR_DCE_TO_DNA_ADDUCTS</td>\n    </tr>\n    <tr>\n      <th>4</th>\n      <td>N01364</td>\n      <td>Env factor</td>\n      <td>nt06227 Nuclear receptor signaling.</td>\n      <td>KEGG_MEDICUS_ENV_FACTOR_E2_TO_NUCLEAR_INITIATE...</td>\n    </tr>\n  </tbody>\n</table>\n</div>"
     },
     "execution_count": 25,
     "metadata": {},
     "output_type": "execute_result"
    }
   ],
   "source": [
    "df_pathway_info = pd.DataFrame(pathway_info, columns=['pathway_id', 'pathway_type', 'pathway_class'])\n",
    "df_pathway_info['pathway_name'] = df_pathway['pathway_name']\n",
    "df_pathway_info.head()"
   ],
   "metadata": {
    "collapsed": false,
    "ExecuteTime": {
     "end_time": "2024-02-04T08:50:10.281529300Z",
     "start_time": "2024-02-04T08:50:10.266953200Z"
    }
   },
   "id": "9b0773303e2e005a",
   "execution_count": 25
  },
  {
   "cell_type": "code",
   "outputs": [],
   "source": [
    "pathway_name = \"KEGG_MEDICUS_ENV_FACTOR_ARSENIC_TO_ELECTRON_TRANSFER_IN_COMPLEX_IV\"\n",
    "url = f'https://www.gsea-msigdb.org/gsea/msigdb/human/geneset/{pathway_name}.html'\n",
    "\n",
    "response = requests.get(url)\n",
    "soup = BeautifulSoup(response.text, 'html.parser')\n",
    "#lists4 human\n",
    "table = soup.find(\"table\",class_=\"lists4 human\")\n",
    "# 找到tr里的内容包含Full description or abstract的tr\n",
    "trs = table.find_all(\"tr\")\n",
    "pathway_id = ''\n",
    "pathway_type = ''\n",
    "pathway_class = ''\n",
    "pattern = r'Pathway ID: (.+)\\. Pathway type: (.+)\\. Pathway class: (.+)'\n",
    "\n",
    "for tr in trs:\n",
    "    if \"Full description or abstract\" in tr.text:\n",
    "        match = re.search(pattern, tr.find(\"td\").text)\n",
    "        pathway_id = match.group(1)\n",
    "        pathway_type = match.group(2) \n",
    "        pathway_class = match.group(3)\n",
    "        # Pathway_ID = tr.find(\"td\").text\n",
    "        # print(tr.text)\n",
    "        break\n"
   ],
   "metadata": {
    "collapsed": false
   },
   "id": "5c1bb42e87f5f60e",
   "execution_count": 12
  }
 ],
 "metadata": {
  "kernelspec": {
   "display_name": "Python 3",
   "language": "python",
   "name": "python3"
  },
  "language_info": {
   "codemirror_mode": {
    "name": "ipython",
    "version": 2
   },
   "file_extension": ".py",
   "mimetype": "text/x-python",
   "name": "python",
   "nbconvert_exporter": "python",
   "pygments_lexer": "ipython2",
   "version": "2.7.6"
  }
 },
 "nbformat": 4,
 "nbformat_minor": 5
}
