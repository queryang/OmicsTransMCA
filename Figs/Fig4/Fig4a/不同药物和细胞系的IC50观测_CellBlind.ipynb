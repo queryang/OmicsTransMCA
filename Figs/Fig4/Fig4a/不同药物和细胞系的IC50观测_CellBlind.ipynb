{
 "cells": [
  {
   "cell_type": "code",
   "execution_count": 18,
   "id": "initial_id",
   "metadata": {
    "collapsed": true,
    "ExecuteTime": {
     "end_time": "2024-03-21T07:54:04.417097Z",
     "start_time": "2024-03-21T07:54:04.414174Z"
    }
   },
   "outputs": [],
   "source": [
    "import pandas as pd\n",
    "import numpy as np"
   ]
  },
  {
   "cell_type": "code",
   "outputs": [
    {
     "data": {
      "text/plain": "            drug cell_line      IC50 OncotreeCode  prediction    IC50_Z  \\\n1309   Docetaxel     SIGM5 -5.402247         AMOL   -6.514387 -0.778892   \n2265   Docetaxel      GA10 -5.996559           BL   -6.412953 -1.012083   \n1000       SN-38      KE37 -6.589709         ATLL   -6.360167 -1.228809   \n10600      SN-38     LU135 -4.976839         SCLC   -6.263311 -0.780435   \n7876   Daporinad     NALM6 -7.519153          BLL   -6.246553 -1.491129   \n\n       prediction_Z  \n1309      -1.215265  \n2265      -1.175465  \n1000      -1.164997  \n10600     -1.138071  \n7876      -1.037505  ",
      "text/html": "<div>\n<style scoped>\n    .dataframe tbody tr th:only-of-type {\n        vertical-align: middle;\n    }\n\n    .dataframe tbody tr th {\n        vertical-align: top;\n    }\n\n    .dataframe thead th {\n        text-align: right;\n    }\n</style>\n<table border=\"1\" class=\"dataframe\">\n  <thead>\n    <tr style=\"text-align: right;\">\n      <th></th>\n      <th>drug</th>\n      <th>cell_line</th>\n      <th>IC50</th>\n      <th>OncotreeCode</th>\n      <th>prediction</th>\n      <th>IC50_Z</th>\n      <th>prediction_Z</th>\n    </tr>\n  </thead>\n  <tbody>\n    <tr>\n      <th>1309</th>\n      <td>Docetaxel</td>\n      <td>SIGM5</td>\n      <td>-5.402247</td>\n      <td>AMOL</td>\n      <td>-6.514387</td>\n      <td>-0.778892</td>\n      <td>-1.215265</td>\n    </tr>\n    <tr>\n      <th>2265</th>\n      <td>Docetaxel</td>\n      <td>GA10</td>\n      <td>-5.996559</td>\n      <td>BL</td>\n      <td>-6.412953</td>\n      <td>-1.012083</td>\n      <td>-1.175465</td>\n    </tr>\n    <tr>\n      <th>1000</th>\n      <td>SN-38</td>\n      <td>KE37</td>\n      <td>-6.589709</td>\n      <td>ATLL</td>\n      <td>-6.360167</td>\n      <td>-1.228809</td>\n      <td>-1.164997</td>\n    </tr>\n    <tr>\n      <th>10600</th>\n      <td>SN-38</td>\n      <td>LU135</td>\n      <td>-4.976839</td>\n      <td>SCLC</td>\n      <td>-6.263311</td>\n      <td>-0.780435</td>\n      <td>-1.138071</td>\n    </tr>\n    <tr>\n      <th>7876</th>\n      <td>Daporinad</td>\n      <td>NALM6</td>\n      <td>-7.519153</td>\n      <td>BLL</td>\n      <td>-6.246553</td>\n      <td>-1.491129</td>\n      <td>-1.037505</td>\n    </tr>\n  </tbody>\n</table>\n</div>"
     },
     "execution_count": 103,
     "metadata": {},
     "output_type": "execute_result"
    }
   ],
   "source": [
    "df_CellBlind_pre = pd.read_csv('../../data/drug_sensitivity_lung_CellBlind_test&prediction.csv', index_col=0)\n",
    "df_drug_mean_std = pd.read_csv('../../data/gdsc_drug_mean_std.csv')\n",
    "# 将df_MixedSet_pre和df_drug_mean_std合并，以df_MixedSet_pre的drug，df_drug_mean_std的Drug_Name为键\n",
    "df_CellBlind_pre = pd.merge(df_CellBlind_pre, df_drug_mean_std, left_on='drug', right_on='Drug_Name')\n",
    "# 去掉Drug_Name列\n",
    "df_CellBlind_pre = df_CellBlind_pre.drop(columns=['Drug_Name'])\n",
    "# 分别计算IC50和prediction的Z-score\n",
    "df_CellBlind_pre['IC50_Z'] = (df_CellBlind_pre['IC50'] - df_CellBlind_pre['IC50_mean']) / df_CellBlind_pre['IC50_std']\n",
    "df_CellBlind_pre['prediction_Z'] = (df_CellBlind_pre['prediction'] - df_CellBlind_pre['IC50_mean']) / df_CellBlind_pre['IC50_std']\n",
    "# 去掉IC50_mean, IC50_std列\n",
    "df_CellBlind_pre = df_CellBlind_pre.drop(columns=['IC50_mean', 'IC50_std'])\n",
    "# 按照prediction从小到大排序\n",
    "df_CellBlind_pre = df_CellBlind_pre.sort_values(by='prediction')\n",
    "df_CellBlind_pre.head()"
   ],
   "metadata": {
    "collapsed": false,
    "ExecuteTime": {
     "end_time": "2024-03-21T09:10:36.984574Z",
     "start_time": "2024-03-21T09:10:36.962185Z"
    }
   },
   "id": "45b7ea31a593b764",
   "execution_count": 103
  },
  {
   "cell_type": "code",
   "outputs": [
    {
     "name": "stdout",
     "output_type": "stream",
     "text": [
      "(3214, 7)\n"
     ]
    },
    {
     "data": {
      "text/plain": "            drug cell_line      IC50 OncotreeCode  prediction    IC50_Z  \\\n1309   Docetaxel     SIGM5 -5.402247         AMOL   -6.514387 -0.778892   \n57     Daporinad      OPM2 -5.123417          PCM   -6.204997 -0.637159   \n6748  Romidepsin       EJM -4.803048          PCM   -6.138752  0.435656   \n2583  Romidepsin     NOMO1 -4.850046         AMOL   -6.121387  0.388833   \n1403       SN-38     SIGM5 -3.500200         AMOL   -6.113964 -0.369934   \n\n      prediction_Z  \n1309     -1.215265  \n57       -1.022693  \n6748     -0.895059  \n2583     -0.877759  \n1403     -1.096553  ",
      "text/html": "<div>\n<style scoped>\n    .dataframe tbody tr th:only-of-type {\n        vertical-align: middle;\n    }\n\n    .dataframe tbody tr th {\n        vertical-align: top;\n    }\n\n    .dataframe thead th {\n        text-align: right;\n    }\n</style>\n<table border=\"1\" class=\"dataframe\">\n  <thead>\n    <tr style=\"text-align: right;\">\n      <th></th>\n      <th>drug</th>\n      <th>cell_line</th>\n      <th>IC50</th>\n      <th>OncotreeCode</th>\n      <th>prediction</th>\n      <th>IC50_Z</th>\n      <th>prediction_Z</th>\n    </tr>\n  </thead>\n  <tbody>\n    <tr>\n      <th>1309</th>\n      <td>Docetaxel</td>\n      <td>SIGM5</td>\n      <td>-5.402247</td>\n      <td>AMOL</td>\n      <td>-6.514387</td>\n      <td>-0.778892</td>\n      <td>-1.215265</td>\n    </tr>\n    <tr>\n      <th>57</th>\n      <td>Daporinad</td>\n      <td>OPM2</td>\n      <td>-5.123417</td>\n      <td>PCM</td>\n      <td>-6.204997</td>\n      <td>-0.637159</td>\n      <td>-1.022693</td>\n    </tr>\n    <tr>\n      <th>6748</th>\n      <td>Romidepsin</td>\n      <td>EJM</td>\n      <td>-4.803048</td>\n      <td>PCM</td>\n      <td>-6.138752</td>\n      <td>0.435656</td>\n      <td>-0.895059</td>\n    </tr>\n    <tr>\n      <th>2583</th>\n      <td>Romidepsin</td>\n      <td>NOMO1</td>\n      <td>-4.850046</td>\n      <td>AMOL</td>\n      <td>-6.121387</td>\n      <td>0.388833</td>\n      <td>-0.877759</td>\n    </tr>\n    <tr>\n      <th>1403</th>\n      <td>SN-38</td>\n      <td>SIGM5</td>\n      <td>-3.500200</td>\n      <td>AMOL</td>\n      <td>-6.113964</td>\n      <td>-0.369934</td>\n      <td>-1.096553</td>\n    </tr>\n  </tbody>\n</table>\n</div>"
     },
     "execution_count": 96,
     "metadata": {},
     "output_type": "execute_result"
    }
   ],
   "source": [
    "# 筛选出OncotreeCode = UCEC PAAD HCC GB PCM BLCA\n",
    "df_CellBlind_pre = df_CellBlind_pre[df_CellBlind_pre['OncotreeCode'].isin(['UCEC', 'PAAD', 'HCC', 'GB', 'PCM', 'AMOL'])]\n",
    "# 去除细胞系为EN的数据\n",
    "# df_CellBlind_pre = df_CellBlind_pre[df_CellBlind_pre['cell_line'].str.contains('EN') == False]\n",
    "print(df_CellBlind_pre.shape)\n",
    "df_CellBlind_pre.head()"
   ],
   "metadata": {
    "collapsed": false,
    "ExecuteTime": {
     "end_time": "2024-03-21T09:05:56.242242Z",
     "start_time": "2024-03-21T09:05:56.232997Z"
    }
   },
   "id": "989aca729448e0fb",
   "execution_count": 96
  },
  {
   "cell_type": "code",
   "outputs": [
    {
     "data": {
      "text/plain": "cell_line  OncotreeCode\nPC14       LUAD            233\nLS1034     COAD            219\nNCIH1299   LCLC            218\nLCLC103H   LCLC            218\nHMVII      VMM             218\n                          ... \nSIGM5      AMOL            176\nSKNSH      NBL             153\nRPMI8402   TLL             152\nOC314      SOC             151\nKYSE150    ESCC            151\nName: count, Length: 61, dtype: int64"
     },
     "execution_count": 104,
     "metadata": {},
     "output_type": "execute_result"
    }
   ],
   "source": [
    "df_CellBlind_pre[['cell_line','OncotreeCode']].value_counts()"
   ],
   "metadata": {
    "collapsed": false,
    "ExecuteTime": {
     "end_time": "2024-03-21T09:10:41.191047Z",
     "start_time": "2024-03-21T09:10:41.183284Z"
    }
   },
   "id": "91594ddf88509efa",
   "execution_count": 104
  },
  {
   "cell_type": "code",
   "outputs": [
    {
     "data": {
      "text/plain": "(2128, 7)"
     },
     "execution_count": 97,
     "metadata": {},
     "output_type": "execute_result"
    }
   ],
   "source": [
    "# 去除细胞系为EN、COLO684、MFE296、PATU8902、HUH7  LN229  MFE296\n",
    "\n",
    "df_CellBlind_pre = df_CellBlind_pre[~df_CellBlind_pre['cell_line'].isin(['EN', 'PATU8902', 'HUH7','LN229','MFE296'])]\n",
    "df_CellBlind_pre.shape"
   ],
   "metadata": {
    "collapsed": false,
    "ExecuteTime": {
     "end_time": "2024-03-21T09:05:58.874152Z",
     "start_time": "2024-03-21T09:05:58.868825Z"
    }
   },
   "id": "f97c8072e5665a4a",
   "execution_count": 97
  },
  {
   "cell_type": "code",
   "outputs": [
    {
     "name": "stdout",
     "output_type": "stream",
     "text": [
      "11\n",
      "['OPM2' 'EJM' 'NOMO1' 'SKHEP1' 'COLO684' 'LN229' 'SNU398' 'HUPT3' 'MFE296'\n",
      " 'A172' 'HUPT4']\n"
     ]
    }
   ],
   "source": [
    "cell_lines = df_CellBlind_pre['cell_line'].unique()\n",
    "print(len(cell_lines))\n",
    "print(cell_lines)"
   ],
   "metadata": {
    "collapsed": false,
    "ExecuteTime": {
     "end_time": "2024-03-21T09:00:58.806456Z",
     "start_time": "2024-03-21T09:00:58.803059Z"
    }
   },
   "id": "1c211b03cb184fa0",
   "execution_count": 86
  },
  {
   "cell_type": "code",
   "outputs": [
    {
     "name": "stdout",
     "output_type": "stream",
     "text": [
      "212\n",
      "['5-Fluorouracil' '5-azacytidine' 'A-366' 'AGI-5198' 'AGI-6780' 'AGK2'\n",
      " 'AMG-319' 'AT13148' 'AZ6102' 'AZ960' 'AZD1208' 'AZD1332' 'AZD2014'\n",
      " 'AZD3759' 'AZD4547' 'AZD5153' 'AZD5363' 'AZD5438' 'AZD5582' 'AZD5991'\n",
      " 'AZD6738' 'AZD7762' 'AZD8055' 'AZD8186' 'Acetalax' 'Afatinib'\n",
      " 'Afuresertib' 'Alisertib' 'Alpelisib' 'Avagacestat' 'Axitinib' 'BI-2536'\n",
      " 'BIBR-1532' 'BMS-345541' 'BMS-536924' 'BMS-754807' 'Bleomycin'\n",
      " 'Bleomycin (50 uM)' 'Bortezomib' 'Bosutinib' 'Bromosporine' 'Buparlisib'\n",
      " 'CCT007093' 'CPI-637' 'CZC24832' 'Camptothecin' 'Carmustine' 'Cediranib'\n",
      " 'Cisplatin' 'Crizotinib' 'Cyclophosphamide' 'Cytarabine' 'Dabrafenib'\n",
      " 'Dacarbazine' 'Dactinomycin' 'Dactolisib' 'Dasatinib' 'Dihydrorotenone'\n",
      " 'Dinaciclib' 'Docetaxel' 'Doramapimod' 'EHT-1864' 'EPZ004777' 'EPZ5676'\n",
      " 'Elephantin' 'Entinostat' 'Entospletinib' 'Epirubicin' 'Erlotinib'\n",
      " 'Fludarabine' 'Foretinib' 'Fulvestrant' 'GDC0810' 'GSK-LSD1'\n",
      " 'GSK1904529A' 'GSK2110183B' 'GSK2578215A' 'GSK2606414' 'GSK2801'\n",
      " 'GSK2830371' 'GSK343' 'GSK591' 'GW441756' 'Gallibiscoquinazole'\n",
      " 'Gefitinib' 'Gemcitabine' 'I-BET-762' 'I-BRD9' 'ICL-SIRT078' 'IWP-2'\n",
      " 'Ibrutinib' 'Ipatasertib' 'Irinotecan' 'JNK Inhibitor VIII' 'JQ1'\n",
      " 'KRAS (G12C) Inhibitor-12' 'KU-55933' 'L-Oxonoreleagnine' 'LCL161'\n",
      " 'LGK974' 'LJI308' 'LMP744' 'LY2109761' 'Lapatinib' 'Leflunomide'\n",
      " 'Lenalidomide' 'Lestaurtinib' 'Linsitinib' 'Luminespib' 'MG-132' 'MIM1'\n",
      " 'MIRA-1' 'MK-1775' 'MK-2206' 'MK-8776' 'ML323' 'MN-64' 'Mirin'\n",
      " 'Mitoxantrone' 'Motesanib' 'Mycophenolic acid' 'N-acetyl cysteine'\n",
      " 'NU7441' 'NVP-ADW742' 'Navitoclax' 'Nelarabine' 'Nilotinib' 'Niraparib'\n",
      " 'Nutlin-3a (-)' 'OF-1' 'OSI-027' 'OTX015' 'Obatoclax Mesylate' 'Olaparib'\n",
      " 'Osimertinib' 'Oxaliplatin' 'P22077' 'PCI-34051' 'PD0325901' 'PD173074'\n",
      " 'PFI-1' 'PFI3' 'PLX-4720' 'POMHEX' 'PRIMA-1MET' 'PRT062607' 'Paclitaxel'\n",
      " 'Palbociclib' 'Pevonedistat' 'Picolinici-acid' 'Pictilisib'\n",
      " 'Podophyllotoxin bromide' 'Pyridostatin' 'RO-3306' 'RVX-208' 'Rapamycin'\n",
      " 'Ribociclib' 'Romidepsin' 'Rucaparib' 'Ruxolitinib' 'SB216763' 'SB590885'\n",
      " 'SCH772984' 'SGC-CBP30' 'SGC0946' 'SN-38' 'Sabutoclax' 'Sapitinib'\n",
      " 'Savolitinib' 'Schweinfurthin A' 'Selumetinib' 'Sepantronium bromide'\n",
      " 'Serdemetan' 'Sinularin' 'Sorafenib' 'Staurosporine' 'Talazoparib'\n",
      " 'Tamoxifen' 'Tanespimycin' 'Taselisib' 'Telomerase Inhibitor IX'\n",
      " 'Temozolomide' 'Temsirolimus' 'Teniposide' 'Topotecan' 'Trametinib'\n",
      " 'UMI-77' 'UNC0379' 'UNC0638' 'Ulixertinib' 'Uprosertib' 'VE-822' 'VE821'\n",
      " 'VX-11e' 'Veliparib' 'Venetoclax' 'Vinblastine' 'Vincristine'\n",
      " 'Vinorelbine' 'Vismodegib' 'Vorinostat' 'WEHI-539' 'WIKI4' 'WZ4003'\n",
      " 'Wee1 Inhibitor' 'Wnt-C59' 'XAV939' 'YK-4-279' 'ZM447439' 'Zoledronate'\n",
      " 'alpha-lipoic acid' 'glutathione']\n"
     ]
    }
   ],
   "source": [
    "# 找出所有细胞系drug的交集\n",
    "cell_lines = df_CellBlind_pre['cell_line'].unique()\n",
    "drug_intersection = df_CellBlind_pre[df_CellBlind_pre['cell_line'] == cell_lines[0]]['drug'].unique()\n",
    "for cell_line in cell_lines[1:]:\n",
    "    drug_intersection = np.intersect1d(drug_intersection, df_CellBlind_pre[df_CellBlind_pre['cell_line'] == cell_line]['drug'].unique())\n",
    "    \n",
    "print(len(drug_intersection))\n",
    "print(drug_intersection)"
   ],
   "metadata": {
    "collapsed": false,
    "ExecuteTime": {
     "end_time": "2024-03-21T09:01:01.139205Z",
     "start_time": "2024-03-21T09:01:01.127827Z"
    }
   },
   "id": "fc3bd5ebb8a7a47b",
   "execution_count": 87
  },
  {
   "cell_type": "code",
   "outputs": [
    {
     "data": {
      "text/plain": "OncotreeCode\nGB              434\nHCC             434\nPAAD            434\nUCEC            434\nPCM             433\nAMOL            217\nName: count, dtype: int64"
     },
     "execution_count": 88,
     "metadata": {},
     "output_type": "execute_result"
    }
   ],
   "source": [
    "df_CellBlind_pre[['OncotreeCode']].value_counts()"
   ],
   "metadata": {
    "collapsed": false,
    "ExecuteTime": {
     "end_time": "2024-03-21T09:01:08.336133Z",
     "start_time": "2024-03-21T09:01:08.329821Z"
    }
   },
   "id": "9165c9e0eb0b82ce",
   "execution_count": 88
  },
  {
   "cell_type": "markdown",
   "source": [
    "# 选取药物 三种："
   ],
   "metadata": {
    "collapsed": false
   },
   "id": "84f7c0abb072b199"
  },
  {
   "cell_type": "code",
   "outputs": [
    {
     "data": {
      "text/plain": "            drug cell_line      IC50 OncotreeCode  prediction    IC50_Z  \\\n1430  Vorinostat     SIGM5 -0.791738         AMOL    0.340588 -2.090015   \n204   Vorinostat      OPM2  0.487461          PCM    0.431825 -0.917023   \n6791  Vorinostat       EJM  1.039647          PCM    0.708544 -0.410683   \n2627  Vorinostat     NOMO1  1.327706         AMOL    0.722464 -0.146541   \n7159  Vorinostat   COLO684  1.865851         UCEC    0.918729  0.346924   \n3248  Vorinostat    SNU398  2.260098          HCC    1.358779  0.708438   \n3201  Vorinostat    SKHEP1  1.492565          HCC    1.661037  0.004631   \n1644  Vorinostat     HUPT3  1.834141         PAAD    1.680360  0.317847   \n4844  Vorinostat      A172  1.133355           GB    1.969847 -0.324755   \n3060  Vorinostat     HUPT4  3.022006         PAAD    1.984361  1.407088   \n\n      prediction_Z  \n1430     -1.051702  \n204      -0.968040  \n6791     -0.714296  \n2627     -0.701532  \n7159     -0.521562  \n3248     -0.118048  \n3201      0.159115  \n1644      0.176834  \n4844      0.442286  \n3060      0.455595  ",
      "text/html": "<div>\n<style scoped>\n    .dataframe tbody tr th:only-of-type {\n        vertical-align: middle;\n    }\n\n    .dataframe tbody tr th {\n        vertical-align: top;\n    }\n\n    .dataframe thead th {\n        text-align: right;\n    }\n</style>\n<table border=\"1\" class=\"dataframe\">\n  <thead>\n    <tr style=\"text-align: right;\">\n      <th></th>\n      <th>drug</th>\n      <th>cell_line</th>\n      <th>IC50</th>\n      <th>OncotreeCode</th>\n      <th>prediction</th>\n      <th>IC50_Z</th>\n      <th>prediction_Z</th>\n    </tr>\n  </thead>\n  <tbody>\n    <tr>\n      <th>1430</th>\n      <td>Vorinostat</td>\n      <td>SIGM5</td>\n      <td>-0.791738</td>\n      <td>AMOL</td>\n      <td>0.340588</td>\n      <td>-2.090015</td>\n      <td>-1.051702</td>\n    </tr>\n    <tr>\n      <th>204</th>\n      <td>Vorinostat</td>\n      <td>OPM2</td>\n      <td>0.487461</td>\n      <td>PCM</td>\n      <td>0.431825</td>\n      <td>-0.917023</td>\n      <td>-0.968040</td>\n    </tr>\n    <tr>\n      <th>6791</th>\n      <td>Vorinostat</td>\n      <td>EJM</td>\n      <td>1.039647</td>\n      <td>PCM</td>\n      <td>0.708544</td>\n      <td>-0.410683</td>\n      <td>-0.714296</td>\n    </tr>\n    <tr>\n      <th>2627</th>\n      <td>Vorinostat</td>\n      <td>NOMO1</td>\n      <td>1.327706</td>\n      <td>AMOL</td>\n      <td>0.722464</td>\n      <td>-0.146541</td>\n      <td>-0.701532</td>\n    </tr>\n    <tr>\n      <th>7159</th>\n      <td>Vorinostat</td>\n      <td>COLO684</td>\n      <td>1.865851</td>\n      <td>UCEC</td>\n      <td>0.918729</td>\n      <td>0.346924</td>\n      <td>-0.521562</td>\n    </tr>\n    <tr>\n      <th>3248</th>\n      <td>Vorinostat</td>\n      <td>SNU398</td>\n      <td>2.260098</td>\n      <td>HCC</td>\n      <td>1.358779</td>\n      <td>0.708438</td>\n      <td>-0.118048</td>\n    </tr>\n    <tr>\n      <th>3201</th>\n      <td>Vorinostat</td>\n      <td>SKHEP1</td>\n      <td>1.492565</td>\n      <td>HCC</td>\n      <td>1.661037</td>\n      <td>0.004631</td>\n      <td>0.159115</td>\n    </tr>\n    <tr>\n      <th>1644</th>\n      <td>Vorinostat</td>\n      <td>HUPT3</td>\n      <td>1.834141</td>\n      <td>PAAD</td>\n      <td>1.680360</td>\n      <td>0.317847</td>\n      <td>0.176834</td>\n    </tr>\n    <tr>\n      <th>4844</th>\n      <td>Vorinostat</td>\n      <td>A172</td>\n      <td>1.133355</td>\n      <td>GB</td>\n      <td>1.969847</td>\n      <td>-0.324755</td>\n      <td>0.442286</td>\n    </tr>\n    <tr>\n      <th>3060</th>\n      <td>Vorinostat</td>\n      <td>HUPT4</td>\n      <td>3.022006</td>\n      <td>PAAD</td>\n      <td>1.984361</td>\n      <td>1.407088</td>\n      <td>0.455595</td>\n    </tr>\n  </tbody>\n</table>\n</div>"
     },
     "execution_count": 98,
     "metadata": {},
     "output_type": "execute_result"
    }
   ],
   "source": [
    "df_Ibrutinib = df_CellBlind_pre[df_CellBlind_pre['drug'] == 'Vorinostat']\n",
    "df_Ibrutinib.head(20)"
   ],
   "metadata": {
    "collapsed": false,
    "ExecuteTime": {
     "end_time": "2024-03-21T09:06:02.860633Z",
     "start_time": "2024-03-21T09:06:02.852617Z"
    }
   },
   "id": "44f0ab2cc5b80fbd",
   "execution_count": 98
  },
  {
   "cell_type": "code",
   "outputs": [
    {
     "data": {
      "text/plain": "            drug cell_line      IC50 OncotreeCode  prediction    IC50_Z  \\\n1305  Dactolisib     SIGM5 -2.131960         AMOL   -3.364974 -0.434496   \n56    Dactolisib      OPM2 -3.593117          PCM   -2.902245 -1.456437   \n6642  Dactolisib       EJM -1.655538          PCM   -2.851671 -0.101284   \n2478  Dactolisib     NOMO1 -1.726593         AMOL   -2.540188 -0.150980   \n3098  Dactolisib    SKHEP1 -2.457305          HCC   -2.461159 -0.662044   \n3108  Dactolisib    SNU398 -1.803821          HCC   -2.407605 -0.204994   \n1495  Dactolisib     HUPT3  0.641964         PAAD   -2.306914  1.505602   \n4783  Dactolisib      A172 -2.988897           GB   -2.083570 -1.033842   \n7010  Dactolisib   COLO684 -1.912310         UCEC   -1.609293 -0.280871   \n2911  Dactolisib     HUPT4 -0.010738         PAAD   -0.573503  1.049098   \n\n      prediction_Z  \n1305     -1.296872  \n56       -0.973237  \n6642     -0.937866  \n2478     -0.720013  \n3098     -0.664739  \n3108     -0.627283  \n1495     -0.556860  \n4783     -0.400652  \n7010     -0.068940  \n2911      0.655497  ",
      "text/html": "<div>\n<style scoped>\n    .dataframe tbody tr th:only-of-type {\n        vertical-align: middle;\n    }\n\n    .dataframe tbody tr th {\n        vertical-align: top;\n    }\n\n    .dataframe thead th {\n        text-align: right;\n    }\n</style>\n<table border=\"1\" class=\"dataframe\">\n  <thead>\n    <tr style=\"text-align: right;\">\n      <th></th>\n      <th>drug</th>\n      <th>cell_line</th>\n      <th>IC50</th>\n      <th>OncotreeCode</th>\n      <th>prediction</th>\n      <th>IC50_Z</th>\n      <th>prediction_Z</th>\n    </tr>\n  </thead>\n  <tbody>\n    <tr>\n      <th>1305</th>\n      <td>Dactolisib</td>\n      <td>SIGM5</td>\n      <td>-2.131960</td>\n      <td>AMOL</td>\n      <td>-3.364974</td>\n      <td>-0.434496</td>\n      <td>-1.296872</td>\n    </tr>\n    <tr>\n      <th>56</th>\n      <td>Dactolisib</td>\n      <td>OPM2</td>\n      <td>-3.593117</td>\n      <td>PCM</td>\n      <td>-2.902245</td>\n      <td>-1.456437</td>\n      <td>-0.973237</td>\n    </tr>\n    <tr>\n      <th>6642</th>\n      <td>Dactolisib</td>\n      <td>EJM</td>\n      <td>-1.655538</td>\n      <td>PCM</td>\n      <td>-2.851671</td>\n      <td>-0.101284</td>\n      <td>-0.937866</td>\n    </tr>\n    <tr>\n      <th>2478</th>\n      <td>Dactolisib</td>\n      <td>NOMO1</td>\n      <td>-1.726593</td>\n      <td>AMOL</td>\n      <td>-2.540188</td>\n      <td>-0.150980</td>\n      <td>-0.720013</td>\n    </tr>\n    <tr>\n      <th>3098</th>\n      <td>Dactolisib</td>\n      <td>SKHEP1</td>\n      <td>-2.457305</td>\n      <td>HCC</td>\n      <td>-2.461159</td>\n      <td>-0.662044</td>\n      <td>-0.664739</td>\n    </tr>\n    <tr>\n      <th>3108</th>\n      <td>Dactolisib</td>\n      <td>SNU398</td>\n      <td>-1.803821</td>\n      <td>HCC</td>\n      <td>-2.407605</td>\n      <td>-0.204994</td>\n      <td>-0.627283</td>\n    </tr>\n    <tr>\n      <th>1495</th>\n      <td>Dactolisib</td>\n      <td>HUPT3</td>\n      <td>0.641964</td>\n      <td>PAAD</td>\n      <td>-2.306914</td>\n      <td>1.505602</td>\n      <td>-0.556860</td>\n    </tr>\n    <tr>\n      <th>4783</th>\n      <td>Dactolisib</td>\n      <td>A172</td>\n      <td>-2.988897</td>\n      <td>GB</td>\n      <td>-2.083570</td>\n      <td>-1.033842</td>\n      <td>-0.400652</td>\n    </tr>\n    <tr>\n      <th>7010</th>\n      <td>Dactolisib</td>\n      <td>COLO684</td>\n      <td>-1.912310</td>\n      <td>UCEC</td>\n      <td>-1.609293</td>\n      <td>-0.280871</td>\n      <td>-0.068940</td>\n    </tr>\n    <tr>\n      <th>2911</th>\n      <td>Dactolisib</td>\n      <td>HUPT4</td>\n      <td>-0.010738</td>\n      <td>PAAD</td>\n      <td>-0.573503</td>\n      <td>1.049098</td>\n      <td>0.655497</td>\n    </tr>\n  </tbody>\n</table>\n</div>"
     },
     "execution_count": 99,
     "metadata": {},
     "output_type": "execute_result"
    }
   ],
   "source": [
    "df_Dactolisib = df_CellBlind_pre[df_CellBlind_pre['drug'] == 'Dactolisib']\n",
    "df_Dactolisib.head(20)"
   ],
   "metadata": {
    "collapsed": false,
    "ExecuteTime": {
     "end_time": "2024-03-21T09:06:46.510601Z",
     "start_time": "2024-03-21T09:06:46.502575Z"
    }
   },
   "id": "9fdaeb3c395012bd",
   "execution_count": 99
  },
  {
   "cell_type": "code",
   "outputs": [
    {
     "data": {
      "text/plain": "         drug cell_line      IC50 OncotreeCode  prediction    IC50_Z  \\\n2445  AZD8055     NOMO1  0.430937         AMOL   -1.267641  0.339510   \n23    AZD8055      OPM2 -2.233541          PCM   -1.101641 -1.603093   \n6609  AZD8055       EJM -0.351157          PCM   -0.853110 -0.230695   \n3113  AZD8055    SNU398 -1.390495          HCC   -0.311307 -0.988450   \n1462  AZD8055     HUPT3  1.938377         PAAD   -0.296429  1.438546   \n4799  AZD8055      A172 -0.938582           GB   -0.271662 -0.658972   \n3129  AZD8055    SKHEP1 -0.479479          HCC   -0.270897 -0.324251   \n2878  AZD8055     HUPT4  1.880757         PAAD    0.177216  1.396536   \n6977  AZD8055   COLO684 -1.173098         UCEC    0.476101 -0.829951   \n\n      prediction_Z  \n2445     -0.898880  \n23       -0.777854  \n6609     -0.596656  \n3113     -0.201642  \n1462     -0.190794  \n4799     -0.172737  \n3129     -0.172180  \n2878      0.154528  \n6977      0.372437  ",
      "text/html": "<div>\n<style scoped>\n    .dataframe tbody tr th:only-of-type {\n        vertical-align: middle;\n    }\n\n    .dataframe tbody tr th {\n        vertical-align: top;\n    }\n\n    .dataframe thead th {\n        text-align: right;\n    }\n</style>\n<table border=\"1\" class=\"dataframe\">\n  <thead>\n    <tr style=\"text-align: right;\">\n      <th></th>\n      <th>drug</th>\n      <th>cell_line</th>\n      <th>IC50</th>\n      <th>OncotreeCode</th>\n      <th>prediction</th>\n      <th>IC50_Z</th>\n      <th>prediction_Z</th>\n    </tr>\n  </thead>\n  <tbody>\n    <tr>\n      <th>2445</th>\n      <td>AZD8055</td>\n      <td>NOMO1</td>\n      <td>0.430937</td>\n      <td>AMOL</td>\n      <td>-1.267641</td>\n      <td>0.339510</td>\n      <td>-0.898880</td>\n    </tr>\n    <tr>\n      <th>23</th>\n      <td>AZD8055</td>\n      <td>OPM2</td>\n      <td>-2.233541</td>\n      <td>PCM</td>\n      <td>-1.101641</td>\n      <td>-1.603093</td>\n      <td>-0.777854</td>\n    </tr>\n    <tr>\n      <th>6609</th>\n      <td>AZD8055</td>\n      <td>EJM</td>\n      <td>-0.351157</td>\n      <td>PCM</td>\n      <td>-0.853110</td>\n      <td>-0.230695</td>\n      <td>-0.596656</td>\n    </tr>\n    <tr>\n      <th>3113</th>\n      <td>AZD8055</td>\n      <td>SNU398</td>\n      <td>-1.390495</td>\n      <td>HCC</td>\n      <td>-0.311307</td>\n      <td>-0.988450</td>\n      <td>-0.201642</td>\n    </tr>\n    <tr>\n      <th>1462</th>\n      <td>AZD8055</td>\n      <td>HUPT3</td>\n      <td>1.938377</td>\n      <td>PAAD</td>\n      <td>-0.296429</td>\n      <td>1.438546</td>\n      <td>-0.190794</td>\n    </tr>\n    <tr>\n      <th>4799</th>\n      <td>AZD8055</td>\n      <td>A172</td>\n      <td>-0.938582</td>\n      <td>GB</td>\n      <td>-0.271662</td>\n      <td>-0.658972</td>\n      <td>-0.172737</td>\n    </tr>\n    <tr>\n      <th>3129</th>\n      <td>AZD8055</td>\n      <td>SKHEP1</td>\n      <td>-0.479479</td>\n      <td>HCC</td>\n      <td>-0.270897</td>\n      <td>-0.324251</td>\n      <td>-0.172180</td>\n    </tr>\n    <tr>\n      <th>2878</th>\n      <td>AZD8055</td>\n      <td>HUPT4</td>\n      <td>1.880757</td>\n      <td>PAAD</td>\n      <td>0.177216</td>\n      <td>1.396536</td>\n      <td>0.154528</td>\n    </tr>\n    <tr>\n      <th>6977</th>\n      <td>AZD8055</td>\n      <td>COLO684</td>\n      <td>-1.173098</td>\n      <td>UCEC</td>\n      <td>0.476101</td>\n      <td>-0.829951</td>\n      <td>0.372437</td>\n    </tr>\n  </tbody>\n</table>\n</div>"
     },
     "execution_count": 100,
     "metadata": {},
     "output_type": "execute_result"
    }
   ],
   "source": [
    "df_AZD8055 = df_CellBlind_pre[df_CellBlind_pre['drug'] == 'AZD8055']\n",
    "df_AZD8055.head(20)"
   ],
   "metadata": {
    "collapsed": false,
    "ExecuteTime": {
     "end_time": "2024-03-21T09:06:50.542272Z",
     "start_time": "2024-03-21T09:06:50.534245Z"
    }
   },
   "id": "6ce86299fb6832da",
   "execution_count": 100
  },
  {
   "cell_type": "code",
   "outputs": [
    {
     "data": {
      "text/plain": "           drug cell_line      IC50 OncotreeCode  prediction    IC50_Z  \\\n1376  PD0325901     SIGM5  1.735574         AMOL   -3.630404  0.182151   \n2564  PD0325901     NOMO1 -3.638064         AMOL   -1.522511 -2.322642   \n1580  PD0325901     HUPT3  0.394802         PAAD    0.227930 -0.442818   \n2996  PD0325901     HUPT4  1.542918         PAAD    0.263844  0.092349   \n3223  PD0325901    SKHEP1  1.883252          HCC    0.497211  0.250988   \n3208  PD0325901    SNU398  1.656975          HCC    1.659574  0.145514   \n140   PD0325901      OPM2  1.179499          PCM    2.074874 -0.077050   \n6727  PD0325901       EJM  2.709521          PCM    2.181923  0.636134   \n4849  PD0325901      A172  1.347392           GB    2.521830  0.001210   \n7095  PD0325901   COLO684  3.834328         UCEC    3.013659  1.160435   \n\n      prediction_Z  \n1376     -2.319071  \n2564     -1.336527  \n1580     -0.520601  \n2996     -0.503860  \n3223     -0.395082  \n3208      0.146726  \n140       0.340308  \n6727      0.390206  \n4849      0.548646  \n7095      0.777900  ",
      "text/html": "<div>\n<style scoped>\n    .dataframe tbody tr th:only-of-type {\n        vertical-align: middle;\n    }\n\n    .dataframe tbody tr th {\n        vertical-align: top;\n    }\n\n    .dataframe thead th {\n        text-align: right;\n    }\n</style>\n<table border=\"1\" class=\"dataframe\">\n  <thead>\n    <tr style=\"text-align: right;\">\n      <th></th>\n      <th>drug</th>\n      <th>cell_line</th>\n      <th>IC50</th>\n      <th>OncotreeCode</th>\n      <th>prediction</th>\n      <th>IC50_Z</th>\n      <th>prediction_Z</th>\n    </tr>\n  </thead>\n  <tbody>\n    <tr>\n      <th>1376</th>\n      <td>PD0325901</td>\n      <td>SIGM5</td>\n      <td>1.735574</td>\n      <td>AMOL</td>\n      <td>-3.630404</td>\n      <td>0.182151</td>\n      <td>-2.319071</td>\n    </tr>\n    <tr>\n      <th>2564</th>\n      <td>PD0325901</td>\n      <td>NOMO1</td>\n      <td>-3.638064</td>\n      <td>AMOL</td>\n      <td>-1.522511</td>\n      <td>-2.322642</td>\n      <td>-1.336527</td>\n    </tr>\n    <tr>\n      <th>1580</th>\n      <td>PD0325901</td>\n      <td>HUPT3</td>\n      <td>0.394802</td>\n      <td>PAAD</td>\n      <td>0.227930</td>\n      <td>-0.442818</td>\n      <td>-0.520601</td>\n    </tr>\n    <tr>\n      <th>2996</th>\n      <td>PD0325901</td>\n      <td>HUPT4</td>\n      <td>1.542918</td>\n      <td>PAAD</td>\n      <td>0.263844</td>\n      <td>0.092349</td>\n      <td>-0.503860</td>\n    </tr>\n    <tr>\n      <th>3223</th>\n      <td>PD0325901</td>\n      <td>SKHEP1</td>\n      <td>1.883252</td>\n      <td>HCC</td>\n      <td>0.497211</td>\n      <td>0.250988</td>\n      <td>-0.395082</td>\n    </tr>\n    <tr>\n      <th>3208</th>\n      <td>PD0325901</td>\n      <td>SNU398</td>\n      <td>1.656975</td>\n      <td>HCC</td>\n      <td>1.659574</td>\n      <td>0.145514</td>\n      <td>0.146726</td>\n    </tr>\n    <tr>\n      <th>140</th>\n      <td>PD0325901</td>\n      <td>OPM2</td>\n      <td>1.179499</td>\n      <td>PCM</td>\n      <td>2.074874</td>\n      <td>-0.077050</td>\n      <td>0.340308</td>\n    </tr>\n    <tr>\n      <th>6727</th>\n      <td>PD0325901</td>\n      <td>EJM</td>\n      <td>2.709521</td>\n      <td>PCM</td>\n      <td>2.181923</td>\n      <td>0.636134</td>\n      <td>0.390206</td>\n    </tr>\n    <tr>\n      <th>4849</th>\n      <td>PD0325901</td>\n      <td>A172</td>\n      <td>1.347392</td>\n      <td>GB</td>\n      <td>2.521830</td>\n      <td>0.001210</td>\n      <td>0.548646</td>\n    </tr>\n    <tr>\n      <th>7095</th>\n      <td>PD0325901</td>\n      <td>COLO684</td>\n      <td>3.834328</td>\n      <td>UCEC</td>\n      <td>3.013659</td>\n      <td>1.160435</td>\n      <td>0.777900</td>\n    </tr>\n  </tbody>\n</table>\n</div>"
     },
     "execution_count": 101,
     "metadata": {},
     "output_type": "execute_result"
    }
   ],
   "source": [
    "df_PD0325901 = df_CellBlind_pre[df_CellBlind_pre['drug'] == 'PD0325901']\n",
    "df_PD0325901.head(20)"
   ],
   "metadata": {
    "collapsed": false,
    "ExecuteTime": {
     "end_time": "2024-03-21T09:06:52.918487Z",
     "start_time": "2024-03-21T09:06:52.911288Z"
    }
   },
   "id": "b50adfc873e077b0",
   "execution_count": 101
  },
  {
   "cell_type": "code",
   "outputs": [
    {
     "data": {
      "text/plain": "            drug cell_line      IC50 OncotreeCode  prediction    IC50_Z  \\\n1384  Paclitaxel     SIGM5 -5.174181         AMOL   -5.935402 -1.149637   \n148   Paclitaxel      OPM2 -4.238882          PCM   -5.033156 -0.685862   \n2572  Paclitaxel     NOMO1 -4.682721         AMOL   -4.908457 -0.905943   \n3091  Paclitaxel    SNU398 -3.520420          HCC   -4.592042 -0.329608   \n6735  Paclitaxel       EJM -4.191512          PCM   -4.114496 -0.662373   \n3089  Paclitaxel    SKHEP1 -3.548045          HCC   -3.857410 -0.343306   \n7103  Paclitaxel   COLO684 -2.347088         UCEC   -2.876524  0.252197   \n3004  Paclitaxel     HUPT4 -1.193314         PAAD   -2.489099  0.824304   \n1588  Paclitaxel     HUPT3 -2.431350         PAAD   -2.480799  0.210415   \n4773  Paclitaxel      A172 -4.343105           GB   -1.362199 -0.737542   \n\n      prediction_Z  \n1384     -1.527094  \n148      -1.079709  \n2572     -1.017876  \n3091     -0.860979  \n6735     -0.624184  \n3089     -0.496707  \n7103     -0.010327  \n3004      0.181780  \n1588      0.185896  \n4773      0.740562  ",
      "text/html": "<div>\n<style scoped>\n    .dataframe tbody tr th:only-of-type {\n        vertical-align: middle;\n    }\n\n    .dataframe tbody tr th {\n        vertical-align: top;\n    }\n\n    .dataframe thead th {\n        text-align: right;\n    }\n</style>\n<table border=\"1\" class=\"dataframe\">\n  <thead>\n    <tr style=\"text-align: right;\">\n      <th></th>\n      <th>drug</th>\n      <th>cell_line</th>\n      <th>IC50</th>\n      <th>OncotreeCode</th>\n      <th>prediction</th>\n      <th>IC50_Z</th>\n      <th>prediction_Z</th>\n    </tr>\n  </thead>\n  <tbody>\n    <tr>\n      <th>1384</th>\n      <td>Paclitaxel</td>\n      <td>SIGM5</td>\n      <td>-5.174181</td>\n      <td>AMOL</td>\n      <td>-5.935402</td>\n      <td>-1.149637</td>\n      <td>-1.527094</td>\n    </tr>\n    <tr>\n      <th>148</th>\n      <td>Paclitaxel</td>\n      <td>OPM2</td>\n      <td>-4.238882</td>\n      <td>PCM</td>\n      <td>-5.033156</td>\n      <td>-0.685862</td>\n      <td>-1.079709</td>\n    </tr>\n    <tr>\n      <th>2572</th>\n      <td>Paclitaxel</td>\n      <td>NOMO1</td>\n      <td>-4.682721</td>\n      <td>AMOL</td>\n      <td>-4.908457</td>\n      <td>-0.905943</td>\n      <td>-1.017876</td>\n    </tr>\n    <tr>\n      <th>3091</th>\n      <td>Paclitaxel</td>\n      <td>SNU398</td>\n      <td>-3.520420</td>\n      <td>HCC</td>\n      <td>-4.592042</td>\n      <td>-0.329608</td>\n      <td>-0.860979</td>\n    </tr>\n    <tr>\n      <th>6735</th>\n      <td>Paclitaxel</td>\n      <td>EJM</td>\n      <td>-4.191512</td>\n      <td>PCM</td>\n      <td>-4.114496</td>\n      <td>-0.662373</td>\n      <td>-0.624184</td>\n    </tr>\n    <tr>\n      <th>3089</th>\n      <td>Paclitaxel</td>\n      <td>SKHEP1</td>\n      <td>-3.548045</td>\n      <td>HCC</td>\n      <td>-3.857410</td>\n      <td>-0.343306</td>\n      <td>-0.496707</td>\n    </tr>\n    <tr>\n      <th>7103</th>\n      <td>Paclitaxel</td>\n      <td>COLO684</td>\n      <td>-2.347088</td>\n      <td>UCEC</td>\n      <td>-2.876524</td>\n      <td>0.252197</td>\n      <td>-0.010327</td>\n    </tr>\n    <tr>\n      <th>3004</th>\n      <td>Paclitaxel</td>\n      <td>HUPT4</td>\n      <td>-1.193314</td>\n      <td>PAAD</td>\n      <td>-2.489099</td>\n      <td>0.824304</td>\n      <td>0.181780</td>\n    </tr>\n    <tr>\n      <th>1588</th>\n      <td>Paclitaxel</td>\n      <td>HUPT3</td>\n      <td>-2.431350</td>\n      <td>PAAD</td>\n      <td>-2.480799</td>\n      <td>0.210415</td>\n      <td>0.185896</td>\n    </tr>\n    <tr>\n      <th>4773</th>\n      <td>Paclitaxel</td>\n      <td>A172</td>\n      <td>-4.343105</td>\n      <td>GB</td>\n      <td>-1.362199</td>\n      <td>-0.737542</td>\n      <td>0.740562</td>\n    </tr>\n  </tbody>\n</table>\n</div>"
     },
     "execution_count": 102,
     "metadata": {},
     "output_type": "execute_result"
    }
   ],
   "source": [
    "df_Paclitaxel = df_CellBlind_pre[df_CellBlind_pre['drug'] == 'Paclitaxel']\n",
    "df_Paclitaxel.head(20)"
   ],
   "metadata": {
    "collapsed": false,
    "ExecuteTime": {
     "end_time": "2024-03-21T09:06:55.111127Z",
     "start_time": "2024-03-21T09:06:55.102480Z"
    }
   },
   "id": "62d3ba5555dc32a1",
   "execution_count": 102
  },
  {
   "cell_type": "markdown",
   "source": [],
   "metadata": {
    "collapsed": false
   },
   "id": "610af5e3ea59331"
  }
 ],
 "metadata": {
  "kernelspec": {
   "display_name": "Python 3",
   "language": "python",
   "name": "python3"
  },
  "language_info": {
   "codemirror_mode": {
    "name": "ipython",
    "version": 2
   },
   "file_extension": ".py",
   "mimetype": "text/x-python",
   "name": "python",
   "nbconvert_exporter": "python",
   "pygments_lexer": "ipython2",
   "version": "2.7.6"
  }
 },
 "nbformat": 4,
 "nbformat_minor": 5
}
