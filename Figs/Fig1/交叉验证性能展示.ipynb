{
 "cells": [
  {
   "cell_type": "code",
   "execution_count": 1,
   "id": "initial_id",
   "metadata": {
    "collapsed": true,
    "ExecuteTime": {
     "end_time": "2024-03-08T13:10:33.218751Z",
     "start_time": "2024-03-08T13:10:33.214586Z"
    }
   },
   "outputs": [],
   "source": [
    "import pandas as pd\n",
    "import numpy as np"
   ]
  },
  {
   "cell_type": "code",
   "outputs": [
    {
     "data": {
      "text/plain": "    Fold     MSE  Pearson      R2\n0      1  0.9456   0.9385  0.8761\n1      2  0.9634   0.9356  0.8680\n2      3  0.9660   0.9375  0.8717\n3      4  1.0055   0.9343  0.8665\n4      5  0.9664   0.9369  0.8708\n5      6  0.9530   0.9377  0.8744\n6      7  0.9442   0.9377  0.8739\n7      8  0.9787   0.9362  0.8695\n8      9  0.9686   0.9360  0.8686\n9     10  0.9748   0.9350  0.8675\n10    11  0.9621   0.9369  0.8712",
      "text/html": "<div>\n<style scoped>\n    .dataframe tbody tr th:only-of-type {\n        vertical-align: middle;\n    }\n\n    .dataframe tbody tr th {\n        vertical-align: top;\n    }\n\n    .dataframe thead th {\n        text-align: right;\n    }\n</style>\n<table border=\"1\" class=\"dataframe\">\n  <thead>\n    <tr style=\"text-align: right;\">\n      <th></th>\n      <th>Fold</th>\n      <th>MSE</th>\n      <th>Pearson</th>\n      <th>R2</th>\n    </tr>\n  </thead>\n  <tbody>\n    <tr>\n      <th>0</th>\n      <td>1</td>\n      <td>0.9456</td>\n      <td>0.9385</td>\n      <td>0.8761</td>\n    </tr>\n    <tr>\n      <th>1</th>\n      <td>2</td>\n      <td>0.9634</td>\n      <td>0.9356</td>\n      <td>0.8680</td>\n    </tr>\n    <tr>\n      <th>2</th>\n      <td>3</td>\n      <td>0.9660</td>\n      <td>0.9375</td>\n      <td>0.8717</td>\n    </tr>\n    <tr>\n      <th>3</th>\n      <td>4</td>\n      <td>1.0055</td>\n      <td>0.9343</td>\n      <td>0.8665</td>\n    </tr>\n    <tr>\n      <th>4</th>\n      <td>5</td>\n      <td>0.9664</td>\n      <td>0.9369</td>\n      <td>0.8708</td>\n    </tr>\n    <tr>\n      <th>5</th>\n      <td>6</td>\n      <td>0.9530</td>\n      <td>0.9377</td>\n      <td>0.8744</td>\n    </tr>\n    <tr>\n      <th>6</th>\n      <td>7</td>\n      <td>0.9442</td>\n      <td>0.9377</td>\n      <td>0.8739</td>\n    </tr>\n    <tr>\n      <th>7</th>\n      <td>8</td>\n      <td>0.9787</td>\n      <td>0.9362</td>\n      <td>0.8695</td>\n    </tr>\n    <tr>\n      <th>8</th>\n      <td>9</td>\n      <td>0.9686</td>\n      <td>0.9360</td>\n      <td>0.8686</td>\n    </tr>\n    <tr>\n      <th>9</th>\n      <td>10</td>\n      <td>0.9748</td>\n      <td>0.9350</td>\n      <td>0.8675</td>\n    </tr>\n    <tr>\n      <th>10</th>\n      <td>11</td>\n      <td>0.9621</td>\n      <td>0.9369</td>\n      <td>0.8712</td>\n    </tr>\n  </tbody>\n</table>\n</div>"
     },
     "execution_count": 7,
     "metadata": {},
     "output_type": "execute_result"
    }
   ],
   "source": [
    "df_kfold = pd.read_excel('result/TransMCA_GEP_CNV_11Fold.xlsx')\n",
    "# 将MSE、Pearson和R2列的数据转换为数值型\n",
    "df_kfold['MSE'] = pd.to_numeric(df_kfold['MSE'], errors='coerce')\n",
    "df_kfold['Pearson'] = pd.to_numeric(df_kfold['Pearson'], errors='coerce')\n",
    "df_kfold['R2'] = pd.to_numeric(df_kfold['R2'], errors='coerce')\n",
    "df_kfold.head(11)"
   ],
   "metadata": {
    "collapsed": false,
    "ExecuteTime": {
     "end_time": "2024-03-08T13:30:46.895767Z",
     "start_time": "2024-03-08T13:30:46.876619Z"
    }
   },
   "id": "ab1d39e97be3deaf",
   "execution_count": 7
  },
  {
   "cell_type": "code",
   "outputs": [
    {
     "name": "stdout",
     "output_type": "stream",
     "text": [
      "0.9662090909090909 ± 0.016993496082057677\n"
     ]
    }
   ],
   "source": [
    "# 计算df_kfold中MSE的均值和标准差\n",
    "MSE_mean = df_kfold['MSE'].mean()\n",
    "MSE_std = df_kfold['MSE'].std()\n",
    "# 以平均值±1.96×标准差 展示 ,保留4位小数\n",
    "print(MSE_mean,'±',MSE_std)"
   ],
   "metadata": {
    "collapsed": false,
    "ExecuteTime": {
     "end_time": "2024-03-08T13:30:50.674662Z",
     "start_time": "2024-03-08T13:30:50.666525Z"
    }
   },
   "id": "d46a16055400223b",
   "execution_count": 8
  },
  {
   "cell_type": "code",
   "outputs": [
    {
     "name": "stdout",
     "output_type": "stream",
     "text": [
      "0.9365727272727273 ± 0.0012799147698896872\n"
     ]
    }
   ],
   "source": [
    "# 计算df_kfold中Pearson的均值和标准差\n",
    "Pearson_mean = df_kfold['Pearson'].mean()\n",
    "Pearson_std = df_kfold['Pearson'].std()\n",
    "# 以平均值±1.96×标准差 展示\n",
    "print(Pearson_mean,'±',Pearson_std)"
   ],
   "metadata": {
    "collapsed": false,
    "ExecuteTime": {
     "end_time": "2024-03-08T13:30:51.711489Z",
     "start_time": "2024-03-08T13:30:51.705547Z"
    }
   },
   "id": "831b3a98d4ab676e",
   "execution_count": 9
  },
  {
   "cell_type": "code",
   "outputs": [
    {
     "name": "stdout",
     "output_type": "stream",
     "text": [
      "0.8707454545454546 ± 0.003087835370081627\n"
     ]
    }
   ],
   "source": [
    "# 计算df_kfold中R2的均值和标准差\n",
    "R2_mean = df_kfold['R2'].mean()\n",
    "R2_std = df_kfold['R2'].std()\n",
    "# 以平均值±1.96×标准差 展示\n",
    "print(R2_mean,'±',R2_std)"
   ],
   "metadata": {
    "collapsed": false,
    "ExecuteTime": {
     "end_time": "2024-03-08T13:30:53.249099Z",
     "start_time": "2024-03-08T13:30:53.244308Z"
    }
   },
   "id": "7193d31f67e80d1a",
   "execution_count": 10
  }
 ],
 "metadata": {
  "kernelspec": {
   "display_name": "Python 3",
   "language": "python",
   "name": "python3"
  },
  "language_info": {
   "codemirror_mode": {
    "name": "ipython",
    "version": 2
   },
   "file_extension": ".py",
   "mimetype": "text/x-python",
   "name": "python",
   "nbconvert_exporter": "python",
   "pygments_lexer": "ipython2",
   "version": "2.7.6"
  }
 },
 "nbformat": 4,
 "nbformat_minor": 5
}
