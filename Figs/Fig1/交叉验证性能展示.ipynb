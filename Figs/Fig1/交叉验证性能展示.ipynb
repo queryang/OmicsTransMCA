{
 "cells": [
  {
   "cell_type": "code",
   "execution_count": 56,
   "id": "initial_id",
   "metadata": {
    "collapsed": true,
    "ExecuteTime": {
     "end_time": "2024-03-13T07:16:09.385962Z",
     "start_time": "2024-03-13T07:16:09.373405Z"
    }
   },
   "outputs": [],
   "source": [
    "import pandas as pd\n",
    "import numpy as np"
   ]
  },
  {
   "cell_type": "code",
   "outputs": [
    {
     "data": {
      "text/plain": "    Fold     MSE  Pearson      R2\n0      1  0.9381   0.9394  0.8742\n1      2  0.9737   0.9349  0.8667\n2      3  0.9702   0.9376  0.8731\n3      4  0.9699   0.9365  0.8702\n4      5  0.9478   0.9379  0.8724\n5      6  0.9745   0.9357  0.8679\n6      7  1.0014   0.9341  0.8659\n7      8  0.9477   0.9384  0.8731\n8      9  0.9430   0.9378  0.8730\n9     10  0.9772   0.9350  0.8660\n10    11  1.0838   0.9287  0.8521",
      "text/html": "<div>\n<style scoped>\n    .dataframe tbody tr th:only-of-type {\n        vertical-align: middle;\n    }\n\n    .dataframe tbody tr th {\n        vertical-align: top;\n    }\n\n    .dataframe thead th {\n        text-align: right;\n    }\n</style>\n<table border=\"1\" class=\"dataframe\">\n  <thead>\n    <tr style=\"text-align: right;\">\n      <th></th>\n      <th>Fold</th>\n      <th>MSE</th>\n      <th>Pearson</th>\n      <th>R2</th>\n    </tr>\n  </thead>\n  <tbody>\n    <tr>\n      <th>0</th>\n      <td>1</td>\n      <td>0.9381</td>\n      <td>0.9394</td>\n      <td>0.8742</td>\n    </tr>\n    <tr>\n      <th>1</th>\n      <td>2</td>\n      <td>0.9737</td>\n      <td>0.9349</td>\n      <td>0.8667</td>\n    </tr>\n    <tr>\n      <th>2</th>\n      <td>3</td>\n      <td>0.9702</td>\n      <td>0.9376</td>\n      <td>0.8731</td>\n    </tr>\n    <tr>\n      <th>3</th>\n      <td>4</td>\n      <td>0.9699</td>\n      <td>0.9365</td>\n      <td>0.8702</td>\n    </tr>\n    <tr>\n      <th>4</th>\n      <td>5</td>\n      <td>0.9478</td>\n      <td>0.9379</td>\n      <td>0.8724</td>\n    </tr>\n    <tr>\n      <th>5</th>\n      <td>6</td>\n      <td>0.9745</td>\n      <td>0.9357</td>\n      <td>0.8679</td>\n    </tr>\n    <tr>\n      <th>6</th>\n      <td>7</td>\n      <td>1.0014</td>\n      <td>0.9341</td>\n      <td>0.8659</td>\n    </tr>\n    <tr>\n      <th>7</th>\n      <td>8</td>\n      <td>0.9477</td>\n      <td>0.9384</td>\n      <td>0.8731</td>\n    </tr>\n    <tr>\n      <th>8</th>\n      <td>9</td>\n      <td>0.9430</td>\n      <td>0.9378</td>\n      <td>0.8730</td>\n    </tr>\n    <tr>\n      <th>9</th>\n      <td>10</td>\n      <td>0.9772</td>\n      <td>0.9350</td>\n      <td>0.8660</td>\n    </tr>\n    <tr>\n      <th>10</th>\n      <td>11</td>\n      <td>1.0838</td>\n      <td>0.9287</td>\n      <td>0.8521</td>\n    </tr>\n  </tbody>\n</table>\n</div>"
     },
     "execution_count": 57,
     "metadata": {},
     "output_type": "execute_result"
    }
   ],
   "source": [
    "df_kfold = pd.read_excel('result/TransMCA_GEP_MUT_11Fold.xlsx')\n",
    "# 将MSE、Pearson和R2列的数据转换为数值型\n",
    "df_kfold['MSE'] = pd.to_numeric(df_kfold['MSE'], errors='coerce')\n",
    "df_kfold['Pearson'] = pd.to_numeric(df_kfold['Pearson'], errors='coerce')\n",
    "df_kfold['R2'] = pd.to_numeric(df_kfold['R2'], errors='coerce')\n",
    "df_kfold.head(11)"
   ],
   "metadata": {
    "collapsed": false,
    "ExecuteTime": {
     "end_time": "2024-03-13T07:16:09.431790Z",
     "start_time": "2024-03-13T07:16:09.407465Z"
    }
   },
   "id": "ab1d39e97be3deaf",
   "execution_count": 57
  },
  {
   "cell_type": "code",
   "outputs": [
    {
     "name": "stdout",
     "output_type": "stream",
     "text": [
      "0.9752090909090909 ± 0.04057152830607829\n"
     ]
    }
   ],
   "source": [
    "# 计算df_kfold中MSE的均值和标准差\n",
    "MSE_mean = df_kfold['MSE'].mean()\n",
    "MSE_std = df_kfold['MSE'].std()\n",
    "# 以平均值±1.96×标准差 展示 ,保留4位小数\n",
    "print(MSE_mean,'±',MSE_std)"
   ],
   "metadata": {
    "collapsed": false,
    "ExecuteTime": {
     "end_time": "2024-03-13T07:16:09.449910Z",
     "start_time": "2024-03-13T07:16:09.433783Z"
    }
   },
   "id": "d46a16055400223b",
   "execution_count": 58
  },
  {
   "cell_type": "code",
   "outputs": [
    {
     "name": "stdout",
     "output_type": "stream",
     "text": [
      "0.9359999999999999 ± 0.0029356430300702453\n"
     ]
    }
   ],
   "source": [
    "# 计算df_kfold中Pearson的均值和标准差\n",
    "Pearson_mean = df_kfold['Pearson'].mean()\n",
    "Pearson_std = df_kfold['Pearson'].std()\n",
    "# 以平均值±1.96×标准差 展示\n",
    "print(Pearson_mean,'±',Pearson_std)"
   ],
   "metadata": {
    "collapsed": false,
    "ExecuteTime": {
     "end_time": "2024-03-13T07:16:09.465667Z",
     "start_time": "2024-03-13T07:16:09.450988Z"
    }
   },
   "id": "831b3a98d4ab676e",
   "execution_count": 59
  },
  {
   "cell_type": "code",
   "outputs": [
    {
     "name": "stdout",
     "output_type": "stream",
     "text": [
      "0.8686 ± 0.006313636036389808\n"
     ]
    }
   ],
   "source": [
    "# 计算df_kfold中R2的均值和标准差\n",
    "R2_mean = df_kfold['R2'].mean()\n",
    "R2_std = df_kfold['R2'].std()\n",
    "# 以平均值±1.96×标准差 展示\n",
    "print(R2_mean,'±',R2_std)"
   ],
   "metadata": {
    "collapsed": false,
    "ExecuteTime": {
     "end_time": "2024-03-13T07:16:09.483399Z",
     "start_time": "2024-03-13T07:16:09.466917Z"
    }
   },
   "id": "7193d31f67e80d1a",
   "execution_count": 60
  },
  {
   "cell_type": "markdown",
   "source": [
    "# 作图展示不同组学数据的MSE、Pearson和R2的分布"
   ],
   "metadata": {
    "collapsed": false
   },
   "id": "df8497595711d86e"
  },
  {
   "cell_type": "code",
   "outputs": [
    {
     "data": {
      "text/plain": "    Fold     MSE  Pearson      R2\n0      1  0.9338   0.9391  0.8757\n1      2  0.9981   0.9330  0.8644\n2      3  0.9521   0.9388  0.8742\n3      4  1.0436   0.9322  0.8617\n4      5  0.9310   0.9392  0.8759\n5      6  0.9628   0.9366  0.8711\n6      7  0.8963   0.9408  0.8779\n7      8  1.1075   0.9280  0.8513\n8      9  1.0007   0.9345  0.8675\n9     10  0.9800   0.9356  0.8701\n10    11  0.9975   0.9349  0.8659",
      "text/html": "<div>\n<style scoped>\n    .dataframe tbody tr th:only-of-type {\n        vertical-align: middle;\n    }\n\n    .dataframe tbody tr th {\n        vertical-align: top;\n    }\n\n    .dataframe thead th {\n        text-align: right;\n    }\n</style>\n<table border=\"1\" class=\"dataframe\">\n  <thead>\n    <tr style=\"text-align: right;\">\n      <th></th>\n      <th>Fold</th>\n      <th>MSE</th>\n      <th>Pearson</th>\n      <th>R2</th>\n    </tr>\n  </thead>\n  <tbody>\n    <tr>\n      <th>0</th>\n      <td>1</td>\n      <td>0.9338</td>\n      <td>0.9391</td>\n      <td>0.8757</td>\n    </tr>\n    <tr>\n      <th>1</th>\n      <td>2</td>\n      <td>0.9981</td>\n      <td>0.9330</td>\n      <td>0.8644</td>\n    </tr>\n    <tr>\n      <th>2</th>\n      <td>3</td>\n      <td>0.9521</td>\n      <td>0.9388</td>\n      <td>0.8742</td>\n    </tr>\n    <tr>\n      <th>3</th>\n      <td>4</td>\n      <td>1.0436</td>\n      <td>0.9322</td>\n      <td>0.8617</td>\n    </tr>\n    <tr>\n      <th>4</th>\n      <td>5</td>\n      <td>0.9310</td>\n      <td>0.9392</td>\n      <td>0.8759</td>\n    </tr>\n    <tr>\n      <th>5</th>\n      <td>6</td>\n      <td>0.9628</td>\n      <td>0.9366</td>\n      <td>0.8711</td>\n    </tr>\n    <tr>\n      <th>6</th>\n      <td>7</td>\n      <td>0.8963</td>\n      <td>0.9408</td>\n      <td>0.8779</td>\n    </tr>\n    <tr>\n      <th>7</th>\n      <td>8</td>\n      <td>1.1075</td>\n      <td>0.9280</td>\n      <td>0.8513</td>\n    </tr>\n    <tr>\n      <th>8</th>\n      <td>9</td>\n      <td>1.0007</td>\n      <td>0.9345</td>\n      <td>0.8675</td>\n    </tr>\n    <tr>\n      <th>9</th>\n      <td>10</td>\n      <td>0.9800</td>\n      <td>0.9356</td>\n      <td>0.8701</td>\n    </tr>\n    <tr>\n      <th>10</th>\n      <td>11</td>\n      <td>0.9975</td>\n      <td>0.9349</td>\n      <td>0.8659</td>\n    </tr>\n  </tbody>\n</table>\n</div>"
     },
     "execution_count": 61,
     "metadata": {},
     "output_type": "execute_result"
    }
   ],
   "source": [
    "df_gep = pd.read_excel('result/TransMCA_GEP_11Fold.xlsx')\n",
    "# 将MSE、Pearson和R2列的数据转换为数值型\n",
    "df_gep['MSE'] = pd.to_numeric(df_gep['MSE'], errors='coerce')\n",
    "df_gep['Pearson'] = pd.to_numeric(df_gep['Pearson'], errors='coerce')\n",
    "df_gep['R2'] = pd.to_numeric(df_gep['R2'], errors='coerce')\n",
    "df_gep.head(11)"
   ],
   "metadata": {
    "collapsed": false,
    "ExecuteTime": {
     "end_time": "2024-03-13T07:16:09.509023Z",
     "start_time": "2024-03-13T07:16:09.485540Z"
    }
   },
   "id": "fb0949d019275d2",
   "execution_count": 61
  },
  {
   "cell_type": "code",
   "outputs": [
    {
     "data": {
      "text/plain": "    Fold     MSE  Pearson      R2\n0      1  0.9381   0.9394  0.8742\n1      2  0.9737   0.9349  0.8667\n2      3  0.9702   0.9376  0.8731\n3      4  0.9699   0.9365  0.8702\n4      5  0.9478   0.9379  0.8724\n5      6  0.9745   0.9357  0.8679\n6      7  1.0014   0.9341  0.8659\n7      8  0.9477   0.9384  0.8731\n8      9  0.9430   0.9378  0.8730\n9     10  0.9772   0.9350  0.8660\n10    11  1.0838   0.9287  0.8521",
      "text/html": "<div>\n<style scoped>\n    .dataframe tbody tr th:only-of-type {\n        vertical-align: middle;\n    }\n\n    .dataframe tbody tr th {\n        vertical-align: top;\n    }\n\n    .dataframe thead th {\n        text-align: right;\n    }\n</style>\n<table border=\"1\" class=\"dataframe\">\n  <thead>\n    <tr style=\"text-align: right;\">\n      <th></th>\n      <th>Fold</th>\n      <th>MSE</th>\n      <th>Pearson</th>\n      <th>R2</th>\n    </tr>\n  </thead>\n  <tbody>\n    <tr>\n      <th>0</th>\n      <td>1</td>\n      <td>0.9381</td>\n      <td>0.9394</td>\n      <td>0.8742</td>\n    </tr>\n    <tr>\n      <th>1</th>\n      <td>2</td>\n      <td>0.9737</td>\n      <td>0.9349</td>\n      <td>0.8667</td>\n    </tr>\n    <tr>\n      <th>2</th>\n      <td>3</td>\n      <td>0.9702</td>\n      <td>0.9376</td>\n      <td>0.8731</td>\n    </tr>\n    <tr>\n      <th>3</th>\n      <td>4</td>\n      <td>0.9699</td>\n      <td>0.9365</td>\n      <td>0.8702</td>\n    </tr>\n    <tr>\n      <th>4</th>\n      <td>5</td>\n      <td>0.9478</td>\n      <td>0.9379</td>\n      <td>0.8724</td>\n    </tr>\n    <tr>\n      <th>5</th>\n      <td>6</td>\n      <td>0.9745</td>\n      <td>0.9357</td>\n      <td>0.8679</td>\n    </tr>\n    <tr>\n      <th>6</th>\n      <td>7</td>\n      <td>1.0014</td>\n      <td>0.9341</td>\n      <td>0.8659</td>\n    </tr>\n    <tr>\n      <th>7</th>\n      <td>8</td>\n      <td>0.9477</td>\n      <td>0.9384</td>\n      <td>0.8731</td>\n    </tr>\n    <tr>\n      <th>8</th>\n      <td>9</td>\n      <td>0.9430</td>\n      <td>0.9378</td>\n      <td>0.8730</td>\n    </tr>\n    <tr>\n      <th>9</th>\n      <td>10</td>\n      <td>0.9772</td>\n      <td>0.9350</td>\n      <td>0.8660</td>\n    </tr>\n    <tr>\n      <th>10</th>\n      <td>11</td>\n      <td>1.0838</td>\n      <td>0.9287</td>\n      <td>0.8521</td>\n    </tr>\n  </tbody>\n</table>\n</div>"
     },
     "execution_count": 62,
     "metadata": {},
     "output_type": "execute_result"
    }
   ],
   "source": [
    "df_gep_mut = pd.read_excel('result/TransMCA_GEP_MUT_11Fold.xlsx')\n",
    "# 将MSE、Pearson和R2列的数据转换为数值型\n",
    "df_gep_mut['MSE'] = pd.to_numeric(df_gep_mut['MSE'], errors='coerce')\n",
    "df_gep_mut['Pearson'] = pd.to_numeric(df_gep_mut['Pearson'], errors='coerce')\n",
    "df_gep_mut['R2'] = pd.to_numeric(df_gep_mut['R2'], errors='coerce')\n",
    "df_gep_mut.head(11)"
   ],
   "metadata": {
    "collapsed": false,
    "ExecuteTime": {
     "end_time": "2024-03-13T07:16:09.538953Z",
     "start_time": "2024-03-13T07:16:09.509023Z"
    }
   },
   "id": "eff17493dd57f3f7",
   "execution_count": 62
  },
  {
   "cell_type": "code",
   "outputs": [
    {
     "data": {
      "text/plain": "    Fold     MSE  Pearson      R2\n0      1  0.9456   0.9385  0.8761\n1      2  0.9634   0.9356  0.8680\n2      3  0.9660   0.9375  0.8717\n3      4  1.0055   0.9343  0.8665\n4      5  0.9664   0.9369  0.8708\n5      6  0.9530   0.9377  0.8744\n6      7  0.9442   0.9377  0.8739\n7      8  0.9787   0.9362  0.8695\n8      9  0.9686   0.9360  0.8686\n9     10  0.9748   0.9350  0.8675\n10    11  0.9621   0.9369  0.8712",
      "text/html": "<div>\n<style scoped>\n    .dataframe tbody tr th:only-of-type {\n        vertical-align: middle;\n    }\n\n    .dataframe tbody tr th {\n        vertical-align: top;\n    }\n\n    .dataframe thead th {\n        text-align: right;\n    }\n</style>\n<table border=\"1\" class=\"dataframe\">\n  <thead>\n    <tr style=\"text-align: right;\">\n      <th></th>\n      <th>Fold</th>\n      <th>MSE</th>\n      <th>Pearson</th>\n      <th>R2</th>\n    </tr>\n  </thead>\n  <tbody>\n    <tr>\n      <th>0</th>\n      <td>1</td>\n      <td>0.9456</td>\n      <td>0.9385</td>\n      <td>0.8761</td>\n    </tr>\n    <tr>\n      <th>1</th>\n      <td>2</td>\n      <td>0.9634</td>\n      <td>0.9356</td>\n      <td>0.8680</td>\n    </tr>\n    <tr>\n      <th>2</th>\n      <td>3</td>\n      <td>0.9660</td>\n      <td>0.9375</td>\n      <td>0.8717</td>\n    </tr>\n    <tr>\n      <th>3</th>\n      <td>4</td>\n      <td>1.0055</td>\n      <td>0.9343</td>\n      <td>0.8665</td>\n    </tr>\n    <tr>\n      <th>4</th>\n      <td>5</td>\n      <td>0.9664</td>\n      <td>0.9369</td>\n      <td>0.8708</td>\n    </tr>\n    <tr>\n      <th>5</th>\n      <td>6</td>\n      <td>0.9530</td>\n      <td>0.9377</td>\n      <td>0.8744</td>\n    </tr>\n    <tr>\n      <th>6</th>\n      <td>7</td>\n      <td>0.9442</td>\n      <td>0.9377</td>\n      <td>0.8739</td>\n    </tr>\n    <tr>\n      <th>7</th>\n      <td>8</td>\n      <td>0.9787</td>\n      <td>0.9362</td>\n      <td>0.8695</td>\n    </tr>\n    <tr>\n      <th>8</th>\n      <td>9</td>\n      <td>0.9686</td>\n      <td>0.9360</td>\n      <td>0.8686</td>\n    </tr>\n    <tr>\n      <th>9</th>\n      <td>10</td>\n      <td>0.9748</td>\n      <td>0.9350</td>\n      <td>0.8675</td>\n    </tr>\n    <tr>\n      <th>10</th>\n      <td>11</td>\n      <td>0.9621</td>\n      <td>0.9369</td>\n      <td>0.8712</td>\n    </tr>\n  </tbody>\n</table>\n</div>"
     },
     "execution_count": 63,
     "metadata": {},
     "output_type": "execute_result"
    }
   ],
   "source": [
    "df_gep_cnv = pd.read_excel('result/TransMCA_GEP_CNV_11Fold.xlsx')\n",
    "# 将MSE、Pearson和R2列的数据转换为数值型\n",
    "df_gep_cnv['MSE'] = pd.to_numeric(df_gep_cnv['MSE'], errors='coerce')\n",
    "df_gep_cnv['Pearson'] = pd.to_numeric(df_gep_cnv['Pearson'], errors='coerce')\n",
    "df_gep_cnv['R2'] = pd.to_numeric(df_gep_cnv['R2'], errors='coerce')\n",
    "df_gep_cnv.head(11)"
   ],
   "metadata": {
    "collapsed": false,
    "ExecuteTime": {
     "end_time": "2024-03-13T07:16:09.562684Z",
     "start_time": "2024-03-13T07:16:09.539950Z"
    }
   },
   "id": "9b51f23c69666a74",
   "execution_count": 63
  },
  {
   "cell_type": "code",
   "outputs": [
    {
     "data": {
      "text/plain": "    Fold     MSE  Pearson      R2\n0      1  0.8402   0.9457  0.8884\n1      2  0.8967   0.9401  0.8791\n2      3  0.9025   0.9422  0.8826\n3      4  0.8850   0.9430  0.8835\n4      5  0.9127   0.9407  0.8772\n5      6  0.9696   0.9365  0.8718\n6      7  0.8836   0.9423  0.8832\n7      8  0.9384   0.9391  0.8747\n8      9  0.8950   0.9410  0.8789\n9     10  0.8791   0.9426  0.8867\n10    11  0.9137   0.9406  0.8810",
      "text/html": "<div>\n<style scoped>\n    .dataframe tbody tr th:only-of-type {\n        vertical-align: middle;\n    }\n\n    .dataframe tbody tr th {\n        vertical-align: top;\n    }\n\n    .dataframe thead th {\n        text-align: right;\n    }\n</style>\n<table border=\"1\" class=\"dataframe\">\n  <thead>\n    <tr style=\"text-align: right;\">\n      <th></th>\n      <th>Fold</th>\n      <th>MSE</th>\n      <th>Pearson</th>\n      <th>R2</th>\n    </tr>\n  </thead>\n  <tbody>\n    <tr>\n      <th>0</th>\n      <td>1</td>\n      <td>0.8402</td>\n      <td>0.9457</td>\n      <td>0.8884</td>\n    </tr>\n    <tr>\n      <th>1</th>\n      <td>2</td>\n      <td>0.8967</td>\n      <td>0.9401</td>\n      <td>0.8791</td>\n    </tr>\n    <tr>\n      <th>2</th>\n      <td>3</td>\n      <td>0.9025</td>\n      <td>0.9422</td>\n      <td>0.8826</td>\n    </tr>\n    <tr>\n      <th>3</th>\n      <td>4</td>\n      <td>0.8850</td>\n      <td>0.9430</td>\n      <td>0.8835</td>\n    </tr>\n    <tr>\n      <th>4</th>\n      <td>5</td>\n      <td>0.9127</td>\n      <td>0.9407</td>\n      <td>0.8772</td>\n    </tr>\n    <tr>\n      <th>5</th>\n      <td>6</td>\n      <td>0.9696</td>\n      <td>0.9365</td>\n      <td>0.8718</td>\n    </tr>\n    <tr>\n      <th>6</th>\n      <td>7</td>\n      <td>0.8836</td>\n      <td>0.9423</td>\n      <td>0.8832</td>\n    </tr>\n    <tr>\n      <th>7</th>\n      <td>8</td>\n      <td>0.9384</td>\n      <td>0.9391</td>\n      <td>0.8747</td>\n    </tr>\n    <tr>\n      <th>8</th>\n      <td>9</td>\n      <td>0.8950</td>\n      <td>0.9410</td>\n      <td>0.8789</td>\n    </tr>\n    <tr>\n      <th>9</th>\n      <td>10</td>\n      <td>0.8791</td>\n      <td>0.9426</td>\n      <td>0.8867</td>\n    </tr>\n    <tr>\n      <th>10</th>\n      <td>11</td>\n      <td>0.9137</td>\n      <td>0.9406</td>\n      <td>0.8810</td>\n    </tr>\n  </tbody>\n</table>\n</div>"
     },
     "execution_count": 64,
     "metadata": {},
     "output_type": "execute_result"
    }
   ],
   "source": [
    "df_gep_mut_cnv = pd.read_excel('result/TransMCA_GEP_CNV_MUT_11Fold.xlsx')\n",
    "# 将MSE、Pearson和R2列的数据转换为数值型\n",
    "df_gep_mut_cnv['MSE'] = pd.to_numeric(df_gep_mut_cnv['MSE'], errors='coerce')\n",
    "df_gep_mut_cnv['Pearson'] = pd.to_numeric(df_gep_mut_cnv['Pearson'], errors='coerce')\n",
    "df_gep_mut_cnv['R2'] = pd.to_numeric(df_gep_mut_cnv['R2'], errors='coerce')\n",
    "df_gep_mut_cnv.head(11)"
   ],
   "metadata": {
    "collapsed": false,
    "ExecuteTime": {
     "end_time": "2024-03-13T07:16:09.589787Z",
     "start_time": "2024-03-13T07:16:09.563682Z"
    }
   },
   "id": "68f990fc148996e7",
   "execution_count": 64
  },
  {
   "cell_type": "code",
   "outputs": [
    {
     "name": "stdout",
     "output_type": "stream",
     "text": [
      "(132, 4)\n"
     ]
    },
    {
     "data": {
      "text/plain": "     Fold      Dataset Metric   Value\n0       1          GEP    MSE  0.9338\n1       2          GEP    MSE  0.9981\n2       3          GEP    MSE  0.9521\n3       4          GEP    MSE  1.0436\n4       5          GEP    MSE  0.9310\n..    ...          ...    ...     ...\n127     7  GEP&MUT&CNV     R2  0.8832\n128     8  GEP&MUT&CNV     R2  0.8747\n129     9  GEP&MUT&CNV     R2  0.8789\n130    10  GEP&MUT&CNV     R2  0.8867\n131    11  GEP&MUT&CNV     R2  0.8810\n\n[132 rows x 4 columns]",
      "text/html": "<div>\n<style scoped>\n    .dataframe tbody tr th:only-of-type {\n        vertical-align: middle;\n    }\n\n    .dataframe tbody tr th {\n        vertical-align: top;\n    }\n\n    .dataframe thead th {\n        text-align: right;\n    }\n</style>\n<table border=\"1\" class=\"dataframe\">\n  <thead>\n    <tr style=\"text-align: right;\">\n      <th></th>\n      <th>Fold</th>\n      <th>Dataset</th>\n      <th>Metric</th>\n      <th>Value</th>\n    </tr>\n  </thead>\n  <tbody>\n    <tr>\n      <th>0</th>\n      <td>1</td>\n      <td>GEP</td>\n      <td>MSE</td>\n      <td>0.9338</td>\n    </tr>\n    <tr>\n      <th>1</th>\n      <td>2</td>\n      <td>GEP</td>\n      <td>MSE</td>\n      <td>0.9981</td>\n    </tr>\n    <tr>\n      <th>2</th>\n      <td>3</td>\n      <td>GEP</td>\n      <td>MSE</td>\n      <td>0.9521</td>\n    </tr>\n    <tr>\n      <th>3</th>\n      <td>4</td>\n      <td>GEP</td>\n      <td>MSE</td>\n      <td>1.0436</td>\n    </tr>\n    <tr>\n      <th>4</th>\n      <td>5</td>\n      <td>GEP</td>\n      <td>MSE</td>\n      <td>0.9310</td>\n    </tr>\n    <tr>\n      <th>...</th>\n      <td>...</td>\n      <td>...</td>\n      <td>...</td>\n      <td>...</td>\n    </tr>\n    <tr>\n      <th>127</th>\n      <td>7</td>\n      <td>GEP&amp;MUT&amp;CNV</td>\n      <td>R2</td>\n      <td>0.8832</td>\n    </tr>\n    <tr>\n      <th>128</th>\n      <td>8</td>\n      <td>GEP&amp;MUT&amp;CNV</td>\n      <td>R2</td>\n      <td>0.8747</td>\n    </tr>\n    <tr>\n      <th>129</th>\n      <td>9</td>\n      <td>GEP&amp;MUT&amp;CNV</td>\n      <td>R2</td>\n      <td>0.8789</td>\n    </tr>\n    <tr>\n      <th>130</th>\n      <td>10</td>\n      <td>GEP&amp;MUT&amp;CNV</td>\n      <td>R2</td>\n      <td>0.8867</td>\n    </tr>\n    <tr>\n      <th>131</th>\n      <td>11</td>\n      <td>GEP&amp;MUT&amp;CNV</td>\n      <td>R2</td>\n      <td>0.8810</td>\n    </tr>\n  </tbody>\n</table>\n<p>132 rows × 4 columns</p>\n</div>"
     },
     "execution_count": 106,
     "metadata": {},
     "output_type": "execute_result"
    }
   ],
   "source": [
    "# 将四个数据集的MSE和Pearson的数据合并，melt函数将数据集从宽格式转换为长格式，第一列为['GEP', 'GEP_MUT', 'GEP_CNV', 'GEP_MUT_CNV']，第二列为['MSE', 'Pearson', 'R2']，第三列为['Value']\n",
    "df_melt = pd.concat([df_gep, df_gep_mut, df_gep_cnv, df_gep_mut_cnv], axis=0)\n",
    "df_melt = df_melt.melt(id_vars=['Fold'], value_vars=['MSE', 'Pearson', 'R2'], var_name='Metric', value_name='Value')\n",
    "# 插入一列数据集的名称\n",
    "df_melt.insert(1, 'Dataset', (['GEP']*11+['GEP&MUT']*11+['GEP&CNV']*11+['GEP&MUT&CNV']*11)*3)\n",
    "print(df_melt.shape)\n",
    "df_melt.head(11*3*4)"
   ],
   "metadata": {
    "collapsed": false,
    "ExecuteTime": {
     "end_time": "2024-03-13T07:47:45.237801Z",
     "start_time": "2024-03-13T07:47:45.217508Z"
    }
   },
   "id": "3fa7fe31ef1a6150",
   "execution_count": 106
  },
  {
   "cell_type": "code",
   "outputs": [],
   "source": [
    "import matplotlib.pyplot as plt\n",
    "import seaborn as sns\n",
    "%matplotlib inline\n",
    "plt.style.use('default')\n",
    "# 设置全局字体\n",
    "plt.rcParams['font.sans-serif'] = ['Bahnschrift']\n",
    "plt.rcParams['axes.unicode_minus'] = False"
   ],
   "metadata": {
    "collapsed": false,
    "ExecuteTime": {
     "end_time": "2024-03-13T09:07:28.660132Z",
     "start_time": "2024-03-13T09:07:28.639626Z"
    }
   },
   "id": "2e8362c2e7994f3a",
   "execution_count": 139
  },
  {
   "cell_type": "code",
   "outputs": [
    {
     "data": {
      "text/plain": "<Figure size 640x480 with 1 Axes>",
      "image/png": "[encoded data removed]"
     },
     "metadata": {},
     "output_type": "display_data"
    }
   ],
   "source": [
    "# 画出箱线图，展示不同组学数据的MSE分布\n",
    "# plt.figure(figsize=(10, 9))\n",
    "ax = sns.boxplot(x='Dataset', y='Value', data=df_melt[df_melt['Metric']=='MSE'],linewidth=2,meanline=True,showmeans=True,meanprops={'color':'r','linestyle':'--','linewidth':1.5},showfliers=False,color='black',medianprops={'color':'blue','linewidth':1.5},boxprops=dict(facecolor=\"#8B8989\"))\n",
    "# 设置legend，mean是红色虚线，median是黑色实线\n",
    "# 获取箱线图中的均值和中位数线\n",
    "mean_lines = [c for c in ax.lines if \"--\" in c.get_linestyle()]\n",
    "median_lines = [c for c in ax.lines if \"-\" in c.get_linestyle()]\n",
    "\n",
    "# 设置legend\n",
    "mean_line = mean_lines[0]\n",
    "median_line = median_lines[0]\n",
    "plt.legend([mean_line, median_line], ['Mean', 'Median'], loc='best', fontsize=12,edgecolor='black')\n",
    "# plt.title('MSE of Different Genomic Data', fontsize=25)\n",
    "plt.ylabel('MSE', fontsize=12)\n",
    "plt.xlabel('Genomic Data', fontsize=12)\n",
    "plt.xticks(fontsize=12)\n",
    "plt.yticks(fontsize=12)\n",
    "# 将图片四周的边框变粗\n",
    "for axis in ['top', 'bottom', 'left', 'right']:\n",
    "    ax.spines[axis].set_linewidth(1.5)\n",
    "plt.savefig('MSE of Different Genomic Data.png', dpi=300)\n",
    "plt.show()"
   ],
   "metadata": {
    "collapsed": false,
    "ExecuteTime": {
     "end_time": "2024-03-13T09:13:39.945798Z",
     "start_time": "2024-03-13T09:13:39.725550Z"
    }
   },
   "id": "e6ed44adadfc9fd5",
   "execution_count": 149
  }
 ],
 "metadata": {
  "kernelspec": {
   "display_name": "Python 3",
   "language": "python",
   "name": "python3"
  },
  "language_info": {
   "codemirror_mode": {
    "name": "ipython",
    "version": 2
   },
   "file_extension": ".py",
   "mimetype": "text/x-python",
   "name": "python",
   "nbconvert_exporter": "python",
   "pygments_lexer": "ipython2",
   "version": "2.7.6"
  }
 },
 "nbformat": 4,
 "nbformat_minor": 5
}
