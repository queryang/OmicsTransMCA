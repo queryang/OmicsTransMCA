{
 "cells": [
  {
   "cell_type": "code",
   "id": "initial_id",
   "metadata": {
    "collapsed": true,
    "ExecuteTime": {
     "end_time": "2024-04-21T07:54:36.016176Z",
     "start_time": "2024-04-21T07:54:36.013448Z"
    }
   },
   "source": [
    "import pandas as pd\n",
    "import numpy as np"
   ],
   "outputs": [],
   "execution_count": 1
  },
  {
   "cell_type": "code",
   "source": [
    "df_kfold = pd.read_excel('result/TransMCA_GEP_CNV_MUT_11Fold.xlsx')\n",
    "# 将MSE、Pearson和R2列的数据转换为数值型\n",
    "df_kfold['MSE'] = pd.to_numeric(df_kfold['MSE'], errors='coerce')\n",
    "df_kfold['Pearson'] = pd.to_numeric(df_kfold['Pearson'], errors='coerce')\n",
    "df_kfold['R2'] = pd.to_numeric(df_kfold['R2'], errors='coerce')\n",
    "df_kfold.head(11)"
   ],
   "metadata": {
    "collapsed": false,
    "ExecuteTime": {
     "end_time": "2024-04-21T07:55:59.366115Z",
     "start_time": "2024-04-21T07:55:59.352382Z"
    }
   },
   "id": "ab1d39e97be3deaf",
   "outputs": [
    {
     "data": {
      "text/plain": [
       "    Fold     MSE  Pearson      R2\n",
       "0      1  0.8402   0.9457  0.8884\n",
       "1      2  0.8967   0.9401  0.8791\n",
       "2      3  0.9025   0.9422  0.8826\n",
       "3      4  0.8850   0.9430  0.8835\n",
       "4      5  0.9127   0.9407  0.8772\n",
       "5      6  0.9696   0.9365  0.8718\n",
       "6      7  0.8836   0.9423  0.8832\n",
       "7      8  0.9384   0.9391  0.8747\n",
       "8      9  0.8950   0.9410  0.8789\n",
       "9     10  0.8791   0.9426  0.8867\n",
       "10    11  0.9137   0.9406  0.8810"
      ],
      "text/html": [
       "<div>\n",
       "<style scoped>\n",
       "    .dataframe tbody tr th:only-of-type {\n",
       "        vertical-align: middle;\n",
       "    }\n",
       "\n",
       "    .dataframe tbody tr th {\n",
       "        vertical-align: top;\n",
       "    }\n",
       "\n",
       "    .dataframe thead th {\n",
       "        text-align: right;\n",
       "    }\n",
       "</style>\n",
       "<table border=\"1\" class=\"dataframe\">\n",
       "  <thead>\n",
       "    <tr style=\"text-align: right;\">\n",
       "      <th></th>\n",
       "      <th>Fold</th>\n",
       "      <th>MSE</th>\n",
       "      <th>Pearson</th>\n",
       "      <th>R2</th>\n",
       "    </tr>\n",
       "  </thead>\n",
       "  <tbody>\n",
       "    <tr>\n",
       "      <th>0</th>\n",
       "      <td>1</td>\n",
       "      <td>0.8402</td>\n",
       "      <td>0.9457</td>\n",
       "      <td>0.8884</td>\n",
       "    </tr>\n",
       "    <tr>\n",
       "      <th>1</th>\n",
       "      <td>2</td>\n",
       "      <td>0.8967</td>\n",
       "      <td>0.9401</td>\n",
       "      <td>0.8791</td>\n",
       "    </tr>\n",
       "    <tr>\n",
       "      <th>2</th>\n",
       "      <td>3</td>\n",
       "      <td>0.9025</td>\n",
       "      <td>0.9422</td>\n",
       "      <td>0.8826</td>\n",
       "    </tr>\n",
       "    <tr>\n",
       "      <th>3</th>\n",
       "      <td>4</td>\n",
       "      <td>0.8850</td>\n",
       "      <td>0.9430</td>\n",
       "      <td>0.8835</td>\n",
       "    </tr>\n",
       "    <tr>\n",
       "      <th>4</th>\n",
       "      <td>5</td>\n",
       "      <td>0.9127</td>\n",
       "      <td>0.9407</td>\n",
       "      <td>0.8772</td>\n",
       "    </tr>\n",
       "    <tr>\n",
       "      <th>5</th>\n",
       "      <td>6</td>\n",
       "      <td>0.9696</td>\n",
       "      <td>0.9365</td>\n",
       "      <td>0.8718</td>\n",
       "    </tr>\n",
       "    <tr>\n",
       "      <th>6</th>\n",
       "      <td>7</td>\n",
       "      <td>0.8836</td>\n",
       "      <td>0.9423</td>\n",
       "      <td>0.8832</td>\n",
       "    </tr>\n",
       "    <tr>\n",
       "      <th>7</th>\n",
       "      <td>8</td>\n",
       "      <td>0.9384</td>\n",
       "      <td>0.9391</td>\n",
       "      <td>0.8747</td>\n",
       "    </tr>\n",
       "    <tr>\n",
       "      <th>8</th>\n",
       "      <td>9</td>\n",
       "      <td>0.8950</td>\n",
       "      <td>0.9410</td>\n",
       "      <td>0.8789</td>\n",
       "    </tr>\n",
       "    <tr>\n",
       "      <th>9</th>\n",
       "      <td>10</td>\n",
       "      <td>0.8791</td>\n",
       "      <td>0.9426</td>\n",
       "      <td>0.8867</td>\n",
       "    </tr>\n",
       "    <tr>\n",
       "      <th>10</th>\n",
       "      <td>11</td>\n",
       "      <td>0.9137</td>\n",
       "      <td>0.9406</td>\n",
       "      <td>0.8810</td>\n",
       "    </tr>\n",
       "  </tbody>\n",
       "</table>\n",
       "</div>"
      ]
     },
     "execution_count": 12,
     "metadata": {},
     "output_type": "execute_result"
    }
   ],
   "execution_count": 12
  },
  {
   "cell_type": "code",
   "source": [
    "# 计算df_kfold中MSE的均值和标准差\n",
    "MSE_mean = df_kfold['MSE'].mean()\n",
    "MSE_std = df_kfold['MSE'].std()\n",
    "# 以平均值±1.96×标准差 展示 ,保留4位小数\n",
    "print(MSE_mean,'±',MSE_std)"
   ],
   "metadata": {
    "collapsed": false,
    "ExecuteTime": {
     "end_time": "2024-04-21T07:56:13.075621Z",
     "start_time": "2024-04-21T07:56:13.071532Z"
    }
   },
   "id": "d46a16055400223b",
   "outputs": [
    {
     "name": "stdout",
     "output_type": "stream",
     "text": [
      "0.9015 ± 0.03345429718287324\n"
     ]
    }
   ],
   "execution_count": 13
  },
  {
   "cell_type": "code",
   "source": [
    "# 计算df_kfold中Pearson的均值和标准差\n",
    "Pearson_mean = df_kfold['Pearson'].mean()\n",
    "Pearson_std = df_kfold['Pearson'].std()\n",
    "# 以平均值±1.96×标准差 展示\n",
    "print(Pearson_mean,'±',Pearson_std)"
   ],
   "metadata": {
    "collapsed": false,
    "ExecuteTime": {
     "end_time": "2024-04-21T07:56:19.467479Z",
     "start_time": "2024-04-21T07:56:19.463689Z"
    }
   },
   "id": "831b3a98d4ab676e",
   "outputs": [
    {
     "name": "stdout",
     "output_type": "stream",
     "text": [
      "0.9412545454545456 ± 0.0023661629852415552\n"
     ]
    }
   ],
   "execution_count": 14
  },
  {
   "cell_type": "code",
   "source": [
    "# 计算df_kfold中R2的均值和标准差\n",
    "R2_mean = df_kfold['R2'].mean()\n",
    "R2_std = df_kfold['R2'].std()\n",
    "# 以平均值±1.96×标准差 展示\n",
    "print(R2_mean,'±',R2_std)"
   ],
   "metadata": {
    "collapsed": false,
    "ExecuteTime": {
     "end_time": "2024-04-21T07:56:22.284383Z",
     "start_time": "2024-04-21T07:56:22.279187Z"
    }
   },
   "id": "7193d31f67e80d1a",
   "outputs": [
    {
     "name": "stdout",
     "output_type": "stream",
     "text": [
      "0.8806454545454545 ± 0.0049629353484331425\n"
     ]
    }
   ],
   "execution_count": 15
  },
  {
   "cell_type": "markdown",
   "source": [
    "# 作图展示不同组学数据的MSE、Pearson和R2的分布"
   ],
   "metadata": {
    "collapsed": false
   },
   "id": "df8497595711d86e"
  },
  {
   "cell_type": "code",
   "source": [
    "df_gep = pd.read_excel('result/TransMCA_GEP_10Fold.xlsx')\n",
    "# 将MSE、Pearson和R2列的数据转换为数值型\n",
    "df_gep['MSE'] = pd.to_numeric(df_gep['MSE'], errors='coerce')\n",
    "df_gep['Pearson'] = pd.to_numeric(df_gep['Pearson'], errors='coerce')\n",
    "df_gep['R2'] = pd.to_numeric(df_gep['R2'], errors='coerce')\n",
    "df_gep.head(11)"
   ],
   "metadata": {
    "collapsed": false,
    "ExecuteTime": {
     "end_time": "2024-04-21T07:55:23.127513Z",
     "start_time": "2024-04-21T07:55:23.109522Z"
    }
   },
   "id": "fb0949d019275d2",
   "outputs": [
    {
     "data": {
      "text/plain": [
       "   Fold     MSE  Pearson      R2\n",
       "0     1  0.9444   0.9381  0.8729\n",
       "1     2  0.9648   0.9366  0.8696\n",
       "2     3  0.9471   0.9376  0.8730\n",
       "3     4  0.9686   0.9369  0.8729\n",
       "4     5  1.0264   0.9347  0.8679\n",
       "5     6  0.8959   0.9421  0.8817\n",
       "6     7  0.9339   0.9377  0.8717\n",
       "7     8  0.9955   0.9358  0.8719\n",
       "8     9  1.0415   0.9301  0.8575\n",
       "9    10  0.9737   0.9369  0.8725"
      ],
      "text/html": [
       "<div>\n",
       "<style scoped>\n",
       "    .dataframe tbody tr th:only-of-type {\n",
       "        vertical-align: middle;\n",
       "    }\n",
       "\n",
       "    .dataframe tbody tr th {\n",
       "        vertical-align: top;\n",
       "    }\n",
       "\n",
       "    .dataframe thead th {\n",
       "        text-align: right;\n",
       "    }\n",
       "</style>\n",
       "<table border=\"1\" class=\"dataframe\">\n",
       "  <thead>\n",
       "    <tr style=\"text-align: right;\">\n",
       "      <th></th>\n",
       "      <th>Fold</th>\n",
       "      <th>MSE</th>\n",
       "      <th>Pearson</th>\n",
       "      <th>R2</th>\n",
       "    </tr>\n",
       "  </thead>\n",
       "  <tbody>\n",
       "    <tr>\n",
       "      <th>0</th>\n",
       "      <td>1</td>\n",
       "      <td>0.9444</td>\n",
       "      <td>0.9381</td>\n",
       "      <td>0.8729</td>\n",
       "    </tr>\n",
       "    <tr>\n",
       "      <th>1</th>\n",
       "      <td>2</td>\n",
       "      <td>0.9648</td>\n",
       "      <td>0.9366</td>\n",
       "      <td>0.8696</td>\n",
       "    </tr>\n",
       "    <tr>\n",
       "      <th>2</th>\n",
       "      <td>3</td>\n",
       "      <td>0.9471</td>\n",
       "      <td>0.9376</td>\n",
       "      <td>0.8730</td>\n",
       "    </tr>\n",
       "    <tr>\n",
       "      <th>3</th>\n",
       "      <td>4</td>\n",
       "      <td>0.9686</td>\n",
       "      <td>0.9369</td>\n",
       "      <td>0.8729</td>\n",
       "    </tr>\n",
       "    <tr>\n",
       "      <th>4</th>\n",
       "      <td>5</td>\n",
       "      <td>1.0264</td>\n",
       "      <td>0.9347</td>\n",
       "      <td>0.8679</td>\n",
       "    </tr>\n",
       "    <tr>\n",
       "      <th>5</th>\n",
       "      <td>6</td>\n",
       "      <td>0.8959</td>\n",
       "      <td>0.9421</td>\n",
       "      <td>0.8817</td>\n",
       "    </tr>\n",
       "    <tr>\n",
       "      <th>6</th>\n",
       "      <td>7</td>\n",
       "      <td>0.9339</td>\n",
       "      <td>0.9377</td>\n",
       "      <td>0.8717</td>\n",
       "    </tr>\n",
       "    <tr>\n",
       "      <th>7</th>\n",
       "      <td>8</td>\n",
       "      <td>0.9955</td>\n",
       "      <td>0.9358</td>\n",
       "      <td>0.8719</td>\n",
       "    </tr>\n",
       "    <tr>\n",
       "      <th>8</th>\n",
       "      <td>9</td>\n",
       "      <td>1.0415</td>\n",
       "      <td>0.9301</td>\n",
       "      <td>0.8575</td>\n",
       "    </tr>\n",
       "    <tr>\n",
       "      <th>9</th>\n",
       "      <td>10</td>\n",
       "      <td>0.9737</td>\n",
       "      <td>0.9369</td>\n",
       "      <td>0.8725</td>\n",
       "    </tr>\n",
       "  </tbody>\n",
       "</table>\n",
       "</div>"
      ]
     },
     "execution_count": 7,
     "metadata": {},
     "output_type": "execute_result"
    }
   ],
   "execution_count": 7
  },
  {
   "cell_type": "code",
   "source": [
    "df_gep_mut = pd.read_excel('result/TransMCA_GEP_MUT_11Fold.xlsx')\n",
    "# 将MSE、Pearson和R2列的数据转换为数值型\n",
    "df_gep_mut['MSE'] = pd.to_numeric(df_gep_mut['MSE'], errors='coerce')\n",
    "df_gep_mut['Pearson'] = pd.to_numeric(df_gep_mut['Pearson'], errors='coerce')\n",
    "df_gep_mut['R2'] = pd.to_numeric(df_gep_mut['R2'], errors='coerce')\n",
    "df_gep_mut.head(11)"
   ],
   "metadata": {
    "collapsed": false,
    "ExecuteTime": {
     "end_time": "2024-04-21T07:55:27.776879Z",
     "start_time": "2024-04-21T07:55:27.757024Z"
    }
   },
   "id": "eff17493dd57f3f7",
   "outputs": [
    {
     "data": {
      "text/plain": [
       "    Fold     MSE  Pearson      R2\n",
       "0      1  0.9381   0.9394  0.8742\n",
       "1      2  0.9737   0.9349  0.8667\n",
       "2      3  0.9702   0.9376  0.8731\n",
       "3      4  0.9699   0.9365  0.8702\n",
       "4      5  0.9478   0.9379  0.8724\n",
       "5      6  0.9745   0.9357  0.8679\n",
       "6      7  1.0014   0.9341  0.8659\n",
       "7      8  0.9477   0.9384  0.8731\n",
       "8      9  0.9430   0.9378  0.8730\n",
       "9     10  0.9772   0.9350  0.8660\n",
       "10    11  1.0838   0.9287  0.8521"
      ],
      "text/html": [
       "<div>\n",
       "<style scoped>\n",
       "    .dataframe tbody tr th:only-of-type {\n",
       "        vertical-align: middle;\n",
       "    }\n",
       "\n",
       "    .dataframe tbody tr th {\n",
       "        vertical-align: top;\n",
       "    }\n",
       "\n",
       "    .dataframe thead th {\n",
       "        text-align: right;\n",
       "    }\n",
       "</style>\n",
       "<table border=\"1\" class=\"dataframe\">\n",
       "  <thead>\n",
       "    <tr style=\"text-align: right;\">\n",
       "      <th></th>\n",
       "      <th>Fold</th>\n",
       "      <th>MSE</th>\n",
       "      <th>Pearson</th>\n",
       "      <th>R2</th>\n",
       "    </tr>\n",
       "  </thead>\n",
       "  <tbody>\n",
       "    <tr>\n",
       "      <th>0</th>\n",
       "      <td>1</td>\n",
       "      <td>0.9381</td>\n",
       "      <td>0.9394</td>\n",
       "      <td>0.8742</td>\n",
       "    </tr>\n",
       "    <tr>\n",
       "      <th>1</th>\n",
       "      <td>2</td>\n",
       "      <td>0.9737</td>\n",
       "      <td>0.9349</td>\n",
       "      <td>0.8667</td>\n",
       "    </tr>\n",
       "    <tr>\n",
       "      <th>2</th>\n",
       "      <td>3</td>\n",
       "      <td>0.9702</td>\n",
       "      <td>0.9376</td>\n",
       "      <td>0.8731</td>\n",
       "    </tr>\n",
       "    <tr>\n",
       "      <th>3</th>\n",
       "      <td>4</td>\n",
       "      <td>0.9699</td>\n",
       "      <td>0.9365</td>\n",
       "      <td>0.8702</td>\n",
       "    </tr>\n",
       "    <tr>\n",
       "      <th>4</th>\n",
       "      <td>5</td>\n",
       "      <td>0.9478</td>\n",
       "      <td>0.9379</td>\n",
       "      <td>0.8724</td>\n",
       "    </tr>\n",
       "    <tr>\n",
       "      <th>5</th>\n",
       "      <td>6</td>\n",
       "      <td>0.9745</td>\n",
       "      <td>0.9357</td>\n",
       "      <td>0.8679</td>\n",
       "    </tr>\n",
       "    <tr>\n",
       "      <th>6</th>\n",
       "      <td>7</td>\n",
       "      <td>1.0014</td>\n",
       "      <td>0.9341</td>\n",
       "      <td>0.8659</td>\n",
       "    </tr>\n",
       "    <tr>\n",
       "      <th>7</th>\n",
       "      <td>8</td>\n",
       "      <td>0.9477</td>\n",
       "      <td>0.9384</td>\n",
       "      <td>0.8731</td>\n",
       "    </tr>\n",
       "    <tr>\n",
       "      <th>8</th>\n",
       "      <td>9</td>\n",
       "      <td>0.9430</td>\n",
       "      <td>0.9378</td>\n",
       "      <td>0.8730</td>\n",
       "    </tr>\n",
       "    <tr>\n",
       "      <th>9</th>\n",
       "      <td>10</td>\n",
       "      <td>0.9772</td>\n",
       "      <td>0.9350</td>\n",
       "      <td>0.8660</td>\n",
       "    </tr>\n",
       "    <tr>\n",
       "      <th>10</th>\n",
       "      <td>11</td>\n",
       "      <td>1.0838</td>\n",
       "      <td>0.9287</td>\n",
       "      <td>0.8521</td>\n",
       "    </tr>\n",
       "  </tbody>\n",
       "</table>\n",
       "</div>"
      ]
     },
     "execution_count": 8,
     "metadata": {},
     "output_type": "execute_result"
    }
   ],
   "execution_count": 8
  },
  {
   "cell_type": "code",
   "source": [
    "df_gep_cnv = pd.read_excel('result/TransMCA_GEP_CNV_11Fold.xlsx')\n",
    "# 将MSE、Pearson和R2列的数据转换为数值型\n",
    "df_gep_cnv['MSE'] = pd.to_numeric(df_gep_cnv['MSE'], errors='coerce')\n",
    "df_gep_cnv['Pearson'] = pd.to_numeric(df_gep_cnv['Pearson'], errors='coerce')\n",
    "df_gep_cnv['R2'] = pd.to_numeric(df_gep_cnv['R2'], errors='coerce')\n",
    "df_gep_cnv.head(11)"
   ],
   "metadata": {
    "collapsed": false,
    "ExecuteTime": {
     "end_time": "2024-04-21T07:55:29.869438Z",
     "start_time": "2024-04-21T07:55:29.849526Z"
    }
   },
   "id": "9b51f23c69666a74",
   "outputs": [
    {
     "data": {
      "text/plain": [
       "    Fold     MSE  Pearson      R2\n",
       "0      1  0.9456   0.9385  0.8761\n",
       "1      2  0.9634   0.9356  0.8680\n",
       "2      3  0.9660   0.9375  0.8717\n",
       "3      4  1.0055   0.9343  0.8665\n",
       "4      5  0.9664   0.9369  0.8708\n",
       "5      6  0.9530   0.9377  0.8744\n",
       "6      7  0.9442   0.9377  0.8739\n",
       "7      8  0.9787   0.9362  0.8695\n",
       "8      9  0.9686   0.9360  0.8686\n",
       "9     10  0.9748   0.9350  0.8675\n",
       "10    11  0.9621   0.9369  0.8712"
      ],
      "text/html": [
       "<div>\n",
       "<style scoped>\n",
       "    .dataframe tbody tr th:only-of-type {\n",
       "        vertical-align: middle;\n",
       "    }\n",
       "\n",
       "    .dataframe tbody tr th {\n",
       "        vertical-align: top;\n",
       "    }\n",
       "\n",
       "    .dataframe thead th {\n",
       "        text-align: right;\n",
       "    }\n",
       "</style>\n",
       "<table border=\"1\" class=\"dataframe\">\n",
       "  <thead>\n",
       "    <tr style=\"text-align: right;\">\n",
       "      <th></th>\n",
       "      <th>Fold</th>\n",
       "      <th>MSE</th>\n",
       "      <th>Pearson</th>\n",
       "      <th>R2</th>\n",
       "    </tr>\n",
       "  </thead>\n",
       "  <tbody>\n",
       "    <tr>\n",
       "      <th>0</th>\n",
       "      <td>1</td>\n",
       "      <td>0.9456</td>\n",
       "      <td>0.9385</td>\n",
       "      <td>0.8761</td>\n",
       "    </tr>\n",
       "    <tr>\n",
       "      <th>1</th>\n",
       "      <td>2</td>\n",
       "      <td>0.9634</td>\n",
       "      <td>0.9356</td>\n",
       "      <td>0.8680</td>\n",
       "    </tr>\n",
       "    <tr>\n",
       "      <th>2</th>\n",
       "      <td>3</td>\n",
       "      <td>0.9660</td>\n",
       "      <td>0.9375</td>\n",
       "      <td>0.8717</td>\n",
       "    </tr>\n",
       "    <tr>\n",
       "      <th>3</th>\n",
       "      <td>4</td>\n",
       "      <td>1.0055</td>\n",
       "      <td>0.9343</td>\n",
       "      <td>0.8665</td>\n",
       "    </tr>\n",
       "    <tr>\n",
       "      <th>4</th>\n",
       "      <td>5</td>\n",
       "      <td>0.9664</td>\n",
       "      <td>0.9369</td>\n",
       "      <td>0.8708</td>\n",
       "    </tr>\n",
       "    <tr>\n",
       "      <th>5</th>\n",
       "      <td>6</td>\n",
       "      <td>0.9530</td>\n",
       "      <td>0.9377</td>\n",
       "      <td>0.8744</td>\n",
       "    </tr>\n",
       "    <tr>\n",
       "      <th>6</th>\n",
       "      <td>7</td>\n",
       "      <td>0.9442</td>\n",
       "      <td>0.9377</td>\n",
       "      <td>0.8739</td>\n",
       "    </tr>\n",
       "    <tr>\n",
       "      <th>7</th>\n",
       "      <td>8</td>\n",
       "      <td>0.9787</td>\n",
       "      <td>0.9362</td>\n",
       "      <td>0.8695</td>\n",
       "    </tr>\n",
       "    <tr>\n",
       "      <th>8</th>\n",
       "      <td>9</td>\n",
       "      <td>0.9686</td>\n",
       "      <td>0.9360</td>\n",
       "      <td>0.8686</td>\n",
       "    </tr>\n",
       "    <tr>\n",
       "      <th>9</th>\n",
       "      <td>10</td>\n",
       "      <td>0.9748</td>\n",
       "      <td>0.9350</td>\n",
       "      <td>0.8675</td>\n",
       "    </tr>\n",
       "    <tr>\n",
       "      <th>10</th>\n",
       "      <td>11</td>\n",
       "      <td>0.9621</td>\n",
       "      <td>0.9369</td>\n",
       "      <td>0.8712</td>\n",
       "    </tr>\n",
       "  </tbody>\n",
       "</table>\n",
       "</div>"
      ]
     },
     "execution_count": 9,
     "metadata": {},
     "output_type": "execute_result"
    }
   ],
   "execution_count": 9
  },
  {
   "cell_type": "code",
   "source": [
    "df_gep_mut_cnv = pd.read_excel('result/TransMCA_GEP_CNV_MUT_11Fold.xlsx')\n",
    "# 将MSE、Pearson和R2列的数据转换为数值型\n",
    "df_gep_mut_cnv['MSE'] = pd.to_numeric(df_gep_mut_cnv['MSE'], errors='coerce')\n",
    "df_gep_mut_cnv['Pearson'] = pd.to_numeric(df_gep_mut_cnv['Pearson'], errors='coerce')\n",
    "df_gep_mut_cnv['R2'] = pd.to_numeric(df_gep_mut_cnv['R2'], errors='coerce')\n",
    "df_gep_mut_cnv.head(11)"
   ],
   "metadata": {
    "collapsed": false,
    "ExecuteTime": {
     "end_time": "2024-04-21T07:55:34.599783Z",
     "start_time": "2024-04-21T07:55:34.583258Z"
    }
   },
   "id": "68f990fc148996e7",
   "outputs": [
    {
     "data": {
      "text/plain": [
       "    Fold     MSE  Pearson      R2\n",
       "0      1  0.8402   0.9457  0.8884\n",
       "1      2  0.8967   0.9401  0.8791\n",
       "2      3  0.9025   0.9422  0.8826\n",
       "3      4  0.8850   0.9430  0.8835\n",
       "4      5  0.9127   0.9407  0.8772\n",
       "5      6  0.9696   0.9365  0.8718\n",
       "6      7  0.8836   0.9423  0.8832\n",
       "7      8  0.9384   0.9391  0.8747\n",
       "8      9  0.8950   0.9410  0.8789\n",
       "9     10  0.8791   0.9426  0.8867\n",
       "10    11  0.9137   0.9406  0.8810"
      ],
      "text/html": [
       "<div>\n",
       "<style scoped>\n",
       "    .dataframe tbody tr th:only-of-type {\n",
       "        vertical-align: middle;\n",
       "    }\n",
       "\n",
       "    .dataframe tbody tr th {\n",
       "        vertical-align: top;\n",
       "    }\n",
       "\n",
       "    .dataframe thead th {\n",
       "        text-align: right;\n",
       "    }\n",
       "</style>\n",
       "<table border=\"1\" class=\"dataframe\">\n",
       "  <thead>\n",
       "    <tr style=\"text-align: right;\">\n",
       "      <th></th>\n",
       "      <th>Fold</th>\n",
       "      <th>MSE</th>\n",
       "      <th>Pearson</th>\n",
       "      <th>R2</th>\n",
       "    </tr>\n",
       "  </thead>\n",
       "  <tbody>\n",
       "    <tr>\n",
       "      <th>0</th>\n",
       "      <td>1</td>\n",
       "      <td>0.8402</td>\n",
       "      <td>0.9457</td>\n",
       "      <td>0.8884</td>\n",
       "    </tr>\n",
       "    <tr>\n",
       "      <th>1</th>\n",
       "      <td>2</td>\n",
       "      <td>0.8967</td>\n",
       "      <td>0.9401</td>\n",
       "      <td>0.8791</td>\n",
       "    </tr>\n",
       "    <tr>\n",
       "      <th>2</th>\n",
       "      <td>3</td>\n",
       "      <td>0.9025</td>\n",
       "      <td>0.9422</td>\n",
       "      <td>0.8826</td>\n",
       "    </tr>\n",
       "    <tr>\n",
       "      <th>3</th>\n",
       "      <td>4</td>\n",
       "      <td>0.8850</td>\n",
       "      <td>0.9430</td>\n",
       "      <td>0.8835</td>\n",
       "    </tr>\n",
       "    <tr>\n",
       "      <th>4</th>\n",
       "      <td>5</td>\n",
       "      <td>0.9127</td>\n",
       "      <td>0.9407</td>\n",
       "      <td>0.8772</td>\n",
       "    </tr>\n",
       "    <tr>\n",
       "      <th>5</th>\n",
       "      <td>6</td>\n",
       "      <td>0.9696</td>\n",
       "      <td>0.9365</td>\n",
       "      <td>0.8718</td>\n",
       "    </tr>\n",
       "    <tr>\n",
       "      <th>6</th>\n",
       "      <td>7</td>\n",
       "      <td>0.8836</td>\n",
       "      <td>0.9423</td>\n",
       "      <td>0.8832</td>\n",
       "    </tr>\n",
       "    <tr>\n",
       "      <th>7</th>\n",
       "      <td>8</td>\n",
       "      <td>0.9384</td>\n",
       "      <td>0.9391</td>\n",
       "      <td>0.8747</td>\n",
       "    </tr>\n",
       "    <tr>\n",
       "      <th>8</th>\n",
       "      <td>9</td>\n",
       "      <td>0.8950</td>\n",
       "      <td>0.9410</td>\n",
       "      <td>0.8789</td>\n",
       "    </tr>\n",
       "    <tr>\n",
       "      <th>9</th>\n",
       "      <td>10</td>\n",
       "      <td>0.8791</td>\n",
       "      <td>0.9426</td>\n",
       "      <td>0.8867</td>\n",
       "    </tr>\n",
       "    <tr>\n",
       "      <th>10</th>\n",
       "      <td>11</td>\n",
       "      <td>0.9137</td>\n",
       "      <td>0.9406</td>\n",
       "      <td>0.8810</td>\n",
       "    </tr>\n",
       "  </tbody>\n",
       "</table>\n",
       "</div>"
      ]
     },
     "execution_count": 10,
     "metadata": {},
     "output_type": "execute_result"
    }
   ],
   "execution_count": 10
  },
  {
   "cell_type": "code",
   "source": [
    "# 将四个数据集的MSE和Pearson的数据合并，melt函数将数据集从宽格式转换为长格式，第一列为['GEP', 'GEP_MUT', 'GEP_CNV', 'GEP_MUT_CNV']，第二列为['MSE', 'Pearson', 'R2']，第三列为['Value']\n",
    "df_melt = pd.concat([df_gep, df_gep_mut, df_gep_cnv, df_gep_mut_cnv], axis=0)\n",
    "df_melt = df_melt.melt(id_vars=['Fold'], value_vars=['MSE', 'Pearson', 'R2'], var_name='Metric', value_name='Value')\n",
    "# 插入一列数据集的名称\n",
    "df_melt.insert(1, 'Dataset', (['GEP']*11+['GEP&MUT']*11+['GEP&CNV']*11+['GEP&MUT&CNV']*11)*3)\n",
    "print(df_melt.shape)\n",
    "df_melt.head(11*3*4)"
   ],
   "metadata": {
    "collapsed": false,
    "ExecuteTime": {
     "end_time": "2024-04-21T07:55:38.601936Z",
     "start_time": "2024-04-21T07:55:37.853437Z"
    }
   },
   "id": "3fa7fe31ef1a6150",
   "outputs": [
    {
     "ename": "ValueError",
     "evalue": "Length of values (132) does not match length of index (129)",
     "output_type": "error",
     "traceback": [
      "\u001B[1;31m---------------------------------------------------------------------------\u001B[0m",
      "\u001B[1;31mValueError\u001B[0m                                Traceback (most recent call last)",
      "Cell \u001B[1;32mIn[11], line 5\u001B[0m\n\u001B[0;32m      3\u001B[0m df_melt \u001B[38;5;241m=\u001B[39m df_melt\u001B[38;5;241m.\u001B[39mmelt(id_vars\u001B[38;5;241m=\u001B[39m[\u001B[38;5;124m'\u001B[39m\u001B[38;5;124mFold\u001B[39m\u001B[38;5;124m'\u001B[39m], value_vars\u001B[38;5;241m=\u001B[39m[\u001B[38;5;124m'\u001B[39m\u001B[38;5;124mMSE\u001B[39m\u001B[38;5;124m'\u001B[39m, \u001B[38;5;124m'\u001B[39m\u001B[38;5;124mPearson\u001B[39m\u001B[38;5;124m'\u001B[39m, \u001B[38;5;124m'\u001B[39m\u001B[38;5;124mR2\u001B[39m\u001B[38;5;124m'\u001B[39m], var_name\u001B[38;5;241m=\u001B[39m\u001B[38;5;124m'\u001B[39m\u001B[38;5;124mMetric\u001B[39m\u001B[38;5;124m'\u001B[39m, value_name\u001B[38;5;241m=\u001B[39m\u001B[38;5;124m'\u001B[39m\u001B[38;5;124mValue\u001B[39m\u001B[38;5;124m'\u001B[39m)\n\u001B[0;32m      4\u001B[0m \u001B[38;5;66;03m# 插入一列数据集的名称\u001B[39;00m\n\u001B[1;32m----> 5\u001B[0m df_melt\u001B[38;5;241m.\u001B[39minsert(\u001B[38;5;241m1\u001B[39m, \u001B[38;5;124m'\u001B[39m\u001B[38;5;124mDataset\u001B[39m\u001B[38;5;124m'\u001B[39m, ([\u001B[38;5;124m'\u001B[39m\u001B[38;5;124mGEP\u001B[39m\u001B[38;5;124m'\u001B[39m]\u001B[38;5;241m*\u001B[39m\u001B[38;5;241m11\u001B[39m\u001B[38;5;241m+\u001B[39m[\u001B[38;5;124m'\u001B[39m\u001B[38;5;124mGEP&MUT\u001B[39m\u001B[38;5;124m'\u001B[39m]\u001B[38;5;241m*\u001B[39m\u001B[38;5;241m11\u001B[39m\u001B[38;5;241m+\u001B[39m[\u001B[38;5;124m'\u001B[39m\u001B[38;5;124mGEP&CNV\u001B[39m\u001B[38;5;124m'\u001B[39m]\u001B[38;5;241m*\u001B[39m\u001B[38;5;241m11\u001B[39m\u001B[38;5;241m+\u001B[39m[\u001B[38;5;124m'\u001B[39m\u001B[38;5;124mGEP&MUT&CNV\u001B[39m\u001B[38;5;124m'\u001B[39m]\u001B[38;5;241m*\u001B[39m\u001B[38;5;241m11\u001B[39m)\u001B[38;5;241m*\u001B[39m\u001B[38;5;241m3\u001B[39m)\n\u001B[0;32m      6\u001B[0m \u001B[38;5;28mprint\u001B[39m(df_melt\u001B[38;5;241m.\u001B[39mshape)\n\u001B[0;32m      7\u001B[0m df_melt\u001B[38;5;241m.\u001B[39mhead(\u001B[38;5;241m11\u001B[39m\u001B[38;5;241m*\u001B[39m\u001B[38;5;241m3\u001B[39m\u001B[38;5;241m*\u001B[39m\u001B[38;5;241m4\u001B[39m)\n",
      "File \u001B[1;32mC:\\anaconda3\\envs\\torchgpu1\\Lib\\site-packages\\pandas\\core\\frame.py:5158\u001B[0m, in \u001B[0;36mDataFrame.insert\u001B[1;34m(self, loc, column, value, allow_duplicates)\u001B[0m\n\u001B[0;32m   5155\u001B[0m \u001B[38;5;28;01melif\u001B[39;00m \u001B[38;5;28misinstance\u001B[39m(value, DataFrame):\n\u001B[0;32m   5156\u001B[0m     value \u001B[38;5;241m=\u001B[39m value\u001B[38;5;241m.\u001B[39miloc[:, \u001B[38;5;241m0\u001B[39m]\n\u001B[1;32m-> 5158\u001B[0m value, refs \u001B[38;5;241m=\u001B[39m \u001B[38;5;28mself\u001B[39m\u001B[38;5;241m.\u001B[39m_sanitize_column(value)\n\u001B[0;32m   5159\u001B[0m \u001B[38;5;28mself\u001B[39m\u001B[38;5;241m.\u001B[39m_mgr\u001B[38;5;241m.\u001B[39minsert(loc, column, value, refs\u001B[38;5;241m=\u001B[39mrefs)\n",
      "File \u001B[1;32mC:\\anaconda3\\envs\\torchgpu1\\Lib\\site-packages\\pandas\\core\\frame.py:5253\u001B[0m, in \u001B[0;36mDataFrame._sanitize_column\u001B[1;34m(self, value)\u001B[0m\n\u001B[0;32m   5250\u001B[0m     \u001B[38;5;28;01mreturn\u001B[39;00m _reindex_for_setitem(value, \u001B[38;5;28mself\u001B[39m\u001B[38;5;241m.\u001B[39mindex)\n\u001B[0;32m   5252\u001B[0m \u001B[38;5;28;01mif\u001B[39;00m is_list_like(value):\n\u001B[1;32m-> 5253\u001B[0m     com\u001B[38;5;241m.\u001B[39mrequire_length_match(value, \u001B[38;5;28mself\u001B[39m\u001B[38;5;241m.\u001B[39mindex)\n\u001B[0;32m   5254\u001B[0m arr \u001B[38;5;241m=\u001B[39m sanitize_array(value, \u001B[38;5;28mself\u001B[39m\u001B[38;5;241m.\u001B[39mindex, copy\u001B[38;5;241m=\u001B[39m\u001B[38;5;28;01mTrue\u001B[39;00m, allow_2d\u001B[38;5;241m=\u001B[39m\u001B[38;5;28;01mTrue\u001B[39;00m)\n\u001B[0;32m   5255\u001B[0m \u001B[38;5;28;01mif\u001B[39;00m (\n\u001B[0;32m   5256\u001B[0m     \u001B[38;5;28misinstance\u001B[39m(value, Index)\n\u001B[0;32m   5257\u001B[0m     \u001B[38;5;129;01mand\u001B[39;00m value\u001B[38;5;241m.\u001B[39mdtype \u001B[38;5;241m==\u001B[39m \u001B[38;5;124m\"\u001B[39m\u001B[38;5;124mobject\u001B[39m\u001B[38;5;124m\"\u001B[39m\n\u001B[1;32m   (...)\u001B[0m\n\u001B[0;32m   5260\u001B[0m     \u001B[38;5;66;03m# TODO: Remove kludge in sanitize_array for string mode when enforcing\u001B[39;00m\n\u001B[0;32m   5261\u001B[0m     \u001B[38;5;66;03m# this deprecation\u001B[39;00m\n",
      "File \u001B[1;32mC:\\anaconda3\\envs\\torchgpu1\\Lib\\site-packages\\pandas\\core\\common.py:571\u001B[0m, in \u001B[0;36mrequire_length_match\u001B[1;34m(data, index)\u001B[0m\n\u001B[0;32m    567\u001B[0m \u001B[38;5;250m\u001B[39m\u001B[38;5;124;03m\"\"\"\u001B[39;00m\n\u001B[0;32m    568\u001B[0m \u001B[38;5;124;03mCheck the length of data matches the length of the index.\u001B[39;00m\n\u001B[0;32m    569\u001B[0m \u001B[38;5;124;03m\"\"\"\u001B[39;00m\n\u001B[0;32m    570\u001B[0m \u001B[38;5;28;01mif\u001B[39;00m \u001B[38;5;28mlen\u001B[39m(data) \u001B[38;5;241m!=\u001B[39m \u001B[38;5;28mlen\u001B[39m(index):\n\u001B[1;32m--> 571\u001B[0m     \u001B[38;5;28;01mraise\u001B[39;00m \u001B[38;5;167;01mValueError\u001B[39;00m(\n\u001B[0;32m    572\u001B[0m         \u001B[38;5;124m\"\u001B[39m\u001B[38;5;124mLength of values \u001B[39m\u001B[38;5;124m\"\u001B[39m\n\u001B[0;32m    573\u001B[0m         \u001B[38;5;124mf\u001B[39m\u001B[38;5;124m\"\u001B[39m\u001B[38;5;124m(\u001B[39m\u001B[38;5;132;01m{\u001B[39;00m\u001B[38;5;28mlen\u001B[39m(data)\u001B[38;5;132;01m}\u001B[39;00m\u001B[38;5;124m) \u001B[39m\u001B[38;5;124m\"\u001B[39m\n\u001B[0;32m    574\u001B[0m         \u001B[38;5;124m\"\u001B[39m\u001B[38;5;124mdoes not match length of index \u001B[39m\u001B[38;5;124m\"\u001B[39m\n\u001B[0;32m    575\u001B[0m         \u001B[38;5;124mf\u001B[39m\u001B[38;5;124m\"\u001B[39m\u001B[38;5;124m(\u001B[39m\u001B[38;5;132;01m{\u001B[39;00m\u001B[38;5;28mlen\u001B[39m(index)\u001B[38;5;132;01m}\u001B[39;00m\u001B[38;5;124m)\u001B[39m\u001B[38;5;124m\"\u001B[39m\n\u001B[0;32m    576\u001B[0m     )\n",
      "\u001B[1;31mValueError\u001B[0m: Length of values (132) does not match length of index (129)"
     ]
    }
   ],
   "execution_count": 11
  },
  {
   "cell_type": "code",
   "outputs": [],
   "source": [
    "import matplotlib.pyplot as plt\n",
    "import seaborn as sns\n",
    "%matplotlib inline\n",
    "plt.style.use('default')\n",
    "# 设置全局字体\n",
    "plt.rcParams['font.sans-serif'] = ['Bahnschrift']\n",
    "plt.rcParams['axes.unicode_minus'] = False"
   ],
   "metadata": {
    "collapsed": false,
    "ExecuteTime": {
     "end_time": "2024-03-21T12:12:16.411233Z",
     "start_time": "2024-03-21T12:12:16.398804Z"
    }
   },
   "id": "2e8362c2e7994f3a",
   "execution_count": 11
  },
  {
   "cell_type": "code",
   "outputs": [
    {
     "data": {
      "text/plain": "<Figure size 700x800 with 1 Axes>",
      "image/png": "[encoded data removed]"
     },
     "metadata": {},
     "output_type": "display_data"
    }
   ],
   "source": [
    "# 画出箱线图，展示不同组学数据的MSE分布\n",
    "plt.figure(figsize=(7, 8))\n",
    "# scatter_props = dict(color='k', marker='o', alpha=0.5)\n",
    "# 绘制箱线图,并自定义样式\n",
    "box_props = dict(facecolor='#5DADE2', edgecolor='#2C3E50', linewidth=2,) # 设置箱体边框颜色和线宽\n",
    "whisker_props = dict(color='k', linestyle='-', linewidth=2,alpha=0.8) # 设置whisker线条颜色、样式和线宽\n",
    "cap_props = dict(color='k', linewidth=2,alpha=0.8)  # 设置上方横线的颜色和线宽\n",
    "median_props = dict(color='k', linewidth=2) # 设置中位数线条颜色和线宽\n",
    "ax = sns.boxplot(x='Dataset', y='Value', data=df_melt[df_melt['Metric']=='MSE'],linewidth=2, \n",
    "                 boxprops=box_props, whiskerprops=whisker_props, medianprops=median_props,\n",
    "                 showfliers=False, width=0.5,capprops=cap_props,)\n",
    "# Add in points to show each observation\n",
    "sns.stripplot(x='Dataset', y='Value', data=df_melt[df_melt['Metric']=='MSE'], jitter=True, color='k', alpha=0.7, size=6)\n",
    "\n",
    "# plt.title('MSE of Different Genomic Data', fontsize=25)\n",
    "plt.ylabel('MSE', fontsize=18)\n",
    "plt.xlabel('Genomic Data', fontsize=18)\n",
    "plt.xticks(fontsize=15)\n",
    "plt.yticks(fontsize=18)\n",
    "# 去除上和右边框\n",
    "# plt.gca().spines['top'].set_visible(False)\n",
    "# plt.gca().spines['right'].set_visible(False)\n",
    "# plt.gca().spines['bottom'].set_visible(False)\n",
    "# 去除下方的刻度\n",
    "# plt.gca().xaxis.set_ticks_position('none')\n",
    "# 加粗横纵坐标\n",
    "plt.gca().spines['bottom'].set_linewidth(2)\n",
    "plt.gca().spines['left'].set_linewidth(2)\n",
    "plt.gca().spines['top'].set_linewidth(2)\n",
    "plt.gca().spines['right'].set_linewidth(2)\n",
    "# 刻度加粗\n",
    "plt.gca().tick_params(width=2, length=6)\n",
    "\n",
    "plt.savefig('MSE of Different Genomic Data.png', dpi=300)\n",
    "plt.show()"
   ],
   "metadata": {
    "collapsed": false,
    "ExecuteTime": {
     "end_time": "2024-03-21T12:13:24.946920Z",
     "start_time": "2024-03-21T12:13:24.601273Z"
    }
   },
   "id": "e6ed44adadfc9fd5",
   "execution_count": 15
  },
  {
   "cell_type": "code",
   "outputs": [
    {
     "data": {
      "text/plain": "<Figure size 640x480 with 1 Axes>",
      "image/png": "[encoded data removed]"
     },
     "metadata": {},
     "output_type": "display_data"
    }
   ],
   "source": [
    "# 画出箱线图，展示不同组学数据的MSE分布\n",
    "# plt.figure(figsize=(10, 9))\n",
    "ax = sns.boxplot(x='Dataset', y='Value', data=df_melt[df_melt['Metric']=='MSE'],linewidth=2,meanline=True,showmeans=True,meanprops={'color':'r','linestyle':'--','linewidth':1.5},showfliers=False,color='black',medianprops={'color':'blue','linewidth':1.5},boxprops=dict(facecolor=\"#8B8989\"),orient=\"v\")\n",
    "# 设置legend，mean是红色虚线，median是黑色实线\n",
    "# 获取箱线图中的均值和中位数线\n",
    "mean_lines = [c for c in ax.lines if \"--\" in c.get_linestyle()]\n",
    "median_lines = [c for c in ax.lines if \"-\" in c.get_linestyle()]\n",
    "\n",
    "# 设置legend\n",
    "mean_line = mean_lines[0]\n",
    "median_line = median_lines[0]\n",
    "plt.legend([mean_line, median_line], ['Mean', 'Median'], loc='best', fontsize=12,edgecolor='black')\n",
    "# plt.title('MSE of Different Genomic Data', fontsize=25)\n",
    "plt.ylabel('MSE', fontsize=12)\n",
    "plt.xlabel('Genomic Data', fontsize=12)\n",
    "plt.xticks(fontsize=12)\n",
    "plt.yticks(fontsize=12)\n",
    "# 将图片四周的边框变粗\n",
    "for axis in ['top', 'bottom', 'left', 'right']:\n",
    "    ax.spines[axis].set_linewidth(1.5)\n",
    "plt.savefig('MSE of Different Genomic Data.png', dpi=300)\n",
    "plt.show()"
   ],
   "metadata": {
    "collapsed": false,
    "ExecuteTime": {
     "end_time": "2024-03-16T13:03:05.356164Z",
     "start_time": "2024-03-16T13:03:05.146600Z"
    }
   },
   "id": "59f7262cf3f3890",
   "execution_count": 20
  }
 ],
 "metadata": {
  "kernelspec": {
   "display_name": "Python 3",
   "language": "python",
   "name": "python3"
  },
  "language_info": {
   "codemirror_mode": {
    "name": "ipython",
    "version": 2
   },
   "file_extension": ".py",
   "mimetype": "text/x-python",
   "name": "python",
   "nbconvert_exporter": "python",
   "pygments_lexer": "ipython2",
   "version": "2.7.6"
  }
 },
 "nbformat": 4,
 "nbformat_minor": 5
}
