{
 "cells": [
  {
   "cell_type": "code",
   "execution_count": 1,
   "id": "initial_id",
   "metadata": {
    "collapsed": true,
    "ExecuteTime": {
     "end_time": "2024-03-03T07:14:43.368456Z",
     "start_time": "2024-03-03T07:14:43.365407Z"
    }
   },
   "outputs": [],
   "source": [
    "import pandas as pd\n",
    "import numpy as np"
   ]
  },
  {
   "cell_type": "code",
   "outputs": [
    {
     "data": {
      "text/plain": "    Fold     MSE  Pearson      R2\n0      1  0.9338   0.9391  0.8757\n1      2  0.9981   0.9330  0.8644\n2      3  0.9521   0.9388  0.8742\n3      4  1.0436   0.9322  0.8617\n4      5  0.9310   0.9392  0.8759\n5      6  0.9628   0.9366  0.8711\n6      7  0.8963   0.9408  0.8779\n7      8  1.1075   0.9280  0.8513\n8      9  1.0007   0.9345  0.8675\n9     10  0.9800   0.9356  0.8701\n10    11  0.9975   0.9349  0.8659",
      "text/html": "<div>\n<style scoped>\n    .dataframe tbody tr th:only-of-type {\n        vertical-align: middle;\n    }\n\n    .dataframe tbody tr th {\n        vertical-align: top;\n    }\n\n    .dataframe thead th {\n        text-align: right;\n    }\n</style>\n<table border=\"1\" class=\"dataframe\">\n  <thead>\n    <tr style=\"text-align: right;\">\n      <th></th>\n      <th>Fold</th>\n      <th>MSE</th>\n      <th>Pearson</th>\n      <th>R2</th>\n    </tr>\n  </thead>\n  <tbody>\n    <tr>\n      <th>0</th>\n      <td>1</td>\n      <td>0.9338</td>\n      <td>0.9391</td>\n      <td>0.8757</td>\n    </tr>\n    <tr>\n      <th>1</th>\n      <td>2</td>\n      <td>0.9981</td>\n      <td>0.9330</td>\n      <td>0.8644</td>\n    </tr>\n    <tr>\n      <th>2</th>\n      <td>3</td>\n      <td>0.9521</td>\n      <td>0.9388</td>\n      <td>0.8742</td>\n    </tr>\n    <tr>\n      <th>3</th>\n      <td>4</td>\n      <td>1.0436</td>\n      <td>0.9322</td>\n      <td>0.8617</td>\n    </tr>\n    <tr>\n      <th>4</th>\n      <td>5</td>\n      <td>0.9310</td>\n      <td>0.9392</td>\n      <td>0.8759</td>\n    </tr>\n    <tr>\n      <th>5</th>\n      <td>6</td>\n      <td>0.9628</td>\n      <td>0.9366</td>\n      <td>0.8711</td>\n    </tr>\n    <tr>\n      <th>6</th>\n      <td>7</td>\n      <td>0.8963</td>\n      <td>0.9408</td>\n      <td>0.8779</td>\n    </tr>\n    <tr>\n      <th>7</th>\n      <td>8</td>\n      <td>1.1075</td>\n      <td>0.9280</td>\n      <td>0.8513</td>\n    </tr>\n    <tr>\n      <th>8</th>\n      <td>9</td>\n      <td>1.0007</td>\n      <td>0.9345</td>\n      <td>0.8675</td>\n    </tr>\n    <tr>\n      <th>9</th>\n      <td>10</td>\n      <td>0.9800</td>\n      <td>0.9356</td>\n      <td>0.8701</td>\n    </tr>\n    <tr>\n      <th>10</th>\n      <td>11</td>\n      <td>0.9975</td>\n      <td>0.9349</td>\n      <td>0.8659</td>\n    </tr>\n  </tbody>\n</table>\n</div>"
     },
     "execution_count": 8,
     "metadata": {},
     "output_type": "execute_result"
    }
   ],
   "source": [
    "df_kfold = pd.read_excel('result/TransMCA_GEP_11Fold.xlsx')\n",
    "# 将MSE、Pearson和R2列的数据转换为数值型\n",
    "df_kfold['MSE'] = pd.to_numeric(df_kfold['MSE'], errors='coerce')\n",
    "df_kfold['Pearson'] = pd.to_numeric(df_kfold['Pearson'], errors='coerce')\n",
    "df_kfold['R2'] = pd.to_numeric(df_kfold['R2'], errors='coerce')\n",
    "df_kfold.head(11)"
   ],
   "metadata": {
    "collapsed": false,
    "ExecuteTime": {
     "end_time": "2024-03-03T07:52:19.259349Z",
     "start_time": "2024-03-03T07:52:19.242606Z"
    }
   },
   "id": "ab1d39e97be3deaf",
   "execution_count": 8
  },
  {
   "cell_type": "code",
   "outputs": [
    {
     "name": "stdout",
     "output_type": "stream",
     "text": [
      "0.9821272727272728 ± 0.05824874403640117\n"
     ]
    }
   ],
   "source": [
    "# 计算df_kfold中MSE的均值和标准差\n",
    "MSE_mean = df_kfold['MSE'].mean()\n",
    "MSE_std = df_kfold['MSE'].std()\n",
    "# 以平均值±1.96×标准差 展示 ,保留4位小数\n",
    "print(MSE_mean,'±',MSE_std)"
   ],
   "metadata": {
    "collapsed": false,
    "ExecuteTime": {
     "end_time": "2024-03-03T08:17:54.319452Z",
     "start_time": "2024-03-03T08:17:54.315327Z"
    }
   },
   "id": "d46a16055400223b",
   "execution_count": 17
  },
  {
   "cell_type": "code",
   "outputs": [
    {
     "name": "stdout",
     "output_type": "stream",
     "text": [
      "0.9357000000000002 ± 0.003757126561615924\n"
     ]
    }
   ],
   "source": [
    "# 计算df_kfold中Pearson的均值和标准差\n",
    "Pearson_mean = df_kfold['Pearson'].mean()\n",
    "Pearson_std = df_kfold['Pearson'].std()\n",
    "# 以平均值±1.96×标准差 展示\n",
    "print(Pearson_mean,'±',Pearson_std)"
   ],
   "metadata": {
    "collapsed": false,
    "ExecuteTime": {
     "end_time": "2024-03-03T08:17:56.743422Z",
     "start_time": "2024-03-03T08:17:56.740393Z"
    }
   },
   "id": "831b3a98d4ab676e",
   "execution_count": 18
  },
  {
   "cell_type": "code",
   "outputs": [
    {
     "name": "stdout",
     "output_type": "stream",
     "text": [
      "0.8687 ± 0.007765178684357511\n"
     ]
    }
   ],
   "source": [
    "# 计算df_kfold中R2的均值和标准差\n",
    "R2_mean = df_kfold['R2'].mean()\n",
    "R2_std = df_kfold['R2'].std()\n",
    "# 以平均值±1.96×标准差 展示\n",
    "print(R2_mean,'±',R2_std)"
   ],
   "metadata": {
    "collapsed": false,
    "ExecuteTime": {
     "end_time": "2024-03-03T08:17:59.113486Z",
     "start_time": "2024-03-03T08:17:59.110376Z"
    }
   },
   "id": "7193d31f67e80d1a",
   "execution_count": 19
  }
 ],
 "metadata": {
  "kernelspec": {
   "display_name": "Python 3",
   "language": "python",
   "name": "python3"
  },
  "language_info": {
   "codemirror_mode": {
    "name": "ipython",
    "version": 2
   },
   "file_extension": ".py",
   "mimetype": "text/x-python",
   "name": "python",
   "nbconvert_exporter": "python",
   "pygments_lexer": "ipython2",
   "version": "2.7.6"
  }
 },
 "nbformat": 4,
 "nbformat_minor": 5
}
