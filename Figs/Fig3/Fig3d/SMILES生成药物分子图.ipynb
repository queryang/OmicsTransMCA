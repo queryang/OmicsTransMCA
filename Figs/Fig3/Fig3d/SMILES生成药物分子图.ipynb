{
 "cells": [
  {
   "cell_type": "code",
   "execution_count": 6,
   "id": "ab14ed562db3a3d0",
   "metadata": {
    "collapsed": false,
    "ExecuteTime": {
     "end_time": "2024-03-04T12:14:56.989053Z",
     "start_time": "2024-03-04T12:14:56.985416Z"
    }
   },
   "outputs": [],
   "source": [
    "from rdkit import Chem\n",
    "from rdkit.Chem import Draw"
   ]
  },
  {
   "cell_type": "code",
   "outputs": [
    {
     "name": "stdout",
     "output_type": "stream",
     "text": [
      "分子结构图已生成!\n"
     ]
    }
   ],
   "source": [
    "# 示例数据\n",
    "smiles_list = ['CCC1(C2=C(COC1=O)C(=O)N3CC4=CC5=CC=CC=C5N=C4C3=C2)O', 'O=C(O)c1ccccc1O'] # Canonical SMILES表达式\n",
    "weights = [0.8, 0.2] # 对应的权重\n",
    "\n",
    "# 设置原子颜色映射规则(权重在0-1之间)\n",
    "def colorfunc(weight):\n",
    "    r = max(0, min(1, weight*2)) \n",
    "    g = max(0, min(1, 2-weight*2))\n",
    "    b = 0\n",
    "    return (r,g,b)\n",
    "\n",
    "# 遍历每个SMILES表达式\n",
    "for i, smiles in enumerate(smiles_list):\n",
    "    # 解析Canonical SMILES\n",
    "    mol = Chem.MolFromSmiles(smiles)\n",
    "    \n",
    "    # 遍历所有原子设置颜色\n",
    "    for atom in mol.GetAtoms():\n",
    "        weight = weights[i] # 获取该分子对应的权重\n",
    "        color = colorfunc(weight)\n",
    "        atom.SetProp('mol_color', f'{color[0]:.2f},{color[1]:.2f},{color[2]:.2f}')\n",
    "    \n",
    "    # 生成图像\n",
    "    mc = Chem.Mol(mol.ToBinary())\n",
    "    Draw.MolToFile(mc, f'molecule_{i}.png', size=(300,300))\n",
    "    \n",
    "print('分子结构图已生成!')"
   ],
   "metadata": {
    "collapsed": true,
    "ExecuteTime": {
     "end_time": "2024-03-04T11:54:18.740053Z",
     "start_time": "2024-03-04T11:54:18.724540Z"
    }
   },
   "id": "initial_id",
   "execution_count": 4
  },
  {
   "cell_type": "code",
   "outputs": [
    {
     "name": "stdout",
     "output_type": "stream",
     "text": [
      "分子结构图已生成!\n"
     ]
    }
   ],
   "source": [
    "# 输入数据\n",
    "\n",
    "smiles = 'N.N.Cl[Pt]Cl'\n",
    "weights = [0.011451152333333334, 0.010330196, 0.023718579333333333, 0.015478748333333334, 0.021998787333333335, 0.022187176, 0.012263920999999999]\n",
    "\n",
    "# 解析Canonical SMILES\n",
    "mol = Chem.MolFromSmiles(smiles)\n",
    "\n",
    "# 设置原子颜色映射规则(权重在0-1之间,只使用黑色和红色)\n",
    "def colorfunc(weight):\n",
    "    if weight < 0.015:\n",
    "        return (0, 0, 0) # 黑色\n",
    "    else:\n",
    "        return (1, 0, 0) # 红色\n",
    "\n",
    "# 遍历所有原子设置颜色\n",
    "for atom, weight in zip(mol.GetAtoms(), weights):\n",
    "    color = colorfunc(weight)\n",
    "    atom.SetProp('mol_color', f'{color[0]},{color[1]},{color[2]}')\n",
    "\n",
    "# 生成图像\n",
    "mc = Chem.Mol(mol.ToBinary())\n",
    "Draw.MolToFile(mc, 'molecule.png', size=(300,300))\n",
    "\n",
    "print('分子结构图已生成!')"
   ],
   "metadata": {
    "collapsed": false,
    "ExecuteTime": {
     "end_time": "2024-03-04T12:15:22.051480Z",
     "start_time": "2024-03-04T12:15:22.040746Z"
    }
   },
   "id": "741a7a99d85fb44f",
   "execution_count": 7
  }
 ],
 "metadata": {
  "kernelspec": {
   "display_name": "Python 3",
   "language": "python",
   "name": "python3"
  },
  "language_info": {
   "codemirror_mode": {
    "name": "ipython",
    "version": 2
   },
   "file_extension": ".py",
   "mimetype": "text/x-python",
   "name": "python",
   "nbconvert_exporter": "python",
   "pygments_lexer": "ipython2",
   "version": "2.7.6"
  }
 },
 "nbformat": 4,
 "nbformat_minor": 5
}
