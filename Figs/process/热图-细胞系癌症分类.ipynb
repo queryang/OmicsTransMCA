{
 "cells": [
  {
   "cell_type": "code",
   "execution_count": 1,
   "id": "initial_id",
   "metadata": {
    "collapsed": true,
    "jupyter": {
     "outputs_hidden": true
    },
    "ExecuteTime": {
     "end_time": "2024-01-21T06:11:25.197185700Z",
     "start_time": "2024-01-21T06:11:25.182450200Z"
    }
   },
   "outputs": [],
   "source": [
    "import pandas as pd"
   ]
  },
  {
   "cell_type": "code",
   "execution_count": 2,
   "id": "b1292c2809e594ce",
   "metadata": {
    "collapsed": false,
    "ExecuteTime": {
     "end_time": "2024-01-21T06:11:25.213610800Z",
     "start_time": "2024-01-21T06:11:25.198276400Z"
    }
   },
   "outputs": [],
   "source": [
    "import re\n",
    "\n",
    "def clean_cell_line_name(name):\n",
    "    cleaned_name = re.sub(r'[^a-zA-Z0-9]', '', str(name))  # 移除非字母数字字符\n",
    "    uppercased_name = cleaned_name.upper()  # 将所有字符转换为大写\n",
    "    return uppercased_name"
   ]
  },
  {
   "cell_type": "code",
   "execution_count": 3,
   "id": "de4f3dbd9cafe05d",
   "metadata": {
    "collapsed": false,
    "ExecuteTime": {
     "end_time": "2024-01-21T06:11:25.290304600Z",
     "start_time": "2024-01-21T06:11:25.213610800Z"
    }
   },
   "outputs": [
    {
     "name": "stdout",
     "output_type": "stream",
     "text": [
      "(1864, 30)\n"
     ]
    },
    {
     "data": {
      "text/plain": "      ModelID  PatientID CellLineName StrippedCellLineName   Age  SourceType  \\\n0  ACH-000001  PT-gj46wT  NIH:OVCAR-3            NIHOVCAR3  60.0  Commercial   \n1  ACH-000002  PT-5qa3uk        HL-60                 HL60  36.0  Commercial   \n2  ACH-000003  PT-puKIyc        CACO2                CACO2  72.0  Commercial   \n3  ACH-000004  PT-q4K2cp          HEL                  HEL  30.0  Commercial   \n4  ACH-000005  PT-q4K2cp   HEL 92.1.7              HEL9217  30.0  Commercial   \n\n  SangerModelID       RRID DepmapModelType AgeCategory  ... PublicComments  \\\n0     SIDM00105  CVCL_0465           HGSOC       Adult  ...            NaN   \n1     SIDM00829  CVCL_0002             AML       Adult  ...            NaN   \n2     SIDM00891  CVCL_0025            COAD       Adult  ...            NaN   \n3     SIDM00594  CVCL_0001             AML       Adult  ...            NaN   \n4     SIDM00593  CVCL_2481             AML       Adult  ...            NaN   \n\n  WTSIMasterCellID EngineeredModel TreatmentStatus OnboardedMedia  \\\n0           2201.0             NaN             NaN     MF-001-041   \n1             55.0             NaN             NaN     MF-005-001   \n2              NaN             NaN         Unknown     MF-015-009   \n3            783.0             NaN  Post-treatment     MF-001-001   \n4              NaN             NaN             NaN     MF-001-001   \n\n  PlateCoating OncotreeCode                   OncotreeSubtype  \\\n0          NaN        HGSOC  High-Grade Serous Ovarian Cancer   \n1          NaN          AML            Acute Myeloid Leukemia   \n2          NaN         COAD              Colon Adenocarcinoma   \n3          NaN          AML            Acute Myeloid Leukemia   \n4          NaN          AML            Acute Myeloid Leukemia   \n\n      OncotreePrimaryDisease       OncotreeLineage  \n0   Ovarian Epithelial Tumor  Ovary/Fallopian Tube  \n1     Acute Myeloid Leukemia               Myeloid  \n2  Colorectal Adenocarcinoma                 Bowel  \n3     Acute Myeloid Leukemia               Myeloid  \n4     Acute Myeloid Leukemia               Myeloid  \n\n[5 rows x 30 columns]",
      "text/html": "<div>\n<style scoped>\n    .dataframe tbody tr th:only-of-type {\n        vertical-align: middle;\n    }\n\n    .dataframe tbody tr th {\n        vertical-align: top;\n    }\n\n    .dataframe thead th {\n        text-align: right;\n    }\n</style>\n<table border=\"1\" class=\"dataframe\">\n  <thead>\n    <tr style=\"text-align: right;\">\n      <th></th>\n      <th>ModelID</th>\n      <th>PatientID</th>\n      <th>CellLineName</th>\n      <th>StrippedCellLineName</th>\n      <th>Age</th>\n      <th>SourceType</th>\n      <th>SangerModelID</th>\n      <th>RRID</th>\n      <th>DepmapModelType</th>\n      <th>AgeCategory</th>\n      <th>...</th>\n      <th>PublicComments</th>\n      <th>WTSIMasterCellID</th>\n      <th>EngineeredModel</th>\n      <th>TreatmentStatus</th>\n      <th>OnboardedMedia</th>\n      <th>PlateCoating</th>\n      <th>OncotreeCode</th>\n      <th>OncotreeSubtype</th>\n      <th>OncotreePrimaryDisease</th>\n      <th>OncotreeLineage</th>\n    </tr>\n  </thead>\n  <tbody>\n    <tr>\n      <th>0</th>\n      <td>ACH-000001</td>\n      <td>PT-gj46wT</td>\n      <td>NIH:OVCAR-3</td>\n      <td>NIHOVCAR3</td>\n      <td>60.0</td>\n      <td>Commercial</td>\n      <td>SIDM00105</td>\n      <td>CVCL_0465</td>\n      <td>HGSOC</td>\n      <td>Adult</td>\n      <td>...</td>\n      <td>NaN</td>\n      <td>2201.0</td>\n      <td>NaN</td>\n      <td>NaN</td>\n      <td>MF-001-041</td>\n      <td>NaN</td>\n      <td>HGSOC</td>\n      <td>High-Grade Serous Ovarian Cancer</td>\n      <td>Ovarian Epithelial Tumor</td>\n      <td>Ovary/Fallopian Tube</td>\n    </tr>\n    <tr>\n      <th>1</th>\n      <td>ACH-000002</td>\n      <td>PT-5qa3uk</td>\n      <td>HL-60</td>\n      <td>HL60</td>\n      <td>36.0</td>\n      <td>Commercial</td>\n      <td>SIDM00829</td>\n      <td>CVCL_0002</td>\n      <td>AML</td>\n      <td>Adult</td>\n      <td>...</td>\n      <td>NaN</td>\n      <td>55.0</td>\n      <td>NaN</td>\n      <td>NaN</td>\n      <td>MF-005-001</td>\n      <td>NaN</td>\n      <td>AML</td>\n      <td>Acute Myeloid Leukemia</td>\n      <td>Acute Myeloid Leukemia</td>\n      <td>Myeloid</td>\n    </tr>\n    <tr>\n      <th>2</th>\n      <td>ACH-000003</td>\n      <td>PT-puKIyc</td>\n      <td>CACO2</td>\n      <td>CACO2</td>\n      <td>72.0</td>\n      <td>Commercial</td>\n      <td>SIDM00891</td>\n      <td>CVCL_0025</td>\n      <td>COAD</td>\n      <td>Adult</td>\n      <td>...</td>\n      <td>NaN</td>\n      <td>NaN</td>\n      <td>NaN</td>\n      <td>Unknown</td>\n      <td>MF-015-009</td>\n      <td>NaN</td>\n      <td>COAD</td>\n      <td>Colon Adenocarcinoma</td>\n      <td>Colorectal Adenocarcinoma</td>\n      <td>Bowel</td>\n    </tr>\n    <tr>\n      <th>3</th>\n      <td>ACH-000004</td>\n      <td>PT-q4K2cp</td>\n      <td>HEL</td>\n      <td>HEL</td>\n      <td>30.0</td>\n      <td>Commercial</td>\n      <td>SIDM00594</td>\n      <td>CVCL_0001</td>\n      <td>AML</td>\n      <td>Adult</td>\n      <td>...</td>\n      <td>NaN</td>\n      <td>783.0</td>\n      <td>NaN</td>\n      <td>Post-treatment</td>\n      <td>MF-001-001</td>\n      <td>NaN</td>\n      <td>AML</td>\n      <td>Acute Myeloid Leukemia</td>\n      <td>Acute Myeloid Leukemia</td>\n      <td>Myeloid</td>\n    </tr>\n    <tr>\n      <th>4</th>\n      <td>ACH-000005</td>\n      <td>PT-q4K2cp</td>\n      <td>HEL 92.1.7</td>\n      <td>HEL9217</td>\n      <td>30.0</td>\n      <td>Commercial</td>\n      <td>SIDM00593</td>\n      <td>CVCL_2481</td>\n      <td>AML</td>\n      <td>Adult</td>\n      <td>...</td>\n      <td>NaN</td>\n      <td>NaN</td>\n      <td>NaN</td>\n      <td>NaN</td>\n      <td>MF-001-001</td>\n      <td>NaN</td>\n      <td>AML</td>\n      <td>Acute Myeloid Leukemia</td>\n      <td>Acute Myeloid Leukemia</td>\n      <td>Myeloid</td>\n    </tr>\n  </tbody>\n</table>\n<p>5 rows × 30 columns</p>\n</div>"
     },
     "execution_count": 3,
     "metadata": {},
     "output_type": "execute_result"
    }
   ],
   "source": [
    "# 读取CCLE model文件\n",
    "df_model = pd.read_csv('../data/Model.csv')\n",
    "# 将CellLineName这一列所有单元，进行规范化处理\n",
    "df_model['StrippedCellLineName'] = df_model['StrippedCellLineName'].apply(clean_cell_line_name)\n",
    "# 对比一下CellLineName列和StrippedCellLineName列，是不是完全相同，把不同的找出来，打印出来\n",
    "# flg = df_model[df_model['CellLineName']!=df_model['StrippedCellLineName']]\n",
    "# print(flg)\n",
    "print(df_model.shape)\n",
    "df_model.head()"
   ]
  },
  {
   "cell_type": "code",
   "execution_count": 4,
   "id": "c8e66b8776a3e600",
   "metadata": {
    "collapsed": false,
    "ExecuteTime": {
     "end_time": "2024-01-21T06:11:25.316219600Z",
     "start_time": "2024-01-21T06:11:25.290304600Z"
    }
   },
   "outputs": [
    {
     "data": {
      "text/plain": "  StrippedCellLineName     ModelID OncotreeCode\n0            NIHOVCAR3  ACH-000001        HGSOC\n1                 HL60  ACH-000002          AML\n2                CACO2  ACH-000003         COAD\n3                  HEL  ACH-000004          AML\n4              HEL9217  ACH-000005          AML",
      "text/html": "<div>\n<style scoped>\n    .dataframe tbody tr th:only-of-type {\n        vertical-align: middle;\n    }\n\n    .dataframe tbody tr th {\n        vertical-align: top;\n    }\n\n    .dataframe thead th {\n        text-align: right;\n    }\n</style>\n<table border=\"1\" class=\"dataframe\">\n  <thead>\n    <tr style=\"text-align: right;\">\n      <th></th>\n      <th>StrippedCellLineName</th>\n      <th>ModelID</th>\n      <th>OncotreeCode</th>\n    </tr>\n  </thead>\n  <tbody>\n    <tr>\n      <th>0</th>\n      <td>NIHOVCAR3</td>\n      <td>ACH-000001</td>\n      <td>HGSOC</td>\n    </tr>\n    <tr>\n      <th>1</th>\n      <td>HL60</td>\n      <td>ACH-000002</td>\n      <td>AML</td>\n    </tr>\n    <tr>\n      <th>2</th>\n      <td>CACO2</td>\n      <td>ACH-000003</td>\n      <td>COAD</td>\n    </tr>\n    <tr>\n      <th>3</th>\n      <td>HEL</td>\n      <td>ACH-000004</td>\n      <td>AML</td>\n    </tr>\n    <tr>\n      <th>4</th>\n      <td>HEL9217</td>\n      <td>ACH-000005</td>\n      <td>AML</td>\n    </tr>\n  </tbody>\n</table>\n</div>"
     },
     "execution_count": 4,
     "metadata": {},
     "output_type": "execute_result"
    }
   ],
   "source": [
    "# 取StrippedCellLineName列、ModelID列和OncotreeCode列\n",
    "df_model = df_model[['StrippedCellLineName', 'ModelID', 'OncotreeCode']]\n",
    "df_model.head()"
   ]
  },
  {
   "cell_type": "code",
   "execution_count": 5,
   "id": "693c7be7c08adae5",
   "metadata": {
    "collapsed": false,
    "ExecuteTime": {
     "end_time": "2024-01-21T06:11:25.404762200Z",
     "start_time": "2024-01-21T06:11:25.306465100Z"
    }
   },
   "outputs": [
    {
     "data": {
      "text/plain": "   Unnamed: 0            drug cell_line      IC50  prediction\n0           0  5-Fluorouracil      PC14  4.138791    5.553128\n1           1   5-azacytidine      PC14  2.782368    4.122593\n2           2           A-366      PC14  4.651003    5.387908\n3           3          ABT737      PC14  2.341568    2.974360\n4           4        AGI-5198      PC14  5.232588    5.088980",
      "text/html": "<div>\n<style scoped>\n    .dataframe tbody tr th:only-of-type {\n        vertical-align: middle;\n    }\n\n    .dataframe tbody tr th {\n        vertical-align: top;\n    }\n\n    .dataframe thead th {\n        text-align: right;\n    }\n</style>\n<table border=\"1\" class=\"dataframe\">\n  <thead>\n    <tr style=\"text-align: right;\">\n      <th></th>\n      <th>Unnamed: 0</th>\n      <th>drug</th>\n      <th>cell_line</th>\n      <th>IC50</th>\n      <th>prediction</th>\n    </tr>\n  </thead>\n  <tbody>\n    <tr>\n      <th>0</th>\n      <td>0</td>\n      <td>5-Fluorouracil</td>\n      <td>PC14</td>\n      <td>4.138791</td>\n      <td>5.553128</td>\n    </tr>\n    <tr>\n      <th>1</th>\n      <td>1</td>\n      <td>5-azacytidine</td>\n      <td>PC14</td>\n      <td>2.782368</td>\n      <td>4.122593</td>\n    </tr>\n    <tr>\n      <th>2</th>\n      <td>2</td>\n      <td>A-366</td>\n      <td>PC14</td>\n      <td>4.651003</td>\n      <td>5.387908</td>\n    </tr>\n    <tr>\n      <th>3</th>\n      <td>3</td>\n      <td>ABT737</td>\n      <td>PC14</td>\n      <td>2.341568</td>\n      <td>2.974360</td>\n    </tr>\n    <tr>\n      <th>4</th>\n      <td>4</td>\n      <td>AGI-5198</td>\n      <td>PC14</td>\n      <td>5.232588</td>\n      <td>5.088980</td>\n    </tr>\n  </tbody>\n</table>\n</div>"
     },
     "execution_count": 5,
     "metadata": {},
     "output_type": "execute_result"
    }
   ],
   "source": [
    "df_cell_blind = pd.read_csv('../data/drug_sensitivity_CellBlind_test&prediction.csv')\n",
    "df_cell_blind.head()"
   ]
  },
  {
   "cell_type": "code",
   "execution_count": 6,
   "id": "1f546ef0db3acf40",
   "metadata": {
    "collapsed": false,
    "ExecuteTime": {
     "end_time": "2024-01-21T06:11:25.407077600Z",
     "start_time": "2024-01-21T06:11:25.338062800Z"
    }
   },
   "outputs": [
    {
     "data": {
      "text/plain": "   Unnamed: 0            drug cell_line      IC50  prediction  \\\n0           0  5-Fluorouracil      PC14  4.138791    5.553128   \n1           1   5-azacytidine      PC14  2.782368    4.122593   \n2           2           A-366      PC14  4.651003    5.387908   \n3           3          ABT737      PC14  2.341568    2.974360   \n4           4        AGI-5198      PC14  5.232588    5.088980   \n\n  StrippedCellLineName     ModelID OncotreeCode  \n0                 PC14  ACH-000030         LUAD  \n1                 PC14  ACH-000030         LUAD  \n2                 PC14  ACH-000030         LUAD  \n3                 PC14  ACH-000030         LUAD  \n4                 PC14  ACH-000030         LUAD  ",
      "text/html": "<div>\n<style scoped>\n    .dataframe tbody tr th:only-of-type {\n        vertical-align: middle;\n    }\n\n    .dataframe tbody tr th {\n        vertical-align: top;\n    }\n\n    .dataframe thead th {\n        text-align: right;\n    }\n</style>\n<table border=\"1\" class=\"dataframe\">\n  <thead>\n    <tr style=\"text-align: right;\">\n      <th></th>\n      <th>Unnamed: 0</th>\n      <th>drug</th>\n      <th>cell_line</th>\n      <th>IC50</th>\n      <th>prediction</th>\n      <th>StrippedCellLineName</th>\n      <th>ModelID</th>\n      <th>OncotreeCode</th>\n    </tr>\n  </thead>\n  <tbody>\n    <tr>\n      <th>0</th>\n      <td>0</td>\n      <td>5-Fluorouracil</td>\n      <td>PC14</td>\n      <td>4.138791</td>\n      <td>5.553128</td>\n      <td>PC14</td>\n      <td>ACH-000030</td>\n      <td>LUAD</td>\n    </tr>\n    <tr>\n      <th>1</th>\n      <td>1</td>\n      <td>5-azacytidine</td>\n      <td>PC14</td>\n      <td>2.782368</td>\n      <td>4.122593</td>\n      <td>PC14</td>\n      <td>ACH-000030</td>\n      <td>LUAD</td>\n    </tr>\n    <tr>\n      <th>2</th>\n      <td>2</td>\n      <td>A-366</td>\n      <td>PC14</td>\n      <td>4.651003</td>\n      <td>5.387908</td>\n      <td>PC14</td>\n      <td>ACH-000030</td>\n      <td>LUAD</td>\n    </tr>\n    <tr>\n      <th>3</th>\n      <td>3</td>\n      <td>ABT737</td>\n      <td>PC14</td>\n      <td>2.341568</td>\n      <td>2.974360</td>\n      <td>PC14</td>\n      <td>ACH-000030</td>\n      <td>LUAD</td>\n    </tr>\n    <tr>\n      <th>4</th>\n      <td>4</td>\n      <td>AGI-5198</td>\n      <td>PC14</td>\n      <td>5.232588</td>\n      <td>5.088980</td>\n      <td>PC14</td>\n      <td>ACH-000030</td>\n      <td>LUAD</td>\n    </tr>\n  </tbody>\n</table>\n</div>"
     },
     "execution_count": 6,
     "metadata": {},
     "output_type": "execute_result"
    }
   ],
   "source": [
    "# 将df_model与df_cell_blind进行合并，合并的依据是df_model的StrippedCellLineName列和df_cell_blind的cell_line列\n",
    "df_merged = pd.merge(df_cell_blind, df_model, left_on='cell_line', right_on='StrippedCellLineName')\n",
    "df_merged.head()"
   ]
  },
  {
   "cell_type": "code",
   "execution_count": 7,
   "id": "feb9063da032f57e",
   "metadata": {
    "collapsed": false,
    "ExecuteTime": {
     "end_time": "2024-01-21T06:13:11.355741200Z",
     "start_time": "2024-01-21T06:13:11.338916200Z"
    }
   },
   "outputs": [
    {
     "name": "stdout",
     "output_type": "stream",
     "text": [
      "OncotreeCode\n",
      "LUAD        1432\n",
      "GB           653\n",
      "OCSC         653\n",
      "LUSC         616\n",
      "IDC          440\n",
      "COAD         438\n",
      "UCEC         435\n",
      "ESCC         434\n",
      "AML          433\n",
      "DLBCLNOS     431\n",
      "PCM          431\n",
      "SCLC         386\n",
      "HGSOC        363\n",
      "CCRCC        332\n",
      "NBL          306\n",
      "BLL          267\n",
      "OS           232\n",
      "BRCNOS       221\n",
      "BRCA         219\n",
      "IHCH         218\n",
      "SOC          218\n",
      "BLCA         217\n",
      "CML          217\n",
      "EOV          217\n",
      "STAD         217\n",
      "CESC         217\n",
      "RCC          217\n",
      "ES           216\n",
      "CCOV         216\n",
      "PAAD         216\n",
      "ALCLALKP     216\n",
      "GCB          194\n",
      "RMS          180\n",
      "PRSCC        179\n",
      "PLBMESO      153\n",
      "THME         153\n",
      "MEL          153\n",
      "ILC          144\n",
      "Name: count, dtype: int64\n"
     ]
    }
   ],
   "source": [
    "# 统计不同OncotreeCode的个数\n",
    "Cancer_counts = df_merged['OncotreeCode'].value_counts()\n",
    "print(Cancer_counts)"
   ]
  },
  {
   "cell_type": "code",
   "execution_count": 147,
   "id": "39b9994c46cea85b",
   "metadata": {
    "collapsed": false,
    "ExecuteTime": {
     "end_time": "2024-01-21T06:52:21.479494200Z",
     "start_time": "2024-01-21T06:52:21.435116300Z"
    }
   },
   "outputs": [
    {
     "name": "stdout",
     "output_type": "stream",
     "text": [
      "(3607, 8)\n"
     ]
    },
    {
     "data": {
      "text/plain": "   Unnamed: 0            drug cell_line      IC50  prediction  \\\n0           0  5-Fluorouracil      PC14  4.138791    5.553128   \n1           1   5-azacytidine      PC14  2.782368    4.122593   \n2           2           A-366      PC14  4.651003    5.387908   \n3           3          ABT737      PC14  2.341568    2.974360   \n4           4        AGI-5198      PC14  5.232588    5.088980   \n\n  StrippedCellLineName     ModelID OncotreeCode  \n0                 PC14  ACH-000030         LUAD  \n1                 PC14  ACH-000030         LUAD  \n2                 PC14  ACH-000030         LUAD  \n3                 PC14  ACH-000030         LUAD  \n4                 PC14  ACH-000030         LUAD  ",
      "text/html": "<div>\n<style scoped>\n    .dataframe tbody tr th:only-of-type {\n        vertical-align: middle;\n    }\n\n    .dataframe tbody tr th {\n        vertical-align: top;\n    }\n\n    .dataframe thead th {\n        text-align: right;\n    }\n</style>\n<table border=\"1\" class=\"dataframe\">\n  <thead>\n    <tr style=\"text-align: right;\">\n      <th></th>\n      <th>Unnamed: 0</th>\n      <th>drug</th>\n      <th>cell_line</th>\n      <th>IC50</th>\n      <th>prediction</th>\n      <th>StrippedCellLineName</th>\n      <th>ModelID</th>\n      <th>OncotreeCode</th>\n    </tr>\n  </thead>\n  <tbody>\n    <tr>\n      <th>0</th>\n      <td>0</td>\n      <td>5-Fluorouracil</td>\n      <td>PC14</td>\n      <td>4.138791</td>\n      <td>5.553128</td>\n      <td>PC14</td>\n      <td>ACH-000030</td>\n      <td>LUAD</td>\n    </tr>\n    <tr>\n      <th>1</th>\n      <td>1</td>\n      <td>5-azacytidine</td>\n      <td>PC14</td>\n      <td>2.782368</td>\n      <td>4.122593</td>\n      <td>PC14</td>\n      <td>ACH-000030</td>\n      <td>LUAD</td>\n    </tr>\n    <tr>\n      <th>2</th>\n      <td>2</td>\n      <td>A-366</td>\n      <td>PC14</td>\n      <td>4.651003</td>\n      <td>5.387908</td>\n      <td>PC14</td>\n      <td>ACH-000030</td>\n      <td>LUAD</td>\n    </tr>\n    <tr>\n      <th>3</th>\n      <td>3</td>\n      <td>ABT737</td>\n      <td>PC14</td>\n      <td>2.341568</td>\n      <td>2.974360</td>\n      <td>PC14</td>\n      <td>ACH-000030</td>\n      <td>LUAD</td>\n    </tr>\n    <tr>\n      <th>4</th>\n      <td>4</td>\n      <td>AGI-5198</td>\n      <td>PC14</td>\n      <td>5.232588</td>\n      <td>5.088980</td>\n      <td>PC14</td>\n      <td>ACH-000030</td>\n      <td>LUAD</td>\n    </tr>\n  </tbody>\n</table>\n</div>"
     },
     "execution_count": 147,
     "metadata": {},
     "output_type": "execute_result"
    }
   ],
   "source": [
    "# 取OncotreeCode中LUAD和LUSC的数据\n",
    "df_Cancer_Filtered = df_merged[df_merged['OncotreeCode'].isin(['LUAD','GB','OCSC','COAD','PCM'])]\n",
    "print(df_Cancer_Filtered.shape)\n",
    "df_Cancer_Filtered.head()"
   ]
  },
  {
   "cell_type": "code",
   "execution_count": 148,
   "id": "e808b818306e47c",
   "metadata": {
    "collapsed": false,
    "ExecuteTime": {
     "end_time": "2024-01-21T06:52:21.479494200Z",
     "start_time": "2024-01-21T06:52:21.454302800Z"
    }
   },
   "outputs": [
    {
     "data": {
      "text/plain": "    cell_line  counts OncotreeCode\n0      42MGBA     217           GB\n1       CA922     218         OCSC\n2       CAL33     217         OCSC\n3     COLO678     218         COAD\n4        EKVX     215         LUAD\n5        GAMG     218           GB\n6       HCT15     220         COAD\n7   KARPAS620     216          PCM\n8        MM1S     215          PCM\n9    NCIH1355     218         LUAD\n10   NCIH1563     217         LUAD\n11   NCIH1648     152         LUAD\n12    NCIH522     217         LUAD\n13       PC14     233         LUAD\n14   RERFLCMS     180         LUAD\n15        SAS     218         OCSC\n16       T98G     218           GB",
      "text/html": "<div>\n<style scoped>\n    .dataframe tbody tr th:only-of-type {\n        vertical-align: middle;\n    }\n\n    .dataframe tbody tr th {\n        vertical-align: top;\n    }\n\n    .dataframe thead th {\n        text-align: right;\n    }\n</style>\n<table border=\"1\" class=\"dataframe\">\n  <thead>\n    <tr style=\"text-align: right;\">\n      <th></th>\n      <th>cell_line</th>\n      <th>counts</th>\n      <th>OncotreeCode</th>\n    </tr>\n  </thead>\n  <tbody>\n    <tr>\n      <th>0</th>\n      <td>42MGBA</td>\n      <td>217</td>\n      <td>GB</td>\n    </tr>\n    <tr>\n      <th>1</th>\n      <td>CA922</td>\n      <td>218</td>\n      <td>OCSC</td>\n    </tr>\n    <tr>\n      <th>2</th>\n      <td>CAL33</td>\n      <td>217</td>\n      <td>OCSC</td>\n    </tr>\n    <tr>\n      <th>3</th>\n      <td>COLO678</td>\n      <td>218</td>\n      <td>COAD</td>\n    </tr>\n    <tr>\n      <th>4</th>\n      <td>EKVX</td>\n      <td>215</td>\n      <td>LUAD</td>\n    </tr>\n    <tr>\n      <th>5</th>\n      <td>GAMG</td>\n      <td>218</td>\n      <td>GB</td>\n    </tr>\n    <tr>\n      <th>6</th>\n      <td>HCT15</td>\n      <td>220</td>\n      <td>COAD</td>\n    </tr>\n    <tr>\n      <th>7</th>\n      <td>KARPAS620</td>\n      <td>216</td>\n      <td>PCM</td>\n    </tr>\n    <tr>\n      <th>8</th>\n      <td>MM1S</td>\n      <td>215</td>\n      <td>PCM</td>\n    </tr>\n    <tr>\n      <th>9</th>\n      <td>NCIH1355</td>\n      <td>218</td>\n      <td>LUAD</td>\n    </tr>\n    <tr>\n      <th>10</th>\n      <td>NCIH1563</td>\n      <td>217</td>\n      <td>LUAD</td>\n    </tr>\n    <tr>\n      <th>11</th>\n      <td>NCIH1648</td>\n      <td>152</td>\n      <td>LUAD</td>\n    </tr>\n    <tr>\n      <th>12</th>\n      <td>NCIH522</td>\n      <td>217</td>\n      <td>LUAD</td>\n    </tr>\n    <tr>\n      <th>13</th>\n      <td>PC14</td>\n      <td>233</td>\n      <td>LUAD</td>\n    </tr>\n    <tr>\n      <th>14</th>\n      <td>RERFLCMS</td>\n      <td>180</td>\n      <td>LUAD</td>\n    </tr>\n    <tr>\n      <th>15</th>\n      <td>SAS</td>\n      <td>218</td>\n      <td>OCSC</td>\n    </tr>\n    <tr>\n      <th>16</th>\n      <td>T98G</td>\n      <td>218</td>\n      <td>GB</td>\n    </tr>\n  </tbody>\n</table>\n</div>"
     },
     "execution_count": 148,
     "metadata": {},
     "output_type": "execute_result"
    }
   ],
   "source": [
    "#将df_Cancer_Filtered根据cell_line分组,并且计数,并显示OncotreeCode列\n",
    "df_Cancer_Filtered_counts = df_Cancer_Filtered.groupby('cell_line')['cell_line'].count().reset_index(name='counts')\n",
    "# 根据cell_line列与df_model中的StrippedCellLineName列进行合并\n",
    "df_Cancer_Filtered_counts = pd.merge(df_Cancer_Filtered_counts, df_model, left_on='cell_line', right_on='StrippedCellLineName')[['cell_line', 'counts', 'OncotreeCode']]\n",
    "df_Cancer_Filtered_counts.head(20)"
   ]
  },
  {
   "cell_type": "code",
   "outputs": [],
   "source": [
    "# 去除df_Cancer_Filtered中cell_line列是RERFLCMS、NCIH522的数据\n",
    "df_Cancer_Filtered = df_Cancer_Filtered[~df_Cancer_Filtered['cell_line'].isin(['RERFLCMS', 'NCIH522','GAMG'])]"
   ],
   "metadata": {
    "collapsed": false,
    "ExecuteTime": {
     "end_time": "2024-01-21T06:52:21.512166Z",
     "start_time": "2024-01-21T06:52:21.470103300Z"
    }
   },
   "id": "6d47f56ca5df2a98",
   "execution_count": 149
  },
  {
   "cell_type": "code",
   "execution_count": 150,
   "id": "a1cf915424991eae",
   "metadata": {
    "collapsed": false,
    "ExecuteTime": {
     "end_time": "2024-01-21T06:52:21.550039200Z",
     "start_time": "2024-01-21T06:52:21.486977100Z"
    }
   },
   "outputs": [
    {
     "data": {
      "text/plain": "    cell_line                                               drug\n0      42MGBA  {Entinostat, PCI-34051, AZD2014, Veliparib, PO...\n1       CA922  {Entinostat, PCI-34051, AZD2014, Veliparib, PO...\n2       CAL33  {Entinostat, PCI-34051, AZD2014, Veliparib, PO...\n3     COLO678  {Entinostat, PCI-34051, AZD2014, Veliparib, PO...\n4        EKVX  {Entinostat, PCI-34051, AZD2014, Veliparib, BX...\n5       HCT15  {Entinostat, PCI-34051, AZD2014, Veliparib, PO...\n6   KARPAS620  {Entinostat, PCI-34051, AZD2014, Veliparib, PO...\n7        MM1S  {Entinostat, PCI-34051, AZD2014, Veliparib, PO...\n8    NCIH1355  {Entinostat, PCI-34051, AZD2014, Veliparib, PO...\n9    NCIH1563  {Entinostat, PCI-34051, AZD2014, Veliparib, PO...\n10   NCIH1648  {Veliparib, POMHEX, Sorafenib, SB590885, AZD67...\n11       PC14  {Entinostat, PCI-34051, AZD2014, Veliparib, PO...\n12        SAS  {Entinostat, PCI-34051, AZD2014, Veliparib, PO...\n13       T98G  {Entinostat, PCI-34051, AZD2014, Veliparib, PO...",
      "text/html": "<div>\n<style scoped>\n    .dataframe tbody tr th:only-of-type {\n        vertical-align: middle;\n    }\n\n    .dataframe tbody tr th {\n        vertical-align: top;\n    }\n\n    .dataframe thead th {\n        text-align: right;\n    }\n</style>\n<table border=\"1\" class=\"dataframe\">\n  <thead>\n    <tr style=\"text-align: right;\">\n      <th></th>\n      <th>cell_line</th>\n      <th>drug</th>\n    </tr>\n  </thead>\n  <tbody>\n    <tr>\n      <th>0</th>\n      <td>42MGBA</td>\n      <td>{Entinostat, PCI-34051, AZD2014, Veliparib, PO...</td>\n    </tr>\n    <tr>\n      <th>1</th>\n      <td>CA922</td>\n      <td>{Entinostat, PCI-34051, AZD2014, Veliparib, PO...</td>\n    </tr>\n    <tr>\n      <th>2</th>\n      <td>CAL33</td>\n      <td>{Entinostat, PCI-34051, AZD2014, Veliparib, PO...</td>\n    </tr>\n    <tr>\n      <th>3</th>\n      <td>COLO678</td>\n      <td>{Entinostat, PCI-34051, AZD2014, Veliparib, PO...</td>\n    </tr>\n    <tr>\n      <th>4</th>\n      <td>EKVX</td>\n      <td>{Entinostat, PCI-34051, AZD2014, Veliparib, BX...</td>\n    </tr>\n    <tr>\n      <th>5</th>\n      <td>HCT15</td>\n      <td>{Entinostat, PCI-34051, AZD2014, Veliparib, PO...</td>\n    </tr>\n    <tr>\n      <th>6</th>\n      <td>KARPAS620</td>\n      <td>{Entinostat, PCI-34051, AZD2014, Veliparib, PO...</td>\n    </tr>\n    <tr>\n      <th>7</th>\n      <td>MM1S</td>\n      <td>{Entinostat, PCI-34051, AZD2014, Veliparib, PO...</td>\n    </tr>\n    <tr>\n      <th>8</th>\n      <td>NCIH1355</td>\n      <td>{Entinostat, PCI-34051, AZD2014, Veliparib, PO...</td>\n    </tr>\n    <tr>\n      <th>9</th>\n      <td>NCIH1563</td>\n      <td>{Entinostat, PCI-34051, AZD2014, Veliparib, PO...</td>\n    </tr>\n    <tr>\n      <th>10</th>\n      <td>NCIH1648</td>\n      <td>{Veliparib, POMHEX, Sorafenib, SB590885, AZD67...</td>\n    </tr>\n    <tr>\n      <th>11</th>\n      <td>PC14</td>\n      <td>{Entinostat, PCI-34051, AZD2014, Veliparib, PO...</td>\n    </tr>\n    <tr>\n      <th>12</th>\n      <td>SAS</td>\n      <td>{Entinostat, PCI-34051, AZD2014, Veliparib, PO...</td>\n    </tr>\n    <tr>\n      <th>13</th>\n      <td>T98G</td>\n      <td>{Entinostat, PCI-34051, AZD2014, Veliparib, PO...</td>\n    </tr>\n  </tbody>\n</table>\n</div>"
     },
     "execution_count": 150,
     "metadata": {},
     "output_type": "execute_result"
    }
   ],
   "source": [
    "# 将df_LUAD根据cell_line分组，再取每组drug列的交集\n",
    "df_Cancer_Filtered_drug = df_Cancer_Filtered.groupby('cell_line')['drug'].apply(set).reset_index()\n",
    "df_Cancer_Filtered_drug.head(20)\n"
   ]
  },
  {
   "cell_type": "code",
   "execution_count": 151,
   "id": "5be471c4791e3edb",
   "metadata": {
    "collapsed": false,
    "ExecuteTime": {
     "end_time": "2024-01-21T06:52:21.588155500Z",
     "start_time": "2024-01-21T06:52:21.501667600Z"
    }
   },
   "outputs": [
    {
     "name": "stdout",
     "output_type": "stream",
     "text": [
      "132\n",
      "{'Veliparib', 'Sorafenib', 'SB590885', 'AZD6738', 'YK-4-279', 'AGK2', 'Alpelisib', 'Nilotinib', 'AZD8186', 'PD0325901', 'Savolitinib', 'Talazoparib', 'BMS-536924', 'Lestaurtinib', 'Crizotinib', 'Dactolisib', 'Oxaliplatin', 'LGK974', 'Vinorelbine', 'Sepantronium bromide', 'Rapamycin', 'Camptothecin', 'Erlotinib', 'Afatinib', 'Pyridostatin', 'SN-38', 'EPZ004777', 'Ulixertinib', '5-Fluorouracil', 'Cediranib', 'MG-132', 'EPZ5676', 'Tamoxifen', 'Irinotecan', 'Sapitinib', 'AZD5363', 'Bosutinib', 'KU-55933', 'JQ1', 'AMG-319', 'AZ6102', 'MK-8776', 'Rucaparib', 'Uprosertib', 'Nutlin-3a (-)', 'Doramapimod', 'Dasatinib', 'RO-3306', 'Docetaxel', 'Vorinostat', 'GW441756', 'PD173074', 'glutathione', 'Methotrexate', 'MK-1775', 'P22077', 'Selumetinib', 'Paclitaxel', 'OSI-027', 'SGC0946', 'Epirubicin', 'Refametinib', 'Olaparib', 'Tanespimycin', 'Buparlisib', 'Navitoclax', 'Serdemetan', 'ZM447439', 'GSK1904529A', 'GSK591', 'NU7441', 'AZD7762', 'Obatoclax Mesylate', 'Osimertinib', 'Temozolomide', 'GDC0810', 'PFI-1', 'Telomerase Inhibitor IX', 'Avagacestat', 'Dabrafenib', 'Wee1 Inhibitor', 'Bortezomib', 'WIKI4', 'Axitinib', 'Venetoclax', 'SCH772984', 'Foretinib', 'AGI-5198', 'Pictilisib', 'Staurosporine', 'Vismodegib', 'Lenalidomide', 'VE821', 'Palbociclib', 'VX-11e', 'Gefitinib', 'Ipatasertib', 'Afuresertib', 'Cyclophosphamide', 'AZD4547', 'GSK2578215A', 'PLX-4720', 'alpha-lipoic acid', 'CCT007093', 'Dactinomycin', 'N-acetyl cysteine', 'LJI308', 'SB216763', 'Taselisib', 'BMS-754807', 'ABT737', 'Luminespib', 'Trametinib', 'Linsitinib', 'Pevonedistat', 'EHT-1864', 'AZD3759', 'Ribociclib', 'GNE-317', 'AT13148', 'Gemcitabine', 'I-BRD9', 'BIBR-1532', 'NVP-ADW742', 'GSK343', 'Lapatinib', 'Fulvestrant', 'MK-2206', 'Motesanib', 'Temsirolimus', 'MIRA-1', 'JNK Inhibitor VIII'}\n"
     ]
    }
   ],
   "source": [
    "# 将df_LUAD_drug中的drug取交集\n",
    "drugs = set.intersection(*df_Cancer_Filtered_drug['drug'])\n",
    "print(len(drugs))\n",
    "print(drugs)"
   ]
  },
  {
   "cell_type": "code",
   "execution_count": 152,
   "id": "a9c3a81d20e24e90",
   "metadata": {
    "collapsed": false,
    "ExecuteTime": {
     "end_time": "2024-01-21T06:52:21.620039100Z",
     "start_time": "2024-01-21T06:52:21.517504900Z"
    }
   },
   "outputs": [
    {
     "name": "stdout",
     "output_type": "stream",
     "text": [
      "(1848, 8)\n"
     ]
    },
    {
     "data": {
      "text/plain": "   Unnamed: 0            drug cell_line      IC50  prediction  \\\n0           0  5-Fluorouracil      PC14  4.138791    5.553128   \n3           3          ABT737      PC14  2.341568    2.974360   \n4           4        AGI-5198      PC14  5.232588    5.088980   \n6           6            AGK2      PC14  3.164392    3.404567   \n7           7         AMG-319      PC14  5.707739    5.601388   \n\n  StrippedCellLineName     ModelID OncotreeCode  \n0                 PC14  ACH-000030         LUAD  \n3                 PC14  ACH-000030         LUAD  \n4                 PC14  ACH-000030         LUAD  \n6                 PC14  ACH-000030         LUAD  \n7                 PC14  ACH-000030         LUAD  ",
      "text/html": "<div>\n<style scoped>\n    .dataframe tbody tr th:only-of-type {\n        vertical-align: middle;\n    }\n\n    .dataframe tbody tr th {\n        vertical-align: top;\n    }\n\n    .dataframe thead th {\n        text-align: right;\n    }\n</style>\n<table border=\"1\" class=\"dataframe\">\n  <thead>\n    <tr style=\"text-align: right;\">\n      <th></th>\n      <th>Unnamed: 0</th>\n      <th>drug</th>\n      <th>cell_line</th>\n      <th>IC50</th>\n      <th>prediction</th>\n      <th>StrippedCellLineName</th>\n      <th>ModelID</th>\n      <th>OncotreeCode</th>\n    </tr>\n  </thead>\n  <tbody>\n    <tr>\n      <th>0</th>\n      <td>0</td>\n      <td>5-Fluorouracil</td>\n      <td>PC14</td>\n      <td>4.138791</td>\n      <td>5.553128</td>\n      <td>PC14</td>\n      <td>ACH-000030</td>\n      <td>LUAD</td>\n    </tr>\n    <tr>\n      <th>3</th>\n      <td>3</td>\n      <td>ABT737</td>\n      <td>PC14</td>\n      <td>2.341568</td>\n      <td>2.974360</td>\n      <td>PC14</td>\n      <td>ACH-000030</td>\n      <td>LUAD</td>\n    </tr>\n    <tr>\n      <th>4</th>\n      <td>4</td>\n      <td>AGI-5198</td>\n      <td>PC14</td>\n      <td>5.232588</td>\n      <td>5.088980</td>\n      <td>PC14</td>\n      <td>ACH-000030</td>\n      <td>LUAD</td>\n    </tr>\n    <tr>\n      <th>6</th>\n      <td>6</td>\n      <td>AGK2</td>\n      <td>PC14</td>\n      <td>3.164392</td>\n      <td>3.404567</td>\n      <td>PC14</td>\n      <td>ACH-000030</td>\n      <td>LUAD</td>\n    </tr>\n    <tr>\n      <th>7</th>\n      <td>7</td>\n      <td>AMG-319</td>\n      <td>PC14</td>\n      <td>5.707739</td>\n      <td>5.601388</td>\n      <td>PC14</td>\n      <td>ACH-000030</td>\n      <td>LUAD</td>\n    </tr>\n  </tbody>\n</table>\n</div>"
     },
     "execution_count": 152,
     "metadata": {},
     "output_type": "execute_result"
    }
   ],
   "source": [
    "# 取df_LUAD中drug中在drugs中的数据\n",
    "df_Cancer_Filtered = df_Cancer_Filtered[df_Cancer_Filtered['drug'].isin(drugs)]\n",
    "print(df_Cancer_Filtered.shape)\n",
    "df_Cancer_Filtered.head()"
   ]
  },
  {
   "cell_type": "code",
   "execution_count": 153,
   "id": "7707486652054f2d",
   "metadata": {
    "collapsed": false,
    "ExecuteTime": {
     "end_time": "2024-01-21T06:52:21.624295700Z",
     "start_time": "2024-01-21T06:52:21.533249700Z"
    }
   },
   "outputs": [
    {
     "data": {
      "text/plain": "             drug cell_line  prediction OncotreeCode\n0  5-Fluorouracil      PC14    5.553128         LUAD\n3          ABT737      PC14    2.974360         LUAD\n4        AGI-5198      PC14    5.088980         LUAD\n6            AGK2      PC14    3.404567         LUAD\n7         AMG-319      PC14    5.601388         LUAD",
      "text/html": "<div>\n<style scoped>\n    .dataframe tbody tr th:only-of-type {\n        vertical-align: middle;\n    }\n\n    .dataframe tbody tr th {\n        vertical-align: top;\n    }\n\n    .dataframe thead th {\n        text-align: right;\n    }\n</style>\n<table border=\"1\" class=\"dataframe\">\n  <thead>\n    <tr style=\"text-align: right;\">\n      <th></th>\n      <th>drug</th>\n      <th>cell_line</th>\n      <th>prediction</th>\n      <th>OncotreeCode</th>\n    </tr>\n  </thead>\n  <tbody>\n    <tr>\n      <th>0</th>\n      <td>5-Fluorouracil</td>\n      <td>PC14</td>\n      <td>5.553128</td>\n      <td>LUAD</td>\n    </tr>\n    <tr>\n      <th>3</th>\n      <td>ABT737</td>\n      <td>PC14</td>\n      <td>2.974360</td>\n      <td>LUAD</td>\n    </tr>\n    <tr>\n      <th>4</th>\n      <td>AGI-5198</td>\n      <td>PC14</td>\n      <td>5.088980</td>\n      <td>LUAD</td>\n    </tr>\n    <tr>\n      <th>6</th>\n      <td>AGK2</td>\n      <td>PC14</td>\n      <td>3.404567</td>\n      <td>LUAD</td>\n    </tr>\n    <tr>\n      <th>7</th>\n      <td>AMG-319</td>\n      <td>PC14</td>\n      <td>5.601388</td>\n      <td>LUAD</td>\n    </tr>\n  </tbody>\n</table>\n</div>"
     },
     "execution_count": 153,
     "metadata": {},
     "output_type": "execute_result"
    }
   ],
   "source": [
    "# 取drug、cell_line、IC50和OncotreeCode列\n",
    "df_LUAD_GB_OCSC = df_Cancer_Filtered[['drug', 'cell_line', 'prediction', 'OncotreeCode']]\n",
    "df_LUAD_GB_OCSC.head()"
   ]
  },
  {
   "cell_type": "code",
   "outputs": [
    {
     "data": {
      "text/plain": "        Drug_Name  IC50_mean  IC50_std\n0          123138   2.898762  0.831312\n1          123829   2.586956  1.618564\n2          150412   3.168315  1.088161\n3  5-Fluorouracil   4.392229  1.719760\n4   5-azacytidine   2.988221  1.390814",
      "text/html": "<div>\n<style scoped>\n    .dataframe tbody tr th:only-of-type {\n        vertical-align: middle;\n    }\n\n    .dataframe tbody tr th {\n        vertical-align: top;\n    }\n\n    .dataframe thead th {\n        text-align: right;\n    }\n</style>\n<table border=\"1\" class=\"dataframe\">\n  <thead>\n    <tr style=\"text-align: right;\">\n      <th></th>\n      <th>Drug_Name</th>\n      <th>IC50_mean</th>\n      <th>IC50_std</th>\n    </tr>\n  </thead>\n  <tbody>\n    <tr>\n      <th>0</th>\n      <td>123138</td>\n      <td>2.898762</td>\n      <td>0.831312</td>\n    </tr>\n    <tr>\n      <th>1</th>\n      <td>123829</td>\n      <td>2.586956</td>\n      <td>1.618564</td>\n    </tr>\n    <tr>\n      <th>2</th>\n      <td>150412</td>\n      <td>3.168315</td>\n      <td>1.088161</td>\n    </tr>\n    <tr>\n      <th>3</th>\n      <td>5-Fluorouracil</td>\n      <td>4.392229</td>\n      <td>1.719760</td>\n    </tr>\n    <tr>\n      <th>4</th>\n      <td>5-azacytidine</td>\n      <td>2.988221</td>\n      <td>1.390814</td>\n    </tr>\n  </tbody>\n</table>\n</div>"
     },
     "execution_count": 154,
     "metadata": {},
     "output_type": "execute_result"
    }
   ],
   "source": [
    "df_drug_mean_std = pd.read_csv('../data/gdsc_drug_mean_std.csv')\n",
    "df_drug_mean_std.head()"
   ],
   "metadata": {
    "collapsed": false,
    "ExecuteTime": {
     "end_time": "2024-01-21T06:52:21.645855400Z",
     "start_time": "2024-01-21T06:52:21.549041800Z"
    }
   },
   "id": "1820fff4454e8e58",
   "execution_count": 154
  },
  {
   "cell_type": "code",
   "outputs": [
    {
     "data": {
      "text/plain": "             drug  cell_line  prediction OncotreeCode       Drug_Name  \\\n0  5-Fluorouracil       PC14    5.553128         LUAD  5-Fluorouracil   \n1  5-Fluorouracil  KARPAS620    3.292372          PCM  5-Fluorouracil   \n2  5-Fluorouracil     42MGBA    4.060566           GB  5-Fluorouracil   \n3  5-Fluorouracil    COLO678    5.717366         COAD  5-Fluorouracil   \n4  5-Fluorouracil      CAL33    4.360429         OCSC  5-Fluorouracil   \n\n   IC50_mean  IC50_std   Z-Score  \n0   4.392229   1.71976  0.675035  \n1   4.392229   1.71976 -0.639541  \n2   4.392229   1.71976 -0.192854  \n3   4.392229   1.71976  0.770536  \n4   4.392229   1.71976 -0.018491  ",
      "text/html": "<div>\n<style scoped>\n    .dataframe tbody tr th:only-of-type {\n        vertical-align: middle;\n    }\n\n    .dataframe tbody tr th {\n        vertical-align: top;\n    }\n\n    .dataframe thead th {\n        text-align: right;\n    }\n</style>\n<table border=\"1\" class=\"dataframe\">\n  <thead>\n    <tr style=\"text-align: right;\">\n      <th></th>\n      <th>drug</th>\n      <th>cell_line</th>\n      <th>prediction</th>\n      <th>OncotreeCode</th>\n      <th>Drug_Name</th>\n      <th>IC50_mean</th>\n      <th>IC50_std</th>\n      <th>Z-Score</th>\n    </tr>\n  </thead>\n  <tbody>\n    <tr>\n      <th>0</th>\n      <td>5-Fluorouracil</td>\n      <td>PC14</td>\n      <td>5.553128</td>\n      <td>LUAD</td>\n      <td>5-Fluorouracil</td>\n      <td>4.392229</td>\n      <td>1.71976</td>\n      <td>0.675035</td>\n    </tr>\n    <tr>\n      <th>1</th>\n      <td>5-Fluorouracil</td>\n      <td>KARPAS620</td>\n      <td>3.292372</td>\n      <td>PCM</td>\n      <td>5-Fluorouracil</td>\n      <td>4.392229</td>\n      <td>1.71976</td>\n      <td>-0.639541</td>\n    </tr>\n    <tr>\n      <th>2</th>\n      <td>5-Fluorouracil</td>\n      <td>42MGBA</td>\n      <td>4.060566</td>\n      <td>GB</td>\n      <td>5-Fluorouracil</td>\n      <td>4.392229</td>\n      <td>1.71976</td>\n      <td>-0.192854</td>\n    </tr>\n    <tr>\n      <th>3</th>\n      <td>5-Fluorouracil</td>\n      <td>COLO678</td>\n      <td>5.717366</td>\n      <td>COAD</td>\n      <td>5-Fluorouracil</td>\n      <td>4.392229</td>\n      <td>1.71976</td>\n      <td>0.770536</td>\n    </tr>\n    <tr>\n      <th>4</th>\n      <td>5-Fluorouracil</td>\n      <td>CAL33</td>\n      <td>4.360429</td>\n      <td>OCSC</td>\n      <td>5-Fluorouracil</td>\n      <td>4.392229</td>\n      <td>1.71976</td>\n      <td>-0.018491</td>\n    </tr>\n  </tbody>\n</table>\n</div>"
     },
     "execution_count": 155,
     "metadata": {},
     "output_type": "execute_result"
    }
   ],
   "source": [
    "# 根据df_drug_mean_std中的\"Drug_Name\"列、\"IC50_mean\"列和\"IC50_std\"列计算出df_LUAD的Z-Score\n",
    "df_LUAD_GB_OCSC = pd.merge(df_LUAD_GB_OCSC, df_drug_mean_std, left_on='drug', right_on='Drug_Name')\n",
    "df_LUAD_GB_OCSC['Z-Score'] = (df_LUAD_GB_OCSC['prediction'] - df_LUAD_GB_OCSC['IC50_mean']) / df_LUAD_GB_OCSC['IC50_std']\n",
    "df_LUAD_GB_OCSC.head()"
   ],
   "metadata": {
    "collapsed": false,
    "ExecuteTime": {
     "end_time": "2024-01-21T06:52:21.683393Z",
     "start_time": "2024-01-21T06:52:21.576519400Z"
    }
   },
   "id": "6156087161c19285",
   "execution_count": 155
  },
  {
   "cell_type": "code",
   "execution_count": 156,
   "id": "4d481a32c0451ebf",
   "metadata": {
    "collapsed": false,
    "ExecuteTime": {
     "end_time": "2024-01-21T06:52:21.793891800Z",
     "start_time": "2024-01-21T06:52:21.653321800Z"
    }
   },
   "outputs": [
    {
     "data": {
      "text/plain": "cell_line         42MGBA     CA922     CAL33   COLO678      EKVX     HCT15  \\\ndrug                                                                         \n5-Fluorouracil -0.192854  0.175335 -0.018491  0.770536  0.212344 -0.564556   \nABT737          0.490502  0.081773  0.283397 -0.318839  0.576601  0.463788   \nAGI-5198       -0.056614  0.125337 -0.059641  0.512298  0.460231 -0.242795   \nAGK2           -0.127700 -0.176685 -0.278665  0.199642  0.324689 -0.267115   \nAMG-319        -0.035371  0.149460  0.322791  0.848548  0.671120  0.242153   \n\ncell_line       KARPAS620      MM1S  NCIH1355  NCIH1563  NCIH1648      PC14  \\\ndrug                                                                          \n5-Fluorouracil  -0.639541 -0.877210  0.610321  0.568730  0.514957  0.675035   \nABT737          -0.986686 -0.176738  0.581474  0.273943  0.493163  0.535142   \nAGI-5198        -0.422229 -0.673450  0.804705  0.468313  0.568395  0.424068   \nAGK2            -0.596391 -0.725895  0.425062  0.281947  0.444102  0.151126   \nAMG-319         -0.173843 -0.735775  0.695800  0.670342  0.548593  0.680707   \n\ncell_line            SAS      T98G  \ndrug                                \n5-Fluorouracil -0.306965 -0.144307  \nABT737          0.615252  0.377821  \nAGI-5198        0.117626  0.234276  \nAGK2            0.078627 -0.367183  \nAMG-319         0.454502  0.327713  ",
      "text/html": "<div>\n<style scoped>\n    .dataframe tbody tr th:only-of-type {\n        vertical-align: middle;\n    }\n\n    .dataframe tbody tr th {\n        vertical-align: top;\n    }\n\n    .dataframe thead th {\n        text-align: right;\n    }\n</style>\n<table border=\"1\" class=\"dataframe\">\n  <thead>\n    <tr style=\"text-align: right;\">\n      <th>cell_line</th>\n      <th>42MGBA</th>\n      <th>CA922</th>\n      <th>CAL33</th>\n      <th>COLO678</th>\n      <th>EKVX</th>\n      <th>HCT15</th>\n      <th>KARPAS620</th>\n      <th>MM1S</th>\n      <th>NCIH1355</th>\n      <th>NCIH1563</th>\n      <th>NCIH1648</th>\n      <th>PC14</th>\n      <th>SAS</th>\n      <th>T98G</th>\n    </tr>\n    <tr>\n      <th>drug</th>\n      <th></th>\n      <th></th>\n      <th></th>\n      <th></th>\n      <th></th>\n      <th></th>\n      <th></th>\n      <th></th>\n      <th></th>\n      <th></th>\n      <th></th>\n      <th></th>\n      <th></th>\n      <th></th>\n    </tr>\n  </thead>\n  <tbody>\n    <tr>\n      <th>5-Fluorouracil</th>\n      <td>-0.192854</td>\n      <td>0.175335</td>\n      <td>-0.018491</td>\n      <td>0.770536</td>\n      <td>0.212344</td>\n      <td>-0.564556</td>\n      <td>-0.639541</td>\n      <td>-0.877210</td>\n      <td>0.610321</td>\n      <td>0.568730</td>\n      <td>0.514957</td>\n      <td>0.675035</td>\n      <td>-0.306965</td>\n      <td>-0.144307</td>\n    </tr>\n    <tr>\n      <th>ABT737</th>\n      <td>0.490502</td>\n      <td>0.081773</td>\n      <td>0.283397</td>\n      <td>-0.318839</td>\n      <td>0.576601</td>\n      <td>0.463788</td>\n      <td>-0.986686</td>\n      <td>-0.176738</td>\n      <td>0.581474</td>\n      <td>0.273943</td>\n      <td>0.493163</td>\n      <td>0.535142</td>\n      <td>0.615252</td>\n      <td>0.377821</td>\n    </tr>\n    <tr>\n      <th>AGI-5198</th>\n      <td>-0.056614</td>\n      <td>0.125337</td>\n      <td>-0.059641</td>\n      <td>0.512298</td>\n      <td>0.460231</td>\n      <td>-0.242795</td>\n      <td>-0.422229</td>\n      <td>-0.673450</td>\n      <td>0.804705</td>\n      <td>0.468313</td>\n      <td>0.568395</td>\n      <td>0.424068</td>\n      <td>0.117626</td>\n      <td>0.234276</td>\n    </tr>\n    <tr>\n      <th>AGK2</th>\n      <td>-0.127700</td>\n      <td>-0.176685</td>\n      <td>-0.278665</td>\n      <td>0.199642</td>\n      <td>0.324689</td>\n      <td>-0.267115</td>\n      <td>-0.596391</td>\n      <td>-0.725895</td>\n      <td>0.425062</td>\n      <td>0.281947</td>\n      <td>0.444102</td>\n      <td>0.151126</td>\n      <td>0.078627</td>\n      <td>-0.367183</td>\n    </tr>\n    <tr>\n      <th>AMG-319</th>\n      <td>-0.035371</td>\n      <td>0.149460</td>\n      <td>0.322791</td>\n      <td>0.848548</td>\n      <td>0.671120</td>\n      <td>0.242153</td>\n      <td>-0.173843</td>\n      <td>-0.735775</td>\n      <td>0.695800</td>\n      <td>0.670342</td>\n      <td>0.548593</td>\n      <td>0.680707</td>\n      <td>0.454502</td>\n      <td>0.327713</td>\n    </tr>\n  </tbody>\n</table>\n</div>"
     },
     "execution_count": 156,
     "metadata": {},
     "output_type": "execute_result"
    }
   ],
   "source": [
    "# 使用pivot函数，将df_LUAD的drug列作为行索引，cell_line列作为列索引，prediction列作为值\n",
    "df_LUAD_GB_OCSC_pivot = df_LUAD_GB_OCSC.pivot(index='drug', columns='cell_line', values='Z-Score')\n",
    "df_LUAD_GB_OCSC_pivot.head()"
   ]
  },
  {
   "cell_type": "code",
   "execution_count": 159,
   "id": "a3917c0fd0ee4b31",
   "metadata": {
    "collapsed": false,
    "ExecuteTime": {
     "end_time": "2024-01-21T06:57:07.743855900Z",
     "start_time": "2024-01-21T06:57:07.480277800Z"
    }
   },
   "outputs": [
    {
     "data": {
      "text/plain": "<Figure size 500x1000 with 4 Axes>",
      "image/png": "[encoded data removed]"
     },
     "metadata": {},
     "output_type": "display_data"
    }
   ],
   "source": [
    "import matplotlib.pyplot as plt\n",
    "import seaborn as sns\n",
    "sns.set(color_codes=True)\n",
    "# iris = sns.load_dataset(\"iris\")\n",
    "# species = iris.pop(\"species\")\n",
    "# heatmap_data = pd.read_csv('heatmap_data.csv')\n",
    "cell_line_names = df_LUAD_GB_OCSC_pivot.columns\n",
    "heatmap_data = df_LUAD_GB_OCSC_pivot.iloc[:,0:]\n",
    "#设置图片大小\n",
    "g= sns.clustermap(heatmap_data,row_cluster=False,col_cluster=True, metric='euclidean',\n",
    "                  fmt=\"d\",cmap='Spectral_r',figsize=(5,10),\n",
    "                  dendrogram_ratio=(.1, .2),\n",
    "                    cbar_pos=(0, .2, .03, .4)\n",
    "                  , yticklabels=False)\n",
    "ax = g.ax_heatmap\n",
    "label_y = ax.get_yticklabels()\n",
    "plt.setp(label_y, rotation=360, horizontalalignment='left')\n",
    "label_x = ax.get_xticklabels()\n",
    "plt.setp(label_x, rotation=50, horizontalalignment='right')\n",
    "#设置图片名称，分辨率，并保存\n",
    "# plt.savefig('cluster.tif',dpi = 300)\n",
    "plt.show()"
   ]
  }
 ],
 "metadata": {
  "kernelspec": {
   "display_name": "Python 3 (ipykernel)",
   "language": "python",
   "name": "python3"
  },
  "language_info": {
   "codemirror_mode": {
    "name": "ipython",
    "version": 3
   },
   "file_extension": ".py",
   "mimetype": "text/x-python",
   "name": "python",
   "nbconvert_exporter": "python",
   "pygments_lexer": "ipython3",
   "version": "3.10.13"
  }
 },
 "nbformat": 4,
 "nbformat_minor": 5
}
