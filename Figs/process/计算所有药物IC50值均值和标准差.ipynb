{
 "cells": [
  {
   "cell_type": "code",
   "execution_count": 1,
   "id": "initial_id",
   "metadata": {
    "collapsed": true,
    "ExecuteTime": {
     "end_time": "2024-01-20T08:01:07.776835400Z",
     "start_time": "2024-01-20T08:01:07.760315800Z"
    }
   },
   "outputs": [],
   "source": [
    "import pandas as pd\n",
    "import numpy as np"
   ]
  },
  {
   "cell_type": "code",
   "outputs": [
    {
     "data": {
      "text/plain": "      Drug Name  Drug ID Cell Line Name  Cosmic ID TCGA Classification  \\\n0  Camptothecin     1003         PFSK-1     683667                  MB   \n1  Camptothecin     1003           A673     684052        UNCLASSIFIED   \n2  Camptothecin     1003            ES5     684057        UNCLASSIFIED   \n3  Camptothecin     1003            ES7     684059        UNCLASSIFIED   \n4  Camptothecin     1003          EW-11     684062        UNCLASSIFIED   \n\n           Tissue   Tissue Sub-type      IC50       AUC  Max Conc      RMSE  \\\n0  nervous_system   medulloblastoma -1.462148  0.930105       0.1  0.088999   \n1     soft_tissue  rhabdomyosarcoma -4.869447  0.614932       0.1  0.111423   \n2            bone    ewings_sarcoma -3.360684  0.790953       0.1  0.142754   \n3            bone    ewings_sarcoma -5.045014  0.592624       0.1  0.135642   \n4            bone    ewings_sarcoma -3.741620  0.733992       0.1  0.128066   \n\n    Z score Dataset Version  \n0  0.432482           GDSC2  \n1 -1.420322           GDSC2  \n2 -0.599894           GDSC2  \n3 -1.515791           GDSC2  \n4 -0.807038           GDSC2  ",
      "text/html": "<div>\n<style scoped>\n    .dataframe tbody tr th:only-of-type {\n        vertical-align: middle;\n    }\n\n    .dataframe tbody tr th {\n        vertical-align: top;\n    }\n\n    .dataframe thead th {\n        text-align: right;\n    }\n</style>\n<table border=\"1\" class=\"dataframe\">\n  <thead>\n    <tr style=\"text-align: right;\">\n      <th></th>\n      <th>Drug Name</th>\n      <th>Drug ID</th>\n      <th>Cell Line Name</th>\n      <th>Cosmic ID</th>\n      <th>TCGA Classification</th>\n      <th>Tissue</th>\n      <th>Tissue Sub-type</th>\n      <th>IC50</th>\n      <th>AUC</th>\n      <th>Max Conc</th>\n      <th>RMSE</th>\n      <th>Z score</th>\n      <th>Dataset Version</th>\n    </tr>\n  </thead>\n  <tbody>\n    <tr>\n      <th>0</th>\n      <td>Camptothecin</td>\n      <td>1003</td>\n      <td>PFSK-1</td>\n      <td>683667</td>\n      <td>MB</td>\n      <td>nervous_system</td>\n      <td>medulloblastoma</td>\n      <td>-1.462148</td>\n      <td>0.930105</td>\n      <td>0.1</td>\n      <td>0.088999</td>\n      <td>0.432482</td>\n      <td>GDSC2</td>\n    </tr>\n    <tr>\n      <th>1</th>\n      <td>Camptothecin</td>\n      <td>1003</td>\n      <td>A673</td>\n      <td>684052</td>\n      <td>UNCLASSIFIED</td>\n      <td>soft_tissue</td>\n      <td>rhabdomyosarcoma</td>\n      <td>-4.869447</td>\n      <td>0.614932</td>\n      <td>0.1</td>\n      <td>0.111423</td>\n      <td>-1.420322</td>\n      <td>GDSC2</td>\n    </tr>\n    <tr>\n      <th>2</th>\n      <td>Camptothecin</td>\n      <td>1003</td>\n      <td>ES5</td>\n      <td>684057</td>\n      <td>UNCLASSIFIED</td>\n      <td>bone</td>\n      <td>ewings_sarcoma</td>\n      <td>-3.360684</td>\n      <td>0.790953</td>\n      <td>0.1</td>\n      <td>0.142754</td>\n      <td>-0.599894</td>\n      <td>GDSC2</td>\n    </tr>\n    <tr>\n      <th>3</th>\n      <td>Camptothecin</td>\n      <td>1003</td>\n      <td>ES7</td>\n      <td>684059</td>\n      <td>UNCLASSIFIED</td>\n      <td>bone</td>\n      <td>ewings_sarcoma</td>\n      <td>-5.045014</td>\n      <td>0.592624</td>\n      <td>0.1</td>\n      <td>0.135642</td>\n      <td>-1.515791</td>\n      <td>GDSC2</td>\n    </tr>\n    <tr>\n      <th>4</th>\n      <td>Camptothecin</td>\n      <td>1003</td>\n      <td>EW-11</td>\n      <td>684062</td>\n      <td>UNCLASSIFIED</td>\n      <td>bone</td>\n      <td>ewings_sarcoma</td>\n      <td>-3.741620</td>\n      <td>0.733992</td>\n      <td>0.1</td>\n      <td>0.128066</td>\n      <td>-0.807038</td>\n      <td>GDSC2</td>\n    </tr>\n  </tbody>\n</table>\n</div>"
     },
     "execution_count": 3,
     "metadata": {},
     "output_type": "execute_result"
    }
   ],
   "source": [
    "df_gdsc_drug = pd.read_csv('../data/PANCANCER_IC_Mon Oct  9 09_30_46 2023.csv')\n",
    "df_gdsc_drug.head(5)"
   ],
   "metadata": {
    "collapsed": false,
    "ExecuteTime": {
     "end_time": "2024-01-20T08:01:54.609905300Z",
     "start_time": "2024-01-20T08:01:54.266496700Z"
    }
   },
   "id": "bdaee5b1f9509722",
   "execution_count": 3
  },
  {
   "cell_type": "code",
   "outputs": [
    {
     "data": {
      "text/plain": "                    IC50          \n                    mean       std\nDrug Name                         \n123138          2.898762  0.831312\n123829          2.586956  1.618564\n150412          3.168315  1.088161\n5-Fluorouracil  4.392229  1.719760\n5-azacytidine   2.988221  1.390814",
      "text/html": "<div>\n<style scoped>\n    .dataframe tbody tr th:only-of-type {\n        vertical-align: middle;\n    }\n\n    .dataframe tbody tr th {\n        vertical-align: top;\n    }\n\n    .dataframe thead tr th {\n        text-align: left;\n    }\n\n    .dataframe thead tr:last-of-type th {\n        text-align: right;\n    }\n</style>\n<table border=\"1\" class=\"dataframe\">\n  <thead>\n    <tr>\n      <th></th>\n      <th colspan=\"2\" halign=\"left\">IC50</th>\n    </tr>\n    <tr>\n      <th></th>\n      <th>mean</th>\n      <th>std</th>\n    </tr>\n    <tr>\n      <th>Drug Name</th>\n      <th></th>\n      <th></th>\n    </tr>\n  </thead>\n  <tbody>\n    <tr>\n      <th>123138</th>\n      <td>2.898762</td>\n      <td>0.831312</td>\n    </tr>\n    <tr>\n      <th>123829</th>\n      <td>2.586956</td>\n      <td>1.618564</td>\n    </tr>\n    <tr>\n      <th>150412</th>\n      <td>3.168315</td>\n      <td>1.088161</td>\n    </tr>\n    <tr>\n      <th>5-Fluorouracil</th>\n      <td>4.392229</td>\n      <td>1.719760</td>\n    </tr>\n    <tr>\n      <th>5-azacytidine</th>\n      <td>2.988221</td>\n      <td>1.390814</td>\n    </tr>\n  </tbody>\n</table>\n</div>"
     },
     "execution_count": 12,
     "metadata": {},
     "output_type": "execute_result"
    }
   ],
   "source": [
    "# 根据Drug Name分组，统计每组的IC50的均值和方差\n",
    "df_gdsc_drug_group = df_gdsc_drug.groupby('Drug Name').agg({'IC50':['mean','std']})\n",
    "df_gdsc_drug_group.head(5)"
   ],
   "metadata": {
    "collapsed": false,
    "ExecuteTime": {
     "end_time": "2024-01-20T08:48:49.954144700Z",
     "start_time": "2024-01-20T08:48:49.924227300Z"
    }
   },
   "id": "28c5c3fc65313a88",
   "execution_count": 12
  }
 ],
 "metadata": {
  "kernelspec": {
   "display_name": "Python 3",
   "language": "python",
   "name": "python3"
  },
  "language_info": {
   "codemirror_mode": {
    "name": "ipython",
    "version": 2
   },
   "file_extension": ".py",
   "mimetype": "text/x-python",
   "name": "python",
   "nbconvert_exporter": "python",
   "pygments_lexer": "ipython2",
   "version": "2.7.6"
  }
 },
 "nbformat": 4,
 "nbformat_minor": 5
}
