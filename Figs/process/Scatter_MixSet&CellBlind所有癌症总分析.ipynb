{
 "cells": [
  {
   "cell_type": "code",
   "execution_count": 1,
   "id": "initial_id",
   "metadata": {
    "collapsed": true,
    "ExecuteTime": {
     "end_time": "2024-01-22T14:12:08.345319100Z",
     "start_time": "2024-01-22T14:12:08.061783700Z"
    }
   },
   "outputs": [],
   "source": [
    "import pandas as pd\n",
    "import numpy as np"
   ]
  },
  {
   "cell_type": "code",
   "outputs": [],
   "source": [
    "import re\n",
    "\n",
    "def clean_cell_line_name(name):\n",
    "    cleaned_name = re.sub(r'[^a-zA-Z0-9]', '', str(name))  # 移除非字母数字字符\n",
    "    uppercased_name = cleaned_name.upper()  # 将所有字符转换为大写\n",
    "    return uppercased_name"
   ],
   "metadata": {
    "collapsed": false,
    "ExecuteTime": {
     "end_time": "2024-01-22T14:12:08.361469Z",
     "start_time": "2024-01-22T14:12:08.347644Z"
    }
   },
   "id": "d282be26033741f5",
   "execution_count": 2
  },
  {
   "cell_type": "code",
   "outputs": [
    {
     "data": {
      "text/plain": "   Unnamed: 0                     drug cell_line      IC50  prediction\n0           0                    IWP-2     22RV1  4.036203    3.309500\n1           1              Doramapimod     22RV1  6.475129    6.213650\n2           2  Podophyllotoxin bromide     22RV1 -0.355127   -0.698705\n3           3                  GNE-317     22RV1 -0.170000   -0.360269\n4           4         Schweinfurthin A     22RV1  1.454677    3.021544",
      "text/html": "<div>\n<style scoped>\n    .dataframe tbody tr th:only-of-type {\n        vertical-align: middle;\n    }\n\n    .dataframe tbody tr th {\n        vertical-align: top;\n    }\n\n    .dataframe thead th {\n        text-align: right;\n    }\n</style>\n<table border=\"1\" class=\"dataframe\">\n  <thead>\n    <tr style=\"text-align: right;\">\n      <th></th>\n      <th>Unnamed: 0</th>\n      <th>drug</th>\n      <th>cell_line</th>\n      <th>IC50</th>\n      <th>prediction</th>\n    </tr>\n  </thead>\n  <tbody>\n    <tr>\n      <th>0</th>\n      <td>0</td>\n      <td>IWP-2</td>\n      <td>22RV1</td>\n      <td>4.036203</td>\n      <td>3.309500</td>\n    </tr>\n    <tr>\n      <th>1</th>\n      <td>1</td>\n      <td>Doramapimod</td>\n      <td>22RV1</td>\n      <td>6.475129</td>\n      <td>6.213650</td>\n    </tr>\n    <tr>\n      <th>2</th>\n      <td>2</td>\n      <td>Podophyllotoxin bromide</td>\n      <td>22RV1</td>\n      <td>-0.355127</td>\n      <td>-0.698705</td>\n    </tr>\n    <tr>\n      <th>3</th>\n      <td>3</td>\n      <td>GNE-317</td>\n      <td>22RV1</td>\n      <td>-0.170000</td>\n      <td>-0.360269</td>\n    </tr>\n    <tr>\n      <th>4</th>\n      <td>4</td>\n      <td>Schweinfurthin A</td>\n      <td>22RV1</td>\n      <td>1.454677</td>\n      <td>3.021544</td>\n    </tr>\n  </tbody>\n</table>\n</div>"
     },
     "execution_count": 3,
     "metadata": {},
     "output_type": "execute_result"
    }
   ],
   "source": [
    "df_mixSet = pd.read_csv('../data/drug_sensitivity_MixedSet_test&predictions.csv')\n",
    "df_mixSet.head()"
   ],
   "metadata": {
    "collapsed": false,
    "ExecuteTime": {
     "end_time": "2024-01-22T14:12:08.407971100Z",
     "start_time": "2024-01-22T14:12:08.363461900Z"
    }
   },
   "id": "cb9580b595e519fd",
   "execution_count": 3
  },
  {
   "cell_type": "code",
   "outputs": [
    {
     "data": {
      "text/plain": "  StrippedCellLineName     ModelID OncotreeCode\n0            NIHOVCAR3  ACH-000001        HGSOC\n1                 HL60  ACH-000002          AML\n2                CACO2  ACH-000003         COAD\n3                  HEL  ACH-000004          AML\n4              HEL9217  ACH-000005          AML",
      "text/html": "<div>\n<style scoped>\n    .dataframe tbody tr th:only-of-type {\n        vertical-align: middle;\n    }\n\n    .dataframe tbody tr th {\n        vertical-align: top;\n    }\n\n    .dataframe thead th {\n        text-align: right;\n    }\n</style>\n<table border=\"1\" class=\"dataframe\">\n  <thead>\n    <tr style=\"text-align: right;\">\n      <th></th>\n      <th>StrippedCellLineName</th>\n      <th>ModelID</th>\n      <th>OncotreeCode</th>\n    </tr>\n  </thead>\n  <tbody>\n    <tr>\n      <th>0</th>\n      <td>NIHOVCAR3</td>\n      <td>ACH-000001</td>\n      <td>HGSOC</td>\n    </tr>\n    <tr>\n      <th>1</th>\n      <td>HL60</td>\n      <td>ACH-000002</td>\n      <td>AML</td>\n    </tr>\n    <tr>\n      <th>2</th>\n      <td>CACO2</td>\n      <td>ACH-000003</td>\n      <td>COAD</td>\n    </tr>\n    <tr>\n      <th>3</th>\n      <td>HEL</td>\n      <td>ACH-000004</td>\n      <td>AML</td>\n    </tr>\n    <tr>\n      <th>4</th>\n      <td>HEL9217</td>\n      <td>ACH-000005</td>\n      <td>AML</td>\n    </tr>\n  </tbody>\n</table>\n</div>"
     },
     "execution_count": 4,
     "metadata": {},
     "output_type": "execute_result"
    }
   ],
   "source": [
    "df_model = pd.read_csv('../data/Model.csv')\n",
    "df_model['StrippedCellLineName'] = df_model['StrippedCellLineName'].apply(clean_cell_line_name)\n",
    "# 取StrippedCellLineName列、ModelID列和OncotreeCode列\n",
    "df_model = df_model[['StrippedCellLineName', 'ModelID', 'OncotreeCode']]\n",
    "df_model.head()"
   ],
   "metadata": {
    "collapsed": false,
    "ExecuteTime": {
     "end_time": "2024-01-22T14:12:08.472437600Z",
     "start_time": "2024-01-22T14:12:08.409042100Z"
    }
   },
   "id": "f34057a9df3ba0e3",
   "execution_count": 4
  },
  {
   "cell_type": "code",
   "outputs": [
    {
     "data": {
      "text/plain": "                      drug cell_line      IC50  prediction OncotreeCode\n0                    IWP-2     22RV1  4.036203    3.309500         PRAD\n1              Doramapimod     22RV1  6.475129    6.213650         PRAD\n2  Podophyllotoxin bromide     22RV1 -0.355127   -0.698705         PRAD\n3                  GNE-317     22RV1 -0.170000   -0.360269         PRAD\n4         Schweinfurthin A     22RV1  1.454677    3.021544         PRAD",
      "text/html": "<div>\n<style scoped>\n    .dataframe tbody tr th:only-of-type {\n        vertical-align: middle;\n    }\n\n    .dataframe tbody tr th {\n        vertical-align: top;\n    }\n\n    .dataframe thead th {\n        text-align: right;\n    }\n</style>\n<table border=\"1\" class=\"dataframe\">\n  <thead>\n    <tr style=\"text-align: right;\">\n      <th></th>\n      <th>drug</th>\n      <th>cell_line</th>\n      <th>IC50</th>\n      <th>prediction</th>\n      <th>OncotreeCode</th>\n    </tr>\n  </thead>\n  <tbody>\n    <tr>\n      <th>0</th>\n      <td>IWP-2</td>\n      <td>22RV1</td>\n      <td>4.036203</td>\n      <td>3.309500</td>\n      <td>PRAD</td>\n    </tr>\n    <tr>\n      <th>1</th>\n      <td>Doramapimod</td>\n      <td>22RV1</td>\n      <td>6.475129</td>\n      <td>6.213650</td>\n      <td>PRAD</td>\n    </tr>\n    <tr>\n      <th>2</th>\n      <td>Podophyllotoxin bromide</td>\n      <td>22RV1</td>\n      <td>-0.355127</td>\n      <td>-0.698705</td>\n      <td>PRAD</td>\n    </tr>\n    <tr>\n      <th>3</th>\n      <td>GNE-317</td>\n      <td>22RV1</td>\n      <td>-0.170000</td>\n      <td>-0.360269</td>\n      <td>PRAD</td>\n    </tr>\n    <tr>\n      <th>4</th>\n      <td>Schweinfurthin A</td>\n      <td>22RV1</td>\n      <td>1.454677</td>\n      <td>3.021544</td>\n      <td>PRAD</td>\n    </tr>\n  </tbody>\n</table>\n</div>"
     },
     "execution_count": 5,
     "metadata": {},
     "output_type": "execute_result"
    }
   ],
   "source": [
    "df_MixSet_merged = pd.merge(df_mixSet, df_model, left_on='cell_line', right_on='StrippedCellLineName')\n",
    "# 取drug列、cell_line列、IC50列、prediction列和OncotreeCode列\n",
    "df_MixSet_merged = df_MixSet_merged[['drug', 'cell_line', 'IC50', 'prediction', 'OncotreeCode']]\n",
    "\n",
    "df_MixSet_merged.head()"
   ],
   "metadata": {
    "collapsed": false,
    "ExecuteTime": {
     "end_time": "2024-01-22T14:12:08.477421500Z",
     "start_time": "2024-01-22T14:12:08.443542200Z"
    }
   },
   "id": "7b8e0c6b9332e8d9",
   "execution_count": 5
  },
  {
   "cell_type": "code",
   "outputs": [
    {
     "data": {
      "text/plain": "OncotreeCode\nLUAD     962\nSCLC     699\nCOAD     685\nPAAD     471\nGB       414\n        ... \nRMS       16\nMXOV      16\nAASTR     14\nGBC       14\nTHME      14\nName: count, Length: 118, dtype: int64"
     },
     "execution_count": 6,
     "metadata": {},
     "output_type": "execute_result"
    }
   ],
   "source": [
    "# 统计df_merged中每个OncotreeCode的数量\n",
    "df_MixSet_merged['OncotreeCode'].value_counts()"
   ],
   "metadata": {
    "collapsed": false,
    "ExecuteTime": {
     "end_time": "2024-01-22T14:12:08.503557800Z",
     "start_time": "2024-01-22T14:12:08.459295400Z"
    }
   },
   "id": "4698dddd5c28ae36",
   "execution_count": 6
  },
  {
   "cell_type": "code",
   "outputs": [],
   "source": [
    "# todo:MixSet绘制前十种癌症的散点图\n"
   ],
   "metadata": {
    "collapsed": false,
    "ExecuteTime": {
     "end_time": "2024-01-22T14:12:08.536522800Z",
     "start_time": "2024-01-22T14:12:08.472437600Z"
    }
   },
   "id": "1577eb3a28163887",
   "execution_count": 7
  },
  {
   "cell_type": "code",
   "outputs": [
    {
     "data": {
      "text/plain": "   Unnamed: 0            drug cell_line      IC50  prediction\n0           0  5-Fluorouracil      PC14  4.138791    5.553128\n1           1   5-azacytidine      PC14  2.782368    4.122593\n2           2           A-366      PC14  4.651003    5.387908\n3           3          ABT737      PC14  2.341568    2.974360\n4           4        AGI-5198      PC14  5.232588    5.088980",
      "text/html": "<div>\n<style scoped>\n    .dataframe tbody tr th:only-of-type {\n        vertical-align: middle;\n    }\n\n    .dataframe tbody tr th {\n        vertical-align: top;\n    }\n\n    .dataframe thead th {\n        text-align: right;\n    }\n</style>\n<table border=\"1\" class=\"dataframe\">\n  <thead>\n    <tr style=\"text-align: right;\">\n      <th></th>\n      <th>Unnamed: 0</th>\n      <th>drug</th>\n      <th>cell_line</th>\n      <th>IC50</th>\n      <th>prediction</th>\n    </tr>\n  </thead>\n  <tbody>\n    <tr>\n      <th>0</th>\n      <td>0</td>\n      <td>5-Fluorouracil</td>\n      <td>PC14</td>\n      <td>4.138791</td>\n      <td>5.553128</td>\n    </tr>\n    <tr>\n      <th>1</th>\n      <td>1</td>\n      <td>5-azacytidine</td>\n      <td>PC14</td>\n      <td>2.782368</td>\n      <td>4.122593</td>\n    </tr>\n    <tr>\n      <th>2</th>\n      <td>2</td>\n      <td>A-366</td>\n      <td>PC14</td>\n      <td>4.651003</td>\n      <td>5.387908</td>\n    </tr>\n    <tr>\n      <th>3</th>\n      <td>3</td>\n      <td>ABT737</td>\n      <td>PC14</td>\n      <td>2.341568</td>\n      <td>2.974360</td>\n    </tr>\n    <tr>\n      <th>4</th>\n      <td>4</td>\n      <td>AGI-5198</td>\n      <td>PC14</td>\n      <td>5.232588</td>\n      <td>5.088980</td>\n    </tr>\n  </tbody>\n</table>\n</div>"
     },
     "execution_count": 8,
     "metadata": {},
     "output_type": "execute_result"
    }
   ],
   "source": [
    "df_CellBlind = pd.read_csv('../data/drug_sensitivity_CellBlind_test&prediction.csv')\n",
    "df_CellBlind.head()"
   ],
   "metadata": {
    "collapsed": false,
    "ExecuteTime": {
     "end_time": "2024-01-22T14:12:08.579254Z",
     "start_time": "2024-01-22T14:12:08.488858300Z"
    }
   },
   "id": "7e063304b523a59b",
   "execution_count": 8
  },
  {
   "cell_type": "code",
   "outputs": [
    {
     "data": {
      "text/plain": "             drug cell_line      IC50  prediction OncotreeCode\n0  5-Fluorouracil      PC14  4.138791    5.553128         LUAD\n1   5-azacytidine      PC14  2.782368    4.122593         LUAD\n2           A-366      PC14  4.651003    5.387908         LUAD\n3          ABT737      PC14  2.341568    2.974360         LUAD\n4        AGI-5198      PC14  5.232588    5.088980         LUAD",
      "text/html": "<div>\n<style scoped>\n    .dataframe tbody tr th:only-of-type {\n        vertical-align: middle;\n    }\n\n    .dataframe tbody tr th {\n        vertical-align: top;\n    }\n\n    .dataframe thead th {\n        text-align: right;\n    }\n</style>\n<table border=\"1\" class=\"dataframe\">\n  <thead>\n    <tr style=\"text-align: right;\">\n      <th></th>\n      <th>drug</th>\n      <th>cell_line</th>\n      <th>IC50</th>\n      <th>prediction</th>\n      <th>OncotreeCode</th>\n    </tr>\n  </thead>\n  <tbody>\n    <tr>\n      <th>0</th>\n      <td>5-Fluorouracil</td>\n      <td>PC14</td>\n      <td>4.138791</td>\n      <td>5.553128</td>\n      <td>LUAD</td>\n    </tr>\n    <tr>\n      <th>1</th>\n      <td>5-azacytidine</td>\n      <td>PC14</td>\n      <td>2.782368</td>\n      <td>4.122593</td>\n      <td>LUAD</td>\n    </tr>\n    <tr>\n      <th>2</th>\n      <td>A-366</td>\n      <td>PC14</td>\n      <td>4.651003</td>\n      <td>5.387908</td>\n      <td>LUAD</td>\n    </tr>\n    <tr>\n      <th>3</th>\n      <td>ABT737</td>\n      <td>PC14</td>\n      <td>2.341568</td>\n      <td>2.974360</td>\n      <td>LUAD</td>\n    </tr>\n    <tr>\n      <th>4</th>\n      <td>AGI-5198</td>\n      <td>PC14</td>\n      <td>5.232588</td>\n      <td>5.088980</td>\n      <td>LUAD</td>\n    </tr>\n  </tbody>\n</table>\n</div>"
     },
     "execution_count": 9,
     "metadata": {},
     "output_type": "execute_result"
    }
   ],
   "source": [
    "df_CellBlind_merged = pd.merge(df_CellBlind, df_model, left_on='cell_line', right_on='StrippedCellLineName')\n",
    "# 取drug列、cell_line列、IC50列、prediction列和OncotreeCode列\n",
    "df_CellBlind_merged = df_CellBlind_merged[['drug', 'cell_line', 'IC50', 'prediction', 'OncotreeCode']]\n",
    "\n",
    "df_CellBlind_merged.head()"
   ],
   "metadata": {
    "collapsed": false,
    "ExecuteTime": {
     "end_time": "2024-01-22T14:12:08.600828500Z",
     "start_time": "2024-01-22T14:12:08.525472200Z"
    }
   },
   "id": "4b7c92b7341f1d84",
   "execution_count": 9
  },
  {
   "cell_type": "code",
   "outputs": [
    {
     "data": {
      "text/plain": "OncotreeCode\nLUAD        1432\nGB           653\nOCSC         653\nLUSC         616\nIDC          440\nCOAD         438\nUCEC         435\nESCC         434\nAML          433\nDLBCLNOS     431\nPCM          431\nSCLC         386\nHGSOC        363\nCCRCC        332\nNBL          306\nBLL          267\nOS           232\nBRCNOS       221\nBRCA         219\nIHCH         218\nSOC          218\nBLCA         217\nCML          217\nEOV          217\nSTAD         217\nCESC         217\nRCC          217\nES           216\nCCOV         216\nPAAD         216\nALCLALKP     216\nGCB          194\nRMS          180\nPRSCC        179\nPLBMESO      153\nTHME         153\nMEL          153\nILC          144\nName: count, dtype: int64"
     },
     "execution_count": 10,
     "metadata": {},
     "output_type": "execute_result"
    }
   ],
   "source": [
    "df_CellBlind_merged['OncotreeCode'].value_counts()"
   ],
   "metadata": {
    "collapsed": false,
    "ExecuteTime": {
     "end_time": "2024-01-22T14:12:08.616131800Z",
     "start_time": "2024-01-22T14:12:08.550152900Z"
    }
   },
   "id": "a8355be744013de1",
   "execution_count": 10
  },
  {
   "cell_type": "code",
   "outputs": [],
   "source": [
    "# todo:Cell Blind绘制前十种癌症的散点图\n"
   ],
   "metadata": {
    "collapsed": false
   },
   "id": "3cf1f6c651b97a57"
  }
 ],
 "metadata": {
  "kernelspec": {
   "display_name": "Python 3",
   "language": "python",
   "name": "python3"
  },
  "language_info": {
   "codemirror_mode": {
    "name": "ipython",
    "version": 2
   },
   "file_extension": ".py",
   "mimetype": "text/x-python",
   "name": "python",
   "nbconvert_exporter": "python",
   "pygments_lexer": "ipython2",
   "version": "2.7.6"
  }
 },
 "nbformat": 4,
 "nbformat_minor": 5
}
