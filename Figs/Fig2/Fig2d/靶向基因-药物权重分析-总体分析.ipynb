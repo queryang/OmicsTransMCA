{
 "cells": [
  {
   "cell_type": "code",
   "execution_count": 1,
   "id": "initial_id",
   "metadata": {
    "collapsed": true,
    "ExecuteTime": {
     "end_time": "2024-02-20T03:26:59.287839100Z",
     "start_time": "2024-02-20T03:26:59.275418600Z"
    }
   },
   "outputs": [],
   "source": [
    "import pandas as pd\n",
    "import numpy as np\n",
    "import matplotlib.pyplot as plt\n",
    "plt.style.use('default')"
   ]
  },
  {
   "cell_type": "code",
   "outputs": [],
   "source": [
    "dict = {\n",
    "    \"<PAD>\": 0,\"<UNK>\": 1,\"<START>\": 2,\"<STOP>\": 3,\"(\": 4,\")\": 5,\"1\": 6,\"2\": 7,\"3\": 8,\"4\": 9,\"5\": 10,\"6\": 11,\"7\": 12,\"8\": 13,\"9\": 14,\"%10\": 15,\"%11\": 16,\"%12\": 17,\"%13\": 18,\"%14\": 19,\"%15\": 20,\"%16\": 21,\"%17\": 22,\"%18\": 23,\"%19\": 24,\"%20\": 25,\"%21\": 26,\"%22\": 27,\"%23\": 28,\"%24\": 29,\"%25\": 30,\"%26\": 31,\"%27\": 32,\"%28\": 33,\"%29\": 34,\"O\": 35,\"N\": 36,\"=\": 37,\"C\": 38,\" \": 39,\"Cl\": 40,\".\": 41,\"[Pt]\": 42,\"F\": 43,\"S\": 44,\"#\": 45,\"I\": 46,\"[Pt+2]\": 47,\"[NH-]\": 48,\"[O-]\": 49,\"[N+]\": 50,\"B\": 51,\"P\": 52,\"Br\": 53,\"[S+]\": 54,\"[Br-]\": 55\n",
    "}"
   ],
   "metadata": {
    "collapsed": false,
    "ExecuteTime": {
     "end_time": "2024-02-20T03:26:59.299487200Z",
     "start_time": "2024-02-20T03:26:59.282894300Z"
    }
   },
   "id": "44eece4572c7b45a",
   "execution_count": 2
  },
  {
   "cell_type": "code",
   "outputs": [
    {
     "data": {
      "text/plain": "             drug OncotreeCode cell_line         0         1         2  \\\n0  5-Fluorouracil          PCM      OPM2  0.002356  0.003071  0.002732   \n1   5-azacytidine          PCM      OPM2  0.002204  0.002897  0.002576   \n2           A-366          PCM      OPM2  0.002104  0.002775  0.002463   \n3          ABT737          PCM      OPM2  0.001874  0.002511  0.002220   \n4        AGI-5198          PCM      OPM2  0.001997  0.002653  0.002349   \n\n          3         4         5         6  ...       246       247       248  \\\n0  0.004914  0.004261  0.004978  0.001775  ...  0.026119  0.028015  0.010345   \n1  0.004770  0.004089  0.004820  0.001639  ...  0.017020  0.008060  0.010243   \n2  0.004676  0.003960  0.004714  0.001537  ...  0.006011  0.005778  0.009135   \n3  0.004436  0.003700  0.004466  0.001332  ...  0.005321  0.005187  0.006720   \n4  0.004567  0.003842  0.004599  0.001443  ...  0.008812  0.008993  0.008153   \n\n        249       250       251       252       253       254       255  \n0  0.021115  0.011152  0.008832  0.005626  0.006518  0.009014  0.005490  \n1  0.006067  0.029940  0.015759  0.011790  0.008960  0.005428  0.005950  \n2  0.004954  0.008338  0.016123  0.018105  0.010478  0.005555  0.005962  \n3  0.006663  0.007908  0.006287  0.005171  0.004562  0.009057  0.006331  \n4  0.015015  0.015713  0.017204  0.017644  0.010247  0.005821  0.006480  \n\n[5 rows x 259 columns]",
      "text/html": "<div>\n<style scoped>\n    .dataframe tbody tr th:only-of-type {\n        vertical-align: middle;\n    }\n\n    .dataframe tbody tr th {\n        vertical-align: top;\n    }\n\n    .dataframe thead th {\n        text-align: right;\n    }\n</style>\n<table border=\"1\" class=\"dataframe\">\n  <thead>\n    <tr style=\"text-align: right;\">\n      <th></th>\n      <th>drug</th>\n      <th>OncotreeCode</th>\n      <th>cell_line</th>\n      <th>0</th>\n      <th>1</th>\n      <th>2</th>\n      <th>3</th>\n      <th>4</th>\n      <th>5</th>\n      <th>6</th>\n      <th>...</th>\n      <th>246</th>\n      <th>247</th>\n      <th>248</th>\n      <th>249</th>\n      <th>250</th>\n      <th>251</th>\n      <th>252</th>\n      <th>253</th>\n      <th>254</th>\n      <th>255</th>\n    </tr>\n  </thead>\n  <tbody>\n    <tr>\n      <th>0</th>\n      <td>5-Fluorouracil</td>\n      <td>PCM</td>\n      <td>OPM2</td>\n      <td>0.002356</td>\n      <td>0.003071</td>\n      <td>0.002732</td>\n      <td>0.004914</td>\n      <td>0.004261</td>\n      <td>0.004978</td>\n      <td>0.001775</td>\n      <td>...</td>\n      <td>0.026119</td>\n      <td>0.028015</td>\n      <td>0.010345</td>\n      <td>0.021115</td>\n      <td>0.011152</td>\n      <td>0.008832</td>\n      <td>0.005626</td>\n      <td>0.006518</td>\n      <td>0.009014</td>\n      <td>0.005490</td>\n    </tr>\n    <tr>\n      <th>1</th>\n      <td>5-azacytidine</td>\n      <td>PCM</td>\n      <td>OPM2</td>\n      <td>0.002204</td>\n      <td>0.002897</td>\n      <td>0.002576</td>\n      <td>0.004770</td>\n      <td>0.004089</td>\n      <td>0.004820</td>\n      <td>0.001639</td>\n      <td>...</td>\n      <td>0.017020</td>\n      <td>0.008060</td>\n      <td>0.010243</td>\n      <td>0.006067</td>\n      <td>0.029940</td>\n      <td>0.015759</td>\n      <td>0.011790</td>\n      <td>0.008960</td>\n      <td>0.005428</td>\n      <td>0.005950</td>\n    </tr>\n    <tr>\n      <th>2</th>\n      <td>A-366</td>\n      <td>PCM</td>\n      <td>OPM2</td>\n      <td>0.002104</td>\n      <td>0.002775</td>\n      <td>0.002463</td>\n      <td>0.004676</td>\n      <td>0.003960</td>\n      <td>0.004714</td>\n      <td>0.001537</td>\n      <td>...</td>\n      <td>0.006011</td>\n      <td>0.005778</td>\n      <td>0.009135</td>\n      <td>0.004954</td>\n      <td>0.008338</td>\n      <td>0.016123</td>\n      <td>0.018105</td>\n      <td>0.010478</td>\n      <td>0.005555</td>\n      <td>0.005962</td>\n    </tr>\n    <tr>\n      <th>3</th>\n      <td>ABT737</td>\n      <td>PCM</td>\n      <td>OPM2</td>\n      <td>0.001874</td>\n      <td>0.002511</td>\n      <td>0.002220</td>\n      <td>0.004436</td>\n      <td>0.003700</td>\n      <td>0.004466</td>\n      <td>0.001332</td>\n      <td>...</td>\n      <td>0.005321</td>\n      <td>0.005187</td>\n      <td>0.006720</td>\n      <td>0.006663</td>\n      <td>0.007908</td>\n      <td>0.006287</td>\n      <td>0.005171</td>\n      <td>0.004562</td>\n      <td>0.009057</td>\n      <td>0.006331</td>\n    </tr>\n    <tr>\n      <th>4</th>\n      <td>AGI-5198</td>\n      <td>PCM</td>\n      <td>OPM2</td>\n      <td>0.001997</td>\n      <td>0.002653</td>\n      <td>0.002349</td>\n      <td>0.004567</td>\n      <td>0.003842</td>\n      <td>0.004599</td>\n      <td>0.001443</td>\n      <td>...</td>\n      <td>0.008812</td>\n      <td>0.008993</td>\n      <td>0.008153</td>\n      <td>0.015015</td>\n      <td>0.015713</td>\n      <td>0.017204</td>\n      <td>0.017644</td>\n      <td>0.010247</td>\n      <td>0.005821</td>\n      <td>0.006480</td>\n    </tr>\n  </tbody>\n</table>\n<p>5 rows × 259 columns</p>\n</div>"
     },
     "execution_count": 3,
     "metadata": {},
     "output_type": "execute_result"
    }
   ],
   "source": [
    "df_smiles_att = pd.read_csv('../../data/GEP_CellBlind_LUNG_smiles_attentions_gep.csv')\n",
    "df_smiles_att.head()"
   ],
   "metadata": {
    "collapsed": false,
    "ExecuteTime": {
     "end_time": "2024-02-20T03:26:59.599852300Z",
     "start_time": "2024-02-20T03:26:59.293870800Z"
    }
   },
   "id": "38789114f05614de",
   "execution_count": 3
  },
  {
   "cell_type": "code",
   "outputs": [
    {
     "name": "stdout",
     "output_type": "stream",
     "text": [
      "(1749, 259)\n"
     ]
    },
    {
     "data": {
      "text/plain": "                drug OncotreeCode cell_line         0         1         2  \\\n9492  5-Fluorouracil         LUAD    HCC827  0.002332  0.003051  0.002696   \n9493   5-azacytidine         LUAD    HCC827  0.002176  0.002872  0.002533   \n9494           A-366         LUAD    HCC827  0.002058  0.002732  0.002405   \n9495          ABT737         LUAD    HCC827  0.001845  0.002486  0.002181   \n9496        AGI-5198         LUAD    HCC827  0.001975  0.002638  0.002317   \n\n             3         4         5         6  ...       246       247  \\\n9492  0.004938  0.004247  0.004951  0.001768  ...  0.004756  0.011355   \n9493  0.004793  0.004070  0.004788  0.001628  ...  0.007311  0.010262   \n9494  0.004687  0.003927  0.004668  0.001514  ...  0.018097  0.013081   \n9495  0.004459  0.003681  0.004436  0.001318  ...  0.008413  0.007852   \n9496  0.004602  0.003835  0.004579  0.001442  ...  0.011213  0.014160   \n\n           248       249       250       251       252       253       254  \\\n9492  0.020660  0.022690  0.030576  0.010715  0.024845  0.009376  0.005229   \n9493  0.009790  0.014226  0.006366  0.007301  0.006427  0.006597  0.007583   \n9494  0.009018  0.009293  0.018190  0.016391  0.019258  0.009990  0.006284   \n9495  0.011294  0.007599  0.012511  0.005637  0.007708  0.004638  0.003451   \n9496  0.012123  0.005891  0.009362  0.010309  0.008090  0.005004  0.003960   \n\n           255  \n9492  0.005370  \n9493  0.005239  \n9494  0.006972  \n9495  0.003847  \n9496  0.004632  \n\n[5 rows x 259 columns]",
      "text/html": "<div>\n<style scoped>\n    .dataframe tbody tr th:only-of-type {\n        vertical-align: middle;\n    }\n\n    .dataframe tbody tr th {\n        vertical-align: top;\n    }\n\n    .dataframe thead th {\n        text-align: right;\n    }\n</style>\n<table border=\"1\" class=\"dataframe\">\n  <thead>\n    <tr style=\"text-align: right;\">\n      <th></th>\n      <th>drug</th>\n      <th>OncotreeCode</th>\n      <th>cell_line</th>\n      <th>0</th>\n      <th>1</th>\n      <th>2</th>\n      <th>3</th>\n      <th>4</th>\n      <th>5</th>\n      <th>6</th>\n      <th>...</th>\n      <th>246</th>\n      <th>247</th>\n      <th>248</th>\n      <th>249</th>\n      <th>250</th>\n      <th>251</th>\n      <th>252</th>\n      <th>253</th>\n      <th>254</th>\n      <th>255</th>\n    </tr>\n  </thead>\n  <tbody>\n    <tr>\n      <th>9492</th>\n      <td>5-Fluorouracil</td>\n      <td>LUAD</td>\n      <td>HCC827</td>\n      <td>0.002332</td>\n      <td>0.003051</td>\n      <td>0.002696</td>\n      <td>0.004938</td>\n      <td>0.004247</td>\n      <td>0.004951</td>\n      <td>0.001768</td>\n      <td>...</td>\n      <td>0.004756</td>\n      <td>0.011355</td>\n      <td>0.020660</td>\n      <td>0.022690</td>\n      <td>0.030576</td>\n      <td>0.010715</td>\n      <td>0.024845</td>\n      <td>0.009376</td>\n      <td>0.005229</td>\n      <td>0.005370</td>\n    </tr>\n    <tr>\n      <th>9493</th>\n      <td>5-azacytidine</td>\n      <td>LUAD</td>\n      <td>HCC827</td>\n      <td>0.002176</td>\n      <td>0.002872</td>\n      <td>0.002533</td>\n      <td>0.004793</td>\n      <td>0.004070</td>\n      <td>0.004788</td>\n      <td>0.001628</td>\n      <td>...</td>\n      <td>0.007311</td>\n      <td>0.010262</td>\n      <td>0.009790</td>\n      <td>0.014226</td>\n      <td>0.006366</td>\n      <td>0.007301</td>\n      <td>0.006427</td>\n      <td>0.006597</td>\n      <td>0.007583</td>\n      <td>0.005239</td>\n    </tr>\n    <tr>\n      <th>9494</th>\n      <td>A-366</td>\n      <td>LUAD</td>\n      <td>HCC827</td>\n      <td>0.002058</td>\n      <td>0.002732</td>\n      <td>0.002405</td>\n      <td>0.004687</td>\n      <td>0.003927</td>\n      <td>0.004668</td>\n      <td>0.001514</td>\n      <td>...</td>\n      <td>0.018097</td>\n      <td>0.013081</td>\n      <td>0.009018</td>\n      <td>0.009293</td>\n      <td>0.018190</td>\n      <td>0.016391</td>\n      <td>0.019258</td>\n      <td>0.009990</td>\n      <td>0.006284</td>\n      <td>0.006972</td>\n    </tr>\n    <tr>\n      <th>9495</th>\n      <td>ABT737</td>\n      <td>LUAD</td>\n      <td>HCC827</td>\n      <td>0.001845</td>\n      <td>0.002486</td>\n      <td>0.002181</td>\n      <td>0.004459</td>\n      <td>0.003681</td>\n      <td>0.004436</td>\n      <td>0.001318</td>\n      <td>...</td>\n      <td>0.008413</td>\n      <td>0.007852</td>\n      <td>0.011294</td>\n      <td>0.007599</td>\n      <td>0.012511</td>\n      <td>0.005637</td>\n      <td>0.007708</td>\n      <td>0.004638</td>\n      <td>0.003451</td>\n      <td>0.003847</td>\n    </tr>\n    <tr>\n      <th>9496</th>\n      <td>AGI-5198</td>\n      <td>LUAD</td>\n      <td>HCC827</td>\n      <td>0.001975</td>\n      <td>0.002638</td>\n      <td>0.002317</td>\n      <td>0.004602</td>\n      <td>0.003835</td>\n      <td>0.004579</td>\n      <td>0.001442</td>\n      <td>...</td>\n      <td>0.011213</td>\n      <td>0.014160</td>\n      <td>0.012123</td>\n      <td>0.005891</td>\n      <td>0.009362</td>\n      <td>0.010309</td>\n      <td>0.008090</td>\n      <td>0.005004</td>\n      <td>0.003960</td>\n      <td>0.004632</td>\n    </tr>\n  </tbody>\n</table>\n<p>5 rows × 259 columns</p>\n</div>"
     },
     "execution_count": 4,
     "metadata": {},
     "output_type": "execute_result"
    }
   ],
   "source": [
    "\n",
    "# 筛选出cell_line = ['EKVX','HCC827','LCLC103H','LU135','NCIH1299','NCIH146','NCIH1963','NCIH2170','NCIH2228','NCIH526','PC14','RERFLCSQ1']\n",
    "# NSCLC:['EKVX','HCC827','LCLC103H','NCIH1299','NCIH2170','NCIH2228','PC14','RERFLCSQ1']\n",
    "# LUAD:['NCIH2228','HCC827','EKVX','PC14']\n",
    "# SCLC:['NCIH526','LU135','NCIH146','NCIH1963']\n",
    "cell_line = ['EKVX','HCC827','LCLC103H','NCIH1299','NCIH2170','NCIH2228','PC14','RERFLCSQ1']\n",
    "# cell_line = ['NCIH526','LU135','NCIH146','NCIH1963']\n",
    "df_smiles_att_single_filtered = df_smiles_att[df_smiles_att['cell_line'].isin(cell_line)]\n",
    "print(df_smiles_att_single_filtered.shape)\n",
    "df_smiles_att_single_filtered.head()"
   ],
   "metadata": {
    "collapsed": false,
    "ExecuteTime": {
     "end_time": "2024-02-20T03:26:59.635398400Z",
     "start_time": "2024-02-20T03:26:59.596517Z"
    }
   },
   "id": "573ac58c1d912224",
   "execution_count": 4
  },
  {
   "cell_type": "code",
   "outputs": [
    {
     "name": "stdout",
     "output_type": "stream",
     "text": [
      "(1749, 622)\n"
     ]
    },
    {
     "data": {
      "text/plain": "                drug cell_line OncotreeCode  \\\n9492  5-Fluorouracil    HCC827         LUAD   \n9493   5-azacytidine    HCC827         LUAD   \n9494           A-366    HCC827         LUAD   \n9495          ABT737    HCC827         LUAD   \n9496        AGI-5198    HCC827         LUAD   \n\n      KEGG_MEDICUS_ENV_FACTOR_ARSENIC_TO_ELECTRON_TRANSFER_IN_COMPLEX_IV  \\\n9492                                           0.001369                    \n9493                                           0.001556                    \n9494                                           0.001391                    \n9495                                           0.001371                    \n9496                                           0.001361                    \n\n      KEGG_MEDICUS_ENV_FACTOR_BENZO_A_PYRENRE_TO_CYP_MEDIATED_METABOLISM  \\\n9492                                           0.001426                    \n9493                                           0.001327                    \n9494                                           0.001622                    \n9495                                           0.001472                    \n9496                                           0.001451                    \n\n      KEGG_MEDICUS_ENV_FACTOR_BPA_TO_RAS_ERK_SIGNALING_PATHWAY  \\\n9492                                           0.001540          \n9493                                           0.001549          \n9494                                           0.001523          \n9495                                           0.001551          \n9496                                           0.001533          \n\n      KEGG_MEDICUS_ENV_FACTOR_DCE_TO_DNA_ADDUCTS  \\\n9492                                    0.002264   \n9493                                    0.002153   \n9494                                    0.001685   \n9495                                    0.001253   \n9496                                    0.001655   \n\n      KEGG_MEDICUS_ENV_FACTOR_E2_TO_NUCLEAR_INITIATED_ESTROGEN_SIGNALING_PATHWAY  \\\n9492                                           0.001739                            \n9493                                           0.001751                            \n9494                                           0.001708                            \n9495                                           0.001746                            \n9496                                           0.001740                            \n\n      KEGG_MEDICUS_ENV_FACTOR_E2_TO_RAS_ERK_SIGNALING_PATHWAY  \\\n9492                                           0.001743         \n9493                                           0.001593         \n9494                                           0.001727         \n9495                                           0.001757         \n9496                                           0.001577         \n\n      KEGG_MEDICUS_ENV_FACTOR_IRON_TO_ANTEROGRADE_AXONAL_TRANSPORT  ...  \\\n9492                                           0.001756             ...   \n9493                                           0.001424             ...   \n9494                                           0.001567             ...   \n9495                                           0.001596             ...   \n9496                                           0.001578             ...   \n\n      KEGG_MEDICUS_VARIANT_SCRAPIE_CONFORMATION_PRPSC_TO_26S_PROTEASOME_MEDIATED_PROTEIN_DEGRADATION  \\\n9492                                           0.001509                                                \n9493                                           0.001550                                                \n9494                                           0.001524                                                \n9495                                           0.001371                                                \n9496                                           0.001534                                                \n\n      KEGG_MEDICUS_VARIANT_SCRAPIE_CONFORMATION_PRPSC_TO_MGLUR5_CA2_APOPTOTIC_PATHWAY  \\\n9492                                           0.001329                                 \n9493                                           0.001314                                 \n9494                                           0.001405                                 \n9495                                           0.001404                                 \n9496                                           0.001364                                 \n\n      KEGG_MEDICUS_VARIANT_SCRAPIE_CONFORMATION_PRPSC_TO_PERK_ATF4_SIGNALING_PATHWAY  \\\n9492                                           0.001365                                \n9493                                           0.001348                                \n9494                                           0.001509                                \n9495                                           0.001544                                \n9496                                           0.001502                                \n\n      KEGG_MEDICUS_VARIANT_SCRAPIE_CONFORMATION_PRPSC_TO_PRNP_PI3K_NOX2_SIGNALING_PATHWAY  \\\n9492                                           0.001443                                     \n9493                                           0.001411                                     \n9494                                           0.001394                                     \n9495                                           0.001479                                     \n9496                                           0.001404                                     \n\n      KEGG_MEDICUS_VARIANT_SCRAPIE_CONFORMATION_PRPSC_TO_TRANSPORT_OF_CALCIUM  \\\n9492                                           0.001413                         \n9493                                           0.001411                         \n9494                                           0.001567                         \n9495                                           0.001595                         \n9496                                           0.001403                         \n\n      KEGG_MEDICUS_VARIANT_SCRAPIE_CONFORMATION_PRPSC_TO_VGCC_CA2_APOPTOTIC_PATHWAY  \\\n9492                                           0.001735                               \n9493                                           0.001747                               \n9494                                           0.001561                               \n9495                                           0.001588                               \n9496                                           0.001734                               \n\n      KEGG_MEDICUS_VARIANT_TEL_AML1_FUSION_TO_TRANSCRIPTIONAL_REPRESSION  \\\n9492                                           0.002677                    \n9493                                           0.002680                    \n9494                                           0.002652                    \n9495                                           0.002382                    \n9496                                           0.002483                    \n\n      KEGG_MEDICUS_VARIANT_TGFA_OVEREXPRESSION_TO_PI3K_SIGNALING_PATHWAY  \\\n9492                                           0.001404                    \n9493                                           0.001549                    \n9494                                           0.001285                    \n9495                                           0.001216                    \n9496                                           0.001392                    \n\n      KEGG_MEDICUS_VARIANT_TMPRSS2_ERG_FUSION_TO_TRANSCRIPTIONAL_ACTIVATION  \\\n9492                                           0.002237                       \n9493                                           0.002575                       \n9494                                           0.002561                       \n9495                                           0.002352                       \n9496                                           0.002451                       \n\n      KEGG_MEDICUS_VARIANT_TRK_FUSION_KINASE_TO_RAS_ERK_SIGNALING_PATHWAY  \n9492                                           0.001536                    \n9493                                           0.001526                    \n9494                                           0.001581                    \n9495                                           0.001505                    \n9496                                           0.001517                    \n\n[5 rows x 622 columns]",
      "text/html": "<div>\n<style scoped>\n    .dataframe tbody tr th:only-of-type {\n        vertical-align: middle;\n    }\n\n    .dataframe tbody tr th {\n        vertical-align: top;\n    }\n\n    .dataframe thead th {\n        text-align: right;\n    }\n</style>\n<table border=\"1\" class=\"dataframe\">\n  <thead>\n    <tr style=\"text-align: right;\">\n      <th></th>\n      <th>drug</th>\n      <th>cell_line</th>\n      <th>OncotreeCode</th>\n      <th>KEGG_MEDICUS_ENV_FACTOR_ARSENIC_TO_ELECTRON_TRANSFER_IN_COMPLEX_IV</th>\n      <th>KEGG_MEDICUS_ENV_FACTOR_BENZO_A_PYRENRE_TO_CYP_MEDIATED_METABOLISM</th>\n      <th>KEGG_MEDICUS_ENV_FACTOR_BPA_TO_RAS_ERK_SIGNALING_PATHWAY</th>\n      <th>KEGG_MEDICUS_ENV_FACTOR_DCE_TO_DNA_ADDUCTS</th>\n      <th>KEGG_MEDICUS_ENV_FACTOR_E2_TO_NUCLEAR_INITIATED_ESTROGEN_SIGNALING_PATHWAY</th>\n      <th>KEGG_MEDICUS_ENV_FACTOR_E2_TO_RAS_ERK_SIGNALING_PATHWAY</th>\n      <th>KEGG_MEDICUS_ENV_FACTOR_IRON_TO_ANTEROGRADE_AXONAL_TRANSPORT</th>\n      <th>...</th>\n      <th>KEGG_MEDICUS_VARIANT_SCRAPIE_CONFORMATION_PRPSC_TO_26S_PROTEASOME_MEDIATED_PROTEIN_DEGRADATION</th>\n      <th>KEGG_MEDICUS_VARIANT_SCRAPIE_CONFORMATION_PRPSC_TO_MGLUR5_CA2_APOPTOTIC_PATHWAY</th>\n      <th>KEGG_MEDICUS_VARIANT_SCRAPIE_CONFORMATION_PRPSC_TO_PERK_ATF4_SIGNALING_PATHWAY</th>\n      <th>KEGG_MEDICUS_VARIANT_SCRAPIE_CONFORMATION_PRPSC_TO_PRNP_PI3K_NOX2_SIGNALING_PATHWAY</th>\n      <th>KEGG_MEDICUS_VARIANT_SCRAPIE_CONFORMATION_PRPSC_TO_TRANSPORT_OF_CALCIUM</th>\n      <th>KEGG_MEDICUS_VARIANT_SCRAPIE_CONFORMATION_PRPSC_TO_VGCC_CA2_APOPTOTIC_PATHWAY</th>\n      <th>KEGG_MEDICUS_VARIANT_TEL_AML1_FUSION_TO_TRANSCRIPTIONAL_REPRESSION</th>\n      <th>KEGG_MEDICUS_VARIANT_TGFA_OVEREXPRESSION_TO_PI3K_SIGNALING_PATHWAY</th>\n      <th>KEGG_MEDICUS_VARIANT_TMPRSS2_ERG_FUSION_TO_TRANSCRIPTIONAL_ACTIVATION</th>\n      <th>KEGG_MEDICUS_VARIANT_TRK_FUSION_KINASE_TO_RAS_ERK_SIGNALING_PATHWAY</th>\n    </tr>\n  </thead>\n  <tbody>\n    <tr>\n      <th>9492</th>\n      <td>5-Fluorouracil</td>\n      <td>HCC827</td>\n      <td>LUAD</td>\n      <td>0.001369</td>\n      <td>0.001426</td>\n      <td>0.001540</td>\n      <td>0.002264</td>\n      <td>0.001739</td>\n      <td>0.001743</td>\n      <td>0.001756</td>\n      <td>...</td>\n      <td>0.001509</td>\n      <td>0.001329</td>\n      <td>0.001365</td>\n      <td>0.001443</td>\n      <td>0.001413</td>\n      <td>0.001735</td>\n      <td>0.002677</td>\n      <td>0.001404</td>\n      <td>0.002237</td>\n      <td>0.001536</td>\n    </tr>\n    <tr>\n      <th>9493</th>\n      <td>5-azacytidine</td>\n      <td>HCC827</td>\n      <td>LUAD</td>\n      <td>0.001556</td>\n      <td>0.001327</td>\n      <td>0.001549</td>\n      <td>0.002153</td>\n      <td>0.001751</td>\n      <td>0.001593</td>\n      <td>0.001424</td>\n      <td>...</td>\n      <td>0.001550</td>\n      <td>0.001314</td>\n      <td>0.001348</td>\n      <td>0.001411</td>\n      <td>0.001411</td>\n      <td>0.001747</td>\n      <td>0.002680</td>\n      <td>0.001549</td>\n      <td>0.002575</td>\n      <td>0.001526</td>\n    </tr>\n    <tr>\n      <th>9494</th>\n      <td>A-366</td>\n      <td>HCC827</td>\n      <td>LUAD</td>\n      <td>0.001391</td>\n      <td>0.001622</td>\n      <td>0.001523</td>\n      <td>0.001685</td>\n      <td>0.001708</td>\n      <td>0.001727</td>\n      <td>0.001567</td>\n      <td>...</td>\n      <td>0.001524</td>\n      <td>0.001405</td>\n      <td>0.001509</td>\n      <td>0.001394</td>\n      <td>0.001567</td>\n      <td>0.001561</td>\n      <td>0.002652</td>\n      <td>0.001285</td>\n      <td>0.002561</td>\n      <td>0.001581</td>\n    </tr>\n    <tr>\n      <th>9495</th>\n      <td>ABT737</td>\n      <td>HCC827</td>\n      <td>LUAD</td>\n      <td>0.001371</td>\n      <td>0.001472</td>\n      <td>0.001551</td>\n      <td>0.001253</td>\n      <td>0.001746</td>\n      <td>0.001757</td>\n      <td>0.001596</td>\n      <td>...</td>\n      <td>0.001371</td>\n      <td>0.001404</td>\n      <td>0.001544</td>\n      <td>0.001479</td>\n      <td>0.001595</td>\n      <td>0.001588</td>\n      <td>0.002382</td>\n      <td>0.001216</td>\n      <td>0.002352</td>\n      <td>0.001505</td>\n    </tr>\n    <tr>\n      <th>9496</th>\n      <td>AGI-5198</td>\n      <td>HCC827</td>\n      <td>LUAD</td>\n      <td>0.001361</td>\n      <td>0.001451</td>\n      <td>0.001533</td>\n      <td>0.001655</td>\n      <td>0.001740</td>\n      <td>0.001577</td>\n      <td>0.001578</td>\n      <td>...</td>\n      <td>0.001534</td>\n      <td>0.001364</td>\n      <td>0.001502</td>\n      <td>0.001404</td>\n      <td>0.001403</td>\n      <td>0.001734</td>\n      <td>0.002483</td>\n      <td>0.001392</td>\n      <td>0.002451</td>\n      <td>0.001517</td>\n    </tr>\n  </tbody>\n</table>\n<p>5 rows × 622 columns</p>\n</div>"
     },
     "execution_count": 5,
     "metadata": {},
     "output_type": "execute_result"
    }
   ],
   "source": [
    "df_pathways_att = pd.read_csv('../../data/GEP_CellBlind_LUNG_pathway_attention.csv')\n",
    "# 筛选出cell_line = ['NCIH2172','CHAGOK1','LCLC103H','NCIH1299','NCIH2170','RERFLCSQ1','NCIH146','NCIH526','NCIH1963','LU135','PC14','HCC827','NCIH2228']\n",
    "df_pathways_att_single_drug = df_pathways_att[df_pathways_att['cell_line'].isin(cell_line)]\n",
    "print(df_pathways_att_single_drug.shape)\n",
    "df_pathways_att_single_drug.head()"
   ],
   "metadata": {
    "collapsed": false,
    "ExecuteTime": {
     "end_time": "2024-02-20T03:27:00.464263600Z",
     "start_time": "2024-02-20T03:26:59.622974200Z"
    }
   },
   "id": "1b2f13b986215194",
   "execution_count": 5
  },
  {
   "cell_type": "code",
   "outputs": [
    {
     "data": {
      "text/plain": "KEGG_MEDICUS_ENV_FACTOR_ARSENIC_TO_ELECTRON_TRANSFER_IN_COMPLEX_IV            0.001384\nKEGG_MEDICUS_ENV_FACTOR_BENZO_A_PYRENRE_TO_CYP_MEDIATED_METABOLISM            0.001588\nKEGG_MEDICUS_ENV_FACTOR_BPA_TO_RAS_ERK_SIGNALING_PATHWAY                      0.001527\nKEGG_MEDICUS_ENV_FACTOR_DCE_TO_DNA_ADDUCTS                                    0.001553\nKEGG_MEDICUS_ENV_FACTOR_E2_TO_NUCLEAR_INITIATED_ESTROGEN_SIGNALING_PATHWAY    0.001653\ndtype: float64"
     },
     "execution_count": 6,
     "metadata": {},
     "output_type": "execute_result"
    }
   ],
   "source": [
    "# 将df_pathways_att_oxaliplatin从第四列开始的数据取均值\n",
    "df_pathways_single_drug_mean = df_pathways_att_single_drug.iloc[:, 3:].mean(axis=0)\n",
    "df_pathways_single_drug_mean.head()"
   ],
   "metadata": {
    "collapsed": false,
    "ExecuteTime": {
     "end_time": "2024-02-20T03:27:00.466257700Z",
     "start_time": "2024-02-20T03:27:00.456225600Z"
    }
   },
   "id": "d9b013f8bae1713",
   "execution_count": 6
  },
  {
   "cell_type": "code",
   "outputs": [
    {
     "data": {
      "text/plain": "   Unnamed: 0                                       pathway_name pathway_id  \\\n0           0  KEGG_MEDICUS_ENV_FACTOR_ARSENIC_TO_ELECTRON_TR...     N01394   \n1           1  KEGG_MEDICUS_ENV_FACTOR_BENZO_A_PYRENRE_TO_CYP...     N01401   \n2           2  KEGG_MEDICUS_ENV_FACTOR_BPA_TO_RAS_ERK_SIGNALI...     N01352   \n3           3         KEGG_MEDICUS_ENV_FACTOR_DCE_TO_DNA_ADDUCTS     N01386   \n4           4  KEGG_MEDICUS_ENV_FACTOR_E2_TO_NUCLEAR_INITIATE...     N01364   \n\n  pathway_type                pathway_class  \n0   Env factor  Mitochondrial ROS formation  \n1   Env factor   CYP-mediated ROS formation  \n2   Env factor                ERK signaling  \n3   Env factor         DNA adduct formation  \n4   Env factor   Nuclear receptor signaling  ",
      "text/html": "<div>\n<style scoped>\n    .dataframe tbody tr th:only-of-type {\n        vertical-align: middle;\n    }\n\n    .dataframe tbody tr th {\n        vertical-align: top;\n    }\n\n    .dataframe thead th {\n        text-align: right;\n    }\n</style>\n<table border=\"1\" class=\"dataframe\">\n  <thead>\n    <tr style=\"text-align: right;\">\n      <th></th>\n      <th>Unnamed: 0</th>\n      <th>pathway_name</th>\n      <th>pathway_id</th>\n      <th>pathway_type</th>\n      <th>pathway_class</th>\n    </tr>\n  </thead>\n  <tbody>\n    <tr>\n      <th>0</th>\n      <td>0</td>\n      <td>KEGG_MEDICUS_ENV_FACTOR_ARSENIC_TO_ELECTRON_TR...</td>\n      <td>N01394</td>\n      <td>Env factor</td>\n      <td>Mitochondrial ROS formation</td>\n    </tr>\n    <tr>\n      <th>1</th>\n      <td>1</td>\n      <td>KEGG_MEDICUS_ENV_FACTOR_BENZO_A_PYRENRE_TO_CYP...</td>\n      <td>N01401</td>\n      <td>Env factor</td>\n      <td>CYP-mediated ROS formation</td>\n    </tr>\n    <tr>\n      <th>2</th>\n      <td>2</td>\n      <td>KEGG_MEDICUS_ENV_FACTOR_BPA_TO_RAS_ERK_SIGNALI...</td>\n      <td>N01352</td>\n      <td>Env factor</td>\n      <td>ERK signaling</td>\n    </tr>\n    <tr>\n      <th>3</th>\n      <td>3</td>\n      <td>KEGG_MEDICUS_ENV_FACTOR_DCE_TO_DNA_ADDUCTS</td>\n      <td>N01386</td>\n      <td>Env factor</td>\n      <td>DNA adduct formation</td>\n    </tr>\n    <tr>\n      <th>4</th>\n      <td>4</td>\n      <td>KEGG_MEDICUS_ENV_FACTOR_E2_TO_NUCLEAR_INITIATE...</td>\n      <td>N01364</td>\n      <td>Env factor</td>\n      <td>Nuclear receptor signaling</td>\n    </tr>\n  </tbody>\n</table>\n</div>"
     },
     "execution_count": 7,
     "metadata": {},
     "output_type": "execute_result"
    }
   ],
   "source": [
    "df_pathways_info_origin = pd.read_csv('../../data/c2.cp.kegg_medicus.v2023.2.Hs.symbols_info.csv')\n",
    "df_pathways_info_origin.head()"
   ],
   "metadata": {
    "collapsed": false,
    "ExecuteTime": {
     "end_time": "2024-02-20T03:27:00.481456100Z",
     "start_time": "2024-02-20T03:27:00.466257700Z"
    }
   },
   "id": "cab860980e21c1",
   "execution_count": 7
  },
  {
   "cell_type": "code",
   "outputs": [],
   "source": [
    "# 将df_pathways_single_drug_mean设置为dataframe\n",
    "df_pathways_single_drug_mean = pd.DataFrame(df_pathways_single_drug_mean)\n",
    "df_pathways_single_drug_mean.columns = ['attention']\n",
    "df_pathways_single_drug_mean['pathway_name'] = df_pathways_single_drug_mean.index"
   ],
   "metadata": {
    "collapsed": false,
    "ExecuteTime": {
     "end_time": "2024-02-20T03:27:00.534510500Z",
     "start_time": "2024-02-20T03:27:00.479980Z"
    }
   },
   "id": "ed50e61029b4a3fa",
   "execution_count": 8
  },
  {
   "cell_type": "code",
   "outputs": [
    {
     "name": "stdout",
     "output_type": "stream",
     "text": [
      "(619, 2)\n"
     ]
    },
    {
     "data": {
      "text/plain": "     attention                                       pathway_name\n288   0.002643  KEGG_MEDICUS_REFERENCE_IGG_FCGR_RAC_SIGNALING_...\n552   0.002627  KEGG_MEDICUS_VARIANT_MUTATION_CAUSED_ABERRANT_...\n153   0.002621  KEGG_MEDICUS_REFERENCE_BMP_HAMP_SIGNALING_PATH...\n358   0.002620  KEGG_MEDICUS_REFERENCE_NRG_ERBB4_PI3K_SIGNALIN...\n518   0.002618  KEGG_MEDICUS_VARIANT_MLL_ENL_FUSION_TO_TRANSCR...",
      "text/html": "<div>\n<style scoped>\n    .dataframe tbody tr th:only-of-type {\n        vertical-align: middle;\n    }\n\n    .dataframe tbody tr th {\n        vertical-align: top;\n    }\n\n    .dataframe thead th {\n        text-align: right;\n    }\n</style>\n<table border=\"1\" class=\"dataframe\">\n  <thead>\n    <tr style=\"text-align: right;\">\n      <th></th>\n      <th>attention</th>\n      <th>pathway_name</th>\n    </tr>\n  </thead>\n  <tbody>\n    <tr>\n      <th>288</th>\n      <td>0.002643</td>\n      <td>KEGG_MEDICUS_REFERENCE_IGG_FCGR_RAC_SIGNALING_...</td>\n    </tr>\n    <tr>\n      <th>552</th>\n      <td>0.002627</td>\n      <td>KEGG_MEDICUS_VARIANT_MUTATION_CAUSED_ABERRANT_...</td>\n    </tr>\n    <tr>\n      <th>153</th>\n      <td>0.002621</td>\n      <td>KEGG_MEDICUS_REFERENCE_BMP_HAMP_SIGNALING_PATH...</td>\n    </tr>\n    <tr>\n      <th>358</th>\n      <td>0.002620</td>\n      <td>KEGG_MEDICUS_REFERENCE_NRG_ERBB4_PI3K_SIGNALIN...</td>\n    </tr>\n    <tr>\n      <th>518</th>\n      <td>0.002618</td>\n      <td>KEGG_MEDICUS_VARIANT_MLL_ENL_FUSION_TO_TRANSCR...</td>\n    </tr>\n  </tbody>\n</table>\n</div>"
     },
     "execution_count": 9,
     "metadata": {},
     "output_type": "execute_result"
    }
   ],
   "source": [
    "df_pathways_single_drug_mean.reset_index(drop=True, inplace=True)\n",
    "# 根据attention排序\n",
    "df_pathways_single_drug_mean = df_pathways_single_drug_mean.sort_values(by='attention', ascending=False)\n",
    "print(df_pathways_single_drug_mean.shape)\n",
    "df_pathways_single_drug_mean.head()"
   ],
   "metadata": {
    "collapsed": false,
    "ExecuteTime": {
     "end_time": "2024-02-20T03:27:00.536533800Z",
     "start_time": "2024-02-20T03:27:00.485091100Z"
    }
   },
   "id": "48a2de929df61d08",
   "execution_count": 9
  },
  {
   "cell_type": "code",
   "outputs": [
    {
     "name": "stdout",
     "output_type": "stream",
     "text": [
      "(619, 6)\n"
     ]
    },
    {
     "data": {
      "text/plain": "   attention                                       pathway_name  Unnamed: 0  \\\n0   0.002643  KEGG_MEDICUS_REFERENCE_IGG_FCGR_RAC_SIGNALING_...         288   \n1   0.002627  KEGG_MEDICUS_VARIANT_MUTATION_CAUSED_ABERRANT_...         552   \n2   0.002621  KEGG_MEDICUS_REFERENCE_BMP_HAMP_SIGNALING_PATH...         153   \n3   0.002620  KEGG_MEDICUS_REFERENCE_NRG_ERBB4_PI3K_SIGNALIN...         358   \n4   0.002618  KEGG_MEDICUS_VARIANT_MLL_ENL_FUSION_TO_TRANSCR...         518   \n\n  pathway_id pathway_type                                   pathway_class  \n0     N01090    Reference  Cytoskeletal regulation (viruses and bacteria)  \n1     N00966      Variant                          Spinocerebellar ataxia  \n2     N01461    Reference                                  TGFB signaling  \n3     N01163    Reference                                  PI3K signaling  \n4     N00120      Variant                                   Transcription  ",
      "text/html": "<div>\n<style scoped>\n    .dataframe tbody tr th:only-of-type {\n        vertical-align: middle;\n    }\n\n    .dataframe tbody tr th {\n        vertical-align: top;\n    }\n\n    .dataframe thead th {\n        text-align: right;\n    }\n</style>\n<table border=\"1\" class=\"dataframe\">\n  <thead>\n    <tr style=\"text-align: right;\">\n      <th></th>\n      <th>attention</th>\n      <th>pathway_name</th>\n      <th>Unnamed: 0</th>\n      <th>pathway_id</th>\n      <th>pathway_type</th>\n      <th>pathway_class</th>\n    </tr>\n  </thead>\n  <tbody>\n    <tr>\n      <th>0</th>\n      <td>0.002643</td>\n      <td>KEGG_MEDICUS_REFERENCE_IGG_FCGR_RAC_SIGNALING_...</td>\n      <td>288</td>\n      <td>N01090</td>\n      <td>Reference</td>\n      <td>Cytoskeletal regulation (viruses and bacteria)</td>\n    </tr>\n    <tr>\n      <th>1</th>\n      <td>0.002627</td>\n      <td>KEGG_MEDICUS_VARIANT_MUTATION_CAUSED_ABERRANT_...</td>\n      <td>552</td>\n      <td>N00966</td>\n      <td>Variant</td>\n      <td>Spinocerebellar ataxia</td>\n    </tr>\n    <tr>\n      <th>2</th>\n      <td>0.002621</td>\n      <td>KEGG_MEDICUS_REFERENCE_BMP_HAMP_SIGNALING_PATH...</td>\n      <td>153</td>\n      <td>N01461</td>\n      <td>Reference</td>\n      <td>TGFB signaling</td>\n    </tr>\n    <tr>\n      <th>3</th>\n      <td>0.002620</td>\n      <td>KEGG_MEDICUS_REFERENCE_NRG_ERBB4_PI3K_SIGNALIN...</td>\n      <td>358</td>\n      <td>N01163</td>\n      <td>Reference</td>\n      <td>PI3K signaling</td>\n    </tr>\n    <tr>\n      <th>4</th>\n      <td>0.002618</td>\n      <td>KEGG_MEDICUS_VARIANT_MLL_ENL_FUSION_TO_TRANSCR...</td>\n      <td>518</td>\n      <td>N00120</td>\n      <td>Variant</td>\n      <td>Transcription</td>\n    </tr>\n  </tbody>\n</table>\n</div>"
     },
     "execution_count": 10,
     "metadata": {},
     "output_type": "execute_result"
    }
   ],
   "source": [
    "# 将df_pathways_single_drug_mean与df_pathways_info合并\n",
    "df_pathways_single_drug_mean_merge = pd.merge(df_pathways_single_drug_mean, df_pathways_info_origin, on='pathway_name')\n",
    "print(df_pathways_single_drug_mean_merge.shape)\n",
    "df_pathways_single_drug_mean_merge.head()"
   ],
   "metadata": {
    "collapsed": false,
    "ExecuteTime": {
     "end_time": "2024-02-20T03:27:00.560416800Z",
     "start_time": "2024-02-20T03:27:00.500495Z"
    }
   },
   "id": "6eb3acdb3162ba6e",
   "execution_count": 10
  },
  {
   "cell_type": "code",
   "outputs": [
    {
     "data": {
      "text/plain": "   attention                                       pathway_name  Unnamed: 0  \\\n0   0.002643  KEGG_MEDICUS_REFERENCE_IGG_FCGR_RAC_SIGNALING_...         288   \n1   0.002627  KEGG_MEDICUS_VARIANT_MUTATION_CAUSED_ABERRANT_...         552   \n2   0.002621  KEGG_MEDICUS_REFERENCE_BMP_HAMP_SIGNALING_PATH...         153   \n3   0.002620  KEGG_MEDICUS_REFERENCE_NRG_ERBB4_PI3K_SIGNALIN...         358   \n4   0.002618  KEGG_MEDICUS_VARIANT_MLL_ENL_FUSION_TO_TRANSCR...         518   \n\n  pathway_id pathway_type                                   pathway_class  \\\n0     N01090    Reference  Cytoskeletal regulation (viruses and bacteria)   \n1     N00966      Variant                          Spinocerebellar ataxia   \n2     N01461    Reference                                  TGFB signaling   \n3     N01163    Reference                                  PI3K signaling   \n4     N00120      Variant                                   Transcription   \n\n  color  \n0     r  \n1     r  \n2     r  \n3     r  \n4     r  ",
      "text/html": "<div>\n<style scoped>\n    .dataframe tbody tr th:only-of-type {\n        vertical-align: middle;\n    }\n\n    .dataframe tbody tr th {\n        vertical-align: top;\n    }\n\n    .dataframe thead th {\n        text-align: right;\n    }\n</style>\n<table border=\"1\" class=\"dataframe\">\n  <thead>\n    <tr style=\"text-align: right;\">\n      <th></th>\n      <th>attention</th>\n      <th>pathway_name</th>\n      <th>Unnamed: 0</th>\n      <th>pathway_id</th>\n      <th>pathway_type</th>\n      <th>pathway_class</th>\n      <th>color</th>\n    </tr>\n  </thead>\n  <tbody>\n    <tr>\n      <th>0</th>\n      <td>0.002643</td>\n      <td>KEGG_MEDICUS_REFERENCE_IGG_FCGR_RAC_SIGNALING_...</td>\n      <td>288</td>\n      <td>N01090</td>\n      <td>Reference</td>\n      <td>Cytoskeletal regulation (viruses and bacteria)</td>\n      <td>r</td>\n    </tr>\n    <tr>\n      <th>1</th>\n      <td>0.002627</td>\n      <td>KEGG_MEDICUS_VARIANT_MUTATION_CAUSED_ABERRANT_...</td>\n      <td>552</td>\n      <td>N00966</td>\n      <td>Variant</td>\n      <td>Spinocerebellar ataxia</td>\n      <td>r</td>\n    </tr>\n    <tr>\n      <th>2</th>\n      <td>0.002621</td>\n      <td>KEGG_MEDICUS_REFERENCE_BMP_HAMP_SIGNALING_PATH...</td>\n      <td>153</td>\n      <td>N01461</td>\n      <td>Reference</td>\n      <td>TGFB signaling</td>\n      <td>r</td>\n    </tr>\n    <tr>\n      <th>3</th>\n      <td>0.002620</td>\n      <td>KEGG_MEDICUS_REFERENCE_NRG_ERBB4_PI3K_SIGNALIN...</td>\n      <td>358</td>\n      <td>N01163</td>\n      <td>Reference</td>\n      <td>PI3K signaling</td>\n      <td>r</td>\n    </tr>\n    <tr>\n      <th>4</th>\n      <td>0.002618</td>\n      <td>KEGG_MEDICUS_VARIANT_MLL_ENL_FUSION_TO_TRANSCR...</td>\n      <td>518</td>\n      <td>N00120</td>\n      <td>Variant</td>\n      <td>Transcription</td>\n      <td>r</td>\n    </tr>\n  </tbody>\n</table>\n</div>"
     },
     "execution_count": 11,
     "metadata": {},
     "output_type": "execute_result"
    }
   ],
   "source": [
    "# 将df_pathways_single_drug_mean_merge前82个标记为红色，其余为蓝色\n",
    "df_pathways_single_drug_mean_merge['color'] = np.where(df_pathways_single_drug_mean_merge.index < 84, 'r', 'b')\n",
    "df_pathways_single_drug_mean_merge.head()"
   ],
   "metadata": {
    "collapsed": false,
    "ExecuteTime": {
     "end_time": "2024-02-20T03:27:00.644594500Z",
     "start_time": "2024-02-20T03:27:00.512936500Z"
    }
   },
   "id": "6379eedf65e07e91",
   "execution_count": 11
  },
  {
   "cell_type": "code",
   "outputs": [
    {
     "name": "stdout",
     "output_type": "stream",
     "text": [
      "中值: 0.0015184811829616926\n"
     ]
    },
    {
     "data": {
      "text/plain": "<Figure size 600x400 with 1 Axes>",
      "image/png": "[encoded data removed]"
     },
     "metadata": {},
     "output_type": "display_data"
    }
   ],
   "source": [
    "# 设置画布大小\n",
    "plt.figure(figsize=(6, 4))\n",
    "# 画出df_pathways_single_drug_mean的柱状图\n",
    "plt.bar(df_pathways_single_drug_mean_merge['pathway_name'], df_pathways_single_drug_mean_merge['attention'], color=df_pathways_single_drug_mean_merge['color'],width=1)\n",
    "# 在柱状图的中值上画一条竖线,在竖线上标注中值\n",
    "# plt.vlines(309, 0, 0.0026, linestyles='dashed', colors='black', alpha=1)\n",
    "# plt.text(309, 0.0026, 'Median', ha='center', va='bottom', fontsize=10)\n",
    "# 在图中标注中值\n",
    "# plt.text(309, 0.00262, 'Median: 0.001532', ha='center', va='bottom', fontsize=10)\n",
    "# 画一个label：红色代表Target pathways\n",
    "plt.bar([0], [0], color='r', label='Target pathways')\n",
    "# 画一个label：蓝色代表Without Target pathways\n",
    "# plt.bar([0], [0], color='b', label='Without Target pathways')\n",
    "# 显示label\n",
    "plt.legend()\n",
    "# 打印出中值\n",
    "print('中值:',df_pathways_single_drug_mean['attention'].median())\n",
    "plt.title('Target Pathway Attention Distribution')\n",
    "plt.xticks([])\n",
    "plt.xlabel('Pathways', fontsize=10)\n",
    "# 保存图片\n",
    "# plt.savefig('NSCLC_Target_Pathway_Attention_Distribution.png', dpi=300, bbox_inches='tight')\n",
    "plt.show()"
   ],
   "metadata": {
    "collapsed": false,
    "ExecuteTime": {
     "end_time": "2024-02-20T03:27:14.737670400Z",
     "start_time": "2024-02-20T03:27:14.120067500Z"
    }
   },
   "id": "399870cac5da922b",
   "execution_count": 13
  },
  {
   "cell_type": "code",
   "outputs": [
    {
     "data": {
      "text/plain": "                                                attention  pathway_name  \\\npathway_class                                                             \nAVP signaling                                           1             1   \nAcute myeloid leukemia                                  1             1   \nAlzheimer disease                                       1             1   \nAmyotrophic lateral sclerosis                           2             2   \nCGAS-STING signaling                                    1             1   \nCRH-ACTH-cortisol signaling                             3             3   \nCalcium signaling                                       5             5   \nComplement cascade                                      2             2   \nCytoskeletal regulation (viruses and bacteria)          1             1   \nDNA adduct formation                                    1             1   \nDouble-strand break repair                              1             1   \nGlycine,serine and arginine metabolism                  1             1   \nGlycosaminoglycan biosynthesis                          1             1   \nGlycosaminoglycan degradation                           1             1   \nHH signaling                                            1             1   \nHepatocellular carcinoma                                2             2   \nHuman cytomegalovirus (HCMV)                            3             3   \nHypogonadotropic hypogonadism                           2             2   \nJAK-STAT signaling                                      3             3   \nKISS1-GnRH-LH/FSH-E2 signaling                          4             4   \nLysine degradation                                      1             1   \nMAPK signaling                                          2             2   \nMHC presentation                                        1             1   \nNLR signaling                                           1             1   \nNOTCH signaling                                         5             5   \nNecroptosis                                             1             1   \nNuclear receptor signaling                              2             2   \nO-Glycan biosynthesis                                   1             1   \nPI3K signaling                                          4             4   \nPhenylalanine and tyrosine metabolism                   1             1   \nProstate cancer                                         1             1   \nPurine salvage pathway                                  2             2   \nSARS coronavirus 2 (SARS-CoV-2)                         1             1   \nSphingolipid degradation                                1             1   \nSpinocerebellar ataxia                                  4             4   \nTGFB signaling                                          5             5   \nTLR signaling                                           2             2   \nTRH-TSH-TH signaling                                    1             1   \nTranscription                                           5             5   \nUnfolded protein response                               1             1   \nUrea cycle                                              1             1   \nWNT signaling                                           1             1   \nbeta-Oxidation in mitochondria                          1             1   \ncAMP signaling                                          1             1   \n\n                                                Unnamed: 0  pathway_id  \\\npathway_class                                                            \nAVP signaling                                            1           1   \nAcute myeloid leukemia                                   1           1   \nAlzheimer disease                                        1           1   \nAmyotrophic lateral sclerosis                            2           2   \nCGAS-STING signaling                                     1           1   \nCRH-ACTH-cortisol signaling                              3           3   \nCalcium signaling                                        5           5   \nComplement cascade                                       2           2   \nCytoskeletal regulation (viruses and bacteria)           1           1   \nDNA adduct formation                                     1           1   \nDouble-strand break repair                               1           1   \nGlycine,serine and arginine metabolism                   1           1   \nGlycosaminoglycan biosynthesis                           1           1   \nGlycosaminoglycan degradation                            1           1   \nHH signaling                                             1           1   \nHepatocellular carcinoma                                 2           2   \nHuman cytomegalovirus (HCMV)                             3           3   \nHypogonadotropic hypogonadism                            2           2   \nJAK-STAT signaling                                       3           3   \nKISS1-GnRH-LH/FSH-E2 signaling                           4           4   \nLysine degradation                                       1           1   \nMAPK signaling                                           2           2   \nMHC presentation                                         1           1   \nNLR signaling                                            1           1   \nNOTCH signaling                                          5           5   \nNecroptosis                                              1           1   \nNuclear receptor signaling                               2           2   \nO-Glycan biosynthesis                                    1           1   \nPI3K signaling                                           4           4   \nPhenylalanine and tyrosine metabolism                    1           1   \nProstate cancer                                          1           1   \nPurine salvage pathway                                   2           2   \nSARS coronavirus 2 (SARS-CoV-2)                          1           1   \nSphingolipid degradation                                 1           1   \nSpinocerebellar ataxia                                   4           4   \nTGFB signaling                                           5           5   \nTLR signaling                                            2           2   \nTRH-TSH-TH signaling                                     1           1   \nTranscription                                            5           5   \nUnfolded protein response                                1           1   \nUrea cycle                                               1           1   \nWNT signaling                                            1           1   \nbeta-Oxidation in mitochondria                           1           1   \ncAMP signaling                                           1           1   \n\n                                                pathway_type  color  \npathway_class                                                        \nAVP signaling                                              1      1  \nAcute myeloid leukemia                                     1      1  \nAlzheimer disease                                          1      1  \nAmyotrophic lateral sclerosis                              2      2  \nCGAS-STING signaling                                       1      1  \nCRH-ACTH-cortisol signaling                                3      3  \nCalcium signaling                                          5      5  \nComplement cascade                                         2      2  \nCytoskeletal regulation (viruses and bacteria)             1      1  \nDNA adduct formation                                       1      1  \nDouble-strand break repair                                 1      1  \nGlycine,serine and arginine metabolism                     1      1  \nGlycosaminoglycan biosynthesis                             1      1  \nGlycosaminoglycan degradation                              1      1  \nHH signaling                                               1      1  \nHepatocellular carcinoma                                   2      2  \nHuman cytomegalovirus (HCMV)                               3      3  \nHypogonadotropic hypogonadism                              2      2  \nJAK-STAT signaling                                         3      3  \nKISS1-GnRH-LH/FSH-E2 signaling                             4      4  \nLysine degradation                                         1      1  \nMAPK signaling                                             2      2  \nMHC presentation                                           1      1  \nNLR signaling                                              1      1  \nNOTCH signaling                                            5      5  \nNecroptosis                                                1      1  \nNuclear receptor signaling                                 2      2  \nO-Glycan biosynthesis                                      1      1  \nPI3K signaling                                             4      4  \nPhenylalanine and tyrosine metabolism                      1      1  \nProstate cancer                                            1      1  \nPurine salvage pathway                                     2      2  \nSARS coronavirus 2 (SARS-CoV-2)                            1      1  \nSphingolipid degradation                                   1      1  \nSpinocerebellar ataxia                                     4      4  \nTGFB signaling                                             5      5  \nTLR signaling                                              2      2  \nTRH-TSH-TH signaling                                       1      1  \nTranscription                                              5      5  \nUnfolded protein response                                  1      1  \nUrea cycle                                                 1      1  \nWNT signaling                                              1      1  \nbeta-Oxidation in mitochondria                             1      1  \ncAMP signaling                                             1      1  ",
      "text/html": "<div>\n<style scoped>\n    .dataframe tbody tr th:only-of-type {\n        vertical-align: middle;\n    }\n\n    .dataframe tbody tr th {\n        vertical-align: top;\n    }\n\n    .dataframe thead th {\n        text-align: right;\n    }\n</style>\n<table border=\"1\" class=\"dataframe\">\n  <thead>\n    <tr style=\"text-align: right;\">\n      <th></th>\n      <th>attention</th>\n      <th>pathway_name</th>\n      <th>Unnamed: 0</th>\n      <th>pathway_id</th>\n      <th>pathway_type</th>\n      <th>color</th>\n    </tr>\n    <tr>\n      <th>pathway_class</th>\n      <th></th>\n      <th></th>\n      <th></th>\n      <th></th>\n      <th></th>\n      <th></th>\n    </tr>\n  </thead>\n  <tbody>\n    <tr>\n      <th>AVP signaling</th>\n      <td>1</td>\n      <td>1</td>\n      <td>1</td>\n      <td>1</td>\n      <td>1</td>\n      <td>1</td>\n    </tr>\n    <tr>\n      <th>Acute myeloid leukemia</th>\n      <td>1</td>\n      <td>1</td>\n      <td>1</td>\n      <td>1</td>\n      <td>1</td>\n      <td>1</td>\n    </tr>\n    <tr>\n      <th>Alzheimer disease</th>\n      <td>1</td>\n      <td>1</td>\n      <td>1</td>\n      <td>1</td>\n      <td>1</td>\n      <td>1</td>\n    </tr>\n    <tr>\n      <th>Amyotrophic lateral sclerosis</th>\n      <td>2</td>\n      <td>2</td>\n      <td>2</td>\n      <td>2</td>\n      <td>2</td>\n      <td>2</td>\n    </tr>\n    <tr>\n      <th>CGAS-STING signaling</th>\n      <td>1</td>\n      <td>1</td>\n      <td>1</td>\n      <td>1</td>\n      <td>1</td>\n      <td>1</td>\n    </tr>\n    <tr>\n      <th>CRH-ACTH-cortisol signaling</th>\n      <td>3</td>\n      <td>3</td>\n      <td>3</td>\n      <td>3</td>\n      <td>3</td>\n      <td>3</td>\n    </tr>\n    <tr>\n      <th>Calcium signaling</th>\n      <td>5</td>\n      <td>5</td>\n      <td>5</td>\n      <td>5</td>\n      <td>5</td>\n      <td>5</td>\n    </tr>\n    <tr>\n      <th>Complement cascade</th>\n      <td>2</td>\n      <td>2</td>\n      <td>2</td>\n      <td>2</td>\n      <td>2</td>\n      <td>2</td>\n    </tr>\n    <tr>\n      <th>Cytoskeletal regulation (viruses and bacteria)</th>\n      <td>1</td>\n      <td>1</td>\n      <td>1</td>\n      <td>1</td>\n      <td>1</td>\n      <td>1</td>\n    </tr>\n    <tr>\n      <th>DNA adduct formation</th>\n      <td>1</td>\n      <td>1</td>\n      <td>1</td>\n      <td>1</td>\n      <td>1</td>\n      <td>1</td>\n    </tr>\n    <tr>\n      <th>Double-strand break repair</th>\n      <td>1</td>\n      <td>1</td>\n      <td>1</td>\n      <td>1</td>\n      <td>1</td>\n      <td>1</td>\n    </tr>\n    <tr>\n      <th>Glycine,serine and arginine metabolism</th>\n      <td>1</td>\n      <td>1</td>\n      <td>1</td>\n      <td>1</td>\n      <td>1</td>\n      <td>1</td>\n    </tr>\n    <tr>\n      <th>Glycosaminoglycan biosynthesis</th>\n      <td>1</td>\n      <td>1</td>\n      <td>1</td>\n      <td>1</td>\n      <td>1</td>\n      <td>1</td>\n    </tr>\n    <tr>\n      <th>Glycosaminoglycan degradation</th>\n      <td>1</td>\n      <td>1</td>\n      <td>1</td>\n      <td>1</td>\n      <td>1</td>\n      <td>1</td>\n    </tr>\n    <tr>\n      <th>HH signaling</th>\n      <td>1</td>\n      <td>1</td>\n      <td>1</td>\n      <td>1</td>\n      <td>1</td>\n      <td>1</td>\n    </tr>\n    <tr>\n      <th>Hepatocellular carcinoma</th>\n      <td>2</td>\n      <td>2</td>\n      <td>2</td>\n      <td>2</td>\n      <td>2</td>\n      <td>2</td>\n    </tr>\n    <tr>\n      <th>Human cytomegalovirus (HCMV)</th>\n      <td>3</td>\n      <td>3</td>\n      <td>3</td>\n      <td>3</td>\n      <td>3</td>\n      <td>3</td>\n    </tr>\n    <tr>\n      <th>Hypogonadotropic hypogonadism</th>\n      <td>2</td>\n      <td>2</td>\n      <td>2</td>\n      <td>2</td>\n      <td>2</td>\n      <td>2</td>\n    </tr>\n    <tr>\n      <th>JAK-STAT signaling</th>\n      <td>3</td>\n      <td>3</td>\n      <td>3</td>\n      <td>3</td>\n      <td>3</td>\n      <td>3</td>\n    </tr>\n    <tr>\n      <th>KISS1-GnRH-LH/FSH-E2 signaling</th>\n      <td>4</td>\n      <td>4</td>\n      <td>4</td>\n      <td>4</td>\n      <td>4</td>\n      <td>4</td>\n    </tr>\n    <tr>\n      <th>Lysine degradation</th>\n      <td>1</td>\n      <td>1</td>\n      <td>1</td>\n      <td>1</td>\n      <td>1</td>\n      <td>1</td>\n    </tr>\n    <tr>\n      <th>MAPK signaling</th>\n      <td>2</td>\n      <td>2</td>\n      <td>2</td>\n      <td>2</td>\n      <td>2</td>\n      <td>2</td>\n    </tr>\n    <tr>\n      <th>MHC presentation</th>\n      <td>1</td>\n      <td>1</td>\n      <td>1</td>\n      <td>1</td>\n      <td>1</td>\n      <td>1</td>\n    </tr>\n    <tr>\n      <th>NLR signaling</th>\n      <td>1</td>\n      <td>1</td>\n      <td>1</td>\n      <td>1</td>\n      <td>1</td>\n      <td>1</td>\n    </tr>\n    <tr>\n      <th>NOTCH signaling</th>\n      <td>5</td>\n      <td>5</td>\n      <td>5</td>\n      <td>5</td>\n      <td>5</td>\n      <td>5</td>\n    </tr>\n    <tr>\n      <th>Necroptosis</th>\n      <td>1</td>\n      <td>1</td>\n      <td>1</td>\n      <td>1</td>\n      <td>1</td>\n      <td>1</td>\n    </tr>\n    <tr>\n      <th>Nuclear receptor signaling</th>\n      <td>2</td>\n      <td>2</td>\n      <td>2</td>\n      <td>2</td>\n      <td>2</td>\n      <td>2</td>\n    </tr>\n    <tr>\n      <th>O-Glycan biosynthesis</th>\n      <td>1</td>\n      <td>1</td>\n      <td>1</td>\n      <td>1</td>\n      <td>1</td>\n      <td>1</td>\n    </tr>\n    <tr>\n      <th>PI3K signaling</th>\n      <td>4</td>\n      <td>4</td>\n      <td>4</td>\n      <td>4</td>\n      <td>4</td>\n      <td>4</td>\n    </tr>\n    <tr>\n      <th>Phenylalanine and tyrosine metabolism</th>\n      <td>1</td>\n      <td>1</td>\n      <td>1</td>\n      <td>1</td>\n      <td>1</td>\n      <td>1</td>\n    </tr>\n    <tr>\n      <th>Prostate cancer</th>\n      <td>1</td>\n      <td>1</td>\n      <td>1</td>\n      <td>1</td>\n      <td>1</td>\n      <td>1</td>\n    </tr>\n    <tr>\n      <th>Purine salvage pathway</th>\n      <td>2</td>\n      <td>2</td>\n      <td>2</td>\n      <td>2</td>\n      <td>2</td>\n      <td>2</td>\n    </tr>\n    <tr>\n      <th>SARS coronavirus 2 (SARS-CoV-2)</th>\n      <td>1</td>\n      <td>1</td>\n      <td>1</td>\n      <td>1</td>\n      <td>1</td>\n      <td>1</td>\n    </tr>\n    <tr>\n      <th>Sphingolipid degradation</th>\n      <td>1</td>\n      <td>1</td>\n      <td>1</td>\n      <td>1</td>\n      <td>1</td>\n      <td>1</td>\n    </tr>\n    <tr>\n      <th>Spinocerebellar ataxia</th>\n      <td>4</td>\n      <td>4</td>\n      <td>4</td>\n      <td>4</td>\n      <td>4</td>\n      <td>4</td>\n    </tr>\n    <tr>\n      <th>TGFB signaling</th>\n      <td>5</td>\n      <td>5</td>\n      <td>5</td>\n      <td>5</td>\n      <td>5</td>\n      <td>5</td>\n    </tr>\n    <tr>\n      <th>TLR signaling</th>\n      <td>2</td>\n      <td>2</td>\n      <td>2</td>\n      <td>2</td>\n      <td>2</td>\n      <td>2</td>\n    </tr>\n    <tr>\n      <th>TRH-TSH-TH signaling</th>\n      <td>1</td>\n      <td>1</td>\n      <td>1</td>\n      <td>1</td>\n      <td>1</td>\n      <td>1</td>\n    </tr>\n    <tr>\n      <th>Transcription</th>\n      <td>5</td>\n      <td>5</td>\n      <td>5</td>\n      <td>5</td>\n      <td>5</td>\n      <td>5</td>\n    </tr>\n    <tr>\n      <th>Unfolded protein response</th>\n      <td>1</td>\n      <td>1</td>\n      <td>1</td>\n      <td>1</td>\n      <td>1</td>\n      <td>1</td>\n    </tr>\n    <tr>\n      <th>Urea cycle</th>\n      <td>1</td>\n      <td>1</td>\n      <td>1</td>\n      <td>1</td>\n      <td>1</td>\n      <td>1</td>\n    </tr>\n    <tr>\n      <th>WNT signaling</th>\n      <td>1</td>\n      <td>1</td>\n      <td>1</td>\n      <td>1</td>\n      <td>1</td>\n      <td>1</td>\n    </tr>\n    <tr>\n      <th>beta-Oxidation in mitochondria</th>\n      <td>1</td>\n      <td>1</td>\n      <td>1</td>\n      <td>1</td>\n      <td>1</td>\n      <td>1</td>\n    </tr>\n    <tr>\n      <th>cAMP signaling</th>\n      <td>1</td>\n      <td>1</td>\n      <td>1</td>\n      <td>1</td>\n      <td>1</td>\n      <td>1</td>\n    </tr>\n  </tbody>\n</table>\n</div>"
     },
     "execution_count": 108,
     "metadata": {},
     "output_type": "execute_result"
    }
   ],
   "source": [
    "# 将df_pathways_single_drug_mean_merge的前84个数据，按照pathway_class分组计数\n",
    "df_pathways_single_drug_mean_merge[df_pathways_single_drug_mean_merge.index < 84].groupby('pathway_class').count()"
   ],
   "metadata": {
    "collapsed": false,
    "ExecuteTime": {
     "end_time": "2024-02-19T15:30:54.181823900Z",
     "start_time": "2024-02-19T15:30:54.168601500Z"
    }
   },
   "id": "1fff5ec86923e428",
   "execution_count": 108
  },
  {
   "cell_type": "code",
   "outputs": [
    {
     "data": {
      "text/plain": "                                                count\npathway_class                                        \nTranscription                                       5\nCalcium signaling                                   5\nTGFB signaling                                      5\nNOTCH signaling                                     5\nPI3K signaling                                      4\nSpinocerebellar ataxia                              4\nKISS1-GnRH-LH/FSH-E2 signaling                      4\nCRH-ACTH-cortisol signaling                         3\nHuman cytomegalovirus (HCMV)                        3\nJAK-STAT signaling                                  3\nComplement cascade                                  2\nPurine salvage pathway                              2\nMAPK signaling                                      2\nTLR signaling                                       2\nAmyotrophic lateral sclerosis                       2\nNuclear receptor signaling                          2\nHepatocellular carcinoma                            2\nHypogonadotropic hypogonadism                       2\nProstate cancer                                     1\nSARS coronavirus 2 (SARS-CoV-2)                     1\nAVP signaling                                       1\nSphingolipid degradation                            1\nTRH-TSH-TH signaling                                1\nUnfolded protein response                           1\nUrea cycle                                          1\nWNT signaling                                       1\nbeta-Oxidation in mitochondria                      1\nPhenylalanine and tyrosine metabolism               1\nMHC presentation                                    1\nO-Glycan biosynthesis                               1\nNecroptosis                                         1\nNLR signaling                                       1\nAcute myeloid leukemia                              1\nLysine degradation                                  1\nHH signaling                                        1\nGlycosaminoglycan degradation                       1\nGlycosaminoglycan biosynthesis                      1\nGlycine,serine and arginine metabolism              1\nDouble-strand break repair                          1\nDNA adduct formation                                1\nCytoskeletal regulation (viruses and bacteria)      1\nCGAS-STING signaling                                1\nAlzheimer disease                                   1\ncAMP signaling                                      1",
      "text/html": "<div>\n<style scoped>\n    .dataframe tbody tr th:only-of-type {\n        vertical-align: middle;\n    }\n\n    .dataframe tbody tr th {\n        vertical-align: top;\n    }\n\n    .dataframe thead th {\n        text-align: right;\n    }\n</style>\n<table border=\"1\" class=\"dataframe\">\n  <thead>\n    <tr style=\"text-align: right;\">\n      <th></th>\n      <th>count</th>\n    </tr>\n    <tr>\n      <th>pathway_class</th>\n      <th></th>\n    </tr>\n  </thead>\n  <tbody>\n    <tr>\n      <th>Transcription</th>\n      <td>5</td>\n    </tr>\n    <tr>\n      <th>Calcium signaling</th>\n      <td>5</td>\n    </tr>\n    <tr>\n      <th>TGFB signaling</th>\n      <td>5</td>\n    </tr>\n    <tr>\n      <th>NOTCH signaling</th>\n      <td>5</td>\n    </tr>\n    <tr>\n      <th>PI3K signaling</th>\n      <td>4</td>\n    </tr>\n    <tr>\n      <th>Spinocerebellar ataxia</th>\n      <td>4</td>\n    </tr>\n    <tr>\n      <th>KISS1-GnRH-LH/FSH-E2 signaling</th>\n      <td>4</td>\n    </tr>\n    <tr>\n      <th>CRH-ACTH-cortisol signaling</th>\n      <td>3</td>\n    </tr>\n    <tr>\n      <th>Human cytomegalovirus (HCMV)</th>\n      <td>3</td>\n    </tr>\n    <tr>\n      <th>JAK-STAT signaling</th>\n      <td>3</td>\n    </tr>\n    <tr>\n      <th>Complement cascade</th>\n      <td>2</td>\n    </tr>\n    <tr>\n      <th>Purine salvage pathway</th>\n      <td>2</td>\n    </tr>\n    <tr>\n      <th>MAPK signaling</th>\n      <td>2</td>\n    </tr>\n    <tr>\n      <th>TLR signaling</th>\n      <td>2</td>\n    </tr>\n    <tr>\n      <th>Amyotrophic lateral sclerosis</th>\n      <td>2</td>\n    </tr>\n    <tr>\n      <th>Nuclear receptor signaling</th>\n      <td>2</td>\n    </tr>\n    <tr>\n      <th>Hepatocellular carcinoma</th>\n      <td>2</td>\n    </tr>\n    <tr>\n      <th>Hypogonadotropic hypogonadism</th>\n      <td>2</td>\n    </tr>\n    <tr>\n      <th>Prostate cancer</th>\n      <td>1</td>\n    </tr>\n    <tr>\n      <th>SARS coronavirus 2 (SARS-CoV-2)</th>\n      <td>1</td>\n    </tr>\n    <tr>\n      <th>AVP signaling</th>\n      <td>1</td>\n    </tr>\n    <tr>\n      <th>Sphingolipid degradation</th>\n      <td>1</td>\n    </tr>\n    <tr>\n      <th>TRH-TSH-TH signaling</th>\n      <td>1</td>\n    </tr>\n    <tr>\n      <th>Unfolded protein response</th>\n      <td>1</td>\n    </tr>\n    <tr>\n      <th>Urea cycle</th>\n      <td>1</td>\n    </tr>\n    <tr>\n      <th>WNT signaling</th>\n      <td>1</td>\n    </tr>\n    <tr>\n      <th>beta-Oxidation in mitochondria</th>\n      <td>1</td>\n    </tr>\n    <tr>\n      <th>Phenylalanine and tyrosine metabolism</th>\n      <td>1</td>\n    </tr>\n    <tr>\n      <th>MHC presentation</th>\n      <td>1</td>\n    </tr>\n    <tr>\n      <th>O-Glycan biosynthesis</th>\n      <td>1</td>\n    </tr>\n    <tr>\n      <th>Necroptosis</th>\n      <td>1</td>\n    </tr>\n    <tr>\n      <th>NLR signaling</th>\n      <td>1</td>\n    </tr>\n    <tr>\n      <th>Acute myeloid leukemia</th>\n      <td>1</td>\n    </tr>\n    <tr>\n      <th>Lysine degradation</th>\n      <td>1</td>\n    </tr>\n    <tr>\n      <th>HH signaling</th>\n      <td>1</td>\n    </tr>\n    <tr>\n      <th>Glycosaminoglycan degradation</th>\n      <td>1</td>\n    </tr>\n    <tr>\n      <th>Glycosaminoglycan biosynthesis</th>\n      <td>1</td>\n    </tr>\n    <tr>\n      <th>Glycine,serine and arginine metabolism</th>\n      <td>1</td>\n    </tr>\n    <tr>\n      <th>Double-strand break repair</th>\n      <td>1</td>\n    </tr>\n    <tr>\n      <th>DNA adduct formation</th>\n      <td>1</td>\n    </tr>\n    <tr>\n      <th>Cytoskeletal regulation (viruses and bacteria)</th>\n      <td>1</td>\n    </tr>\n    <tr>\n      <th>CGAS-STING signaling</th>\n      <td>1</td>\n    </tr>\n    <tr>\n      <th>Alzheimer disease</th>\n      <td>1</td>\n    </tr>\n    <tr>\n      <th>cAMP signaling</th>\n      <td>1</td>\n    </tr>\n  </tbody>\n</table>\n</div>"
     },
     "execution_count": 111,
     "metadata": {},
     "output_type": "execute_result"
    }
   ],
   "source": [
    "# 将df_pathways_single_drug_mean_merge的前84个数据，按照pathway_class分组计数\n",
    "df_counts = df_pathways_single_drug_mean_merge[df_pathways_single_drug_mean_merge.index < 84].groupby('pathway_class').count()\n",
    "df_counts = df_counts.sort_values(by='attention', ascending=False)\n",
    "# 取df_counts前两列\n",
    "df_counts = df_counts.iloc[:, 0:1]\n",
    "# 将第二列重命名为count\n",
    "df_counts.columns = ['count']\n",
    "df_counts"
   ],
   "metadata": {
    "collapsed": false,
    "ExecuteTime": {
     "end_time": "2024-02-19T15:32:29.867915Z",
     "start_time": "2024-02-19T15:32:29.855280700Z"
    }
   },
   "id": "bad9f75b5db96ec",
   "execution_count": 111
  },
  {
   "cell_type": "code",
   "outputs": [
    {
     "ename": "KeyError",
     "evalue": "'pathway_class'",
     "output_type": "error",
     "traceback": [
      "\u001B[1;31m---------------------------------------------------------------------------\u001B[0m",
      "\u001B[1;31mKeyError\u001B[0m                                  Traceback (most recent call last)",
      "File \u001B[1;32mC:\\anaconda3\\envs\\torchgpu1\\Lib\\site-packages\\pandas\\core\\indexes\\base.py:3802\u001B[0m, in \u001B[0;36mIndex.get_loc\u001B[1;34m(self, key)\u001B[0m\n\u001B[0;32m   3801\u001B[0m \u001B[38;5;28;01mtry\u001B[39;00m:\n\u001B[1;32m-> 3802\u001B[0m     \u001B[38;5;28;01mreturn\u001B[39;00m \u001B[38;5;28mself\u001B[39m\u001B[38;5;241m.\u001B[39m_engine\u001B[38;5;241m.\u001B[39mget_loc(casted_key)\n\u001B[0;32m   3803\u001B[0m \u001B[38;5;28;01mexcept\u001B[39;00m \u001B[38;5;167;01mKeyError\u001B[39;00m \u001B[38;5;28;01mas\u001B[39;00m err:\n",
      "File \u001B[1;32mindex.pyx:153\u001B[0m, in \u001B[0;36mpandas._libs.index.IndexEngine.get_loc\u001B[1;34m()\u001B[0m\n",
      "File \u001B[1;32mindex.pyx:182\u001B[0m, in \u001B[0;36mpandas._libs.index.IndexEngine.get_loc\u001B[1;34m()\u001B[0m\n",
      "File \u001B[1;32mpandas\\\\_libs\\\\hashtable_class_helper.pxi:7081\u001B[0m, in \u001B[0;36mpandas._libs.hashtable.PyObjectHashTable.get_item\u001B[1;34m()\u001B[0m\n",
      "File \u001B[1;32mpandas\\\\_libs\\\\hashtable_class_helper.pxi:7089\u001B[0m, in \u001B[0;36mpandas._libs.hashtable.PyObjectHashTable.get_item\u001B[1;34m()\u001B[0m\n",
      "\u001B[1;31mKeyError\u001B[0m: 'pathway_class'",
      "\nThe above exception was the direct cause of the following exception:\n",
      "\u001B[1;31mKeyError\u001B[0m                                  Traceback (most recent call last)",
      "Cell \u001B[1;32mIn[110], line 4\u001B[0m\n\u001B[0;32m      2\u001B[0m df_counts[\u001B[38;5;124m'\u001B[39m\u001B[38;5;124mcount\u001B[39m\u001B[38;5;124m'\u001B[39m] \u001B[38;5;241m=\u001B[39m np\u001B[38;5;241m.\u001B[39mwhere(df_counts[\u001B[38;5;124m'\u001B[39m\u001B[38;5;124mcount\u001B[39m\u001B[38;5;124m'\u001B[39m] \u001B[38;5;241m<\u001B[39m \u001B[38;5;241m3\u001B[39m, \u001B[38;5;124m'\u001B[39m\u001B[38;5;124mothers\u001B[39m\u001B[38;5;124m'\u001B[39m, df_counts[\u001B[38;5;124m'\u001B[39m\u001B[38;5;124mcount\u001B[39m\u001B[38;5;124m'\u001B[39m])\n\u001B[0;32m      3\u001B[0m df_counts \u001B[38;5;241m=\u001B[39m df_counts\u001B[38;5;241m.\u001B[39mgroupby(\u001B[38;5;124m'\u001B[39m\u001B[38;5;124mcount\u001B[39m\u001B[38;5;124m'\u001B[39m)\u001B[38;5;241m.\u001B[39msum()\n\u001B[1;32m----> 4\u001B[0m df_counts\u001B[38;5;241m.\u001B[39mplot\u001B[38;5;241m.\u001B[39mpie(y\u001B[38;5;241m=\u001B[39m\u001B[38;5;124m'\u001B[39m\u001B[38;5;124mpathway_class\u001B[39m\u001B[38;5;124m'\u001B[39m, autopct\u001B[38;5;241m=\u001B[39m\u001B[38;5;124m'\u001B[39m\u001B[38;5;132;01m%1.1f\u001B[39;00m\u001B[38;5;132;01m%%\u001B[39;00m\u001B[38;5;124m'\u001B[39m, startangle\u001B[38;5;241m=\u001B[39m\u001B[38;5;241m90\u001B[39m, legend\u001B[38;5;241m=\u001B[39m\u001B[38;5;28;01mFalse\u001B[39;00m, figsize\u001B[38;5;241m=\u001B[39m(\u001B[38;5;241m10\u001B[39m, \u001B[38;5;241m10\u001B[39m))\n\u001B[0;32m      5\u001B[0m plt\u001B[38;5;241m.\u001B[39mtitle(\u001B[38;5;124m'\u001B[39m\u001B[38;5;124mTarget Pathway Class Distribution\u001B[39m\u001B[38;5;124m'\u001B[39m)\n\u001B[0;32m      6\u001B[0m plt\u001B[38;5;241m.\u001B[39mylabel(\u001B[38;5;124m'\u001B[39m\u001B[38;5;124m'\u001B[39m)\n",
      "File \u001B[1;32mC:\\anaconda3\\envs\\torchgpu1\\Lib\\site-packages\\pandas\\plotting\\_core.py:1658\u001B[0m, in \u001B[0;36mPlotAccessor.pie\u001B[1;34m(self, **kwargs)\u001B[0m\n\u001B[0;32m   1652\u001B[0m \u001B[38;5;28;01mif\u001B[39;00m (\n\u001B[0;32m   1653\u001B[0m     \u001B[38;5;28misinstance\u001B[39m(\u001B[38;5;28mself\u001B[39m\u001B[38;5;241m.\u001B[39m_parent, ABCDataFrame)\n\u001B[0;32m   1654\u001B[0m     \u001B[38;5;129;01mand\u001B[39;00m kwargs\u001B[38;5;241m.\u001B[39mget(\u001B[38;5;124m\"\u001B[39m\u001B[38;5;124my\u001B[39m\u001B[38;5;124m\"\u001B[39m, \u001B[38;5;28;01mNone\u001B[39;00m) \u001B[38;5;129;01mis\u001B[39;00m \u001B[38;5;28;01mNone\u001B[39;00m\n\u001B[0;32m   1655\u001B[0m     \u001B[38;5;129;01mand\u001B[39;00m \u001B[38;5;129;01mnot\u001B[39;00m kwargs\u001B[38;5;241m.\u001B[39mget(\u001B[38;5;124m\"\u001B[39m\u001B[38;5;124msubplots\u001B[39m\u001B[38;5;124m\"\u001B[39m, \u001B[38;5;28;01mFalse\u001B[39;00m)\n\u001B[0;32m   1656\u001B[0m ):\n\u001B[0;32m   1657\u001B[0m     \u001B[38;5;28;01mraise\u001B[39;00m \u001B[38;5;167;01mValueError\u001B[39;00m(\u001B[38;5;124m\"\u001B[39m\u001B[38;5;124mpie requires either y column or \u001B[39m\u001B[38;5;124m'\u001B[39m\u001B[38;5;124msubplots=True\u001B[39m\u001B[38;5;124m'\u001B[39m\u001B[38;5;124m\"\u001B[39m)\n\u001B[1;32m-> 1658\u001B[0m \u001B[38;5;28;01mreturn\u001B[39;00m \u001B[38;5;28mself\u001B[39m(kind\u001B[38;5;241m=\u001B[39m\u001B[38;5;124m\"\u001B[39m\u001B[38;5;124mpie\u001B[39m\u001B[38;5;124m\"\u001B[39m, \u001B[38;5;241m*\u001B[39m\u001B[38;5;241m*\u001B[39mkwargs)\n",
      "File \u001B[1;32mC:\\anaconda3\\envs\\torchgpu1\\Lib\\site-packages\\pandas\\plotting\\_core.py:988\u001B[0m, in \u001B[0;36mPlotAccessor.__call__\u001B[1;34m(self, *args, **kwargs)\u001B[0m\n\u001B[0;32m    986\u001B[0m                 y \u001B[38;5;241m=\u001B[39m data\u001B[38;5;241m.\u001B[39mcolumns[y]\n\u001B[0;32m    987\u001B[0m             \u001B[38;5;66;03m# converted to series actually. copy to not modify\u001B[39;00m\n\u001B[1;32m--> 988\u001B[0m             data \u001B[38;5;241m=\u001B[39m data[y]\u001B[38;5;241m.\u001B[39mcopy()\n\u001B[0;32m    989\u001B[0m             data\u001B[38;5;241m.\u001B[39mindex\u001B[38;5;241m.\u001B[39mname \u001B[38;5;241m=\u001B[39m y\n\u001B[0;32m    990\u001B[0m \u001B[38;5;28;01melif\u001B[39;00m \u001B[38;5;28misinstance\u001B[39m(data, ABCDataFrame):\n",
      "File \u001B[1;32mC:\\anaconda3\\envs\\torchgpu1\\Lib\\site-packages\\pandas\\core\\frame.py:4090\u001B[0m, in \u001B[0;36mDataFrame.__getitem__\u001B[1;34m(self, key)\u001B[0m\n\u001B[0;32m   4088\u001B[0m \u001B[38;5;28;01mif\u001B[39;00m \u001B[38;5;28mself\u001B[39m\u001B[38;5;241m.\u001B[39mcolumns\u001B[38;5;241m.\u001B[39mnlevels \u001B[38;5;241m>\u001B[39m \u001B[38;5;241m1\u001B[39m:\n\u001B[0;32m   4089\u001B[0m     \u001B[38;5;28;01mreturn\u001B[39;00m \u001B[38;5;28mself\u001B[39m\u001B[38;5;241m.\u001B[39m_getitem_multilevel(key)\n\u001B[1;32m-> 4090\u001B[0m indexer \u001B[38;5;241m=\u001B[39m \u001B[38;5;28mself\u001B[39m\u001B[38;5;241m.\u001B[39mcolumns\u001B[38;5;241m.\u001B[39mget_loc(key)\n\u001B[0;32m   4091\u001B[0m \u001B[38;5;28;01mif\u001B[39;00m is_integer(indexer):\n\u001B[0;32m   4092\u001B[0m     indexer \u001B[38;5;241m=\u001B[39m [indexer]\n",
      "File \u001B[1;32mC:\\anaconda3\\envs\\torchgpu1\\Lib\\site-packages\\pandas\\core\\indexes\\base.py:3809\u001B[0m, in \u001B[0;36mIndex.get_loc\u001B[1;34m(self, key)\u001B[0m\n\u001B[0;32m   3804\u001B[0m     \u001B[38;5;28;01mif\u001B[39;00m \u001B[38;5;28misinstance\u001B[39m(casted_key, \u001B[38;5;28mslice\u001B[39m) \u001B[38;5;129;01mor\u001B[39;00m (\n\u001B[0;32m   3805\u001B[0m         \u001B[38;5;28misinstance\u001B[39m(casted_key, abc\u001B[38;5;241m.\u001B[39mIterable)\n\u001B[0;32m   3806\u001B[0m         \u001B[38;5;129;01mand\u001B[39;00m \u001B[38;5;28many\u001B[39m(\u001B[38;5;28misinstance\u001B[39m(x, \u001B[38;5;28mslice\u001B[39m) \u001B[38;5;28;01mfor\u001B[39;00m x \u001B[38;5;129;01min\u001B[39;00m casted_key)\n\u001B[0;32m   3807\u001B[0m     ):\n\u001B[0;32m   3808\u001B[0m         \u001B[38;5;28;01mraise\u001B[39;00m InvalidIndexError(key)\n\u001B[1;32m-> 3809\u001B[0m     \u001B[38;5;28;01mraise\u001B[39;00m \u001B[38;5;167;01mKeyError\u001B[39;00m(key) \u001B[38;5;28;01mfrom\u001B[39;00m \u001B[38;5;21;01merr\u001B[39;00m\n\u001B[0;32m   3810\u001B[0m \u001B[38;5;28;01mexcept\u001B[39;00m \u001B[38;5;167;01mTypeError\u001B[39;00m:\n\u001B[0;32m   3811\u001B[0m     \u001B[38;5;66;03m# If we have a listlike key, _check_indexing_error will raise\u001B[39;00m\n\u001B[0;32m   3812\u001B[0m     \u001B[38;5;66;03m#  InvalidIndexError. Otherwise we fall through and re-raise\u001B[39;00m\n\u001B[0;32m   3813\u001B[0m     \u001B[38;5;66;03m#  the TypeError.\u001B[39;00m\n\u001B[0;32m   3814\u001B[0m     \u001B[38;5;28mself\u001B[39m\u001B[38;5;241m.\u001B[39m_check_indexing_error(key)\n",
      "\u001B[1;31mKeyError\u001B[0m: 'pathway_class'"
     ]
    }
   ],
   "source": [
    "# 画出df_counts的饼图，将前十个count合并，其余合并为others"
   ],
   "metadata": {
    "collapsed": false,
    "ExecuteTime": {
     "end_time": "2024-02-19T15:31:36.805742800Z",
     "start_time": "2024-02-19T15:31:36.748757800Z"
    }
   },
   "id": "bb5acb42e387a764",
   "execution_count": 110
  },
  {
   "cell_type": "code",
   "outputs": [
    {
     "data": {
      "text/plain": "              attention  pathway_name  Unnamed: 0  pathway_id  pathway_class  \\\npathway_type                                                                   \nEnv factor            3             3           3           3              3   \nPathogen              5             5           5           5              5   \nReference            60            60          60          60             60   \nVariant              16            16          16          16             15   \n\n              color  \npathway_type         \nEnv factor        3  \nPathogen          5  \nReference        60  \nVariant          16  ",
      "text/html": "<div>\n<style scoped>\n    .dataframe tbody tr th:only-of-type {\n        vertical-align: middle;\n    }\n\n    .dataframe tbody tr th {\n        vertical-align: top;\n    }\n\n    .dataframe thead th {\n        text-align: right;\n    }\n</style>\n<table border=\"1\" class=\"dataframe\">\n  <thead>\n    <tr style=\"text-align: right;\">\n      <th></th>\n      <th>attention</th>\n      <th>pathway_name</th>\n      <th>Unnamed: 0</th>\n      <th>pathway_id</th>\n      <th>pathway_class</th>\n      <th>color</th>\n    </tr>\n    <tr>\n      <th>pathway_type</th>\n      <th></th>\n      <th></th>\n      <th></th>\n      <th></th>\n      <th></th>\n      <th></th>\n    </tr>\n  </thead>\n  <tbody>\n    <tr>\n      <th>Env factor</th>\n      <td>3</td>\n      <td>3</td>\n      <td>3</td>\n      <td>3</td>\n      <td>3</td>\n      <td>3</td>\n    </tr>\n    <tr>\n      <th>Pathogen</th>\n      <td>5</td>\n      <td>5</td>\n      <td>5</td>\n      <td>5</td>\n      <td>5</td>\n      <td>5</td>\n    </tr>\n    <tr>\n      <th>Reference</th>\n      <td>60</td>\n      <td>60</td>\n      <td>60</td>\n      <td>60</td>\n      <td>60</td>\n      <td>60</td>\n    </tr>\n    <tr>\n      <th>Variant</th>\n      <td>16</td>\n      <td>16</td>\n      <td>16</td>\n      <td>16</td>\n      <td>15</td>\n      <td>16</td>\n    </tr>\n  </tbody>\n</table>\n</div>"
     },
     "execution_count": 61,
     "metadata": {},
     "output_type": "execute_result"
    }
   ],
   "source": [
    "# 将df_pathways_single_drug_mean_merge的前84个数据，按照pathway_type分组计数\n",
    "df_pathways_single_drug_mean_merge[df_pathways_single_drug_mean_merge.index < 84].groupby('pathway_type').count()"
   ],
   "metadata": {
    "collapsed": false,
    "ExecuteTime": {
     "end_time": "2024-02-19T14:49:12.334487100Z",
     "start_time": "2024-02-19T14:49:12.325989100Z"
    }
   },
   "id": "f5294b8f2bf197c5",
   "execution_count": 61
  },
  {
   "cell_type": "code",
   "outputs": [],
   "source": [],
   "metadata": {
    "collapsed": false,
    "ExecuteTime": {
     "end_time": "2024-02-19T14:49:12.369547200Z",
     "start_time": "2024-02-19T14:49:12.335581500Z"
    }
   },
   "id": "3724757c3d11c3f1",
   "execution_count": 61
  }
 ],
 "metadata": {
  "kernelspec": {
   "display_name": "Python 3",
   "language": "python",
   "name": "python3"
  },
  "language_info": {
   "codemirror_mode": {
    "name": "ipython",
    "version": 2
   },
   "file_extension": ".py",
   "mimetype": "text/x-python",
   "name": "python",
   "nbconvert_exporter": "python",
   "pygments_lexer": "ipython2",
   "version": "2.7.6"
  }
 },
 "nbformat": 4,
 "nbformat_minor": 5
}
