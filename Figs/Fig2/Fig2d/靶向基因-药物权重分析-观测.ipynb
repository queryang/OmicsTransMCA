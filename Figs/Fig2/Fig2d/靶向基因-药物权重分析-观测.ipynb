{
 "cells": [
  {
   "cell_type": "code",
   "execution_count": 1,
   "id": "initial_id",
   "metadata": {
    "collapsed": true,
    "ExecuteTime": {
     "end_time": "2024-02-06T08:35:08.532730400Z",
     "start_time": "2024-02-06T08:35:07.903066200Z"
    }
   },
   "outputs": [],
   "source": [
    "import pandas as pd\n",
    "import numpy as np\n",
    "import matplotlib.pyplot as plt\n",
    "plt.style.use('default')"
   ]
  },
  {
   "cell_type": "code",
   "outputs": [
    {
     "data": {
      "text/plain": "             drug cell_line OncotreeCode  \\\n0  5-Fluorouracil      OPM2          PCM   \n1   5-azacytidine      OPM2          PCM   \n2           A-366      OPM2          PCM   \n3          ABT737      OPM2          PCM   \n4        AGI-5198      OPM2          PCM   \n\n   KEGG_MEDICUS_ENV_FACTOR_ARSENIC_TO_ELECTRON_TRANSFER_IN_COMPLEX_IV  \\\n0                                           0.001386                    \n1                                           0.001537                    \n2                                           0.001513                    \n3                                           0.001365                    \n4                                           0.001358                    \n\n   KEGG_MEDICUS_ENV_FACTOR_BENZO_A_PYRENRE_TO_CYP_MEDIATED_METABOLISM  \\\n0                                           0.001516                    \n1                                           0.001651                    \n2                                           0.001648                    \n3                                           0.001471                    \n4                                           0.001446                    \n\n   KEGG_MEDICUS_ENV_FACTOR_BPA_TO_RAS_ERK_SIGNALING_PATHWAY  \\\n0                                           0.001544          \n1                                           0.001543          \n2                                           0.001529          \n3                                           0.001543          \n4                                           0.001532          \n\n   KEGG_MEDICUS_ENV_FACTOR_DCE_TO_DNA_ADDUCTS  \\\n0                                    0.001764   \n1                                    0.001677   \n2                                    0.001405   \n3                                    0.001316   \n4                                    0.001425   \n\n   KEGG_MEDICUS_ENV_FACTOR_E2_TO_NUCLEAR_INITIATED_ESTROGEN_SIGNALING_PATHWAY  \\\n0                                           0.001685                            \n1                                           0.001742                            \n2                                           0.001395                            \n3                                           0.001746                            \n4                                           0.001736                            \n\n   KEGG_MEDICUS_ENV_FACTOR_E2_TO_RAS_ERK_SIGNALING_PATHWAY  \\\n0                                           0.001634         \n1                                           0.001588         \n2                                           0.001593         \n3                                           0.001747         \n4                                           0.001576         \n\n   KEGG_MEDICUS_ENV_FACTOR_IRON_TO_ANTEROGRADE_AXONAL_TRANSPORT  ...  \\\n0                                           0.001773             ...   \n1                                           0.001569             ...   \n2                                           0.001573             ...   \n3                                           0.001416             ...   \n4                                           0.001592             ...   \n\n   KEGG_MEDICUS_VARIANT_SCRAPIE_CONFORMATION_PRPSC_TO_26S_PROTEASOME_MEDIATED_PROTEIN_DEGRADATION  \\\n0                                           0.001542                                                \n1                                           0.001544                                                \n2                                           0.001530                                                \n3                                           0.001365                                                \n4                                           0.001532                                                \n\n   KEGG_MEDICUS_VARIANT_SCRAPIE_CONFORMATION_PRPSC_TO_MGLUR5_CA2_APOPTOTIC_PATHWAY  \\\n0                                           0.001352                                 \n1                                           0.001334                                 \n2                                           0.001300                                 \n3                                           0.001459                                 \n4                                           0.001436                                 \n\n   KEGG_MEDICUS_VARIANT_SCRAPIE_CONFORMATION_PRPSC_TO_PERK_ATF4_SIGNALING_PATHWAY  \\\n0                                           0.001542                                \n1                                           0.001352                                \n2                                           0.001519                                \n3                                           0.001541                                \n4                                           0.001513                                \n\n   KEGG_MEDICUS_VARIANT_SCRAPIE_CONFORMATION_PRPSC_TO_PRNP_PI3K_NOX2_SIGNALING_PATHWAY  \\\n0                                           0.001405                                     \n1                                           0.001402                                     \n2                                           0.001397                                     \n3                                           0.001586                                     \n4                                           0.001399                                     \n\n   KEGG_MEDICUS_VARIANT_SCRAPIE_CONFORMATION_PRPSC_TO_TRANSPORT_OF_CALCIUM  \\\n0                                           0.001408                         \n1                                           0.001405                         \n2                                           0.001572                         \n3                                           0.001586                         \n4                                           0.001401                         \n\n   KEGG_MEDICUS_VARIANT_SCRAPIE_CONFORMATION_PRPSC_TO_VGCC_CA2_APOPTOTIC_PATHWAY  \\\n0                                           0.001708                               \n1                                           0.001742                               \n2                                           0.001718                               \n3                                           0.001406                               \n4                                           0.001737                               \n\n   KEGG_MEDICUS_VARIANT_TEL_AML1_FUSION_TO_TRANSCRIPTIONAL_REPRESSION  \\\n0                                           0.002633                    \n1                                           0.002479                    \n2                                           0.002541                    \n3                                           0.002330                    \n4                                           0.002400                    \n\n   KEGG_MEDICUS_VARIANT_TGFA_OVEREXPRESSION_TO_PI3K_SIGNALING_PATHWAY  \\\n0                                           0.001840                    \n1                                           0.001702                    \n2                                           0.001649                    \n3                                           0.001366                    \n4                                           0.001265                    \n\n   KEGG_MEDICUS_VARIANT_TMPRSS2_ERG_FUSION_TO_TRANSCRIPTIONAL_ACTIVATION  \\\n0                                           0.001685                       \n1                                           0.002028                       \n2                                           0.002129                       \n3                                           0.002299                       \n4                                           0.002555                       \n\n   KEGG_MEDICUS_VARIANT_TRK_FUSION_KINASE_TO_RAS_ERK_SIGNALING_PATHWAY  \n0                                           0.001541                    \n1                                           0.001539                    \n2                                           0.001347                    \n3                                           0.001535                    \n4                                           0.001530                    \n\n[5 rows x 622 columns]",
      "text/html": "<div>\n<style scoped>\n    .dataframe tbody tr th:only-of-type {\n        vertical-align: middle;\n    }\n\n    .dataframe tbody tr th {\n        vertical-align: top;\n    }\n\n    .dataframe thead th {\n        text-align: right;\n    }\n</style>\n<table border=\"1\" class=\"dataframe\">\n  <thead>\n    <tr style=\"text-align: right;\">\n      <th></th>\n      <th>drug</th>\n      <th>cell_line</th>\n      <th>OncotreeCode</th>\n      <th>KEGG_MEDICUS_ENV_FACTOR_ARSENIC_TO_ELECTRON_TRANSFER_IN_COMPLEX_IV</th>\n      <th>KEGG_MEDICUS_ENV_FACTOR_BENZO_A_PYRENRE_TO_CYP_MEDIATED_METABOLISM</th>\n      <th>KEGG_MEDICUS_ENV_FACTOR_BPA_TO_RAS_ERK_SIGNALING_PATHWAY</th>\n      <th>KEGG_MEDICUS_ENV_FACTOR_DCE_TO_DNA_ADDUCTS</th>\n      <th>KEGG_MEDICUS_ENV_FACTOR_E2_TO_NUCLEAR_INITIATED_ESTROGEN_SIGNALING_PATHWAY</th>\n      <th>KEGG_MEDICUS_ENV_FACTOR_E2_TO_RAS_ERK_SIGNALING_PATHWAY</th>\n      <th>KEGG_MEDICUS_ENV_FACTOR_IRON_TO_ANTEROGRADE_AXONAL_TRANSPORT</th>\n      <th>...</th>\n      <th>KEGG_MEDICUS_VARIANT_SCRAPIE_CONFORMATION_PRPSC_TO_26S_PROTEASOME_MEDIATED_PROTEIN_DEGRADATION</th>\n      <th>KEGG_MEDICUS_VARIANT_SCRAPIE_CONFORMATION_PRPSC_TO_MGLUR5_CA2_APOPTOTIC_PATHWAY</th>\n      <th>KEGG_MEDICUS_VARIANT_SCRAPIE_CONFORMATION_PRPSC_TO_PERK_ATF4_SIGNALING_PATHWAY</th>\n      <th>KEGG_MEDICUS_VARIANT_SCRAPIE_CONFORMATION_PRPSC_TO_PRNP_PI3K_NOX2_SIGNALING_PATHWAY</th>\n      <th>KEGG_MEDICUS_VARIANT_SCRAPIE_CONFORMATION_PRPSC_TO_TRANSPORT_OF_CALCIUM</th>\n      <th>KEGG_MEDICUS_VARIANT_SCRAPIE_CONFORMATION_PRPSC_TO_VGCC_CA2_APOPTOTIC_PATHWAY</th>\n      <th>KEGG_MEDICUS_VARIANT_TEL_AML1_FUSION_TO_TRANSCRIPTIONAL_REPRESSION</th>\n      <th>KEGG_MEDICUS_VARIANT_TGFA_OVEREXPRESSION_TO_PI3K_SIGNALING_PATHWAY</th>\n      <th>KEGG_MEDICUS_VARIANT_TMPRSS2_ERG_FUSION_TO_TRANSCRIPTIONAL_ACTIVATION</th>\n      <th>KEGG_MEDICUS_VARIANT_TRK_FUSION_KINASE_TO_RAS_ERK_SIGNALING_PATHWAY</th>\n    </tr>\n  </thead>\n  <tbody>\n    <tr>\n      <th>0</th>\n      <td>5-Fluorouracil</td>\n      <td>OPM2</td>\n      <td>PCM</td>\n      <td>0.001386</td>\n      <td>0.001516</td>\n      <td>0.001544</td>\n      <td>0.001764</td>\n      <td>0.001685</td>\n      <td>0.001634</td>\n      <td>0.001773</td>\n      <td>...</td>\n      <td>0.001542</td>\n      <td>0.001352</td>\n      <td>0.001542</td>\n      <td>0.001405</td>\n      <td>0.001408</td>\n      <td>0.001708</td>\n      <td>0.002633</td>\n      <td>0.001840</td>\n      <td>0.001685</td>\n      <td>0.001541</td>\n    </tr>\n    <tr>\n      <th>1</th>\n      <td>5-azacytidine</td>\n      <td>OPM2</td>\n      <td>PCM</td>\n      <td>0.001537</td>\n      <td>0.001651</td>\n      <td>0.001543</td>\n      <td>0.001677</td>\n      <td>0.001742</td>\n      <td>0.001588</td>\n      <td>0.001569</td>\n      <td>...</td>\n      <td>0.001544</td>\n      <td>0.001334</td>\n      <td>0.001352</td>\n      <td>0.001402</td>\n      <td>0.001405</td>\n      <td>0.001742</td>\n      <td>0.002479</td>\n      <td>0.001702</td>\n      <td>0.002028</td>\n      <td>0.001539</td>\n    </tr>\n    <tr>\n      <th>2</th>\n      <td>A-366</td>\n      <td>OPM2</td>\n      <td>PCM</td>\n      <td>0.001513</td>\n      <td>0.001648</td>\n      <td>0.001529</td>\n      <td>0.001405</td>\n      <td>0.001395</td>\n      <td>0.001593</td>\n      <td>0.001573</td>\n      <td>...</td>\n      <td>0.001530</td>\n      <td>0.001300</td>\n      <td>0.001519</td>\n      <td>0.001397</td>\n      <td>0.001572</td>\n      <td>0.001718</td>\n      <td>0.002541</td>\n      <td>0.001649</td>\n      <td>0.002129</td>\n      <td>0.001347</td>\n    </tr>\n    <tr>\n      <th>3</th>\n      <td>ABT737</td>\n      <td>OPM2</td>\n      <td>PCM</td>\n      <td>0.001365</td>\n      <td>0.001471</td>\n      <td>0.001543</td>\n      <td>0.001316</td>\n      <td>0.001746</td>\n      <td>0.001747</td>\n      <td>0.001416</td>\n      <td>...</td>\n      <td>0.001365</td>\n      <td>0.001459</td>\n      <td>0.001541</td>\n      <td>0.001586</td>\n      <td>0.001586</td>\n      <td>0.001406</td>\n      <td>0.002330</td>\n      <td>0.001366</td>\n      <td>0.002299</td>\n      <td>0.001535</td>\n    </tr>\n    <tr>\n      <th>4</th>\n      <td>AGI-5198</td>\n      <td>OPM2</td>\n      <td>PCM</td>\n      <td>0.001358</td>\n      <td>0.001446</td>\n      <td>0.001532</td>\n      <td>0.001425</td>\n      <td>0.001736</td>\n      <td>0.001576</td>\n      <td>0.001592</td>\n      <td>...</td>\n      <td>0.001532</td>\n      <td>0.001436</td>\n      <td>0.001513</td>\n      <td>0.001399</td>\n      <td>0.001401</td>\n      <td>0.001737</td>\n      <td>0.002400</td>\n      <td>0.001265</td>\n      <td>0.002555</td>\n      <td>0.001530</td>\n    </tr>\n  </tbody>\n</table>\n<p>5 rows × 622 columns</p>\n</div>"
     },
     "execution_count": 3,
     "metadata": {},
     "output_type": "execute_result"
    }
   ],
   "source": [
    "df_pathways_att = pd.read_csv('../../data/GEP_CellBlind_LUNG_pathway_attention.csv')\n",
    "df_pathways_att.head()"
   ],
   "metadata": {
    "collapsed": false,
    "ExecuteTime": {
     "end_time": "2024-02-06T08:52:54.322299200Z",
     "start_time": "2024-02-06T08:52:53.658981800Z"
    }
   },
   "id": "63dcb4179df89aa6",
   "execution_count": 3
  },
  {
   "cell_type": "code",
   "outputs": [
    {
     "data": {
      "text/plain": "KEGG_MEDICUS_ENV_FACTOR_ARSENIC_TO_ELECTRON_TRANSFER_IN_COMPLEX_IV            0.001382\nKEGG_MEDICUS_ENV_FACTOR_BENZO_A_PYRENRE_TO_CYP_MEDIATED_METABOLISM            0.001574\nKEGG_MEDICUS_ENV_FACTOR_BPA_TO_RAS_ERK_SIGNALING_PATHWAY                      0.001526\nKEGG_MEDICUS_ENV_FACTOR_DCE_TO_DNA_ADDUCTS                                    0.001560\nKEGG_MEDICUS_ENV_FACTOR_E2_TO_NUCLEAR_INITIATED_ESTROGEN_SIGNALING_PATHWAY    0.001651\ndtype: float64"
     },
     "execution_count": 4,
     "metadata": {},
     "output_type": "execute_result"
    }
   ],
   "source": [
    "df_pathways_att = df_pathways_att.iloc[:, 3:].mean(axis=0)\n",
    "df_pathways_att.head()"
   ],
   "metadata": {
    "collapsed": false,
    "ExecuteTime": {
     "end_time": "2024-02-06T08:53:16.969471Z",
     "start_time": "2024-02-06T08:53:16.927591700Z"
    }
   },
   "id": "cebc1cacdbe35e73",
   "execution_count": 4
  },
  {
   "cell_type": "code",
   "outputs": [
    {
     "data": {
      "text/plain": "   Unnamed: 0 pathway_id pathway_type                         pathway_class  \\\n0           0     N01394   Env factor  nt06252 Mitochondrial ROS formation.   \n1           1     N01401   Env factor   nt06251 CYP-mediated ROS formation.   \n2           2     N01352   Env factor                nt06210 ERK signaling.   \n3           3     N01386   Env factor         nt06250 DNA adduct formation.   \n4           4     N01364   Env factor   nt06227 Nuclear receptor signaling.   \n\n                                        pathway_name  \n0  KEGG_MEDICUS_ENV_FACTOR_ARSENIC_TO_ELECTRON_TR...  \n1  KEGG_MEDICUS_ENV_FACTOR_BENZO_A_PYRENRE_TO_CYP...  \n2  KEGG_MEDICUS_ENV_FACTOR_BPA_TO_RAS_ERK_SIGNALI...  \n3         KEGG_MEDICUS_ENV_FACTOR_DCE_TO_DNA_ADDUCTS  \n4  KEGG_MEDICUS_ENV_FACTOR_E2_TO_NUCLEAR_INITIATE...  ",
      "text/html": "<div>\n<style scoped>\n    .dataframe tbody tr th:only-of-type {\n        vertical-align: middle;\n    }\n\n    .dataframe tbody tr th {\n        vertical-align: top;\n    }\n\n    .dataframe thead th {\n        text-align: right;\n    }\n</style>\n<table border=\"1\" class=\"dataframe\">\n  <thead>\n    <tr style=\"text-align: right;\">\n      <th></th>\n      <th>Unnamed: 0</th>\n      <th>pathway_id</th>\n      <th>pathway_type</th>\n      <th>pathway_class</th>\n      <th>pathway_name</th>\n    </tr>\n  </thead>\n  <tbody>\n    <tr>\n      <th>0</th>\n      <td>0</td>\n      <td>N01394</td>\n      <td>Env factor</td>\n      <td>nt06252 Mitochondrial ROS formation.</td>\n      <td>KEGG_MEDICUS_ENV_FACTOR_ARSENIC_TO_ELECTRON_TR...</td>\n    </tr>\n    <tr>\n      <th>1</th>\n      <td>1</td>\n      <td>N01401</td>\n      <td>Env factor</td>\n      <td>nt06251 CYP-mediated ROS formation.</td>\n      <td>KEGG_MEDICUS_ENV_FACTOR_BENZO_A_PYRENRE_TO_CYP...</td>\n    </tr>\n    <tr>\n      <th>2</th>\n      <td>2</td>\n      <td>N01352</td>\n      <td>Env factor</td>\n      <td>nt06210 ERK signaling.</td>\n      <td>KEGG_MEDICUS_ENV_FACTOR_BPA_TO_RAS_ERK_SIGNALI...</td>\n    </tr>\n    <tr>\n      <th>3</th>\n      <td>3</td>\n      <td>N01386</td>\n      <td>Env factor</td>\n      <td>nt06250 DNA adduct formation.</td>\n      <td>KEGG_MEDICUS_ENV_FACTOR_DCE_TO_DNA_ADDUCTS</td>\n    </tr>\n    <tr>\n      <th>4</th>\n      <td>4</td>\n      <td>N01364</td>\n      <td>Env factor</td>\n      <td>nt06227 Nuclear receptor signaling.</td>\n      <td>KEGG_MEDICUS_ENV_FACTOR_E2_TO_NUCLEAR_INITIATE...</td>\n    </tr>\n  </tbody>\n</table>\n</div>"
     },
     "execution_count": 6,
     "metadata": {},
     "output_type": "execute_result"
    }
   ],
   "source": [
    "df_pathways_info = pd.read_csv('../../../data/pathways/c2.cp.kegg_medicus.v2023.2.Hs.symbols_info.csv')\n",
    "df_pathways_info.head()"
   ],
   "metadata": {
    "collapsed": false,
    "ExecuteTime": {
     "end_time": "2024-02-06T08:53:35.844573300Z",
     "start_time": "2024-02-06T08:53:35.801336500Z"
    }
   },
   "id": "66de52612c15225b",
   "execution_count": 6
  },
  {
   "cell_type": "code",
   "outputs": [],
   "source": [
    "# 将df_pathways_single_drug_mean设置为dataframe\n",
    "df_pathways_att = pd.DataFrame(df_pathways_att)\n",
    "df_pathways_att.columns = ['attention']\n",
    "df_pathways_att['pathway_name'] = df_pathways_att.index"
   ],
   "metadata": {
    "collapsed": false,
    "ExecuteTime": {
     "end_time": "2024-02-06T08:57:01.182224200Z",
     "start_time": "2024-02-06T08:57:01.177992Z"
    }
   },
   "id": "bd30d81f0b19a401",
   "execution_count": 7
  },
  {
   "cell_type": "code",
   "outputs": [
    {
     "name": "stdout",
     "output_type": "stream",
     "text": [
      "(619, 2)\n"
     ]
    },
    {
     "data": {
      "text/plain": "     attention                                       pathway_name\n288   0.002633  KEGG_MEDICUS_REFERENCE_IGG_FCGR_RAC_SIGNALING_...\n552   0.002617  KEGG_MEDICUS_VARIANT_MUTATION_CAUSED_ABERRANT_...\n153   0.002611  KEGG_MEDICUS_REFERENCE_BMP_HAMP_SIGNALING_PATH...\n358   0.002610  KEGG_MEDICUS_REFERENCE_NRG_ERBB4_PI3K_SIGNALIN...\n518   0.002607  KEGG_MEDICUS_VARIANT_MLL_ENL_FUSION_TO_TRANSCR...",
      "text/html": "<div>\n<style scoped>\n    .dataframe tbody tr th:only-of-type {\n        vertical-align: middle;\n    }\n\n    .dataframe tbody tr th {\n        vertical-align: top;\n    }\n\n    .dataframe thead th {\n        text-align: right;\n    }\n</style>\n<table border=\"1\" class=\"dataframe\">\n  <thead>\n    <tr style=\"text-align: right;\">\n      <th></th>\n      <th>attention</th>\n      <th>pathway_name</th>\n    </tr>\n  </thead>\n  <tbody>\n    <tr>\n      <th>288</th>\n      <td>0.002633</td>\n      <td>KEGG_MEDICUS_REFERENCE_IGG_FCGR_RAC_SIGNALING_...</td>\n    </tr>\n    <tr>\n      <th>552</th>\n      <td>0.002617</td>\n      <td>KEGG_MEDICUS_VARIANT_MUTATION_CAUSED_ABERRANT_...</td>\n    </tr>\n    <tr>\n      <th>153</th>\n      <td>0.002611</td>\n      <td>KEGG_MEDICUS_REFERENCE_BMP_HAMP_SIGNALING_PATH...</td>\n    </tr>\n    <tr>\n      <th>358</th>\n      <td>0.002610</td>\n      <td>KEGG_MEDICUS_REFERENCE_NRG_ERBB4_PI3K_SIGNALIN...</td>\n    </tr>\n    <tr>\n      <th>518</th>\n      <td>0.002607</td>\n      <td>KEGG_MEDICUS_VARIANT_MLL_ENL_FUSION_TO_TRANSCR...</td>\n    </tr>\n  </tbody>\n</table>\n</div>"
     },
     "execution_count": 8,
     "metadata": {},
     "output_type": "execute_result"
    }
   ],
   "source": [
    "df_pathways_att.reset_index(drop=True, inplace=True)\n",
    "# 根据attention排序\n",
    "df_pathways_att = df_pathways_att.sort_values(by='attention', ascending=False)\n",
    "print(df_pathways_att.shape)\n",
    "df_pathways_att.head()"
   ],
   "metadata": {
    "collapsed": false,
    "ExecuteTime": {
     "end_time": "2024-02-06T08:57:02.721353400Z",
     "start_time": "2024-02-06T08:57:02.710605100Z"
    }
   },
   "id": "ac2656e085123863",
   "execution_count": 8
  },
  {
   "cell_type": "code",
   "outputs": [
    {
     "name": "stdout",
     "output_type": "stream",
     "text": [
      "(619, 6)\n"
     ]
    },
    {
     "data": {
      "text/plain": "   attention                                       pathway_name  Unnamed: 0  \\\n0   0.002633  KEGG_MEDICUS_REFERENCE_IGG_FCGR_RAC_SIGNALING_...         288   \n1   0.002617  KEGG_MEDICUS_VARIANT_MUTATION_CAUSED_ABERRANT_...         552   \n2   0.002611  KEGG_MEDICUS_REFERENCE_BMP_HAMP_SIGNALING_PATH...         153   \n3   0.002610  KEGG_MEDICUS_REFERENCE_NRG_ERBB4_PI3K_SIGNALIN...         358   \n4   0.002607  KEGG_MEDICUS_VARIANT_MLL_ENL_FUSION_TO_TRANSCR...         518   \n\n  pathway_id pathway_type                                      pathway_class  \n0     N01090    Reference  nt06135 Cytoskeletal regulation (viruses and b...  \n1     N00966      Variant                    nt06462 Spinocerebellar ataxia.  \n2     N01461    Reference                            nt06507 TGFB signaling.  \n3     N01163    Reference                            nt06530 PI3K signaling.  \n4     N00120      Variant                             nt06240 Transcription.  ",
      "text/html": "<div>\n<style scoped>\n    .dataframe tbody tr th:only-of-type {\n        vertical-align: middle;\n    }\n\n    .dataframe tbody tr th {\n        vertical-align: top;\n    }\n\n    .dataframe thead th {\n        text-align: right;\n    }\n</style>\n<table border=\"1\" class=\"dataframe\">\n  <thead>\n    <tr style=\"text-align: right;\">\n      <th></th>\n      <th>attention</th>\n      <th>pathway_name</th>\n      <th>Unnamed: 0</th>\n      <th>pathway_id</th>\n      <th>pathway_type</th>\n      <th>pathway_class</th>\n    </tr>\n  </thead>\n  <tbody>\n    <tr>\n      <th>0</th>\n      <td>0.002633</td>\n      <td>KEGG_MEDICUS_REFERENCE_IGG_FCGR_RAC_SIGNALING_...</td>\n      <td>288</td>\n      <td>N01090</td>\n      <td>Reference</td>\n      <td>nt06135 Cytoskeletal regulation (viruses and b...</td>\n    </tr>\n    <tr>\n      <th>1</th>\n      <td>0.002617</td>\n      <td>KEGG_MEDICUS_VARIANT_MUTATION_CAUSED_ABERRANT_...</td>\n      <td>552</td>\n      <td>N00966</td>\n      <td>Variant</td>\n      <td>nt06462 Spinocerebellar ataxia.</td>\n    </tr>\n    <tr>\n      <th>2</th>\n      <td>0.002611</td>\n      <td>KEGG_MEDICUS_REFERENCE_BMP_HAMP_SIGNALING_PATH...</td>\n      <td>153</td>\n      <td>N01461</td>\n      <td>Reference</td>\n      <td>nt06507 TGFB signaling.</td>\n    </tr>\n    <tr>\n      <th>3</th>\n      <td>0.002610</td>\n      <td>KEGG_MEDICUS_REFERENCE_NRG_ERBB4_PI3K_SIGNALIN...</td>\n      <td>358</td>\n      <td>N01163</td>\n      <td>Reference</td>\n      <td>nt06530 PI3K signaling.</td>\n    </tr>\n    <tr>\n      <th>4</th>\n      <td>0.002607</td>\n      <td>KEGG_MEDICUS_VARIANT_MLL_ENL_FUSION_TO_TRANSCR...</td>\n      <td>518</td>\n      <td>N00120</td>\n      <td>Variant</td>\n      <td>nt06240 Transcription.</td>\n    </tr>\n  </tbody>\n</table>\n</div>"
     },
     "execution_count": 10,
     "metadata": {},
     "output_type": "execute_result"
    }
   ],
   "source": [
    "# 将df_pathways_single_drug_mean与df_pathways_info合并\n",
    "df_pathways_single_drug_mean_merge = pd.merge(df_pathways_att, df_pathways_info, on='pathway_name')\n",
    "print(df_pathways_single_drug_mean_merge.shape)\n",
    "df_pathways_single_drug_mean_merge.head()"
   ],
   "metadata": {
    "collapsed": false,
    "ExecuteTime": {
     "end_time": "2024-02-06T09:01:31.179482800Z",
     "start_time": "2024-02-06T09:01:31.172988900Z"
    }
   },
   "id": "d20a6616c5aec4d4",
   "execution_count": 10
  }
 ],
 "metadata": {
  "kernelspec": {
   "display_name": "Python 3",
   "language": "python",
   "name": "python3"
  },
  "language_info": {
   "codemirror_mode": {
    "name": "ipython",
    "version": 2
   },
   "file_extension": ".py",
   "mimetype": "text/x-python",
   "name": "python",
   "nbconvert_exporter": "python",
   "pygments_lexer": "ipython2",
   "version": "2.7.6"
  }
 },
 "nbformat": 4,
 "nbformat_minor": 5
}
