{
 "cells": [
  {
   "cell_type": "code",
   "execution_count": 19,
   "id": "initial_id",
   "metadata": {
    "collapsed": true,
    "ExecuteTime": {
     "end_time": "2024-02-28T05:26:52.560001200Z",
     "start_time": "2024-02-28T05:26:52.534181300Z"
    }
   },
   "outputs": [],
   "source": [
    "import pandas as pd\n",
    "from sklearn.model_selection import train_test_split\n",
    "from sklearn.preprocessing import StandardScaler  \n",
    "from sklearn.ensemble import RandomForestRegressor\n",
    "from sklearn.svm import SVR\n",
    "from sklearn.metrics import mean_squared_error\n",
    "import numpy as np"
   ]
  },
  {
   "cell_type": "code",
   "outputs": [],
   "source": [
    "df_smiles_origin = pd.read_csv('../../data/CCLE-GDSC-SMILES.csv')"
   ],
   "metadata": {
    "collapsed": false,
    "ExecuteTime": {
     "end_time": "2024-02-28T05:26:52.561007100Z",
     "start_time": "2024-02-28T05:26:52.540686800Z"
    }
   },
   "id": "788dc5f604909bb7",
   "execution_count": 20
  },
  {
   "cell_type": "code",
   "outputs": [],
   "source": [
    "from pytoda.smiles import SMILESTokenizer\n",
    "smiles_language_filepath = '../../data/smiles_language/tokenizer_customized'\n",
    "# Load SMILES language\n",
    "smiles_language = SMILESTokenizer.from_pretrained(smiles_language_filepath)\n",
    "smiles_language.set_encoding_transforms(\n",
    "    add_start_and_stop=True,\n",
    "    padding=True,\n",
    "    padding_length=256,\n",
    "    # padding_length=params.get(\"smiles_padding_length\", None),\n",
    ")\n",
    "smiles_language.set_smiles_transforms(\n",
    "    augment=False,\n",
    "    canonical=False,\n",
    "    kekulize=False,\n",
    "    all_bonds_explicit=False,\n",
    "    all_hs_explicit=False,\n",
    "    remove_bonddir=False,\n",
    "    remove_chirality=False,\n",
    "    selfies=False,\n",
    "    sanitize=False,\n",
    ")\n",
    "smiles_language.add_dataset(df_smiles_origin['SMILES'])"
   ],
   "metadata": {
    "collapsed": false,
    "ExecuteTime": {
     "end_time": "2024-02-28T05:26:52.611722Z",
     "start_time": "2024-02-28T05:26:52.565642Z"
    }
   },
   "id": "db0440de631fc57c",
   "execution_count": 21
  },
  {
   "cell_type": "code",
   "outputs": [],
   "source": [
    "smiles = df_smiles_origin['SMILES'].values\n"
   ],
   "metadata": {
    "collapsed": false,
    "ExecuteTime": {
     "end_time": "2024-02-28T05:26:52.611722Z",
     "start_time": "2024-02-28T05:26:52.590603500Z"
    }
   },
   "id": "793c194db578e680",
   "execution_count": 22
  },
  {
   "cell_type": "code",
   "outputs": [],
   "source": [
    "# 将smiles全都转换为token\n",
    "smiles_num_array = []\n",
    "for smile in smiles:\n",
    "    single_drug = smiles_language.smiles_to_token_indexes(smile)\n",
    "    single_drug_num_array = np.array(single_drug)\n",
    "    smiles_num_array.append(single_drug_num_array)\n",
    "# 将smiles_num_array转换为dataframe\n",
    "df_smiles = pd.DataFrame(smiles_num_array)"
   ],
   "metadata": {
    "collapsed": false,
    "ExecuteTime": {
     "end_time": "2024-02-28T05:26:52.792834600Z",
     "start_time": "2024-02-28T05:26:52.595112900Z"
    }
   },
   "id": "b18b4a8da3b14425",
   "execution_count": 23
  },
  {
   "cell_type": "code",
   "outputs": [
    {
     "data": {
      "text/plain": "           drug  0  1  2  3  4  5  6  7  8  ...  246  247  248  249  250  251  \\\n0  Camptothecin  0  0  0  0  0  0  0  0  0  ...   38    9   38    8   37   38   \n1   Vinblastine  0  0  0  0  0  0  0  0  0  ...   38    4   37   35    5   35   \n2     Cisplatin  0  0  0  0  0  0  0  0  0  ...    0    2   36   41   36   41   \n3    Cytarabine  0  0  0  0  0  0  0  0  0  ...   35    7    5   38   35    5   \n4     Docetaxel  0  0  0  0  0  0  0  0  0  ...   35    5   38    5   35    5   \n\n   252  253  254  255  \n0    7    5   35    3  \n1   38    5   35    3  \n2   40   42   40    3  \n3   35    5   35    3  \n4   38    5   35    3  \n\n[5 rows x 257 columns]",
      "text/html": "<div>\n<style scoped>\n    .dataframe tbody tr th:only-of-type {\n        vertical-align: middle;\n    }\n\n    .dataframe tbody tr th {\n        vertical-align: top;\n    }\n\n    .dataframe thead th {\n        text-align: right;\n    }\n</style>\n<table border=\"1\" class=\"dataframe\">\n  <thead>\n    <tr style=\"text-align: right;\">\n      <th></th>\n      <th>drug</th>\n      <th>0</th>\n      <th>1</th>\n      <th>2</th>\n      <th>3</th>\n      <th>4</th>\n      <th>5</th>\n      <th>6</th>\n      <th>7</th>\n      <th>8</th>\n      <th>...</th>\n      <th>246</th>\n      <th>247</th>\n      <th>248</th>\n      <th>249</th>\n      <th>250</th>\n      <th>251</th>\n      <th>252</th>\n      <th>253</th>\n      <th>254</th>\n      <th>255</th>\n    </tr>\n  </thead>\n  <tbody>\n    <tr>\n      <th>0</th>\n      <td>Camptothecin</td>\n      <td>0</td>\n      <td>0</td>\n      <td>0</td>\n      <td>0</td>\n      <td>0</td>\n      <td>0</td>\n      <td>0</td>\n      <td>0</td>\n      <td>0</td>\n      <td>...</td>\n      <td>38</td>\n      <td>9</td>\n      <td>38</td>\n      <td>8</td>\n      <td>37</td>\n      <td>38</td>\n      <td>7</td>\n      <td>5</td>\n      <td>35</td>\n      <td>3</td>\n    </tr>\n    <tr>\n      <th>1</th>\n      <td>Vinblastine</td>\n      <td>0</td>\n      <td>0</td>\n      <td>0</td>\n      <td>0</td>\n      <td>0</td>\n      <td>0</td>\n      <td>0</td>\n      <td>0</td>\n      <td>0</td>\n      <td>...</td>\n      <td>38</td>\n      <td>4</td>\n      <td>37</td>\n      <td>35</td>\n      <td>5</td>\n      <td>35</td>\n      <td>38</td>\n      <td>5</td>\n      <td>35</td>\n      <td>3</td>\n    </tr>\n    <tr>\n      <th>2</th>\n      <td>Cisplatin</td>\n      <td>0</td>\n      <td>0</td>\n      <td>0</td>\n      <td>0</td>\n      <td>0</td>\n      <td>0</td>\n      <td>0</td>\n      <td>0</td>\n      <td>0</td>\n      <td>...</td>\n      <td>0</td>\n      <td>2</td>\n      <td>36</td>\n      <td>41</td>\n      <td>36</td>\n      <td>41</td>\n      <td>40</td>\n      <td>42</td>\n      <td>40</td>\n      <td>3</td>\n    </tr>\n    <tr>\n      <th>3</th>\n      <td>Cytarabine</td>\n      <td>0</td>\n      <td>0</td>\n      <td>0</td>\n      <td>0</td>\n      <td>0</td>\n      <td>0</td>\n      <td>0</td>\n      <td>0</td>\n      <td>0</td>\n      <td>...</td>\n      <td>35</td>\n      <td>7</td>\n      <td>5</td>\n      <td>38</td>\n      <td>35</td>\n      <td>5</td>\n      <td>35</td>\n      <td>5</td>\n      <td>35</td>\n      <td>3</td>\n    </tr>\n    <tr>\n      <th>4</th>\n      <td>Docetaxel</td>\n      <td>0</td>\n      <td>0</td>\n      <td>0</td>\n      <td>0</td>\n      <td>0</td>\n      <td>0</td>\n      <td>0</td>\n      <td>0</td>\n      <td>0</td>\n      <td>...</td>\n      <td>35</td>\n      <td>5</td>\n      <td>38</td>\n      <td>5</td>\n      <td>35</td>\n      <td>5</td>\n      <td>38</td>\n      <td>5</td>\n      <td>35</td>\n      <td>3</td>\n    </tr>\n  </tbody>\n</table>\n<p>5 rows × 257 columns</p>\n</div>"
     },
     "execution_count": 24,
     "metadata": {},
     "output_type": "execute_result"
    }
   ],
   "source": [
    "# 将df_smiles_origin的DRUG_NAME列插入到df_smiles的第一列\n",
    "df_smiles.insert(0, 'drug', df_smiles_origin['DRUG_NAME'])\n",
    "df_smiles.head()"
   ],
   "metadata": {
    "collapsed": false,
    "ExecuteTime": {
     "end_time": "2024-02-28T05:26:52.805068600Z",
     "start_time": "2024-02-28T05:26:52.793831100Z"
    }
   },
   "id": "c8ddbdedbb2c5966",
   "execution_count": 24
  },
  {
   "cell_type": "code",
   "outputs": [
    {
     "data": {
      "text/plain": "             drug cell_line      IC50\n0  5-Fluorouracil      HL60  2.558926\n1   5-azacytidine      HL60  0.917132\n2           A-366      HL60  4.836160\n3          ABT737      HL60 -2.817798\n4        AGI-5198      HL60  3.644734",
      "text/html": "<div>\n<style scoped>\n    .dataframe tbody tr th:only-of-type {\n        vertical-align: middle;\n    }\n\n    .dataframe tbody tr th {\n        vertical-align: top;\n    }\n\n    .dataframe thead th {\n        text-align: right;\n    }\n</style>\n<table border=\"1\" class=\"dataframe\">\n  <thead>\n    <tr style=\"text-align: right;\">\n      <th></th>\n      <th>drug</th>\n      <th>cell_line</th>\n      <th>IC50</th>\n    </tr>\n  </thead>\n  <tbody>\n    <tr>\n      <th>0</th>\n      <td>5-Fluorouracil</td>\n      <td>HL60</td>\n      <td>2.558926</td>\n    </tr>\n    <tr>\n      <th>1</th>\n      <td>5-azacytidine</td>\n      <td>HL60</td>\n      <td>0.917132</td>\n    </tr>\n    <tr>\n      <th>2</th>\n      <td>A-366</td>\n      <td>HL60</td>\n      <td>4.836160</td>\n    </tr>\n    <tr>\n      <th>3</th>\n      <td>ABT737</td>\n      <td>HL60</td>\n      <td>-2.817798</td>\n    </tr>\n    <tr>\n      <th>4</th>\n      <td>AGI-5198</td>\n      <td>HL60</td>\n      <td>3.644734</td>\n    </tr>\n  </tbody>\n</table>\n</div>"
     },
     "execution_count": 25,
     "metadata": {},
     "output_type": "execute_result"
    }
   ],
   "source": [
    "df_drug_sensitivity = pd.read_csv('../../data/drug_sensitivity.csv')\n",
    "df_drug_sensitivity.head()"
   ],
   "metadata": {
    "collapsed": false,
    "ExecuteTime": {
     "end_time": "2024-02-28T05:26:52.896367800Z",
     "start_time": "2024-02-28T05:26:52.805068600Z"
    }
   },
   "id": "f5879a764f63999c",
   "execution_count": 25
  },
  {
   "cell_type": "code",
   "outputs": [
    {
     "data": {
      "text/plain": "  cell_line  \\\n0      HL60   \n1       HEL   \n2  MONOMAC6   \n3     LS513   \n4     A101D   \n\n   KEGG_MEDICUS_ENV_FACTOR_ARSENIC_TO_ELECTRON_TRANSFER_IN_COMPLEX_IV  \\\n0                                           4.214134                    \n1                                           3.646497                    \n2                                           4.472972                    \n3                                           4.352599                    \n4                                           4.053421                    \n\n   KEGG_MEDICUS_ENV_FACTOR_BENZO_A_PYRENRE_TO_CYP_MEDIATED_METABOLISM  \\\n0                                           0.440202                    \n1                                           0.135204                    \n2                                           0.014476                    \n3                                           0.462321                    \n4                                           0.062876                    \n\n   KEGG_MEDICUS_ENV_FACTOR_BPA_TO_RAS_ERK_SIGNALING_PATHWAY  \\\n0                                           1.470915          \n1                                           1.566388          \n2                                           1.661451          \n3                                           1.699385          \n4                                           1.848867          \n\n   KEGG_MEDICUS_ENV_FACTOR_DCE_TO_DNA_ADDUCTS  \\\n0                                    0.205382   \n1                                    0.925705   \n2                                    0.019613   \n3                                    0.407889   \n4                                    0.094523   \n\n   KEGG_MEDICUS_ENV_FACTOR_E2_TO_NUCLEAR_INITIATED_ESTROGEN_SIGNALING_PATHWAY  \\\n0                                           1.450508                            \n1                                           1.111581                            \n2                                           1.938533                            \n3                                           0.665094                            \n4                                           1.103970                            \n\n   KEGG_MEDICUS_ENV_FACTOR_E2_TO_RAS_ERK_SIGNALING_PATHWAY  \\\n0                                           1.482270         \n1                                           0.883885         \n2                                           1.503992         \n3                                           2.222235         \n4                                           1.862741         \n\n   KEGG_MEDICUS_ENV_FACTOR_IRON_TO_ANTEROGRADE_AXONAL_TRANSPORT  \\\n0                                           0.343427              \n1                                           0.949699              \n2                                           0.675432              \n3                                           0.398729              \n4                                           2.710302              \n\n   KEGG_MEDICUS_ENV_FACTOR_METALS_TO_JNK_SIGNALING_PATHWAY  \\\n0                                           0.748859         \n1                                           0.261281         \n2                                           0.944259         \n3                                           1.351826         \n4                                           0.520589         \n\n   KEGG_MEDICUS_ENV_FACTOR_METALS_TO_KEAP1_NRF2_SIGNALIG_PATHWAY  ...  \\\n0                                           0.372432              ...   \n1                                           0.576484              ...   \n2                                           0.700977              ...   \n3                                           1.652013              ...   \n4                                           1.123209              ...   \n\n   KEGG_MEDICUS_VARIANT_SCRAPIE_CONFORMATION_PRPSC_TO_26S_PROTEASOME_MEDIATED_PROTEIN_DEGRADATION  \\\n0                                          17.685880                                                \n1                                          15.719172                                                \n2                                          17.283634                                                \n3                                          16.863173                                                \n4                                          19.239258                                                \n\n   KEGG_MEDICUS_VARIANT_SCRAPIE_CONFORMATION_PRPSC_TO_MGLUR5_CA2_APOPTOTIC_PATHWAY  \\\n0                                           1.689896                                 \n1                                           1.853080                                 \n2                                           1.538003                                 \n3                                           1.824951                                 \n4                                           2.301589                                 \n\n   KEGG_MEDICUS_VARIANT_SCRAPIE_CONFORMATION_PRPSC_TO_PERK_ATF4_SIGNALING_PATHWAY  \\\n0                                           2.603777                                \n1                                           1.901783                                \n2                                           3.062976                                \n3                                           2.086926                                \n4                                           3.182736                                \n\n   KEGG_MEDICUS_VARIANT_SCRAPIE_CONFORMATION_PRPSC_TO_PRNP_PI3K_NOX2_SIGNALING_PATHWAY  \\\n0                                           3.056268                                     \n1                                           1.311271                                     \n2                                           2.903670                                     \n3                                           0.256067                                     \n4                                           0.921441                                     \n\n   KEGG_MEDICUS_VARIANT_SCRAPIE_CONFORMATION_PRPSC_TO_TRANSPORT_OF_CALCIUM  \\\n0                                           1.462969                         \n1                                           0.849546                         \n2                                           1.140496                         \n3                                           1.761924                         \n4                                           1.438838                         \n\n   KEGG_MEDICUS_VARIANT_SCRAPIE_CONFORMATION_PRPSC_TO_VGCC_CA2_APOPTOTIC_PATHWAY  \\\n0                                           1.259628                               \n1                                           0.863047                               \n2                                           0.942227                               \n3                                           0.436037                               \n4                                           0.630094                               \n\n   KEGG_MEDICUS_VARIANT_TEL_AML1_FUSION_TO_TRANSCRIPTIONAL_REPRESSION  \\\n0                                           1.490945                    \n1                                           0.123552                    \n2                                           0.708988                    \n3                                           0.022385                    \n4                                           0.104327                    \n\n   KEGG_MEDICUS_VARIANT_TGFA_OVEREXPRESSION_TO_PI3K_SIGNALING_PATHWAY  \\\n0                                           0.952237                    \n1                                           0.346157                    \n2                                           0.904325                    \n3                                           0.619383                    \n4                                           1.590609                    \n\n   KEGG_MEDICUS_VARIANT_TMPRSS2_ERG_FUSION_TO_TRANSCRIPTIONAL_ACTIVATION  \\\n0                                           0.182561                       \n1                                           1.325299                       \n2                                           0.409584                       \n3                                           0.759916                       \n4                                           0.198160                       \n\n   KEGG_MEDICUS_VARIANT_TRK_FUSION_KINASE_TO_RAS_ERK_SIGNALING_PATHWAY  \n0                                           1.939787                    \n1                                           2.701512                    \n2                                           2.088677                    \n3                                           1.872848                    \n4                                           2.121071                    \n\n[5 rows x 620 columns]",
      "text/html": "<div>\n<style scoped>\n    .dataframe tbody tr th:only-of-type {\n        vertical-align: middle;\n    }\n\n    .dataframe tbody tr th {\n        vertical-align: top;\n    }\n\n    .dataframe thead th {\n        text-align: right;\n    }\n</style>\n<table border=\"1\" class=\"dataframe\">\n  <thead>\n    <tr style=\"text-align: right;\">\n      <th></th>\n      <th>cell_line</th>\n      <th>KEGG_MEDICUS_ENV_FACTOR_ARSENIC_TO_ELECTRON_TRANSFER_IN_COMPLEX_IV</th>\n      <th>KEGG_MEDICUS_ENV_FACTOR_BENZO_A_PYRENRE_TO_CYP_MEDIATED_METABOLISM</th>\n      <th>KEGG_MEDICUS_ENV_FACTOR_BPA_TO_RAS_ERK_SIGNALING_PATHWAY</th>\n      <th>KEGG_MEDICUS_ENV_FACTOR_DCE_TO_DNA_ADDUCTS</th>\n      <th>KEGG_MEDICUS_ENV_FACTOR_E2_TO_NUCLEAR_INITIATED_ESTROGEN_SIGNALING_PATHWAY</th>\n      <th>KEGG_MEDICUS_ENV_FACTOR_E2_TO_RAS_ERK_SIGNALING_PATHWAY</th>\n      <th>KEGG_MEDICUS_ENV_FACTOR_IRON_TO_ANTEROGRADE_AXONAL_TRANSPORT</th>\n      <th>KEGG_MEDICUS_ENV_FACTOR_METALS_TO_JNK_SIGNALING_PATHWAY</th>\n      <th>KEGG_MEDICUS_ENV_FACTOR_METALS_TO_KEAP1_NRF2_SIGNALIG_PATHWAY</th>\n      <th>...</th>\n      <th>KEGG_MEDICUS_VARIANT_SCRAPIE_CONFORMATION_PRPSC_TO_26S_PROTEASOME_MEDIATED_PROTEIN_DEGRADATION</th>\n      <th>KEGG_MEDICUS_VARIANT_SCRAPIE_CONFORMATION_PRPSC_TO_MGLUR5_CA2_APOPTOTIC_PATHWAY</th>\n      <th>KEGG_MEDICUS_VARIANT_SCRAPIE_CONFORMATION_PRPSC_TO_PERK_ATF4_SIGNALING_PATHWAY</th>\n      <th>KEGG_MEDICUS_VARIANT_SCRAPIE_CONFORMATION_PRPSC_TO_PRNP_PI3K_NOX2_SIGNALING_PATHWAY</th>\n      <th>KEGG_MEDICUS_VARIANT_SCRAPIE_CONFORMATION_PRPSC_TO_TRANSPORT_OF_CALCIUM</th>\n      <th>KEGG_MEDICUS_VARIANT_SCRAPIE_CONFORMATION_PRPSC_TO_VGCC_CA2_APOPTOTIC_PATHWAY</th>\n      <th>KEGG_MEDICUS_VARIANT_TEL_AML1_FUSION_TO_TRANSCRIPTIONAL_REPRESSION</th>\n      <th>KEGG_MEDICUS_VARIANT_TGFA_OVEREXPRESSION_TO_PI3K_SIGNALING_PATHWAY</th>\n      <th>KEGG_MEDICUS_VARIANT_TMPRSS2_ERG_FUSION_TO_TRANSCRIPTIONAL_ACTIVATION</th>\n      <th>KEGG_MEDICUS_VARIANT_TRK_FUSION_KINASE_TO_RAS_ERK_SIGNALING_PATHWAY</th>\n    </tr>\n  </thead>\n  <tbody>\n    <tr>\n      <th>0</th>\n      <td>HL60</td>\n      <td>4.214134</td>\n      <td>0.440202</td>\n      <td>1.470915</td>\n      <td>0.205382</td>\n      <td>1.450508</td>\n      <td>1.482270</td>\n      <td>0.343427</td>\n      <td>0.748859</td>\n      <td>0.372432</td>\n      <td>...</td>\n      <td>17.685880</td>\n      <td>1.689896</td>\n      <td>2.603777</td>\n      <td>3.056268</td>\n      <td>1.462969</td>\n      <td>1.259628</td>\n      <td>1.490945</td>\n      <td>0.952237</td>\n      <td>0.182561</td>\n      <td>1.939787</td>\n    </tr>\n    <tr>\n      <th>1</th>\n      <td>HEL</td>\n      <td>3.646497</td>\n      <td>0.135204</td>\n      <td>1.566388</td>\n      <td>0.925705</td>\n      <td>1.111581</td>\n      <td>0.883885</td>\n      <td>0.949699</td>\n      <td>0.261281</td>\n      <td>0.576484</td>\n      <td>...</td>\n      <td>15.719172</td>\n      <td>1.853080</td>\n      <td>1.901783</td>\n      <td>1.311271</td>\n      <td>0.849546</td>\n      <td>0.863047</td>\n      <td>0.123552</td>\n      <td>0.346157</td>\n      <td>1.325299</td>\n      <td>2.701512</td>\n    </tr>\n    <tr>\n      <th>2</th>\n      <td>MONOMAC6</td>\n      <td>4.472972</td>\n      <td>0.014476</td>\n      <td>1.661451</td>\n      <td>0.019613</td>\n      <td>1.938533</td>\n      <td>1.503992</td>\n      <td>0.675432</td>\n      <td>0.944259</td>\n      <td>0.700977</td>\n      <td>...</td>\n      <td>17.283634</td>\n      <td>1.538003</td>\n      <td>3.062976</td>\n      <td>2.903670</td>\n      <td>1.140496</td>\n      <td>0.942227</td>\n      <td>0.708988</td>\n      <td>0.904325</td>\n      <td>0.409584</td>\n      <td>2.088677</td>\n    </tr>\n    <tr>\n      <th>3</th>\n      <td>LS513</td>\n      <td>4.352599</td>\n      <td>0.462321</td>\n      <td>1.699385</td>\n      <td>0.407889</td>\n      <td>0.665094</td>\n      <td>2.222235</td>\n      <td>0.398729</td>\n      <td>1.351826</td>\n      <td>1.652013</td>\n      <td>...</td>\n      <td>16.863173</td>\n      <td>1.824951</td>\n      <td>2.086926</td>\n      <td>0.256067</td>\n      <td>1.761924</td>\n      <td>0.436037</td>\n      <td>0.022385</td>\n      <td>0.619383</td>\n      <td>0.759916</td>\n      <td>1.872848</td>\n    </tr>\n    <tr>\n      <th>4</th>\n      <td>A101D</td>\n      <td>4.053421</td>\n      <td>0.062876</td>\n      <td>1.848867</td>\n      <td>0.094523</td>\n      <td>1.103970</td>\n      <td>1.862741</td>\n      <td>2.710302</td>\n      <td>0.520589</td>\n      <td>1.123209</td>\n      <td>...</td>\n      <td>19.239258</td>\n      <td>2.301589</td>\n      <td>3.182736</td>\n      <td>0.921441</td>\n      <td>1.438838</td>\n      <td>0.630094</td>\n      <td>0.104327</td>\n      <td>1.590609</td>\n      <td>0.198160</td>\n      <td>2.121071</td>\n    </tr>\n  </tbody>\n</table>\n<p>5 rows × 620 columns</p>\n</div>"
     },
     "execution_count": 26,
     "metadata": {},
     "output_type": "execute_result"
    }
   ],
   "source": [
    "# GEP\n",
    "df_GEP = pd.read_csv('../data/GeneExp_Wilcoxon_test_Analysis_Log10_P_value_C2_KEGG_MEDICUS.csv')\n",
    "df_GEP.head()\n",
    "# CNV\n",
    "# df_CNV = pd.read_csv('../data/CNV_Cardinality_analysis_of_variance_Latest_MEDICUS.csv')\n",
    "# MUT\n",
    "# df_MUT = pd.read_csv('../data/MUT_cardinality_analysis_of_variance_Only_MEDICUS.csv')"
   ],
   "metadata": {
    "collapsed": false,
    "ExecuteTime": {
     "end_time": "2024-02-28T05:26:52.980983Z",
     "start_time": "2024-02-28T05:26:52.862265600Z"
    }
   },
   "id": "511311d8a0b63ed0",
   "execution_count": 26
  },
  {
   "cell_type": "code",
   "outputs": [
    {
     "name": "stdout",
     "output_type": "stream",
     "text": [
      "(141222, 878)\n"
     ]
    },
    {
     "data": {
      "text/plain": "             drug cell_line      IC50  \\\n0  5-Fluorouracil      HL60  2.558926   \n1   5-azacytidine      HL60  0.917132   \n2           A-366      HL60  4.836160   \n3          ABT737      HL60 -2.817798   \n4        AGI-5198      HL60  3.644734   \n\n   KEGG_MEDICUS_ENV_FACTOR_ARSENIC_TO_ELECTRON_TRANSFER_IN_COMPLEX_IV  \\\n0                                           4.214134                    \n1                                           4.214134                    \n2                                           4.214134                    \n3                                           4.214134                    \n4                                           4.214134                    \n\n   KEGG_MEDICUS_ENV_FACTOR_BENZO_A_PYRENRE_TO_CYP_MEDIATED_METABOLISM  \\\n0                                           0.440202                    \n1                                           0.440202                    \n2                                           0.440202                    \n3                                           0.440202                    \n4                                           0.440202                    \n\n   KEGG_MEDICUS_ENV_FACTOR_BPA_TO_RAS_ERK_SIGNALING_PATHWAY  \\\n0                                           1.470915          \n1                                           1.470915          \n2                                           1.470915          \n3                                           1.470915          \n4                                           1.470915          \n\n   KEGG_MEDICUS_ENV_FACTOR_DCE_TO_DNA_ADDUCTS  \\\n0                                    0.205382   \n1                                    0.205382   \n2                                    0.205382   \n3                                    0.205382   \n4                                    0.205382   \n\n   KEGG_MEDICUS_ENV_FACTOR_E2_TO_NUCLEAR_INITIATED_ESTROGEN_SIGNALING_PATHWAY  \\\n0                                           1.450508                            \n1                                           1.450508                            \n2                                           1.450508                            \n3                                           1.450508                            \n4                                           1.450508                            \n\n   KEGG_MEDICUS_ENV_FACTOR_E2_TO_RAS_ERK_SIGNALING_PATHWAY  \\\n0                                            1.48227         \n1                                            1.48227         \n2                                            1.48227         \n3                                            1.48227         \n4                                            1.48227         \n\n   KEGG_MEDICUS_ENV_FACTOR_IRON_TO_ANTEROGRADE_AXONAL_TRANSPORT  ...  246  \\\n0                                           0.343427             ...   38   \n1                                           0.343427             ...    5   \n2                                           0.343427             ...   38   \n3                                           0.343427             ...    5   \n4                                           0.343427             ...    9   \n\n   247  248  249  250  251  252  253  254  255  \n0    4   37   35    5   36    6    5   43    3  \n1   38   35    5   35    5   35    5   36    3  \n2   38   36    9   38   38   38   38    9    3  \n3   40    5   50    4   37   35    5   49    3  \n4   38   37   38   36   37   38    9   38    3  \n\n[5 rows x 878 columns]",
      "text/html": "<div>\n<style scoped>\n    .dataframe tbody tr th:only-of-type {\n        vertical-align: middle;\n    }\n\n    .dataframe tbody tr th {\n        vertical-align: top;\n    }\n\n    .dataframe thead th {\n        text-align: right;\n    }\n</style>\n<table border=\"1\" class=\"dataframe\">\n  <thead>\n    <tr style=\"text-align: right;\">\n      <th></th>\n      <th>drug</th>\n      <th>cell_line</th>\n      <th>IC50</th>\n      <th>KEGG_MEDICUS_ENV_FACTOR_ARSENIC_TO_ELECTRON_TRANSFER_IN_COMPLEX_IV</th>\n      <th>KEGG_MEDICUS_ENV_FACTOR_BENZO_A_PYRENRE_TO_CYP_MEDIATED_METABOLISM</th>\n      <th>KEGG_MEDICUS_ENV_FACTOR_BPA_TO_RAS_ERK_SIGNALING_PATHWAY</th>\n      <th>KEGG_MEDICUS_ENV_FACTOR_DCE_TO_DNA_ADDUCTS</th>\n      <th>KEGG_MEDICUS_ENV_FACTOR_E2_TO_NUCLEAR_INITIATED_ESTROGEN_SIGNALING_PATHWAY</th>\n      <th>KEGG_MEDICUS_ENV_FACTOR_E2_TO_RAS_ERK_SIGNALING_PATHWAY</th>\n      <th>KEGG_MEDICUS_ENV_FACTOR_IRON_TO_ANTEROGRADE_AXONAL_TRANSPORT</th>\n      <th>...</th>\n      <th>246</th>\n      <th>247</th>\n      <th>248</th>\n      <th>249</th>\n      <th>250</th>\n      <th>251</th>\n      <th>252</th>\n      <th>253</th>\n      <th>254</th>\n      <th>255</th>\n    </tr>\n  </thead>\n  <tbody>\n    <tr>\n      <th>0</th>\n      <td>5-Fluorouracil</td>\n      <td>HL60</td>\n      <td>2.558926</td>\n      <td>4.214134</td>\n      <td>0.440202</td>\n      <td>1.470915</td>\n      <td>0.205382</td>\n      <td>1.450508</td>\n      <td>1.48227</td>\n      <td>0.343427</td>\n      <td>...</td>\n      <td>38</td>\n      <td>4</td>\n      <td>37</td>\n      <td>35</td>\n      <td>5</td>\n      <td>36</td>\n      <td>6</td>\n      <td>5</td>\n      <td>43</td>\n      <td>3</td>\n    </tr>\n    <tr>\n      <th>1</th>\n      <td>5-azacytidine</td>\n      <td>HL60</td>\n      <td>0.917132</td>\n      <td>4.214134</td>\n      <td>0.440202</td>\n      <td>1.470915</td>\n      <td>0.205382</td>\n      <td>1.450508</td>\n      <td>1.48227</td>\n      <td>0.343427</td>\n      <td>...</td>\n      <td>5</td>\n      <td>38</td>\n      <td>35</td>\n      <td>5</td>\n      <td>35</td>\n      <td>5</td>\n      <td>35</td>\n      <td>5</td>\n      <td>36</td>\n      <td>3</td>\n    </tr>\n    <tr>\n      <th>2</th>\n      <td>A-366</td>\n      <td>HL60</td>\n      <td>4.836160</td>\n      <td>4.214134</td>\n      <td>0.440202</td>\n      <td>1.470915</td>\n      <td>0.205382</td>\n      <td>1.450508</td>\n      <td>1.48227</td>\n      <td>0.343427</td>\n      <td>...</td>\n      <td>38</td>\n      <td>38</td>\n      <td>36</td>\n      <td>9</td>\n      <td>38</td>\n      <td>38</td>\n      <td>38</td>\n      <td>38</td>\n      <td>9</td>\n      <td>3</td>\n    </tr>\n    <tr>\n      <th>3</th>\n      <td>ABT737</td>\n      <td>HL60</td>\n      <td>-2.817798</td>\n      <td>4.214134</td>\n      <td>0.440202</td>\n      <td>1.470915</td>\n      <td>0.205382</td>\n      <td>1.450508</td>\n      <td>1.48227</td>\n      <td>0.343427</td>\n      <td>...</td>\n      <td>5</td>\n      <td>40</td>\n      <td>5</td>\n      <td>50</td>\n      <td>4</td>\n      <td>37</td>\n      <td>35</td>\n      <td>5</td>\n      <td>49</td>\n      <td>3</td>\n    </tr>\n    <tr>\n      <th>4</th>\n      <td>AGI-5198</td>\n      <td>HL60</td>\n      <td>3.644734</td>\n      <td>4.214134</td>\n      <td>0.440202</td>\n      <td>1.470915</td>\n      <td>0.205382</td>\n      <td>1.450508</td>\n      <td>1.48227</td>\n      <td>0.343427</td>\n      <td>...</td>\n      <td>9</td>\n      <td>38</td>\n      <td>37</td>\n      <td>38</td>\n      <td>36</td>\n      <td>37</td>\n      <td>38</td>\n      <td>9</td>\n      <td>38</td>\n      <td>3</td>\n    </tr>\n  </tbody>\n</table>\n<p>5 rows × 878 columns</p>\n</div>"
     },
     "execution_count": 27,
     "metadata": {},
     "output_type": "execute_result"
    }
   ],
   "source": [
    "# 将df_drug_sensitivity作为主要的dataframe，然后将df_smiles和df_GEP合并到df_drug_sensitivity\n",
    "df = pd.merge(df_drug_sensitivity, df_GEP, on='cell_line')\n",
    "df = pd.merge(df, df_smiles , on='drug')\n",
    "print(df.shape)\n",
    "df.head()"
   ],
   "metadata": {
    "collapsed": false,
    "ExecuteTime": {
     "end_time": "2024-02-28T05:26:54.462166800Z",
     "start_time": "2024-02-28T05:26:52.927421200Z"
    }
   },
   "id": "5880446bff8ffdfe",
   "execution_count": 27
  },
  {
   "cell_type": "code",
   "outputs": [],
   "source": [
    "# df取1000条数据\n",
    "df = df.head(3000)"
   ],
   "metadata": {
    "collapsed": false,
    "ExecuteTime": {
     "end_time": "2024-02-28T05:27:08.657443100Z",
     "start_time": "2024-02-28T05:27:08.653943700Z"
    }
   },
   "id": "ede2e880c5b3c4b8",
   "execution_count": 28
  },
  {
   "cell_type": "code",
   "outputs": [],
   "source": [
    "# 将每个cell_line的数据9：1划分为训练集和测试集\n",
    "df_train = pd.DataFrame()\n",
    "df_test = pd.DataFrame()\n",
    "for cell_line in df['cell_line'].unique():\n",
    "    df_cell_line = df[df['cell_line'] == cell_line]\n",
    "    df_cell_line_train, df_cell_line_test = train_test_split(df_cell_line, test_size=0.1, random_state=42)\n",
    "    df_train = pd.concat([df_train, df_cell_line_train])\n",
    "    df_test = pd.concat([df_test, df_cell_line_test])"
   ],
   "metadata": {
    "collapsed": false,
    "ExecuteTime": {
     "end_time": "2024-02-28T05:27:10.467594300Z",
     "start_time": "2024-02-28T05:27:10.396379Z"
    }
   },
   "id": "1cb50d6530dd24a4",
   "execution_count": 29
  },
  {
   "cell_type": "code",
   "outputs": [],
   "source": [
    "X_train,X_test,y_train,y_test = df_train.iloc[:, 3:], df_test.iloc[:, 3:], df_train['IC50'], df_test['IC50'] \n",
    "X_train.columns = range(X_train.shape[1])\n",
    "X_test.columns = range(X_test.shape[1])"
   ],
   "metadata": {
    "collapsed": false,
    "ExecuteTime": {
     "end_time": "2024-02-28T05:27:12.474245Z",
     "start_time": "2024-02-28T05:27:12.395173200Z"
    }
   },
   "id": "5564f084ea6766f7",
   "execution_count": 30
  },
  {
   "cell_type": "code",
   "outputs": [],
   "source": [
    "# RF 模型\n",
    "rf = RandomForestRegressor()\n",
    "rf.fit(X_train, y_train)\n",
    "rf_pred = rf.predict(X_test)\n",
    "rf_mse = mean_squared_error(y_test, rf_pred)\n",
    "# 计算R2\n",
    "rf_r2 = rf.score(X_test, y_test)\n",
    "# 计算皮尔逊相关系数\n",
    "rf_pearson = np.corrcoef(rf_pred, y_test)[0, 1]\n",
    "# 将y_test和rf_pred转换为dataframe，打印成csv\n",
    "df_rf = pd.DataFrame({'y_test': y_test, 'rf_pred': rf_pred})\n",
    "df_rf.to_csv('rf.csv')"
   ],
   "metadata": {
    "collapsed": false,
    "ExecuteTime": {
     "end_time": "2024-02-28T05:27:47.380800300Z",
     "start_time": "2024-02-28T05:27:14.073345Z"
    }
   },
   "id": "3996986276761dc3",
   "execution_count": 31
  },
  {
   "cell_type": "code",
   "outputs": [],
   "source": [
    "# SVM 模型\n",
    "svm = SVR()\n",
    "svm.fit(X_train, y_train)\n",
    "svm_pred = svm.predict(X_test)\n",
    "svm_mse = mean_squared_error(y_test, svm_pred)\n",
    "# 计算R2\n",
    "svm_r2 = svm.score(X_test, y_test)\n",
    "# 计算皮尔逊相关系数\n",
    "svm_pearson = np.corrcoef(svm_pred, y_test)[0, 1]\n",
    "# 将y_test和svm_pred转换为dataframe，打印成csv\n",
    "df_svm = pd.DataFrame({'y_test': y_test, 'svm_pred': svm_pred})\n",
    "df_svm.to_csv('svm.csv')"
   ],
   "metadata": {
    "collapsed": false,
    "ExecuteTime": {
     "end_time": "2024-02-28T05:28:10.123382100Z",
     "start_time": "2024-02-28T05:28:07.103153100Z"
    }
   },
   "id": "b0857ebc107fb940",
   "execution_count": 32
  },
  {
   "cell_type": "code",
   "outputs": [
    {
     "name": "stdout",
     "output_type": "stream",
     "text": [
      "RF MSE: 2.0108095615283377\n",
      "RF R2: 0.7387342093644378\n",
      "RF Pearson: 0.8600558565025528\n",
      "SVM MSE: 4.519762705672764\n",
      "SVM R2: 0.4127442999200791\n",
      "SVM Pearson: 0.6787064400755944\n"
     ]
    }
   ],
   "source": [
    "print('RF MSE:', rf_mse)\n",
    "print('RF R2:', rf_r2)\n",
    "print('RF Pearson:', rf_pearson)\n",
    "\n",
    "print('SVM MSE:', svm_mse)\n",
    "print('SVM R2:', svm_r2)\n",
    "print('SVM Pearson:', svm_pearson)"
   ],
   "metadata": {
    "collapsed": false,
    "ExecuteTime": {
     "end_time": "2024-02-28T05:28:12.208237100Z",
     "start_time": "2024-02-28T05:28:12.204735800Z"
    }
   },
   "id": "f3ba1c3660ca86ba",
   "execution_count": 33
  },
  {
   "cell_type": "code",
   "outputs": [],
   "source": [
    "# ========================下面为随机分配数据，上面是严格的MIXED SET==========================="
   ],
   "metadata": {
    "collapsed": false
   },
   "id": "c59abeb1054da99c"
  },
  {
   "cell_type": "code",
   "outputs": [],
   "source": [
    "# df取1000条数据\n",
    "# df = df.head(1000)"
   ],
   "metadata": {
    "collapsed": false,
    "ExecuteTime": {
     "end_time": "2024-02-28T04:32:08.238431900Z",
     "start_time": "2024-02-28T04:32:08.234834300Z"
    }
   },
   "id": "64b57d6df3b69bcc",
   "execution_count": 10
  },
  {
   "cell_type": "code",
   "outputs": [],
   "source": [
    "# 分割特征X：df从第三列开始，y：IC50列\n",
    "X = df.iloc[:, 3:]\n",
    "# 将X的columns重置为0,1,2,3...\n",
    "X.columns = range(X.shape[1])\n",
    "y = df['IC50']"
   ],
   "metadata": {
    "collapsed": false,
    "ExecuteTime": {
     "end_time": "2024-02-28T04:32:08.448293300Z",
     "start_time": "2024-02-28T04:32:08.238431900Z"
    }
   },
   "id": "1e2f083fd10503d4",
   "execution_count": 11
  },
  {
   "cell_type": "code",
   "outputs": [],
   "source": [
    "# 划分训练集测试集\n",
    "X_train, X_test, y_train, y_test = train_test_split(X, y, test_size=0.1, random_state=42)"
   ],
   "metadata": {
    "collapsed": false,
    "ExecuteTime": {
     "end_time": "2024-02-28T04:32:09.019379300Z",
     "start_time": "2024-02-28T04:32:08.449384800Z"
    }
   },
   "id": "b62a6284b4034a59",
   "execution_count": 12
  },
  {
   "cell_type": "code",
   "outputs": [],
   "source": [
    "# 特征工程\n",
    "# scaler = StandardScaler().fit(X_train)\n",
    "# X_train_scaled = scaler.transform(X_train)\n",
    "# X_test_scaled = scaler.transform(X_test)"
   ],
   "metadata": {
    "collapsed": false,
    "ExecuteTime": {
     "end_time": "2024-02-28T04:32:09.026775500Z",
     "start_time": "2024-02-28T04:32:09.021536100Z"
    }
   },
   "id": "3837bf4f9706484f",
   "execution_count": 13
  },
  {
   "cell_type": "code",
   "outputs": [],
   "source": [
    "# RF 模型\n",
    "rf = RandomForestRegressor()\n",
    "rf.fit(X_train, y_train)\n",
    "rf_pred = rf.predict(X_test)\n",
    "rf_mse = mean_squared_error(y_test, rf_pred)\n",
    "# 计算R2\n",
    "rf_r2 = rf.score(X_test, y_test)\n",
    "# 计算皮尔逊相关系数\n",
    "rf_pearson = np.corrcoef(rf_pred, y_test)[0, 1]\n",
    "# 将y_test和rf_pred转换为dataframe，打印成csv\n",
    "df_rf = pd.DataFrame({'y_test': y_test, 'rf_pred': rf_pred})\n",
    "df_rf.to_csv('rf.csv')"
   ],
   "metadata": {
    "collapsed": false,
    "ExecuteTime": {
     "end_time": "2024-02-27T13:39:12.950719Z",
     "start_time": "2024-02-27T13:39:04.549170700Z"
    }
   },
   "id": "5299204d41d2c22a",
   "execution_count": 13
  },
  {
   "cell_type": "code",
   "outputs": [],
   "source": [
    "# SVM 模型\n",
    "svm = SVR()\n",
    "svm.fit(X_train, y_train)\n",
    "svm_pred = svm.predict(X_test)\n",
    "svm_mse = mean_squared_error(y_test, svm_pred)\n",
    "# 计算R2\n",
    "svm_r2 = svm.score(X_test, y_test)\n",
    "# 计算皮尔逊相关系数\n",
    "svm_pearson = np.corrcoef(svm_pred, y_test)[0, 1]\n",
    "# 将y_test和svm_pred转换为dataframe，打印成csv\n",
    "df_svm = pd.DataFrame({'y_test': y_test, 'svm_pred': svm_pred})\n",
    "df_svm.to_csv('svm.csv')"
   ],
   "metadata": {
    "collapsed": false,
    "ExecuteTime": {
     "end_time": "2024-02-27T13:39:16.385115600Z",
     "start_time": "2024-02-27T13:39:16.198337700Z"
    }
   },
   "id": "236f0d8455f7eefb",
   "execution_count": 14
  },
  {
   "cell_type": "code",
   "outputs": [
    {
     "name": "stdout",
     "output_type": "stream",
     "text": [
      "RF MSE: 1.809792379981703\n",
      "RF R2: 0.7243196198297389\n",
      "RF Pearson: 0.851243231995943\n",
      "SVM MSE: 4.97780528415696\n",
      "SVM R2: 0.24174547957606118\n",
      "SVM Pearson: 0.5163799726994603\n"
     ]
    }
   ],
   "source": [
    "print('RF MSE:', rf_mse)\n",
    "print('RF R2:', rf_r2)\n",
    "print('RF Pearson:', rf_pearson)\n",
    "\n",
    "print('SVM MSE:', svm_mse)\n",
    "print('SVM R2:', svm_r2)\n",
    "print('SVM Pearson:', svm_pearson)"
   ],
   "metadata": {
    "collapsed": false,
    "ExecuteTime": {
     "end_time": "2024-02-27T13:39:18.327511800Z",
     "start_time": "2024-02-27T13:39:18.325007Z"
    }
   },
   "id": "1bc21b04adf49211",
   "execution_count": 15
  }
 ],
 "metadata": {
  "kernelspec": {
   "display_name": "Python 3",
   "language": "python",
   "name": "python3"
  },
  "language_info": {
   "codemirror_mode": {
    "name": "ipython",
    "version": 2
   },
   "file_extension": ".py",
   "mimetype": "text/x-python",
   "name": "python",
   "nbconvert_exporter": "python",
   "pygments_lexer": "ipython2",
   "version": "2.7.6"
  }
 },
 "nbformat": 4,
 "nbformat_minor": 5
}
