{
 "cells": [
  {
   "cell_type": "markdown",
   "source": [
    "# GEP CNV MUT 三种组学数据合并"
   ],
   "metadata": {
    "collapsed": false
   },
   "id": "7a9c2d1a42e49e85"
  },
  {
   "cell_type": "code",
   "execution_count": 1,
   "outputs": [],
   "source": [
    "import pandas as pd"
   ],
   "metadata": {
    "collapsed": false,
    "ExecuteTime": {
     "end_time": "2023-10-24T15:29:10.508721700Z",
     "start_time": "2023-10-24T15:29:08.615508Z"
    }
   },
   "id": "ab35902258876144"
  },
  {
   "cell_type": "code",
   "execution_count": 2,
   "outputs": [
    {
     "name": "stdout",
     "output_type": "stream",
     "text": [
      "(688, 1654)\n"
     ]
    }
   ],
   "source": [
    "df_gep = pd.read_csv('../data_omics/OmicsExpressionProteinCodingGenesTPMLogp1-23Q2_GSVA_CellLine_dropTwo.csv', index_col=0)\n",
    "print(df_gep.shape)"
   ],
   "metadata": {
    "collapsed": false,
    "ExecuteTime": {
     "end_time": "2023-10-24T15:34:02.756663400Z",
     "start_time": "2023-10-24T15:34:02.502164500Z"
    }
   },
   "id": "af20c9520e1bd52d"
  },
  {
   "cell_type": "code",
   "execution_count": 4,
   "outputs": [
    {
     "name": "stdout",
     "output_type": "stream",
     "text": [
      "(688, 1654)\n"
     ]
    }
   ],
   "source": [
    "df_cnv = pd.read_csv('../data_omics/CNV_Internal_External_analysis_c2_reactome2023Q2_CellLine_ExpCellLine.csv', index_col=0)\n",
    "print(df_cnv.shape)"
   ],
   "metadata": {
    "collapsed": false,
    "ExecuteTime": {
     "end_time": "2023-10-24T15:34:18.906422400Z",
     "start_time": "2023-10-24T15:34:18.701902600Z"
    }
   },
   "id": "27a13a58a926e989"
  },
  {
   "cell_type": "code",
   "execution_count": 6,
   "outputs": [
    {
     "name": "stdout",
     "output_type": "stream",
     "text": [
      "(688, 1654)\n"
     ]
    },
    {
     "data": {
      "text/plain": "           REACTOME_INTERLEUKIN_6_SIGNALING  REACTOME_APOPTOSIS  \\\ncell_line                                                         \nHL60                               0.026659            1.747504   \nHEL                                0.020309            0.289226   \nMONOMAC6                           0.021579            0.307311   \nLS513                              0.057166            0.814131   \nA101D                              0.045721            0.651135   \n\n           REACTOME_HEMOSTASIS  REACTOME_INTRINSIC_PATHWAY_FOR_APOPTOSIS  \\\ncell_line                                                                  \nHL60                  1.389167                                  4.035392   \nHEL                   1.058258                                  0.081312   \nMONOMAC6              1.124432                                  0.086397   \nLS513                 0.183690                                  0.228882   \nA101D                 0.505000                                  0.183058   \n\n           REACTOME_MAPK3_ERK1_ACTIVATION  \\\ncell_line                                   \nHL60                             0.024235   \nHEL                              0.018462   \nMONOMAC6                         0.019616   \nLS513                            0.051968   \nA101D                            5.917886   \n\n           REACTOME_TRANSLESION_SYNTHESIS_BY_Y_FAMILY_DNA_POLYMERASES_BYPASSES_LESIONS_ON_DNA_TEMPLATE  \\\ncell_line                                                                                                \nHL60                                                0.084883                                             \nHEL                                                 0.064663                                             \nMONOMAC6                                            0.068707                                             \nLS513                                               3.022280                                             \nA101D                                               0.145576                                             \n\n           REACTOME_RECOGNITION_OF_DNA_DAMAGE_BY_PCNA_CONTAINING_REPLICATION_COMPLEX  \\\ncell_line                                                                              \nHL60                                                0.067893                           \nHEL                                                 0.051720                           \nMONOMAC6                                            0.054954                           \nLS513                                               0.145585                           \nA101D                                               0.116438                           \n\n           REACTOME_TRANSLESION_SYNTHESIS_BY_POLH  \\\ncell_line                                           \nHL60                                     0.038782   \nHEL                                      0.029544   \nMONOMAC6                                 0.031392   \nLS513                                    4.526140   \nA101D                                    0.066513   \n\n           REACTOME_RECOGNITION_AND_ASSOCIATION_OF_DNA_GLYCOSYLASE_WITH_SITE_CONTAINING_AN_AFFECTED_PURINE  \\\ncell_line                                                                                                    \nHL60                                                0.024235                                                 \nHEL                                                 0.018462                                                 \nMONOMAC6                                            0.019616                                                 \nLS513                                               0.051968                                                 \nA101D                                               0.041563                                                 \n\n           REACTOME_DISPLACEMENT_OF_DNA_GLYCOSYLASE_BY_APEX1  ...  \\\ncell_line                                                     ...   \nHL60                                                0.021811  ...   \nHEL                                                 0.016615  ...   \nMONOMAC6                                            0.017654  ...   \nLS513                                               0.046769  ...   \nA101D                                               0.037406  ...   \n\n           REACTOME_NFE2L2_REGULATES_PENTOSE_PHOSPHATE_PATHWAY_GENES  \\\ncell_line                                                              \nHL60                                                0.019387           \nHEL                                                 0.014769           \nMONOMAC6                                            0.015692           \nLS513                                               0.041572           \nA101D                                               0.033249           \n\n           REACTOME_GROWTH_HORMONE_RECEPTOR_SIGNALING  \\\ncell_line                                               \nHL60                                         0.053335   \nHEL                                          0.040630   \nMONOMAC6                                     0.043171   \nLS513                                        0.114368   \nA101D                                        0.091471   \n\n           REACTOME_ANTIGEN_PROCESSING_UBIQUITINATION_PROTEASOME_DEGRADATION  \\\ncell_line                                                                      \nHL60                                                0.688840                   \nHEL                                                 0.524754                   \nMONOMAC6                                            0.557568                   \nLS513                                               1.528460                   \nA101D                                               1.181385                   \n\n           REACTOME_CLASS_I_MHC_MEDIATED_ANTIGEN_PROCESSING_PRESENTATION  \\\ncell_line                                                                  \nHL60                                                0.851703               \nHEL                                                 0.648822               \nMONOMAC6                                            0.689394               \nLS513                                               1.018273               \nA101D                                               1.460701               \n\n           REACTOME_ANTIGEN_PRESENTATION_FOLDING_ASSEMBLY_AND_PEPTIDE_LOADING_OF_CLASS_I_MHC  \\\ncell_line                                                                                      \nHL60                                                0.070319                                   \nHEL                                                 0.053569                                   \nMONOMAC6                                            0.056919                                   \nLS513                                               0.150789                                   \nA101D                                               0.120600                                   \n\n           REACTOME_KINESINS  \\\ncell_line                      \nHL60                0.135895   \nHEL                 0.103524   \nMONOMAC6            0.109998   \nLS513               0.291406   \nA101D               0.233064   \n\n           REACTOME_FACTORS_INVOLVED_IN_MEGAKARYOCYTE_DEVELOPMENT_AND_PLATELET_PRODUCTION  \\\ncell_line                                                                                   \nHL60                                                0.340565                                \nHEL                                                 0.259441                                \nMONOMAC6                                            0.275664                                \nLS513                                               0.730291                                \nA101D                                               0.584080                                \n\n           REACTOME_ANTIGEN_ACTIVATES_B_CELL_RECEPTOR_BCR_LEADING_TO_GENERATION_OF_SECOND_MESSENGERS  \\\ncell_line                                                                                              \nHL60                                                0.072746                                           \nHEL                                                 0.055418                                           \nMONOMAC6                                            0.058883                                           \nLS513                                               0.155993                                           \nA101D                                               0.124762                                           \n\n           REACTOME_SIGNALING_BY_THE_B_CELL_RECEPTOR_BCR  \\\ncell_line                                                  \nHL60                                            0.250290   \nHEL                                             0.190670   \nMONOMAC6                                        0.202592   \nLS513                                           0.536709   \nA101D                                           0.429255   \n\n           REACTOME_ION_CHANNEL_TRANSPORT  \ncell_line                                  \nHL60                             0.426140  \nHEL                              0.324631  \nMONOMAC6                         0.344931  \nLS513                            0.913793  \nA101D                            3.642133  \n\n[5 rows x 1654 columns]",
      "text/html": "<div>\n<style scoped>\n    .dataframe tbody tr th:only-of-type {\n        vertical-align: middle;\n    }\n\n    .dataframe tbody tr th {\n        vertical-align: top;\n    }\n\n    .dataframe thead th {\n        text-align: right;\n    }\n</style>\n<table border=\"1\" class=\"dataframe\">\n  <thead>\n    <tr style=\"text-align: right;\">\n      <th></th>\n      <th>REACTOME_INTERLEUKIN_6_SIGNALING</th>\n      <th>REACTOME_APOPTOSIS</th>\n      <th>REACTOME_HEMOSTASIS</th>\n      <th>REACTOME_INTRINSIC_PATHWAY_FOR_APOPTOSIS</th>\n      <th>REACTOME_MAPK3_ERK1_ACTIVATION</th>\n      <th>REACTOME_TRANSLESION_SYNTHESIS_BY_Y_FAMILY_DNA_POLYMERASES_BYPASSES_LESIONS_ON_DNA_TEMPLATE</th>\n      <th>REACTOME_RECOGNITION_OF_DNA_DAMAGE_BY_PCNA_CONTAINING_REPLICATION_COMPLEX</th>\n      <th>REACTOME_TRANSLESION_SYNTHESIS_BY_POLH</th>\n      <th>REACTOME_RECOGNITION_AND_ASSOCIATION_OF_DNA_GLYCOSYLASE_WITH_SITE_CONTAINING_AN_AFFECTED_PURINE</th>\n      <th>REACTOME_DISPLACEMENT_OF_DNA_GLYCOSYLASE_BY_APEX1</th>\n      <th>...</th>\n      <th>REACTOME_NFE2L2_REGULATES_PENTOSE_PHOSPHATE_PATHWAY_GENES</th>\n      <th>REACTOME_GROWTH_HORMONE_RECEPTOR_SIGNALING</th>\n      <th>REACTOME_ANTIGEN_PROCESSING_UBIQUITINATION_PROTEASOME_DEGRADATION</th>\n      <th>REACTOME_CLASS_I_MHC_MEDIATED_ANTIGEN_PROCESSING_PRESENTATION</th>\n      <th>REACTOME_ANTIGEN_PRESENTATION_FOLDING_ASSEMBLY_AND_PEPTIDE_LOADING_OF_CLASS_I_MHC</th>\n      <th>REACTOME_KINESINS</th>\n      <th>REACTOME_FACTORS_INVOLVED_IN_MEGAKARYOCYTE_DEVELOPMENT_AND_PLATELET_PRODUCTION</th>\n      <th>REACTOME_ANTIGEN_ACTIVATES_B_CELL_RECEPTOR_BCR_LEADING_TO_GENERATION_OF_SECOND_MESSENGERS</th>\n      <th>REACTOME_SIGNALING_BY_THE_B_CELL_RECEPTOR_BCR</th>\n      <th>REACTOME_ION_CHANNEL_TRANSPORT</th>\n    </tr>\n    <tr>\n      <th>cell_line</th>\n      <th></th>\n      <th></th>\n      <th></th>\n      <th></th>\n      <th></th>\n      <th></th>\n      <th></th>\n      <th></th>\n      <th></th>\n      <th></th>\n      <th></th>\n      <th></th>\n      <th></th>\n      <th></th>\n      <th></th>\n      <th></th>\n      <th></th>\n      <th></th>\n      <th></th>\n      <th></th>\n      <th></th>\n    </tr>\n  </thead>\n  <tbody>\n    <tr>\n      <th>HL60</th>\n      <td>0.026659</td>\n      <td>1.747504</td>\n      <td>1.389167</td>\n      <td>4.035392</td>\n      <td>0.024235</td>\n      <td>0.084883</td>\n      <td>0.067893</td>\n      <td>0.038782</td>\n      <td>0.024235</td>\n      <td>0.021811</td>\n      <td>...</td>\n      <td>0.019387</td>\n      <td>0.053335</td>\n      <td>0.688840</td>\n      <td>0.851703</td>\n      <td>0.070319</td>\n      <td>0.135895</td>\n      <td>0.340565</td>\n      <td>0.072746</td>\n      <td>0.250290</td>\n      <td>0.426140</td>\n    </tr>\n    <tr>\n      <th>HEL</th>\n      <td>0.020309</td>\n      <td>0.289226</td>\n      <td>1.058258</td>\n      <td>0.081312</td>\n      <td>0.018462</td>\n      <td>0.064663</td>\n      <td>0.051720</td>\n      <td>0.029544</td>\n      <td>0.018462</td>\n      <td>0.016615</td>\n      <td>...</td>\n      <td>0.014769</td>\n      <td>0.040630</td>\n      <td>0.524754</td>\n      <td>0.648822</td>\n      <td>0.053569</td>\n      <td>0.103524</td>\n      <td>0.259441</td>\n      <td>0.055418</td>\n      <td>0.190670</td>\n      <td>0.324631</td>\n    </tr>\n    <tr>\n      <th>MONOMAC6</th>\n      <td>0.021579</td>\n      <td>0.307311</td>\n      <td>1.124432</td>\n      <td>0.086397</td>\n      <td>0.019616</td>\n      <td>0.068707</td>\n      <td>0.054954</td>\n      <td>0.031392</td>\n      <td>0.019616</td>\n      <td>0.017654</td>\n      <td>...</td>\n      <td>0.015692</td>\n      <td>0.043171</td>\n      <td>0.557568</td>\n      <td>0.689394</td>\n      <td>0.056919</td>\n      <td>0.109998</td>\n      <td>0.275664</td>\n      <td>0.058883</td>\n      <td>0.202592</td>\n      <td>0.344931</td>\n    </tr>\n    <tr>\n      <th>LS513</th>\n      <td>0.057166</td>\n      <td>0.814131</td>\n      <td>0.183690</td>\n      <td>0.228882</td>\n      <td>0.051968</td>\n      <td>3.022280</td>\n      <td>0.145585</td>\n      <td>4.526140</td>\n      <td>0.051968</td>\n      <td>0.046769</td>\n      <td>...</td>\n      <td>0.041572</td>\n      <td>0.114368</td>\n      <td>1.528460</td>\n      <td>1.018273</td>\n      <td>0.150789</td>\n      <td>0.291406</td>\n      <td>0.730291</td>\n      <td>0.155993</td>\n      <td>0.536709</td>\n      <td>0.913793</td>\n    </tr>\n    <tr>\n      <th>A101D</th>\n      <td>0.045721</td>\n      <td>0.651135</td>\n      <td>0.505000</td>\n      <td>0.183058</td>\n      <td>5.917886</td>\n      <td>0.145576</td>\n      <td>0.116438</td>\n      <td>0.066513</td>\n      <td>0.041563</td>\n      <td>0.037406</td>\n      <td>...</td>\n      <td>0.033249</td>\n      <td>0.091471</td>\n      <td>1.181385</td>\n      <td>1.460701</td>\n      <td>0.120600</td>\n      <td>0.233064</td>\n      <td>0.584080</td>\n      <td>0.124762</td>\n      <td>0.429255</td>\n      <td>3.642133</td>\n    </tr>\n  </tbody>\n</table>\n<p>5 rows × 1654 columns</p>\n</div>"
     },
     "execution_count": 6,
     "metadata": {},
     "output_type": "execute_result"
    }
   ],
   "source": [
    "df_mut = pd.read_csv('../data_omics/MUT_cardinality_analysis_of_variance_c2_reactome2023Q2_CellLine_ExpCellLine.csv', index_col=0)\n",
    "print(df_mut.shape)\n",
    "df_mut.head()"
   ],
   "metadata": {
    "collapsed": false,
    "ExecuteTime": {
     "end_time": "2023-10-24T15:35:48.305469500Z",
     "start_time": "2023-10-24T15:35:48.095851400Z"
    }
   },
   "id": "e814ea1e2cf277f"
  },
  {
   "cell_type": "code",
   "execution_count": 7,
   "outputs": [
    {
     "name": "stdout",
     "output_type": "stream",
     "text": [
      "(688, 4962)\n"
     ]
    }
   ],
   "source": [
    "# 将三种数据合并，根据各自的index\n",
    "df_gep_cnv = pd.merge(df_gep, df_cnv, left_index=True, right_index=True)\n",
    "df_gep_cnv_mut = pd.merge(df_gep_cnv, df_mut, left_index=True, right_index=True)\n",
    "print(df_gep_cnv_mut.shape)"
   ],
   "metadata": {
    "collapsed": false,
    "ExecuteTime": {
     "end_time": "2023-10-24T15:36:25.210402500Z",
     "start_time": "2023-10-24T15:36:25.163544800Z"
    }
   },
   "id": "d59923278784bbce"
  },
  {
   "cell_type": "code",
   "execution_count": 9,
   "outputs": [],
   "source": [
    "# 导出数据\n",
    "df_gep_cnv_mut.to_csv('../data_omics/Omics_gep_cnv_mut.csv', index=True)"
   ],
   "metadata": {
    "collapsed": false,
    "ExecuteTime": {
     "end_time": "2023-10-24T15:39:07.221045500Z",
     "start_time": "2023-10-24T15:39:04.543802800Z"
    }
   },
   "id": "7d0d2a248478e612"
  }
 ],
 "metadata": {
  "kernelspec": {
   "display_name": "Python 3",
   "language": "python",
   "name": "python3"
  },
  "language_info": {
   "codemirror_mode": {
    "name": "ipython",
    "version": 2
   },
   "file_extension": ".py",
   "mimetype": "text/x-python",
   "name": "python",
   "nbconvert_exporter": "python",
   "pygments_lexer": "ipython2",
   "version": "2.7.6"
  }
 },
 "nbformat": 4,
 "nbformat_minor": 5
}
