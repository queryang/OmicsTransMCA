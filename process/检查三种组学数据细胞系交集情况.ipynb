{
 "cells": [
  {
   "cell_type": "code",
   "execution_count": 1,
   "id": "initial_id",
   "metadata": {
    "collapsed": true,
    "ExecuteTime": {
     "end_time": "2023-11-18T05:58:50.467644900Z",
     "start_time": "2023-11-18T05:58:50.175743200Z"
    }
   },
   "outputs": [],
   "source": [
    "import pandas as pd"
   ]
  },
  {
   "cell_type": "code",
   "execution_count": 2,
   "outputs": [
    {
     "name": "stdout",
     "output_type": "stream",
     "text": [
      "(933, 620)\n"
     ]
    },
    {
     "data": {
      "text/plain": "  cell_line  \\\n0      HL60   \n\n   KEGG_MEDICUS_ENV_FACTOR_ARSENIC_TO_ELECTRON_TRANSFER_IN_COMPLEX_IV  \\\n0                                           0.425637                    \n\n   KEGG_MEDICUS_ENV_FACTOR_BENZO_A_PYRENRE_TO_CYP_MEDIATED_METABOLISM  \\\n0                                           4.606237                    \n\n   KEGG_MEDICUS_ENV_FACTOR_BPA_TO_RAS_ERK_SIGNALING_PATHWAY  \\\n0                                           0.205055          \n\n   KEGG_MEDICUS_ENV_FACTOR_DCE_TO_DNA_ADDUCTS  \\\n0                                    4.148475   \n\n   KEGG_MEDICUS_ENV_FACTOR_E2_TO_NUCLEAR_INITIATED_ESTROGEN_SIGNALING_PATHWAY  \\\n0                                           1.707722                            \n\n   KEGG_MEDICUS_ENV_FACTOR_E2_TO_RAS_ERK_SIGNALING_PATHWAY  \\\n0                                           0.015948         \n\n   KEGG_MEDICUS_ENV_FACTOR_IRON_TO_ANTEROGRADE_AXONAL_TRANSPORT  \\\n0                                           0.315481              \n\n   KEGG_MEDICUS_ENV_FACTOR_METALS_TO_JNK_SIGNALING_PATHWAY  \\\n0                                           1.124515         \n\n   KEGG_MEDICUS_ENV_FACTOR_METALS_TO_KEAP1_NRF2_SIGNALIG_PATHWAY  ...  \\\n0                                           6.174374              ...   \n\n   KEGG_MEDICUS_VARIANT_SCRAPIE_CONFORMATION_PRPSC_TO_26S_PROTEASOME_MEDIATED_PROTEIN_DEGRADATION  \\\n0                                           1.504917                                                \n\n   KEGG_MEDICUS_VARIANT_SCRAPIE_CONFORMATION_PRPSC_TO_MGLUR5_CA2_APOPTOTIC_PATHWAY  \\\n0                                           0.315481                                 \n\n   KEGG_MEDICUS_VARIANT_SCRAPIE_CONFORMATION_PRPSC_TO_PERK_ATF4_SIGNALING_PATHWAY  \\\n0                                           0.141779                                \n\n   KEGG_MEDICUS_VARIANT_SCRAPIE_CONFORMATION_PRPSC_TO_PRNP_PI3K_NOX2_SIGNALING_PATHWAY  \\\n0                                           0.015948                                     \n\n   KEGG_MEDICUS_VARIANT_SCRAPIE_CONFORMATION_PRPSC_TO_TRANSPORT_OF_CALCIUM  \\\n0                                           0.425637                         \n\n   KEGG_MEDICUS_VARIANT_SCRAPIE_CONFORMATION_PRPSC_TO_VGCC_CA2_APOPTOTIC_PATHWAY  \\\n0                                           0.141779                               \n\n   KEGG_MEDICUS_VARIANT_TEL_AML1_FUSION_TO_TRANSCRIPTIONAL_REPRESSION  \\\n0                                           4.606237                    \n\n   KEGG_MEDICUS_VARIANT_TGFA_OVEREXPRESSION_TO_PI3K_SIGNALING_PATHWAY  \\\n0                                           1.951736                    \n\n   KEGG_MEDICUS_VARIANT_TMPRSS2_ERG_FUSION_TO_TRANSCRIPTIONAL_ACTIVATION  \\\n0                                           1.707722                       \n\n   KEGG_MEDICUS_VARIANT_TRK_FUSION_KINASE_TO_RAS_ERK_SIGNALING_PATHWAY  \n0                                            0.06607                    \n\n[1 rows x 620 columns]",
      "text/html": "<div>\n<style scoped>\n    .dataframe tbody tr th:only-of-type {\n        vertical-align: middle;\n    }\n\n    .dataframe tbody tr th {\n        vertical-align: top;\n    }\n\n    .dataframe thead th {\n        text-align: right;\n    }\n</style>\n<table border=\"1\" class=\"dataframe\">\n  <thead>\n    <tr style=\"text-align: right;\">\n      <th></th>\n      <th>cell_line</th>\n      <th>KEGG_MEDICUS_ENV_FACTOR_ARSENIC_TO_ELECTRON_TRANSFER_IN_COMPLEX_IV</th>\n      <th>KEGG_MEDICUS_ENV_FACTOR_BENZO_A_PYRENRE_TO_CYP_MEDIATED_METABOLISM</th>\n      <th>KEGG_MEDICUS_ENV_FACTOR_BPA_TO_RAS_ERK_SIGNALING_PATHWAY</th>\n      <th>KEGG_MEDICUS_ENV_FACTOR_DCE_TO_DNA_ADDUCTS</th>\n      <th>KEGG_MEDICUS_ENV_FACTOR_E2_TO_NUCLEAR_INITIATED_ESTROGEN_SIGNALING_PATHWAY</th>\n      <th>KEGG_MEDICUS_ENV_FACTOR_E2_TO_RAS_ERK_SIGNALING_PATHWAY</th>\n      <th>KEGG_MEDICUS_ENV_FACTOR_IRON_TO_ANTEROGRADE_AXONAL_TRANSPORT</th>\n      <th>KEGG_MEDICUS_ENV_FACTOR_METALS_TO_JNK_SIGNALING_PATHWAY</th>\n      <th>KEGG_MEDICUS_ENV_FACTOR_METALS_TO_KEAP1_NRF2_SIGNALIG_PATHWAY</th>\n      <th>...</th>\n      <th>KEGG_MEDICUS_VARIANT_SCRAPIE_CONFORMATION_PRPSC_TO_26S_PROTEASOME_MEDIATED_PROTEIN_DEGRADATION</th>\n      <th>KEGG_MEDICUS_VARIANT_SCRAPIE_CONFORMATION_PRPSC_TO_MGLUR5_CA2_APOPTOTIC_PATHWAY</th>\n      <th>KEGG_MEDICUS_VARIANT_SCRAPIE_CONFORMATION_PRPSC_TO_PERK_ATF4_SIGNALING_PATHWAY</th>\n      <th>KEGG_MEDICUS_VARIANT_SCRAPIE_CONFORMATION_PRPSC_TO_PRNP_PI3K_NOX2_SIGNALING_PATHWAY</th>\n      <th>KEGG_MEDICUS_VARIANT_SCRAPIE_CONFORMATION_PRPSC_TO_TRANSPORT_OF_CALCIUM</th>\n      <th>KEGG_MEDICUS_VARIANT_SCRAPIE_CONFORMATION_PRPSC_TO_VGCC_CA2_APOPTOTIC_PATHWAY</th>\n      <th>KEGG_MEDICUS_VARIANT_TEL_AML1_FUSION_TO_TRANSCRIPTIONAL_REPRESSION</th>\n      <th>KEGG_MEDICUS_VARIANT_TGFA_OVEREXPRESSION_TO_PI3K_SIGNALING_PATHWAY</th>\n      <th>KEGG_MEDICUS_VARIANT_TMPRSS2_ERG_FUSION_TO_TRANSCRIPTIONAL_ACTIVATION</th>\n      <th>KEGG_MEDICUS_VARIANT_TRK_FUSION_KINASE_TO_RAS_ERK_SIGNALING_PATHWAY</th>\n    </tr>\n  </thead>\n  <tbody>\n    <tr>\n      <th>0</th>\n      <td>HL60</td>\n      <td>0.425637</td>\n      <td>4.606237</td>\n      <td>0.205055</td>\n      <td>4.148475</td>\n      <td>1.707722</td>\n      <td>0.015948</td>\n      <td>0.315481</td>\n      <td>1.124515</td>\n      <td>6.174374</td>\n      <td>...</td>\n      <td>1.504917</td>\n      <td>0.315481</td>\n      <td>0.141779</td>\n      <td>0.015948</td>\n      <td>0.425637</td>\n      <td>0.141779</td>\n      <td>4.606237</td>\n      <td>1.951736</td>\n      <td>1.707722</td>\n      <td>0.06607</td>\n    </tr>\n  </tbody>\n</table>\n<p>1 rows × 620 columns</p>\n</div>"
     },
     "execution_count": 2,
     "metadata": {},
     "output_type": "execute_result"
    }
   ],
   "source": [
    "df_cnv = pd.read_csv('../KEGG_data/CNV_Cardinality_analysis_of_variance_Latest_MEDICUS.csv')\n",
    "print(df_cnv.shape)\n",
    "df_cnv.head(1)"
   ],
   "metadata": {
    "collapsed": false,
    "ExecuteTime": {
     "end_time": "2023-11-18T05:59:14.585747500Z",
     "start_time": "2023-11-18T05:59:14.470500500Z"
    }
   },
   "id": "e09be67507a70447"
  },
  {
   "cell_type": "code",
   "execution_count": 3,
   "outputs": [
    {
     "name": "stdout",
     "output_type": "stream",
     "text": [
      "(690, 620)\n"
     ]
    },
    {
     "data": {
      "text/plain": "  cell_line  \\\n0      HL60   \n\n   KEGG_MEDICUS_ENV_FACTOR_ARSENIC_TO_ELECTRON_TRANSFER_IN_COMPLEX_IV  \\\n0                                           0.575758                    \n\n   KEGG_MEDICUS_ENV_FACTOR_BENZO_A_PYRENRE_TO_CYP_MEDIATED_METABOLISM  \\\n0                                          -0.409415                    \n\n   KEGG_MEDICUS_ENV_FACTOR_BPA_TO_RAS_ERK_SIGNALING_PATHWAY  \\\n0                                          -0.485601          \n\n   KEGG_MEDICUS_ENV_FACTOR_DCE_TO_DNA_ADDUCTS  \\\n0                                    0.351762   \n\n   KEGG_MEDICUS_ENV_FACTOR_E2_TO_NUCLEAR_INITIATED_ESTROGEN_SIGNALING_PATHWAY  \\\n0                                          -0.461875                            \n\n   KEGG_MEDICUS_ENV_FACTOR_E2_TO_RAS_ERK_SIGNALING_PATHWAY  \\\n0                                          -0.458775         \n\n   KEGG_MEDICUS_ENV_FACTOR_IRON_TO_ANTEROGRADE_AXONAL_TRANSPORT  \\\n0                                          -0.424431              \n\n   KEGG_MEDICUS_ENV_FACTOR_METALS_TO_JNK_SIGNALING_PATHWAY  \\\n0                                          -0.642085         \n\n   KEGG_MEDICUS_ENV_FACTOR_METALS_TO_KEAP1_NRF2_SIGNALIG_PATHWAY  ...  \\\n0                                          -0.610579              ...   \n\n   KEGG_MEDICUS_VARIANT_SCRAPIE_CONFORMATION_PRPSC_TO_26S_PROTEASOME_MEDIATED_PROTEIN_DEGRADATION  \\\n0                                          -0.300578                                                \n\n   KEGG_MEDICUS_VARIANT_SCRAPIE_CONFORMATION_PRPSC_TO_MGLUR5_CA2_APOPTOTIC_PATHWAY  \\\n0                                          -0.331633                                 \n\n   KEGG_MEDICUS_VARIANT_SCRAPIE_CONFORMATION_PRPSC_TO_PERK_ATF4_SIGNALING_PATHWAY  \\\n0                                          -0.426031                                \n\n   KEGG_MEDICUS_VARIANT_SCRAPIE_CONFORMATION_PRPSC_TO_PRNP_PI3K_NOX2_SIGNALING_PATHWAY  \\\n0                                           0.562916                                     \n\n   KEGG_MEDICUS_VARIANT_SCRAPIE_CONFORMATION_PRPSC_TO_TRANSPORT_OF_CALCIUM  \\\n0                                           -0.26763                         \n\n   KEGG_MEDICUS_VARIANT_SCRAPIE_CONFORMATION_PRPSC_TO_VGCC_CA2_APOPTOTIC_PATHWAY  \\\n0                                          -0.411547                               \n\n   KEGG_MEDICUS_VARIANT_TEL_AML1_FUSION_TO_TRANSCRIPTIONAL_REPRESSION  \\\n0                                           0.471571                    \n\n   KEGG_MEDICUS_VARIANT_TGFA_OVEREXPRESSION_TO_PI3K_SIGNALING_PATHWAY  \\\n0                                           0.316487                    \n\n   KEGG_MEDICUS_VARIANT_TMPRSS2_ERG_FUSION_TO_TRANSCRIPTIONAL_ACTIVATION  \\\n0                                           0.462783                       \n\n   KEGG_MEDICUS_VARIANT_TRK_FUSION_KINASE_TO_RAS_ERK_SIGNALING_PATHWAY  \n0                                          -0.465309                    \n\n[1 rows x 620 columns]",
      "text/html": "<div>\n<style scoped>\n    .dataframe tbody tr th:only-of-type {\n        vertical-align: middle;\n    }\n\n    .dataframe tbody tr th {\n        vertical-align: top;\n    }\n\n    .dataframe thead th {\n        text-align: right;\n    }\n</style>\n<table border=\"1\" class=\"dataframe\">\n  <thead>\n    <tr style=\"text-align: right;\">\n      <th></th>\n      <th>cell_line</th>\n      <th>KEGG_MEDICUS_ENV_FACTOR_ARSENIC_TO_ELECTRON_TRANSFER_IN_COMPLEX_IV</th>\n      <th>KEGG_MEDICUS_ENV_FACTOR_BENZO_A_PYRENRE_TO_CYP_MEDIATED_METABOLISM</th>\n      <th>KEGG_MEDICUS_ENV_FACTOR_BPA_TO_RAS_ERK_SIGNALING_PATHWAY</th>\n      <th>KEGG_MEDICUS_ENV_FACTOR_DCE_TO_DNA_ADDUCTS</th>\n      <th>KEGG_MEDICUS_ENV_FACTOR_E2_TO_NUCLEAR_INITIATED_ESTROGEN_SIGNALING_PATHWAY</th>\n      <th>KEGG_MEDICUS_ENV_FACTOR_E2_TO_RAS_ERK_SIGNALING_PATHWAY</th>\n      <th>KEGG_MEDICUS_ENV_FACTOR_IRON_TO_ANTEROGRADE_AXONAL_TRANSPORT</th>\n      <th>KEGG_MEDICUS_ENV_FACTOR_METALS_TO_JNK_SIGNALING_PATHWAY</th>\n      <th>KEGG_MEDICUS_ENV_FACTOR_METALS_TO_KEAP1_NRF2_SIGNALIG_PATHWAY</th>\n      <th>...</th>\n      <th>KEGG_MEDICUS_VARIANT_SCRAPIE_CONFORMATION_PRPSC_TO_26S_PROTEASOME_MEDIATED_PROTEIN_DEGRADATION</th>\n      <th>KEGG_MEDICUS_VARIANT_SCRAPIE_CONFORMATION_PRPSC_TO_MGLUR5_CA2_APOPTOTIC_PATHWAY</th>\n      <th>KEGG_MEDICUS_VARIANT_SCRAPIE_CONFORMATION_PRPSC_TO_PERK_ATF4_SIGNALING_PATHWAY</th>\n      <th>KEGG_MEDICUS_VARIANT_SCRAPIE_CONFORMATION_PRPSC_TO_PRNP_PI3K_NOX2_SIGNALING_PATHWAY</th>\n      <th>KEGG_MEDICUS_VARIANT_SCRAPIE_CONFORMATION_PRPSC_TO_TRANSPORT_OF_CALCIUM</th>\n      <th>KEGG_MEDICUS_VARIANT_SCRAPIE_CONFORMATION_PRPSC_TO_VGCC_CA2_APOPTOTIC_PATHWAY</th>\n      <th>KEGG_MEDICUS_VARIANT_TEL_AML1_FUSION_TO_TRANSCRIPTIONAL_REPRESSION</th>\n      <th>KEGG_MEDICUS_VARIANT_TGFA_OVEREXPRESSION_TO_PI3K_SIGNALING_PATHWAY</th>\n      <th>KEGG_MEDICUS_VARIANT_TMPRSS2_ERG_FUSION_TO_TRANSCRIPTIONAL_ACTIVATION</th>\n      <th>KEGG_MEDICUS_VARIANT_TRK_FUSION_KINASE_TO_RAS_ERK_SIGNALING_PATHWAY</th>\n    </tr>\n  </thead>\n  <tbody>\n    <tr>\n      <th>0</th>\n      <td>HL60</td>\n      <td>0.575758</td>\n      <td>-0.409415</td>\n      <td>-0.485601</td>\n      <td>0.351762</td>\n      <td>-0.461875</td>\n      <td>-0.458775</td>\n      <td>-0.424431</td>\n      <td>-0.642085</td>\n      <td>-0.610579</td>\n      <td>...</td>\n      <td>-0.300578</td>\n      <td>-0.331633</td>\n      <td>-0.426031</td>\n      <td>0.562916</td>\n      <td>-0.26763</td>\n      <td>-0.411547</td>\n      <td>0.471571</td>\n      <td>0.316487</td>\n      <td>0.462783</td>\n      <td>-0.465309</td>\n    </tr>\n  </tbody>\n</table>\n<p>1 rows × 620 columns</p>\n</div>"
     },
     "execution_count": 3,
     "metadata": {},
     "output_type": "execute_result"
    }
   ],
   "source": [
    "df_exp = pd.read_csv('../KEGG_data/OmicsExpressionProteinCodingGenesTPMLogp1-23Q2_Only_MEDICUS_GSVA.csv')\n",
    "print(df_exp.shape)\n",
    "df_exp.head(1)"
   ],
   "metadata": {
    "collapsed": false,
    "ExecuteTime": {
     "end_time": "2023-11-18T05:59:18.948997700Z",
     "start_time": "2023-11-18T05:59:18.815462800Z"
    }
   },
   "id": "60cc4b08f49e414a"
  },
  {
   "cell_type": "code",
   "execution_count": 5,
   "outputs": [
    {
     "name": "stdout",
     "output_type": "stream",
     "text": [
      "(932, 620)\n"
     ]
    },
    {
     "data": {
      "text/plain": "  cell_line  \\\n0      HL60   \n\n   KEGG_MEDICUS_ENV_FACTOR_ARSENIC_TO_ELECTRON_TRANSFER_IN_COMPLEX_IV  \\\n0                                           0.038782                    \n\n   KEGG_MEDICUS_ENV_FACTOR_BENZO_A_PYRENRE_TO_CYP_MEDIATED_METABOLISM  \\\n0                                           6.802613                    \n\n   KEGG_MEDICUS_ENV_FACTOR_BPA_TO_RAS_ERK_SIGNALING_PATHWAY  \\\n0                                           0.026659          \n\n   KEGG_MEDICUS_ENV_FACTOR_DCE_TO_DNA_ADDUCTS  \\\n0                                    0.036357   \n\n   KEGG_MEDICUS_ENV_FACTOR_E2_TO_NUCLEAR_INITIATED_ESTROGEN_SIGNALING_PATHWAY  \\\n0                                           0.016963                            \n\n   KEGG_MEDICUS_ENV_FACTOR_E2_TO_RAS_ERK_SIGNALING_PATHWAY  \\\n0                                           0.033933         \n\n   KEGG_MEDICUS_ENV_FACTOR_IRON_TO_ANTEROGRADE_AXONAL_TRANSPORT  \\\n0                                           0.036357              \n\n   KEGG_MEDICUS_ENV_FACTOR_METALS_TO_JNK_SIGNALING_PATHWAY  \\\n0                                           0.016963         \n\n   KEGG_MEDICUS_ENV_FACTOR_METALS_TO_KEAP1_NRF2_SIGNALIG_PATHWAY  ...  \\\n0                                           0.019387              ...   \n\n   KEGG_MEDICUS_VARIANT_SCRAPIE_CONFORMATION_PRPSC_TO_26S_PROTEASOME_MEDIATED_PROTEIN_DEGRADATION  \\\n0                                           0.080028                                                \n\n   KEGG_MEDICUS_VARIANT_SCRAPIE_CONFORMATION_PRPSC_TO_MGLUR5_CA2_APOPTOTIC_PATHWAY  \\\n0                                           0.043633                                 \n\n   KEGG_MEDICUS_VARIANT_SCRAPIE_CONFORMATION_PRPSC_TO_PERK_ATF4_SIGNALING_PATHWAY  \\\n0                                           0.014539                                \n\n   KEGG_MEDICUS_VARIANT_SCRAPIE_CONFORMATION_PRPSC_TO_PRNP_PI3K_NOX2_SIGNALING_PATHWAY  \\\n0                                           0.029083                                     \n\n   KEGG_MEDICUS_VARIANT_SCRAPIE_CONFORMATION_PRPSC_TO_TRANSPORT_OF_CALCIUM  \\\n0                                           0.041207                         \n\n   KEGG_MEDICUS_VARIANT_SCRAPIE_CONFORMATION_PRPSC_TO_VGCC_CA2_APOPTOTIC_PATHWAY  \\\n0                                           0.014539                               \n\n   KEGG_MEDICUS_VARIANT_TEL_AML1_FUSION_TO_TRANSCRIPTIONAL_REPRESSION  \\\n0                                           0.019387                    \n\n   KEGG_MEDICUS_VARIANT_TGFA_OVEREXPRESSION_TO_PI3K_SIGNALING_PATHWAY  \\\n0                                           0.019387                    \n\n   KEGG_MEDICUS_VARIANT_TMPRSS2_ERG_FUSION_TO_TRANSCRIPTIONAL_ACTIVATION  \\\n0                                           0.016963                       \n\n   KEGG_MEDICUS_VARIANT_TRK_FUSION_KINASE_TO_RAS_ERK_SIGNALING_PATHWAY  \n0                                           0.021811                    \n\n[1 rows x 620 columns]",
      "text/html": "<div>\n<style scoped>\n    .dataframe tbody tr th:only-of-type {\n        vertical-align: middle;\n    }\n\n    .dataframe tbody tr th {\n        vertical-align: top;\n    }\n\n    .dataframe thead th {\n        text-align: right;\n    }\n</style>\n<table border=\"1\" class=\"dataframe\">\n  <thead>\n    <tr style=\"text-align: right;\">\n      <th></th>\n      <th>cell_line</th>\n      <th>KEGG_MEDICUS_ENV_FACTOR_ARSENIC_TO_ELECTRON_TRANSFER_IN_COMPLEX_IV</th>\n      <th>KEGG_MEDICUS_ENV_FACTOR_BENZO_A_PYRENRE_TO_CYP_MEDIATED_METABOLISM</th>\n      <th>KEGG_MEDICUS_ENV_FACTOR_BPA_TO_RAS_ERK_SIGNALING_PATHWAY</th>\n      <th>KEGG_MEDICUS_ENV_FACTOR_DCE_TO_DNA_ADDUCTS</th>\n      <th>KEGG_MEDICUS_ENV_FACTOR_E2_TO_NUCLEAR_INITIATED_ESTROGEN_SIGNALING_PATHWAY</th>\n      <th>KEGG_MEDICUS_ENV_FACTOR_E2_TO_RAS_ERK_SIGNALING_PATHWAY</th>\n      <th>KEGG_MEDICUS_ENV_FACTOR_IRON_TO_ANTEROGRADE_AXONAL_TRANSPORT</th>\n      <th>KEGG_MEDICUS_ENV_FACTOR_METALS_TO_JNK_SIGNALING_PATHWAY</th>\n      <th>KEGG_MEDICUS_ENV_FACTOR_METALS_TO_KEAP1_NRF2_SIGNALIG_PATHWAY</th>\n      <th>...</th>\n      <th>KEGG_MEDICUS_VARIANT_SCRAPIE_CONFORMATION_PRPSC_TO_26S_PROTEASOME_MEDIATED_PROTEIN_DEGRADATION</th>\n      <th>KEGG_MEDICUS_VARIANT_SCRAPIE_CONFORMATION_PRPSC_TO_MGLUR5_CA2_APOPTOTIC_PATHWAY</th>\n      <th>KEGG_MEDICUS_VARIANT_SCRAPIE_CONFORMATION_PRPSC_TO_PERK_ATF4_SIGNALING_PATHWAY</th>\n      <th>KEGG_MEDICUS_VARIANT_SCRAPIE_CONFORMATION_PRPSC_TO_PRNP_PI3K_NOX2_SIGNALING_PATHWAY</th>\n      <th>KEGG_MEDICUS_VARIANT_SCRAPIE_CONFORMATION_PRPSC_TO_TRANSPORT_OF_CALCIUM</th>\n      <th>KEGG_MEDICUS_VARIANT_SCRAPIE_CONFORMATION_PRPSC_TO_VGCC_CA2_APOPTOTIC_PATHWAY</th>\n      <th>KEGG_MEDICUS_VARIANT_TEL_AML1_FUSION_TO_TRANSCRIPTIONAL_REPRESSION</th>\n      <th>KEGG_MEDICUS_VARIANT_TGFA_OVEREXPRESSION_TO_PI3K_SIGNALING_PATHWAY</th>\n      <th>KEGG_MEDICUS_VARIANT_TMPRSS2_ERG_FUSION_TO_TRANSCRIPTIONAL_ACTIVATION</th>\n      <th>KEGG_MEDICUS_VARIANT_TRK_FUSION_KINASE_TO_RAS_ERK_SIGNALING_PATHWAY</th>\n    </tr>\n  </thead>\n  <tbody>\n    <tr>\n      <th>0</th>\n      <td>HL60</td>\n      <td>0.038782</td>\n      <td>6.802613</td>\n      <td>0.026659</td>\n      <td>0.036357</td>\n      <td>0.016963</td>\n      <td>0.033933</td>\n      <td>0.036357</td>\n      <td>0.016963</td>\n      <td>0.019387</td>\n      <td>...</td>\n      <td>0.080028</td>\n      <td>0.043633</td>\n      <td>0.014539</td>\n      <td>0.029083</td>\n      <td>0.041207</td>\n      <td>0.014539</td>\n      <td>0.019387</td>\n      <td>0.019387</td>\n      <td>0.016963</td>\n      <td>0.021811</td>\n    </tr>\n  </tbody>\n</table>\n<p>1 rows × 620 columns</p>\n</div>"
     },
     "execution_count": 5,
     "metadata": {},
     "output_type": "execute_result"
    }
   ],
   "source": [
    "df_mut = pd.read_csv('../KEGG_data/MUT_cardinality_analysis_of_variance_Only_MEDICUS.csv')\n",
    "print(df_mut.shape)\n",
    "df_mut.head(1)"
   ],
   "metadata": {
    "collapsed": false,
    "ExecuteTime": {
     "end_time": "2023-11-18T05:59:27.998867800Z",
     "start_time": "2023-11-18T05:59:27.905628400Z"
    }
   },
   "id": "4464cfde7657840"
  },
  {
   "cell_type": "code",
   "execution_count": 7,
   "outputs": [],
   "source": [
    "# 取出三种组学数据的cell_line列\n",
    "cell_line_cnv = df_cnv['cell_line']\n",
    "cell_line_exp = df_exp['cell_line']\n",
    "cell_line_mut = df_mut['cell_line']"
   ],
   "metadata": {
    "collapsed": false,
    "ExecuteTime": {
     "end_time": "2023-11-18T05:59:35.238468700Z",
     "start_time": "2023-11-18T05:59:35.211095700Z"
    }
   },
   "id": "9aabe3f1ecb92a6b"
  },
  {
   "cell_type": "code",
   "execution_count": 8,
   "outputs": [
    {
     "name": "stdout",
     "output_type": "stream",
     "text": [
      "690\n",
      "933\n",
      "932\n"
     ]
    }
   ],
   "source": [
    "# 检查cell_line_exp和cell_line_cnv的交集\n",
    "cell_line_exp_set = set(cell_line_exp)\n",
    "cell_line_cnv_set = set(cell_line_cnv)\n",
    "cell_line_mut_set = set(cell_line_mut)\n",
    "print(len(cell_line_exp_set))\n",
    "print(len(cell_line_cnv_set))\n",
    "print(len(cell_line_mut_set))"
   ],
   "metadata": {
    "collapsed": false,
    "ExecuteTime": {
     "end_time": "2023-11-18T05:59:35.805585900Z",
     "start_time": "2023-11-18T05:59:35.790784600Z"
    }
   },
   "id": "60fdecd97a73618"
  },
  {
   "cell_type": "code",
   "execution_count": 9,
   "outputs": [],
   "source": [
    "# 检查cell_line_exp和cell_line_cnv的交集\n",
    "cell_line_exp_cnv = cell_line_exp_set.intersection(cell_line_cnv_set)\n",
    "cell_line_exp_mut = cell_line_exp_set.intersection(cell_line_mut_set)\n"
   ],
   "metadata": {
    "collapsed": false,
    "ExecuteTime": {
     "end_time": "2023-11-18T05:59:36.737996500Z",
     "start_time": "2023-11-18T05:59:36.715639100Z"
    }
   },
   "id": "6d88f0893b4c67d0"
  },
  {
   "cell_type": "code",
   "execution_count": 10,
   "outputs": [
    {
     "name": "stdout",
     "output_type": "stream",
     "text": [
      "689\n",
      "689\n"
     ]
    }
   ],
   "source": [
    "print(len(cell_line_exp_cnv))\n",
    "print(len(cell_line_exp_mut))"
   ],
   "metadata": {
    "collapsed": false,
    "ExecuteTime": {
     "end_time": "2023-11-18T05:59:39.535941400Z",
     "start_time": "2023-11-18T05:59:39.515729600Z"
    }
   },
   "id": "bb77b841f9483dad"
  },
  {
   "cell_type": "code",
   "execution_count": 11,
   "outputs": [
    {
     "name": "stdout",
     "output_type": "stream",
     "text": [
      "exp存在细胞系但CNV不存在的细胞系 {'OAW28'}\n"
     ]
    }
   ],
   "source": [
    "# 找出df_exp中不在df_cnv中的cell_line\n",
    "cell_line_exp_not_in_cnv = cell_line_exp_set.difference(cell_line_cnv_set)\n",
    "print('exp存在细胞系但CNV不存在的细胞系',cell_line_exp_not_in_cnv)"
   ],
   "metadata": {
    "collapsed": false,
    "ExecuteTime": {
     "end_time": "2023-11-18T05:59:40.865866400Z",
     "start_time": "2023-11-18T05:59:40.846358600Z"
    }
   },
   "id": "b816fcfd84676196"
  },
  {
   "cell_type": "code",
   "execution_count": 12,
   "outputs": [
    {
     "name": "stdout",
     "output_type": "stream",
     "text": [
      "exp存在细胞系但MUT不存在的细胞系 {'WSUNHL'}\n"
     ]
    }
   ],
   "source": [
    "# 找出df_exp中不在df_mut中的cell_line\n",
    "cell_line_exp_not_in_mut = cell_line_exp_set.difference(cell_line_mut_set)\n",
    "print('exp存在细胞系但MUT不存在的细胞系',cell_line_exp_not_in_mut)"
   ],
   "metadata": {
    "collapsed": false,
    "ExecuteTime": {
     "end_time": "2023-11-18T05:59:41.585373800Z",
     "start_time": "2023-11-18T05:59:41.565612100Z"
    }
   },
   "id": "d6b09511bd269485"
  },
  {
   "cell_type": "code",
   "execution_count": 13,
   "outputs": [
    {
     "name": "stdout",
     "output_type": "stream",
     "text": [
      "(229608, 4)\n"
     ]
    },
    {
     "data": {
      "text/plain": "      ModelID    drug cell_line      IC50\n0  ACH-000002  123138      HL60  2.397135",
      "text/html": "<div>\n<style scoped>\n    .dataframe tbody tr th:only-of-type {\n        vertical-align: middle;\n    }\n\n    .dataframe tbody tr th {\n        vertical-align: top;\n    }\n\n    .dataframe thead th {\n        text-align: right;\n    }\n</style>\n<table border=\"1\" class=\"dataframe\">\n  <thead>\n    <tr style=\"text-align: right;\">\n      <th></th>\n      <th>ModelID</th>\n      <th>drug</th>\n      <th>cell_line</th>\n      <th>IC50</th>\n    </tr>\n  </thead>\n  <tbody>\n    <tr>\n      <th>0</th>\n      <td>ACH-000002</td>\n      <td>123138</td>\n      <td>HL60</td>\n      <td>2.397135</td>\n    </tr>\n  </tbody>\n</table>\n</div>"
     },
     "execution_count": 13,
     "metadata": {},
     "output_type": "execute_result"
    }
   ],
   "source": [
    "# 读取药物敏感性数据\n",
    "df_drug_sensitivity = pd.read_csv('../data/drug_sensitivity_duplicates_mean.csv')\n",
    "print(df_drug_sensitivity.shape)\n",
    "df_drug_sensitivity.head(1)"
   ],
   "metadata": {
    "collapsed": false,
    "ExecuteTime": {
     "end_time": "2023-11-18T05:59:42.635633Z",
     "start_time": "2023-11-18T05:59:42.537444600Z"
    }
   },
   "id": "acf8b18c219895cd"
  },
  {
   "cell_type": "code",
   "execution_count": 14,
   "outputs": [],
   "source": [
    "# 去除df_drug_sensitivity中的cell_line列中cell_line_exp_not_in_cnv和cell_line_exp_not_in_mut的行\n",
    "df_drug_sensitivity = df_drug_sensitivity[~df_drug_sensitivity['cell_line'].isin(cell_line_exp_not_in_cnv)]\n"
   ],
   "metadata": {
    "collapsed": false,
    "ExecuteTime": {
     "end_time": "2023-11-18T05:59:43.850462300Z",
     "start_time": "2023-11-18T05:59:43.815880900Z"
    }
   },
   "id": "cd8dd51b036e5be3"
  },
  {
   "cell_type": "code",
   "execution_count": 15,
   "outputs": [],
   "source": [
    "df_drug_sensitivity = df_drug_sensitivity[~df_drug_sensitivity['cell_line'].isin(cell_line_exp_not_in_mut)]"
   ],
   "metadata": {
    "collapsed": false,
    "ExecuteTime": {
     "end_time": "2023-11-18T05:59:44.795620500Z",
     "start_time": "2023-11-18T05:59:44.765545400Z"
    }
   },
   "id": "c64072028d4c442c"
  },
  {
   "cell_type": "code",
   "execution_count": 16,
   "outputs": [
    {
     "data": {
      "text/plain": "(229087, 4)"
     },
     "execution_count": 16,
     "metadata": {},
     "output_type": "execute_result"
    }
   ],
   "source": [
    "df_drug_sensitivity.shape"
   ],
   "metadata": {
    "collapsed": false,
    "ExecuteTime": {
     "end_time": "2023-11-18T05:59:45.298899300Z",
     "start_time": "2023-11-18T05:59:45.280806700Z"
    }
   },
   "id": "72481d158383d6d2"
  },
  {
   "cell_type": "code",
   "execution_count": 17,
   "outputs": [],
   "source": [
    "# 将df_exp中的cell_line列中cell_line_exp_not_in_cnv和cell_line_exp_not_in_mut的行去除\n",
    "df_exp = df_exp[~df_exp['cell_line'].isin(cell_line_exp_not_in_cnv)]\n",
    "df_exp = df_exp[~df_exp['cell_line'].isin(cell_line_exp_not_in_mut)]"
   ],
   "metadata": {
    "collapsed": false,
    "ExecuteTime": {
     "end_time": "2023-11-18T05:59:45.851407800Z",
     "start_time": "2023-11-18T05:59:45.822307500Z"
    }
   },
   "id": "929964c967a8cf89"
  },
  {
   "cell_type": "code",
   "execution_count": 18,
   "outputs": [
    {
     "data": {
      "text/plain": "(688, 620)"
     },
     "execution_count": 18,
     "metadata": {},
     "output_type": "execute_result"
    }
   ],
   "source": [
    "df_exp.shape"
   ],
   "metadata": {
    "collapsed": false,
    "ExecuteTime": {
     "end_time": "2023-11-18T05:59:46.915764200Z",
     "start_time": "2023-11-18T05:59:46.890515600Z"
    }
   },
   "id": "7ebeb55a5d534831"
  },
  {
   "cell_type": "code",
   "execution_count": 19,
   "outputs": [],
   "source": [
    "exp_filtered_cell_lines = set(df_exp['cell_line'])"
   ],
   "metadata": {
    "collapsed": false,
    "ExecuteTime": {
     "end_time": "2023-11-18T05:59:48.399851500Z",
     "start_time": "2023-11-18T05:59:48.383952400Z"
    }
   },
   "id": "8de02f0eb41ccae5"
  },
  {
   "cell_type": "code",
   "execution_count": 20,
   "outputs": [
    {
     "name": "stdout",
     "output_type": "stream",
     "text": [
      "(688, 620)\n",
      "(688, 620)\n"
     ]
    }
   ],
   "source": [
    "# 将df_cnv和df_mut中的数据，只保留df_exp中cell_line列中的细胞系\n",
    "df_cnv = df_cnv[df_cnv['cell_line'].isin(exp_filtered_cell_lines)]\n",
    "print(df_cnv.shape)\n",
    "df_mut = df_mut[df_mut['cell_line'].isin(exp_filtered_cell_lines)]\n",
    "print(df_mut.shape)"
   ],
   "metadata": {
    "collapsed": false,
    "ExecuteTime": {
     "end_time": "2023-11-18T05:59:49.536920700Z",
     "start_time": "2023-11-18T05:59:49.485855500Z"
    }
   },
   "id": "9f2268d2a846f07f"
  },
  {
   "cell_type": "markdown",
   "source": [
    "# 合并三种组学数据"
   ],
   "metadata": {
    "collapsed": false
   },
   "id": "f58f6cbb78d8154c"
  },
  {
   "cell_type": "code",
   "execution_count": 21,
   "outputs": [],
   "source": [
    "# 让df_exp的cell_line列设置为index\n",
    "df_exp = df_exp.set_index('cell_line')"
   ],
   "metadata": {
    "collapsed": false,
    "ExecuteTime": {
     "end_time": "2023-11-18T05:59:52.315714200Z",
     "start_time": "2023-11-18T05:59:52.298159600Z"
    }
   },
   "id": "fa58a6613df6b7cd"
  },
  {
   "cell_type": "code",
   "execution_count": 22,
   "outputs": [],
   "source": [
    "#将df_exp的每一个columns名字前加上gep_\n",
    "df_exp = df_exp.add_prefix('GEP_')"
   ],
   "metadata": {
    "collapsed": false,
    "ExecuteTime": {
     "end_time": "2023-11-18T05:59:53.065842900Z",
     "start_time": "2023-11-18T05:59:53.035613400Z"
    }
   },
   "id": "5b892572170e67ae"
  },
  {
   "cell_type": "code",
   "execution_count": 23,
   "outputs": [],
   "source": [
    "# 让df_cnv的cell_line列设置为index\n",
    "df_cnv = df_cnv.set_index('cell_line')"
   ],
   "metadata": {
    "collapsed": false,
    "ExecuteTime": {
     "end_time": "2023-11-18T05:59:53.575577600Z",
     "start_time": "2023-11-18T05:59:53.549367800Z"
    }
   },
   "id": "7bb1a3450d98249c"
  },
  {
   "cell_type": "code",
   "execution_count": 24,
   "outputs": [],
   "source": [
    "#将df_cnv的每一个columns名字前加上CNV_\n",
    "df_cnv = df_cnv.add_prefix('CNV_')"
   ],
   "metadata": {
    "collapsed": false,
    "ExecuteTime": {
     "end_time": "2023-11-18T05:59:54.055627300Z",
     "start_time": "2023-11-18T05:59:54.025681Z"
    }
   },
   "id": "7d0a1aea73d7267c"
  },
  {
   "cell_type": "code",
   "execution_count": 25,
   "outputs": [],
   "source": [
    "# 让df_mut的cell_line列设置为index\n",
    "df_mut = df_mut.set_index('cell_line')"
   ],
   "metadata": {
    "collapsed": false,
    "ExecuteTime": {
     "end_time": "2023-11-18T05:59:54.935667300Z",
     "start_time": "2023-11-18T05:59:54.905596400Z"
    }
   },
   "id": "e8b442e1fe0ece06"
  },
  {
   "cell_type": "code",
   "execution_count": 26,
   "outputs": [],
   "source": [
    "#将df_mut的每一个columns名字前加上MUT_\n",
    "df_mut = df_mut.add_prefix('MUT_')"
   ],
   "metadata": {
    "collapsed": false,
    "ExecuteTime": {
     "end_time": "2023-11-18T05:59:55.475542400Z",
     "start_time": "2023-11-18T05:59:55.462031700Z"
    }
   },
   "id": "c4db9d5d4d57a9ec"
  },
  {
   "cell_type": "code",
   "execution_count": 27,
   "outputs": [
    {
     "name": "stdout",
     "output_type": "stream",
     "text": [
      "(688, 1857)\n"
     ]
    }
   ],
   "source": [
    "# 合并df_exp、df_cnv和df_mut，根据index合并\n",
    "df = pd.concat([df_exp,df_cnv,df_mut],axis=1)\n",
    "print(df.shape)"
   ],
   "metadata": {
    "collapsed": false,
    "ExecuteTime": {
     "end_time": "2023-11-18T05:59:56.115317600Z",
     "start_time": "2023-11-18T05:59:56.095675300Z"
    }
   },
   "id": "e22cc9ae85a90787"
  },
  {
   "cell_type": "code",
   "execution_count": 28,
   "outputs": [],
   "source": [
    "# 获取df的columns\n",
    "df_columns = df.columns.values.tolist()"
   ],
   "metadata": {
    "collapsed": false,
    "ExecuteTime": {
     "end_time": "2023-11-18T05:59:57.815574100Z",
     "start_time": "2023-11-18T05:59:57.805586900Z"
    }
   },
   "id": "1adaf6db667dc6a2"
  },
  {
   "cell_type": "code",
   "execution_count": 45,
   "outputs": [],
   "source": [
    "import pickle\n",
    "\n",
    "# 将df_pathways写入pkl文件\n",
    "with open('../KEGG_data/MEDICUS_Omic_1857_pathways.pkl', 'wb') as f:\n",
    "    pickle.dump(df_columns, f)"
   ],
   "metadata": {
    "collapsed": false,
    "ExecuteTime": {
     "end_time": "2023-11-03T06:28:06.661541600Z",
     "start_time": "2023-11-03T06:28:06.630169100Z"
    }
   },
   "id": "dbe5ede91e902df0"
  },
  {
   "cell_type": "code",
   "execution_count": 29,
   "outputs": [],
   "source": [
    "# 导出df\n",
    "df.to_csv('../KEGG_data/Omics_GEP_CNV(Cardinality_Analysis)_MUT_MEDICUS.csv')"
   ],
   "metadata": {
    "collapsed": false,
    "ExecuteTime": {
     "end_time": "2023-11-18T06:00:37.327052400Z",
     "start_time": "2023-11-18T06:00:36.367842600Z"
    }
   },
   "id": "669987624136606a"
  },
  {
   "cell_type": "code",
   "execution_count": 22,
   "outputs": [],
   "source": [
    "# 导出df_cnv\n",
    "df_cnv.to_csv('../PlanG/data/CNV_Internal_External_analysis_C2_KEGG.csv',index=True)"
   ],
   "metadata": {
    "collapsed": false,
    "ExecuteTime": {
     "end_time": "2023-11-03T15:45:19.286859100Z",
     "start_time": "2023-11-03T15:45:19.166232100Z"
    }
   },
   "id": "9b3a4962c95afc53"
  },
  {
   "cell_type": "code",
   "execution_count": 23,
   "outputs": [],
   "source": [
    "# 导出df_mut\n",
    "df_mut.to_csv('../PlanG/data/MUT_cardinality_analysis_of_variance_C2_KEGG.csv',index=True)"
   ],
   "metadata": {
    "collapsed": false,
    "ExecuteTime": {
     "end_time": "2023-11-03T15:45:20.679099Z",
     "start_time": "2023-11-03T15:45:20.580845200Z"
    }
   },
   "id": "c48a73ccf876c0c4"
  },
  {
   "cell_type": "code",
   "execution_count": 24,
   "outputs": [],
   "source": [
    "# 导出df_exp\n",
    "df_exp.to_csv('../PlanG/data/OmicsExpressionProteinCodingGenesTPMLogp1-23Q2_KEGG_GSVA.csv',index=True)"
   ],
   "metadata": {
    "collapsed": false,
    "ExecuteTime": {
     "end_time": "2023-11-03T15:45:21.914268700Z",
     "start_time": "2023-11-03T15:45:21.791021300Z"
    }
   },
   "id": "6839358c5772c504"
  },
  {
   "cell_type": "code",
   "execution_count": 30,
   "outputs": [],
   "source": [
    "# 导出df_drug_sensitivity\n",
    "df_drug_sensitivity.to_csv('../data/drug_sensitivity_duplicates_mean_dropTwoCells.csv',index=False)"
   ],
   "metadata": {
    "collapsed": false,
    "ExecuteTime": {
     "end_time": "2023-10-20T12:37:31.443012300Z",
     "start_time": "2023-10-20T12:37:30.634891Z"
    }
   },
   "id": "bef8bd371b4e14ef"
  },
  {
   "cell_type": "markdown",
   "source": [
    "## 这样就保证了基因表达数据、拷贝数变异数据、突变数据和药物敏感性数据的细胞系一致性"
   ],
   "metadata": {
    "collapsed": false
   },
   "id": "3c23ce78fd41a8cc"
  }
 ],
 "metadata": {
  "kernelspec": {
   "display_name": "Python 3",
   "language": "python",
   "name": "python3"
  },
  "language_info": {
   "codemirror_mode": {
    "name": "ipython",
    "version": 2
   },
   "file_extension": ".py",
   "mimetype": "text/x-python",
   "name": "python",
   "nbconvert_exporter": "python",
   "pygments_lexer": "ipython2",
   "version": "2.7.6"
  }
 },
 "nbformat": 4,
 "nbformat_minor": 5
}
