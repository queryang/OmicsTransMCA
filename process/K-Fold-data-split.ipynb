{
 "cells": [
  {
   "cell_type": "code",
   "execution_count": 1,
   "id": "a058a303ab3f92fe",
   "metadata": {
    "collapsed": false,
    "ExecuteTime": {
     "end_time": "2024-03-01T08:25:34.888970Z",
     "start_time": "2024-03-01T08:25:31.522647Z"
    }
   },
   "outputs": [],
   "source": [
    "import pandas as pd\n",
    "from sklearn.model_selection import KFold"
   ]
  },
  {
   "cell_type": "code",
   "outputs": [
    {
     "data": {
      "text/plain": "             drug cell_line      IC50\n0  5-Fluorouracil      PC14  4.138791\n1   5-azacytidine      PC14  2.782368\n2           A-366      PC14  4.651003\n3          ABT737      PC14  2.341568\n4        AGI-5198      PC14  5.232588",
      "text/html": "<div>\n<style scoped>\n    .dataframe tbody tr th:only-of-type {\n        vertical-align: middle;\n    }\n\n    .dataframe tbody tr th {\n        vertical-align: top;\n    }\n\n    .dataframe thead th {\n        text-align: right;\n    }\n</style>\n<table border=\"1\" class=\"dataframe\">\n  <thead>\n    <tr style=\"text-align: right;\">\n      <th></th>\n      <th>drug</th>\n      <th>cell_line</th>\n      <th>IC50</th>\n    </tr>\n  </thead>\n  <tbody>\n    <tr>\n      <th>0</th>\n      <td>5-Fluorouracil</td>\n      <td>PC14</td>\n      <td>4.138791</td>\n    </tr>\n    <tr>\n      <th>1</th>\n      <td>5-azacytidine</td>\n      <td>PC14</td>\n      <td>2.782368</td>\n    </tr>\n    <tr>\n      <th>2</th>\n      <td>A-366</td>\n      <td>PC14</td>\n      <td>4.651003</td>\n    </tr>\n    <tr>\n      <th>3</th>\n      <td>ABT737</td>\n      <td>PC14</td>\n      <td>2.341568</td>\n    </tr>\n    <tr>\n      <th>4</th>\n      <td>AGI-5198</td>\n      <td>PC14</td>\n      <td>5.232588</td>\n    </tr>\n  </tbody>\n</table>\n</div>"
     },
     "execution_count": 2,
     "metadata": {},
     "output_type": "execute_result"
    }
   ],
   "source": [
    "df_temp = pd.read_csv('../model_omics_experiment/data/drug_sensitivity_CellBlind_test.csv',index_col=0)\n",
    "df_temp.head()"
   ],
   "metadata": {
    "collapsed": false,
    "ExecuteTime": {
     "end_time": "2024-03-01T08:25:34.921521Z",
     "start_time": "2024-03-01T08:25:34.890032Z"
    }
   },
   "id": "18998ef6edcebe09",
   "execution_count": 2
  },
  {
   "cell_type": "code",
   "outputs": [
    {
     "name": "stdout",
     "output_type": "stream",
     "text": [
      "(141222, 3)\n"
     ]
    },
    {
     "data": {
      "text/plain": "             drug cell_line      IC50\n0  5-Fluorouracil      HL60  2.558926\n1   5-azacytidine      HL60  0.917132\n2           A-366      HL60  4.836160\n3          ABT737      HL60 -2.817798\n4        AGI-5198      HL60  3.644734",
      "text/html": "<div>\n<style scoped>\n    .dataframe tbody tr th:only-of-type {\n        vertical-align: middle;\n    }\n\n    .dataframe tbody tr th {\n        vertical-align: top;\n    }\n\n    .dataframe thead th {\n        text-align: right;\n    }\n</style>\n<table border=\"1\" class=\"dataframe\">\n  <thead>\n    <tr style=\"text-align: right;\">\n      <th></th>\n      <th>drug</th>\n      <th>cell_line</th>\n      <th>IC50</th>\n    </tr>\n  </thead>\n  <tbody>\n    <tr>\n      <th>0</th>\n      <td>5-Fluorouracil</td>\n      <td>HL60</td>\n      <td>2.558926</td>\n    </tr>\n    <tr>\n      <th>1</th>\n      <td>5-azacytidine</td>\n      <td>HL60</td>\n      <td>0.917132</td>\n    </tr>\n    <tr>\n      <th>2</th>\n      <td>A-366</td>\n      <td>HL60</td>\n      <td>4.836160</td>\n    </tr>\n    <tr>\n      <th>3</th>\n      <td>ABT737</td>\n      <td>HL60</td>\n      <td>-2.817798</td>\n    </tr>\n    <tr>\n      <th>4</th>\n      <td>AGI-5198</td>\n      <td>HL60</td>\n      <td>3.644734</td>\n    </tr>\n  </tbody>\n</table>\n</div>"
     },
     "execution_count": 3,
     "metadata": {},
     "output_type": "execute_result"
    }
   ],
   "source": [
    "# 读取数据\n",
    "df = pd.read_csv('../data/drug_sensitivity.csv') \n",
    "print(df.shape)\n",
    "df.head()"
   ],
   "metadata": {
    "collapsed": false,
    "ExecuteTime": {
     "end_time": "2024-03-01T08:25:34.975653Z",
     "start_time": "2024-03-01T08:25:34.922526Z"
    }
   },
   "id": "6da4b4d753c4adb1",
   "execution_count": 3
  },
  {
   "cell_type": "code",
   "outputs": [
    {
     "name": "stdout",
     "output_type": "stream",
     "text": [
      "(128137, 3) (13085, 3)\n",
      "(128166, 3) (13056, 3)\n",
      "(128198, 3) (13024, 3)\n",
      "(128236, 3) (12986, 3)\n",
      "(128300, 3) (12922, 3)\n",
      "(128308, 3) (12914, 3)\n",
      "(128324, 3) (12898, 3)\n",
      "(128379, 3) (12843, 3)\n",
      "(128601, 3) (12621, 3)\n",
      "(128763, 3) (12459, 3)\n",
      "(128808, 3) (12414, 3)\n"
     ]
    }
   ],
   "source": [
    "# Mixed Set分割策略\n",
    "# 根据cell_line分组\n",
    "grouped = df.groupby('cell_line')\n",
    "min_group_size = min(grouped.size())\n",
    "# 设置交叉验证折数 \n",
    "n_splits = 11\n",
    "# 存放分割结果\n",
    "cv_datasets = [] \n",
    "# 对每一组cell_line数据 分别进行K折交叉验证\n",
    "for name, group in grouped:\n",
    "    X = group\n",
    "    kf = KFold(n_splits=n_splits, shuffle=True,random_state=None)\n",
    "    for train_index, test_index in kf.split(X):\n",
    "        X_train, X_test = X.iloc[train_index], X.iloc[test_index]\n",
    "        cv_datasets.append((X_train, X_test))\n",
    "\n",
    "# 新建文件夹\n",
    "\n",
    "# 得到整体数据的K折分割        \n",
    "for i in range(n_splits):\n",
    "    train_dfs = [ds[0] for ds in cv_datasets[i::n_splits]]\n",
    "    test_dfs = [ds[1] for ds in cv_datasets[i::n_splits]]\n",
    "    total_train_df = pd.concat(train_dfs)\n",
    "    total_test_df = pd.concat(test_dfs)\n",
    "    # 重置索引\n",
    "    total_train_df = total_train_df.reset_index(drop=True)\n",
    "    total_test_df = total_test_df.reset_index(drop=True)\n",
    "    # 打印文件\n",
    "    total_train_df.to_csv('../model_omics_experiment/data/k_fold_data/mixed/MixedSet_train_Fold{}.csv'.format(i),index=True)\n",
    "    total_test_df.to_csv('../model_omics_experiment/data/k_fold_data/mixed/MixedSet_test_Fold{}.csv'.format(i),index=True)\n",
    "    print(total_train_df.shape, total_test_df.shape)\n",
    "    "
   ],
   "metadata": {
    "collapsed": true,
    "ExecuteTime": {
     "end_time": "2024-03-01T10:21:49.705874Z",
     "start_time": "2024-03-01T10:21:46.419822Z"
    }
   },
   "id": "initial_id",
   "execution_count": 18
  },
  {
   "cell_type": "code",
   "outputs": [
    {
     "name": "stdout",
     "output_type": "stream",
     "text": [
      "TRAIN: (128411, 3) TEST: (12811, 3)\n",
      "Cell lines: set()\n",
      "TRAIN: (128186, 3) TEST: (13036, 3)\n",
      "Cell lines: set()\n",
      "TRAIN: (128226, 3) TEST: (12996, 3)\n",
      "Cell lines: set()\n",
      "TRAIN: (128150, 3) TEST: (13072, 3)\n",
      "Cell lines: set()\n",
      "TRAIN: (128474, 3) TEST: (12748, 3)\n",
      "Cell lines: set()\n",
      "TRAIN: (128293, 3) TEST: (12929, 3)\n",
      "Cell lines: set()\n",
      "TRAIN: (129046, 3) TEST: (12176, 3)\n",
      "Cell lines: set()\n",
      "TRAIN: (128270, 3) TEST: (12952, 3)\n",
      "Cell lines: set()\n",
      "TRAIN: (128358, 3) TEST: (12864, 3)\n",
      "Cell lines: set()\n",
      "TRAIN: (128365, 3) TEST: (12857, 3)\n",
      "Cell lines: set()\n",
      "TRAIN: (128441, 3) TEST: (12781, 3)\n",
      "Cell lines: set()\n"
     ]
    }
   ],
   "source": [
    "# 另一个K-Fold分割策略，Cell Blind\n",
    "# df = pd.read_csv('data.csv')\n",
    "\n",
    "# 获取所有cell line  \n",
    "cell_lines = df['cell_line'].unique()  \n",
    "n_splits = 11\n",
    "kf = KFold(n_splits=n_splits, shuffle=True, random_state=None)\n",
    "count = 0\n",
    "for train_index, test_index in kf.split(cell_lines):\n",
    "    \n",
    "    train_cell_lines = cell_lines[train_index]\n",
    "    test_cell_lines = cell_lines[test_index]\n",
    "    \n",
    "    train_df = df[df['cell_line'].isin(train_cell_lines)]\n",
    "    test_df = df[df['cell_line'].isin(test_cell_lines)]\n",
    "    # 重置索引\n",
    "    train_df = train_df.reset_index(drop=True)\n",
    "    test_df = test_df.reset_index(drop=True)\n",
    "    # 打印文件\n",
    "    train_df.to_csv('../model_omics_experiment/data/k_fold_data/cell_blind/CellBlind_train_Fold{}.csv'.format(count),index=True)\n",
    "    test_df.to_csv('../model_omics_experiment/data/k_fold_data/cell_blind/CellBlind_test_Fold{}.csv'.format(count),index=True)\n",
    "    count += 1\n",
    "    print(\"TRAIN:\", train_df.shape, \"TEST:\", test_df.shape) \n",
    "    print(\"Cell lines:\", set(train_df['cell_line']).intersection(set(test_df['cell_line'])))"
   ],
   "metadata": {
    "collapsed": false,
    "ExecuteTime": {
     "end_time": "2024-03-01T10:22:28.109417Z",
     "start_time": "2024-03-01T10:22:26.128958Z"
    }
   },
   "id": "ba73db207ac9c3f6",
   "execution_count": 19
  }
 ],
 "metadata": {
  "kernelspec": {
   "display_name": "Python 3",
   "language": "python",
   "name": "python3"
  },
  "language_info": {
   "codemirror_mode": {
    "name": "ipython",
    "version": 2
   },
   "file_extension": ".py",
   "mimetype": "text/x-python",
   "name": "python",
   "nbconvert_exporter": "python",
   "pygments_lexer": "ipython2",
   "version": "2.7.6"
  }
 },
 "nbformat": 4,
 "nbformat_minor": 5
}
