{
 "cells": [
  {
   "cell_type": "code",
   "id": "a058a303ab3f92fe",
   "metadata": {
    "collapsed": false,
    "ExecuteTime": {
     "end_time": "2024-04-15T08:19:33.699070Z",
     "start_time": "2024-04-15T08:19:30.061210Z"
    }
   },
   "source": [
    "import pandas as pd\n",
    "from sklearn.model_selection import KFold"
   ],
   "outputs": [],
   "execution_count": 1
  },
  {
   "cell_type": "code",
   "source": [
    "# df_temp = pd.read_csv('../model_omics_experiment/data/drug_sensitivity.csv',index_col=0)\n",
    "# df_temp.head()"
   ],
   "metadata": {
    "collapsed": false,
    "ExecuteTime": {
     "end_time": "2024-04-15T08:20:28.227851Z",
     "start_time": "2024-04-15T08:20:28.162323Z"
    }
   },
   "id": "18998ef6edcebe09",
   "outputs": [
    {
     "data": {
      "text/plain": [
       "               cell_line      IC50\n",
       "drug                              \n",
       "5-Fluorouracil      HL60  2.558926\n",
       "5-azacytidine       HL60  0.917132\n",
       "A-366               HL60  4.836160\n",
       "ABT737              HL60 -2.817798\n",
       "AGI-5198            HL60  3.644734"
      ],
      "text/html": [
       "<div>\n",
       "<style scoped>\n",
       "    .dataframe tbody tr th:only-of-type {\n",
       "        vertical-align: middle;\n",
       "    }\n",
       "\n",
       "    .dataframe tbody tr th {\n",
       "        vertical-align: top;\n",
       "    }\n",
       "\n",
       "    .dataframe thead th {\n",
       "        text-align: right;\n",
       "    }\n",
       "</style>\n",
       "<table border=\"1\" class=\"dataframe\">\n",
       "  <thead>\n",
       "    <tr style=\"text-align: right;\">\n",
       "      <th></th>\n",
       "      <th>cell_line</th>\n",
       "      <th>IC50</th>\n",
       "    </tr>\n",
       "    <tr>\n",
       "      <th>drug</th>\n",
       "      <th></th>\n",
       "      <th></th>\n",
       "    </tr>\n",
       "  </thead>\n",
       "  <tbody>\n",
       "    <tr>\n",
       "      <th>5-Fluorouracil</th>\n",
       "      <td>HL60</td>\n",
       "      <td>2.558926</td>\n",
       "    </tr>\n",
       "    <tr>\n",
       "      <th>5-azacytidine</th>\n",
       "      <td>HL60</td>\n",
       "      <td>0.917132</td>\n",
       "    </tr>\n",
       "    <tr>\n",
       "      <th>A-366</th>\n",
       "      <td>HL60</td>\n",
       "      <td>4.836160</td>\n",
       "    </tr>\n",
       "    <tr>\n",
       "      <th>ABT737</th>\n",
       "      <td>HL60</td>\n",
       "      <td>-2.817798</td>\n",
       "    </tr>\n",
       "    <tr>\n",
       "      <th>AGI-5198</th>\n",
       "      <td>HL60</td>\n",
       "      <td>3.644734</td>\n",
       "    </tr>\n",
       "  </tbody>\n",
       "</table>\n",
       "</div>"
      ]
     },
     "execution_count": 2,
     "metadata": {},
     "output_type": "execute_result"
    }
   ],
   "execution_count": 2
  },
  {
   "cell_type": "code",
   "source": [
    "# 读取数据\n",
    "df = pd.read_csv('../data/drug_sensitivity.csv') \n",
    "print(df.shape)\n",
    "df.head()"
   ],
   "metadata": {
    "collapsed": false,
    "ExecuteTime": {
     "end_time": "2024-04-15T08:21:32.157181Z",
     "start_time": "2024-04-15T08:21:32.085829Z"
    }
   },
   "id": "6da4b4d753c4adb1",
   "outputs": [
    {
     "name": "stdout",
     "output_type": "stream",
     "text": [
      "(141222, 3)\n"
     ]
    },
    {
     "data": {
      "text/plain": [
       "             drug cell_line      IC50\n",
       "0  5-Fluorouracil      HL60  2.558926\n",
       "1   5-azacytidine      HL60  0.917132\n",
       "2           A-366      HL60  4.836160\n",
       "3          ABT737      HL60 -2.817798\n",
       "4        AGI-5198      HL60  3.644734"
      ],
      "text/html": [
       "<div>\n",
       "<style scoped>\n",
       "    .dataframe tbody tr th:only-of-type {\n",
       "        vertical-align: middle;\n",
       "    }\n",
       "\n",
       "    .dataframe tbody tr th {\n",
       "        vertical-align: top;\n",
       "    }\n",
       "\n",
       "    .dataframe thead th {\n",
       "        text-align: right;\n",
       "    }\n",
       "</style>\n",
       "<table border=\"1\" class=\"dataframe\">\n",
       "  <thead>\n",
       "    <tr style=\"text-align: right;\">\n",
       "      <th></th>\n",
       "      <th>drug</th>\n",
       "      <th>cell_line</th>\n",
       "      <th>IC50</th>\n",
       "    </tr>\n",
       "  </thead>\n",
       "  <tbody>\n",
       "    <tr>\n",
       "      <th>0</th>\n",
       "      <td>5-Fluorouracil</td>\n",
       "      <td>HL60</td>\n",
       "      <td>2.558926</td>\n",
       "    </tr>\n",
       "    <tr>\n",
       "      <th>1</th>\n",
       "      <td>5-azacytidine</td>\n",
       "      <td>HL60</td>\n",
       "      <td>0.917132</td>\n",
       "    </tr>\n",
       "    <tr>\n",
       "      <th>2</th>\n",
       "      <td>A-366</td>\n",
       "      <td>HL60</td>\n",
       "      <td>4.836160</td>\n",
       "    </tr>\n",
       "    <tr>\n",
       "      <th>3</th>\n",
       "      <td>ABT737</td>\n",
       "      <td>HL60</td>\n",
       "      <td>-2.817798</td>\n",
       "    </tr>\n",
       "    <tr>\n",
       "      <th>4</th>\n",
       "      <td>AGI-5198</td>\n",
       "      <td>HL60</td>\n",
       "      <td>3.644734</td>\n",
       "    </tr>\n",
       "  </tbody>\n",
       "</table>\n",
       "</div>"
      ]
     },
     "execution_count": 3,
     "metadata": {},
     "output_type": "execute_result"
    }
   ],
   "execution_count": 3
  },
  {
   "cell_type": "code",
   "source": [
    "# Mixed Set分割策略\n",
    "# 根据cell_line分组\n",
    "grouped = df.groupby('cell_line')\n",
    "min_group_size = min(grouped.size())\n",
    "# 设置交叉验证折数 \n",
    "n_splits = 10\n",
    "# 存放分割结果\n",
    "cv_datasets = [] \n",
    "# 对每一组cell_line数据 分别进行K折交叉验证\n",
    "for name, group in grouped:\n",
    "    X = group\n",
    "    kf = KFold(n_splits=n_splits, shuffle=True,random_state=42)\n",
    "    for train_index, test_index in kf.split(X):\n",
    "        X_train, X_test = X.iloc[train_index], X.iloc[test_index]\n",
    "        cv_datasets.append((X_train, X_test))\n",
    "\n",
    "# 新建文件夹\n",
    "\n",
    "# 得到整体数据的K折分割        \n",
    "for i in range(n_splits):\n",
    "    train_dfs = [ds[0] for ds in cv_datasets[i::n_splits]]\n",
    "    test_dfs = [ds[1] for ds in cv_datasets[i::n_splits]]\n",
    "    total_train_df = pd.concat(train_dfs)\n",
    "    total_test_df = pd.concat(test_dfs)\n",
    "    # 重置索引\n",
    "    total_train_df = total_train_df.reset_index(drop=True)\n",
    "    total_test_df = total_test_df.reset_index(drop=True)\n",
    "    # 打印文件\n",
    "    total_train_df.to_csv('../model_omics_experiment/data/k_fold_data/mixed/10fold/MixedSet_train_Fold{}.csv'.format(i),index=True)\n",
    "    total_test_df.to_csv('../model_omics_experiment/data/k_fold_data/mixed/10fold/MixedSet_test_Fold{}.csv'.format(i),index=True)\n",
    "    print(total_train_df.shape, total_test_df.shape)\n",
    "    "
   ],
   "metadata": {
    "collapsed": true,
    "ExecuteTime": {
     "end_time": "2024-04-15T08:21:47.489320Z",
     "start_time": "2024-04-15T08:21:44.685136Z"
    }
   },
   "id": "initial_id",
   "outputs": [
    {
     "name": "stdout",
     "output_type": "stream",
     "text": [
      "(126876, 3) (14346, 3)\n",
      "(126904, 3) (14318, 3)\n",
      "(126945, 3) (14277, 3)\n",
      "(126982, 3) (14240, 3)\n",
      "(126998, 3) (14224, 3)\n",
      "(127015, 3) (14207, 3)\n",
      "(127061, 3) (14161, 3)\n",
      "(127283, 3) (13939, 3)\n",
      "(127444, 3) (13778, 3)\n",
      "(127490, 3) (13732, 3)\n"
     ]
    }
   ],
   "execution_count": 4
  },
  {
   "cell_type": "code",
   "outputs": [
    {
     "name": "stdout",
     "output_type": "stream",
     "text": [
      "TRAIN: (127179, 3) TEST: (14043, 3)\n",
      "Cell lines: set()\n",
      "TRAIN: (127388, 3) TEST: (13834, 3)\n",
      "Cell lines: set()\n",
      "TRAIN: (126964, 3) TEST: (14258, 3)\n",
      "Cell lines: set()\n",
      "TRAIN: (126955, 3) TEST: (14267, 3)\n",
      "Cell lines: set()\n",
      "TRAIN: (127456, 3) TEST: (13766, 3)\n",
      "Cell lines: set()\n",
      "TRAIN: (126943, 3) TEST: (14279, 3)\n",
      "Cell lines: set()\n",
      "TRAIN: (126905, 3) TEST: (14317, 3)\n",
      "Cell lines: set()\n",
      "TRAIN: (126796, 3) TEST: (14426, 3)\n",
      "Cell lines: set()\n",
      "TRAIN: (127117, 3) TEST: (14105, 3)\n",
      "Cell lines: set()\n",
      "TRAIN: (127295, 3) TEST: (13927, 3)\n",
      "Cell lines: set()\n"
     ]
    }
   ],
   "source": [
    "# 另一个K-Fold分割策略，Cell Blind\n",
    "# df = pd.read_csv('data.csv')\n",
    "\n",
    "# 获取所有cell line  \n",
    "cell_lines = df['cell_line'].unique()  \n",
    "n_splits = 10\n",
    "kf = KFold(n_splits=n_splits, shuffle=True, random_state=None)\n",
    "count = 0\n",
    "for train_index, test_index in kf.split(cell_lines):\n",
    "    \n",
    "    train_cell_lines = cell_lines[train_index]\n",
    "    test_cell_lines = cell_lines[test_index]\n",
    "    \n",
    "    train_df = df[df['cell_line'].isin(train_cell_lines)]\n",
    "    test_df = df[df['cell_line'].isin(test_cell_lines)]\n",
    "    # 重置索引\n",
    "    train_df = train_df.reset_index(drop=True)\n",
    "    test_df = test_df.reset_index(drop=True)\n",
    "    # 打印文件\n",
    "    train_df.to_csv('../model_omics_experiment/data/k_fold_data/cell_blind/10fold/CellBlind_train_Fold{}.csv'.format(count),index=True)\n",
    "    test_df.to_csv('../model_omics_experiment/data/k_fold_data/cell_blind/10fold/CellBlind_test_Fold{}.csv'.format(count),index=True)\n",
    "    count += 1\n",
    "    print(\"TRAIN:\", train_df.shape, \"TEST:\", test_df.shape) \n",
    "    print(\"Cell lines:\", set(train_df['cell_line']).intersection(set(test_df['cell_line'])))"
   ],
   "metadata": {
    "collapsed": false,
    "ExecuteTime": {
     "end_time": "2024-03-04T03:48:32.722566Z",
     "start_time": "2024-03-04T03:48:30.931799Z"
    }
   },
   "id": "ba73db207ac9c3f6",
   "execution_count": 8
  }
 ],
 "metadata": {
  "kernelspec": {
   "display_name": "Python 3",
   "language": "python",
   "name": "python3"
  },
  "language_info": {
   "codemirror_mode": {
    "name": "ipython",
    "version": 2
   },
   "file_extension": ".py",
   "mimetype": "text/x-python",
   "name": "python",
   "nbconvert_exporter": "python",
   "pygments_lexer": "ipython2",
   "version": "2.7.6"
  }
 },
 "nbformat": 4,
 "nbformat_minor": 5
}
