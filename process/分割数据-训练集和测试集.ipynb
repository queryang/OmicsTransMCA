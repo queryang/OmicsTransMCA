{
 "cells": [
  {
   "cell_type": "markdown",
   "source": [
    "# 1.将数据分割成训练和测试"
   ],
   "metadata": {
    "collapsed": false
   },
   "id": "c2593f05749ddc4c"
  },
  {
   "cell_type": "code",
   "execution_count": 3,
   "outputs": [],
   "source": [
    "import pandas as pd\n",
    "import numpy as np"
   ],
   "metadata": {
    "collapsed": false,
    "ExecuteTime": {
     "end_time": "2024-01-23T12:51:14.662507100Z",
     "start_time": "2024-01-23T12:51:14.650807600Z"
    }
   },
   "id": "7d05a3be58a021ee"
  },
  {
   "cell_type": "code",
   "execution_count": 4,
   "outputs": [
    {
     "name": "stdout",
     "output_type": "stream",
     "text": [
      "(229608, 3)\n"
     ]
    },
    {
     "data": {
      "text/plain": "             drug cell_line      IC50\n0          123138      HL60  2.397135\n1          123829      HL60  1.910071\n2          150412      HL60  1.909186\n3  5-Fluorouracil      HL60  2.558926\n4   5-azacytidine      HL60  0.917132",
      "text/html": "<div>\n<style scoped>\n    .dataframe tbody tr th:only-of-type {\n        vertical-align: middle;\n    }\n\n    .dataframe tbody tr th {\n        vertical-align: top;\n    }\n\n    .dataframe thead th {\n        text-align: right;\n    }\n</style>\n<table border=\"1\" class=\"dataframe\">\n  <thead>\n    <tr style=\"text-align: right;\">\n      <th></th>\n      <th>drug</th>\n      <th>cell_line</th>\n      <th>IC50</th>\n    </tr>\n  </thead>\n  <tbody>\n    <tr>\n      <th>0</th>\n      <td>123138</td>\n      <td>HL60</td>\n      <td>2.397135</td>\n    </tr>\n    <tr>\n      <th>1</th>\n      <td>123829</td>\n      <td>HL60</td>\n      <td>1.910071</td>\n    </tr>\n    <tr>\n      <th>2</th>\n      <td>150412</td>\n      <td>HL60</td>\n      <td>1.909186</td>\n    </tr>\n    <tr>\n      <th>3</th>\n      <td>5-Fluorouracil</td>\n      <td>HL60</td>\n      <td>2.558926</td>\n    </tr>\n    <tr>\n      <th>4</th>\n      <td>5-azacytidine</td>\n      <td>HL60</td>\n      <td>0.917132</td>\n    </tr>\n  </tbody>\n</table>\n</div>"
     },
     "execution_count": 4,
     "metadata": {},
     "output_type": "execute_result"
    }
   ],
   "source": [
    "df_drug_sensitivity = pd.read_csv('../data/drug_sensitivity_duplicates_mean.csv')[['drug','cell_line','IC50']]\n",
    "print(df_drug_sensitivity.shape)\n",
    "df_drug_sensitivity.head()"
   ],
   "metadata": {
    "collapsed": false,
    "ExecuteTime": {
     "end_time": "2024-01-23T12:51:16.948101500Z",
     "start_time": "2024-01-23T12:51:16.847751400Z"
    }
   },
   "id": "f3612d350c6dbd52"
  },
  {
   "cell_type": "markdown",
   "source": [
    "# 缩减数据，只保留细胞系在df_gsva_cell中的数据"
   ],
   "metadata": {
    "collapsed": false
   },
   "id": "80588957f7d3a463"
  },
  {
   "cell_type": "code",
   "execution_count": 5,
   "outputs": [
    {
     "name": "stdout",
     "output_type": "stream",
     "text": [
      "(688,)\n"
     ]
    },
    {
     "data": {
      "text/plain": "0        HL60\n1         HEL\n2    MONOMAC6\n3       LS513\n4       A101D\nName: cell_line, dtype: object"
     },
     "execution_count": 5,
     "metadata": {},
     "output_type": "execute_result"
    }
   ],
   "source": [
    "df_gsva_cell = pd.read_csv('../data_omics/GeneExp_Wilcoxon_test_Analysis_Log10_P_value_C2_KEGG_MEDICUS.csv')['cell_line']\n",
    "print(df_gsva_cell.shape)\n",
    "df_gsva_cell.head()"
   ],
   "metadata": {
    "collapsed": false,
    "ExecuteTime": {
     "end_time": "2024-01-23T12:53:42.696978800Z",
     "start_time": "2024-01-23T12:53:42.619606500Z"
    }
   },
   "id": "7a02883236ef470b"
  },
  {
   "cell_type": "code",
   "execution_count": 6,
   "outputs": [
    {
     "name": "stdout",
     "output_type": "stream",
     "text": [
      "(171013, 3)\n"
     ]
    },
    {
     "data": {
      "text/plain": "             drug cell_line      IC50\n0          123138      HL60  2.397135\n1          123829      HL60  1.910071\n2          150412      HL60  1.909186\n3  5-Fluorouracil      HL60  2.558926\n4   5-azacytidine      HL60  0.917132",
      "text/html": "<div>\n<style scoped>\n    .dataframe tbody tr th:only-of-type {\n        vertical-align: middle;\n    }\n\n    .dataframe tbody tr th {\n        vertical-align: top;\n    }\n\n    .dataframe thead th {\n        text-align: right;\n    }\n</style>\n<table border=\"1\" class=\"dataframe\">\n  <thead>\n    <tr style=\"text-align: right;\">\n      <th></th>\n      <th>drug</th>\n      <th>cell_line</th>\n      <th>IC50</th>\n    </tr>\n  </thead>\n  <tbody>\n    <tr>\n      <th>0</th>\n      <td>123138</td>\n      <td>HL60</td>\n      <td>2.397135</td>\n    </tr>\n    <tr>\n      <th>1</th>\n      <td>123829</td>\n      <td>HL60</td>\n      <td>1.910071</td>\n    </tr>\n    <tr>\n      <th>2</th>\n      <td>150412</td>\n      <td>HL60</td>\n      <td>1.909186</td>\n    </tr>\n    <tr>\n      <th>3</th>\n      <td>5-Fluorouracil</td>\n      <td>HL60</td>\n      <td>2.558926</td>\n    </tr>\n    <tr>\n      <th>4</th>\n      <td>5-azacytidine</td>\n      <td>HL60</td>\n      <td>0.917132</td>\n    </tr>\n  </tbody>\n</table>\n</div>"
     },
     "execution_count": 6,
     "metadata": {},
     "output_type": "execute_result"
    }
   ],
   "source": [
    "# 筛选出df_drug_sensitivity中的细胞系在df_gsva_cell中的数据\n",
    "df_drug_sensitivity = df_drug_sensitivity[df_drug_sensitivity['cell_line'].isin(df_gsva_cell)]\n",
    "print(df_drug_sensitivity.shape)\n",
    "df_drug_sensitivity.head()"
   ],
   "metadata": {
    "collapsed": false,
    "ExecuteTime": {
     "end_time": "2024-01-23T12:53:48.222025300Z",
     "start_time": "2024-01-23T12:53:48.191065200Z"
    }
   },
   "id": "4335dde8c065127"
  },
  {
   "cell_type": "code",
   "execution_count": 7,
   "outputs": [
    {
     "name": "stdout",
     "output_type": "stream",
     "text": [
      "(233,)\n",
      "(141222, 3)\n"
     ]
    },
    {
     "data": {
      "text/plain": "              drug cell_line      IC50\n3   5-Fluorouracil      HL60  2.558926\n4    5-azacytidine      HL60  0.917132\n15           A-366      HL60  4.836160\n16          ABT737      HL60 -2.817798\n17        AGI-5198      HL60  3.644734",
      "text/html": "<div>\n<style scoped>\n    .dataframe tbody tr th:only-of-type {\n        vertical-align: middle;\n    }\n\n    .dataframe tbody tr th {\n        vertical-align: top;\n    }\n\n    .dataframe thead th {\n        text-align: right;\n    }\n</style>\n<table border=\"1\" class=\"dataframe\">\n  <thead>\n    <tr style=\"text-align: right;\">\n      <th></th>\n      <th>drug</th>\n      <th>cell_line</th>\n      <th>IC50</th>\n    </tr>\n  </thead>\n  <tbody>\n    <tr>\n      <th>3</th>\n      <td>5-Fluorouracil</td>\n      <td>HL60</td>\n      <td>2.558926</td>\n    </tr>\n    <tr>\n      <th>4</th>\n      <td>5-azacytidine</td>\n      <td>HL60</td>\n      <td>0.917132</td>\n    </tr>\n    <tr>\n      <th>15</th>\n      <td>A-366</td>\n      <td>HL60</td>\n      <td>4.836160</td>\n    </tr>\n    <tr>\n      <th>16</th>\n      <td>ABT737</td>\n      <td>HL60</td>\n      <td>-2.817798</td>\n    </tr>\n    <tr>\n      <th>17</th>\n      <td>AGI-5198</td>\n      <td>HL60</td>\n      <td>3.644734</td>\n    </tr>\n  </tbody>\n</table>\n</div>"
     },
     "execution_count": 7,
     "metadata": {},
     "output_type": "execute_result"
    }
   ],
   "source": [
    "# 筛选出df_drug_sensitivity中的drug在df_drugs中的数据\n",
    "df_drugs = pd.read_csv('../data/CCLE-GDSC-SMILES.csv')['DRUG_NAME']\n",
    "print(df_drugs.shape)\n",
    "df_drug_sensitivity = df_drug_sensitivity[df_drug_sensitivity['drug'].isin(df_drugs)]\n",
    "print(df_drug_sensitivity.shape)\n",
    "df_drug_sensitivity.head()"
   ],
   "metadata": {
    "collapsed": false,
    "ExecuteTime": {
     "end_time": "2024-01-23T12:54:20.264154800Z",
     "start_time": "2024-01-23T12:54:20.228861600Z"
    }
   },
   "id": "ff2f136098fc2fa7"
  },
  {
   "cell_type": "markdown",
   "source": [
    "# 1.严格保持细胞系数据隔离 Cell Blind"
   ],
   "metadata": {
    "collapsed": false
   },
   "id": "d88cf001936b758c"
  },
  {
   "cell_type": "code",
   "execution_count": 6,
   "outputs": [
    {
     "name": "stdout",
     "output_type": "stream",
     "text": [
      "测试集细胞系数量： 62\n",
      "(128613, 3)\n",
      "(12609, 3)\n",
      "['MM1S' 'JHOS4' 'SIHA' 'MOLM13' 'CAOV3' 'OCIM1' 'T98G' 'KYSE270'\n",
      " 'KARPAS620' '42MGBA' 'RCK8' 'TE441T' 'TC71' 'DEL' 'NCIH660' 'OE19'\n",
      " 'SKGT2' 'RERFLCMS' 'P30OHK' 'KMRC1' 'NCIH1105' 'NCIH211' 'COLO678'\n",
      " 'CA922' 'HUCCT1' 'CAKI1' 'MHHCALL4' 'SKMEL1' '647V' 'DANG' 'LK2' 'TT'\n",
      " 'U2OS' 'DU4475' 'A2780' 'NCIH1355' 'HS578T' 'SKNFI' 'NCIH1869' 'GAMG'\n",
      " 'PC14' 'A704' 'SKNSH' 'SUDHL6' 'VAL' 'EKVX' 'TOV21G' 'UACC812' 'NCIH1563'\n",
      " 'HCC1143' 'HCC1187' 'EN' 'SAS' 'COLO684' 'HCT15' 'HARA' 'EFO21' 'NCIH522'\n",
      " 'NCIH1648' 'KCL22' 'NCIH2452' 'CAL33']\n"
     ]
    }
   ],
   "source": [
    "# 分割数据集，保证cell_line隔离，即训练集和测试集中不会出现相同的cell_line，训练集：测试集=10:1\n",
    "# 假设df_drug_sensitivity是你的数据集\n",
    "# cell_lines = df_drug_sensitivity['cell_line'].unique()\n",
    "#设置随机种子\n",
    "np.random.seed(3)\n",
    "# 获取所有唯一的cell_line\n",
    "unique_cell_lines = df_drug_sensitivity['cell_line'].unique()\n",
    "\n",
    "# 随机打乱这些唯一的cell_line\n",
    "np.random.shuffle(unique_cell_lines)\n",
    "\n",
    "# 根据你的比例来分割这些cell_line\n",
    "test_size = 0.09  # 测试集大小\n",
    "n_test = int(np.ceil(len(unique_cell_lines) * test_size))\n",
    "print('测试集细胞系数量：',n_test)\n",
    "train_cell_lines = unique_cell_lines[n_test:]\n",
    "test_cell_lines = unique_cell_lines[:n_test]\n",
    "\n",
    "# 现在根据这些cell_line来分割原始数据集\n",
    "df_train = df_drug_sensitivity[df_drug_sensitivity['cell_line'].isin(train_cell_lines)]\n",
    "df_test = df_drug_sensitivity[df_drug_sensitivity['cell_line'].isin(test_cell_lines)]\n",
    "\n",
    "print(df_train.shape)\n",
    "print(df_test.shape)\n",
    "\n",
    "print(test_cell_lines)"
   ],
   "metadata": {
    "collapsed": false,
    "ExecuteTime": {
     "end_time": "2023-10-21T16:24:01.809690700Z",
     "start_time": "2023-10-21T16:24:01.762532100Z"
    }
   },
   "id": "261b310a920d3a84"
  },
  {
   "cell_type": "code",
   "execution_count": 7,
   "outputs": [
    {
     "name": "stdout",
     "output_type": "stream",
     "text": [
      "cell_line\n",
      "HT29       233\n",
      "SW620      233\n",
      "C32        233\n",
      "MHHES1     232\n",
      "A375       232\n",
      "          ... \n",
      "NB1        140\n",
      "SNU1040    109\n",
      "CORL95      90\n",
      "HCC202      14\n",
      "RH18        11\n",
      "Name: count, Length: 626, dtype: int64\n",
      "['5-Fluorouracil' '5-azacytidine' 'A-366' 'ABT737' 'AGI-5198' 'AGI-6780'\n",
      " 'AGK2' 'AMG-319' 'AT13148' 'AZ6102' 'AZ960' 'AZD1208' 'AZD1332' 'AZD2014'\n",
      " 'AZD3759' 'AZD4547' 'AZD5153' 'AZD5363' 'AZD5438' 'AZD5582' 'AZD5991'\n",
      " 'AZD6482' 'AZD6738' 'AZD7762' 'AZD8055' 'AZD8186' 'Acetalax' 'Afatinib'\n",
      " 'Afuresertib' 'Alisertib' 'Alpelisib' 'Avagacestat' 'Axitinib' 'BI-2536'\n",
      " 'BIBR-1532' 'BMS-345541' 'BMS-536924' 'BMS-754807' 'BX795' 'Bicalutamide'\n",
      " 'Bleomycin' 'Bleomycin (50 uM)' 'Bortezomib' 'Bosutinib' 'Bromosporine'\n",
      " 'Buparlisib' 'CCT-018159' 'CCT007093' 'CHIR-99021' 'CPI-637' 'CZC24832'\n",
      " 'Camptothecin' 'Carmustine' 'Cediranib' 'Cisplatin' 'Crizotinib'\n",
      " 'Cyclophosphamide' 'Cytarabine' 'Dabrafenib' 'Dacarbazine' 'Dactinomycin'\n",
      " 'Dactolisib' 'Daporinad' 'Dasatinib' 'Dihydrorotenone' 'Dinaciclib'\n",
      " 'Docetaxel' 'Doramapimod' 'EHT-1864' 'EPZ004777' 'EPZ5676' 'Elephantin'\n",
      " 'Elesclomol' 'Entinostat' 'Entospletinib' 'Epirubicin' 'Erlotinib'\n",
      " 'Fludarabine' 'Foretinib' 'Fulvestrant' 'GDC0810' 'GNE-317' 'GSK-LSD1'\n",
      " 'GSK1904529A' 'GSK2110183B' 'GSK2578215A' 'GSK2606414' 'GSK269962A'\n",
      " 'GSK2801' 'GSK2830371' 'GSK343' 'GSK591' 'GW441756' 'Gallibiscoquinazole'\n",
      " 'Gefitinib' 'Gemcitabine' 'I-BET-762' 'I-BRD9' 'ICL-SIRT078' 'IOX2'\n",
      " 'IWP-2' 'Ibrutinib' 'Ipatasertib' 'Irinotecan' 'JNK Inhibitor VIII' 'JQ1'\n",
      " 'KRAS (G12C) Inhibitor-12' 'KU-55933' 'L-Oxonoreleagnine' 'LCL161'\n",
      " 'LGK974' 'LJI308' 'LMP744' 'LY2109761' 'Lapatinib' 'Leflunomide'\n",
      " 'Lenalidomide' 'Lestaurtinib' 'Linsitinib' 'Luminespib' 'MG-132' 'MIM1'\n",
      " 'MIRA-1' 'MK-1775' 'MK-2206' 'MK-8776' 'ML323' 'MN-64' 'Methotrexate'\n",
      " 'Mirin' 'Mitoxantrone' 'Motesanib' 'Mycophenolic acid'\n",
      " 'N-acetyl cysteine' 'NU7441' 'NVP-ADW742' 'Navitoclax' 'Nelarabine'\n",
      " 'Nilotinib' 'Niraparib' 'Nutlin-3a (-)' 'OF-1' 'OSI-027' 'OTX015'\n",
      " 'Obatoclax Mesylate' 'Olaparib' 'Osimertinib' 'Oxaliplatin' 'P22077'\n",
      " 'PCI-34051' 'PD0325901' 'PD173074' 'PF-4708671' 'PFI-1' 'PFI3' 'PLX-4720'\n",
      " 'POMHEX' 'PRIMA-1MET' 'PRT062607' 'Paclitaxel' 'Palbociclib'\n",
      " 'Pevonedistat' 'Picolinici-acid' 'Pictilisib' 'Piperlongumine'\n",
      " 'Podophyllotoxin bromide' 'Pyridostatin' 'RO-3306' 'RVX-208' 'Rapamycin'\n",
      " 'Refametinib' 'Remodelin' 'Ribociclib' 'Romidepsin' 'Rucaparib'\n",
      " 'Ruxolitinib' 'SB216763' 'SB505124' 'SB590885' 'SCH772984' 'SGC-CBP30'\n",
      " 'SGC0946' 'SL0101' 'SN-38' 'Sabutoclax' 'Sapitinib' 'Savolitinib'\n",
      " 'Schweinfurthin A' 'Selumetinib' 'Sepantronium bromide' 'Serdemetan'\n",
      " 'Sinularin' 'Sorafenib' 'Staurosporine' 'TW 37' 'Talazoparib' 'Tamoxifen'\n",
      " 'Tanespimycin' 'Taselisib' 'Telomerase Inhibitor IX' 'Temozolomide'\n",
      " 'Temsirolimus' 'Teniposide' 'Topotecan' 'Tozasertib' 'Trametinib'\n",
      " 'Tretinoin' 'UMI-77' 'UNC0379' 'UNC0638' 'Ulixertinib' 'Uprosertib'\n",
      " 'VE-822' 'VE821' 'VX-11e' 'Veliparib' 'Venetoclax' 'Vinblastine'\n",
      " 'Vincristine' 'Vinorelbine' 'Vismodegib' 'Vorinostat' 'WEHI-539' 'WIKI4'\n",
      " 'WZ4003' 'Wee1 Inhibitor' 'Wnt-C59' 'XAV939' 'YK-4-279' 'ZM447439'\n",
      " 'Zoledronate' 'alpha-lipoic acid' 'glutathione']\n"
     ]
    }
   ],
   "source": [
    "# 统计每种细胞系有多少个样本\n",
    "counts = df_train['cell_line'].value_counts()\n",
    "print(counts)\n",
    "# 找出细胞系名称为SW620的所有药物名称\n",
    "drugs = df_train[df_train['cell_line']=='SW620']['drug'].unique()\n",
    "print(drugs)"
   ],
   "metadata": {
    "collapsed": false,
    "ExecuteTime": {
     "end_time": "2023-10-21T16:24:16.078973400Z",
     "start_time": "2023-10-21T16:24:16.063338500Z"
    }
   },
   "id": "b30adfb65930d27e"
  },
  {
   "cell_type": "code",
   "execution_count": 8,
   "outputs": [],
   "source": [
    "# 重置索引\n",
    "df_train = df_train.reset_index(drop=True)\n",
    "df_test = df_test.reset_index(drop=True)\n",
    "# 保存数据\n",
    "df_train.to_csv('../planD/data/drug_sensitivity_CellBlind_train.csv',index=True,header=True)\n",
    "df_test.to_csv('../planD/data/drug_sensitivity_CellBlind_test.csv',index=True,header=True)"
   ],
   "metadata": {
    "collapsed": false,
    "ExecuteTime": {
     "end_time": "2023-10-21T16:24:49.272899100Z",
     "start_time": "2023-10-21T16:24:49.022060100Z"
    }
   },
   "id": "eba0cbe44680b2f7"
  },
  {
   "cell_type": "markdown",
   "source": [
    "# 2.将数据分割成训练和测试，严格保持药物数据隔离 Drug Blind"
   ],
   "metadata": {
    "collapsed": false
   },
   "id": "52f62bac3fab19a9"
  },
  {
   "cell_type": "markdown",
   "source": [
    "# 3.将数据分割成训练和测试，混合集 Mixed-Set"
   ],
   "metadata": {
    "collapsed": false
   },
   "id": "d6129107ae6ecf71"
  },
  {
   "cell_type": "code",
   "execution_count": 9,
   "outputs": [],
   "source": [
    "# 将df_drug_sensitivity中的数据分割成训练集和测试集，训练集：测试集=10:1；保证训练集和测试集要出现相同的cell_line和drug\n",
    "import pandas as pd\n",
    "from sklearn.model_selection import train_test_split\n",
    "\n",
    "# 假设df_drug_sensitivity是你的数据集\n",
    "# df_drug_sensitivity = pd.read_csv('path_to_your_dataset.csv')\n",
    "def split_data_by_cell_line(df):\n",
    "    # 按cell_line对数据进行分组\n",
    "    grouped = df.groupby('cell_line')\n",
    "\n",
    "    train_data = []\n",
    "    test_data = []\n",
    "\n",
    "    # 对每一组数据进行分割\n",
    "    for _, group in grouped:\n",
    "        if len(group) <= 10:  # 如果小于等于10个样本，直接取1个为测试集\n",
    "            group_train, group_test = group.iloc[:-1], group.iloc[-1:]\n",
    "        else:\n",
    "            group_train, group_test = train_test_split(group, test_size=1/11.5)  # 10:1的比例\n",
    "        \n",
    "        train_data.append(group_train)\n",
    "        test_data.append(group_test)\n",
    "\n",
    "    # 将数据整合回DataFrame格式\n",
    "    train_df = pd.concat(train_data, ignore_index=True)\n",
    "    test_df = pd.concat(test_data, ignore_index=True)\n",
    "\n",
    "    return train_df, test_df\n"
   ],
   "metadata": {
    "collapsed": false,
    "ExecuteTime": {
     "end_time": "2023-10-21T16:25:08.886227600Z",
     "start_time": "2023-10-21T16:25:06.051793900Z"
    }
   },
   "id": "2b98c627c7857e1"
  },
  {
   "cell_type": "code",
   "execution_count": 10,
   "outputs": [
    {
     "name": "stdout",
     "output_type": "stream",
     "text": [
      "(128741, 3)\n",
      "(12481, 3)\n"
     ]
    },
    {
     "data": {
      "text/plain": "           drug cell_line      IC50\n0   Gemcitabine     22RV1 -2.883793\n1       AZD8055     22RV1 -1.458397\n2  Pevonedistat     22RV1  1.682196\n3       UNC0379     22RV1  1.779301\n4    Nelarabine     22RV1  6.720936",
      "text/html": "<div>\n<style scoped>\n    .dataframe tbody tr th:only-of-type {\n        vertical-align: middle;\n    }\n\n    .dataframe tbody tr th {\n        vertical-align: top;\n    }\n\n    .dataframe thead th {\n        text-align: right;\n    }\n</style>\n<table border=\"1\" class=\"dataframe\">\n  <thead>\n    <tr style=\"text-align: right;\">\n      <th></th>\n      <th>drug</th>\n      <th>cell_line</th>\n      <th>IC50</th>\n    </tr>\n  </thead>\n  <tbody>\n    <tr>\n      <th>0</th>\n      <td>Gemcitabine</td>\n      <td>22RV1</td>\n      <td>-2.883793</td>\n    </tr>\n    <tr>\n      <th>1</th>\n      <td>AZD8055</td>\n      <td>22RV1</td>\n      <td>-1.458397</td>\n    </tr>\n    <tr>\n      <th>2</th>\n      <td>Pevonedistat</td>\n      <td>22RV1</td>\n      <td>1.682196</td>\n    </tr>\n    <tr>\n      <th>3</th>\n      <td>UNC0379</td>\n      <td>22RV1</td>\n      <td>1.779301</td>\n    </tr>\n    <tr>\n      <th>4</th>\n      <td>Nelarabine</td>\n      <td>22RV1</td>\n      <td>6.720936</td>\n    </tr>\n  </tbody>\n</table>\n</div>"
     },
     "execution_count": 10,
     "metadata": {},
     "output_type": "execute_result"
    }
   ],
   "source": [
    "\n",
    "train_df, test_df = split_data_by_cell_line(df_drug_sensitivity)\n",
    "print(train_df.shape)\n",
    "print(test_df.shape)\n",
    "train_df.head()"
   ],
   "metadata": {
    "collapsed": false,
    "ExecuteTime": {
     "end_time": "2023-10-21T16:25:16.942684700Z",
     "start_time": "2023-10-21T16:25:16.667396600Z"
    }
   },
   "id": "a8c075a775b05653"
  },
  {
   "cell_type": "code",
   "execution_count": 11,
   "outputs": [
    {
     "name": "stdout",
     "output_type": "stream",
     "text": [
      "cell_line\n",
      "HT29       212\n",
      "C32        212\n",
      "PC14       212\n",
      "SW620      212\n",
      "KMH2       211\n",
      "          ... \n",
      "SNU16      127\n",
      "SNU1040     99\n",
      "CORL95      82\n",
      "HCC202      12\n",
      "RH18        10\n",
      "Name: count, Length: 688, dtype: int64\n",
      "['Lenalidomide' '5-Fluorouracil' 'YK-4-279' 'Vismodegib' 'Leflunomide'\n",
      " 'Bleomycin (50 uM)' 'Mirin' 'Wee1 Inhibitor' 'Ulixertinib' 'IWP-2'\n",
      " 'Taselisib' 'Obatoclax Mesylate' 'Tamoxifen' 'Pyridostatin' 'SN-38'\n",
      " 'AZD8055' 'WZ4003' 'AZD4547' 'AZD2014' 'EPZ5676'\n",
      " 'Podophyllotoxin bromide' 'POMHEX' 'Fludarabine' 'Bosutinib' 'LCL161'\n",
      " 'AZD6738' 'GSK2830371' 'Doramapimod' 'Osimertinib' 'Sepantronium bromide'\n",
      " 'GSK2578215A' 'JQ1' 'Refametinib' 'Niraparib' 'RVX-208' 'ICL-SIRT078'\n",
      " 'VE-822' 'Vinblastine' 'GSK1904529A' 'WIKI4' 'Dihydrorotenone'\n",
      " 'Elephantin' 'I-BRD9' 'Venetoclax' 'Schweinfurthin A' 'glutathione'\n",
      " 'VX-11e' 'AZD5363' 'UNC0379' 'Carmustine' 'AZD1208' 'Rapamycin'\n",
      " 'GSK-LSD1' 'CZC24832' 'Epirubicin' 'GSK2606414' 'LJI308' 'Trametinib'\n",
      " 'Entospletinib' 'BIBR-1532' 'CPI-637' 'GNE-317' 'Staurosporine' 'AZD1332'\n",
      " 'Cyclophosphamide' 'NU7441' 'PFI-1' 'Cisplatin' 'Dacarbazine'\n",
      " 'JNK Inhibitor VIII' 'Temozolomide' 'MK-1775' 'Docetaxel' 'Teniposide'\n",
      " 'Dactolisib' 'KRAS (G12C) Inhibitor-12' 'A-366' 'Sorafenib' 'Rucaparib'\n",
      " 'N-acetyl cysteine' 'Mycophenolic acid' 'Axitinib' 'Navitoclax' 'OTX015'\n",
      " 'BI-2536' 'AGI-6780' 'GSK2110183B' 'UNC0638' 'Vincristine' 'AT13148'\n",
      " 'NVP-ADW742' 'Dabrafenib' 'GDC0810' 'Camptothecin' 'Afatinib'\n",
      " 'Romidepsin' 'I-BET-762' 'ABT737' 'Olaparib' 'SB590885' 'Nelarabine'\n",
      " 'PRT062607' 'MK-2206' 'GW441756' 'BMS-345541' 'Alpelisib' 'AMG-319'\n",
      " 'Sinularin' 'Gemcitabine' 'PFI3' 'EPZ004777' 'Uprosertib' 'Alisertib'\n",
      " 'RO-3306' 'SGC-CBP30' 'Bleomycin' 'Paclitaxel' 'MIRA-1' '5-azacytidine'\n",
      " 'Selumetinib' 'Gefitinib' 'LY2109761' 'Afuresertib' 'P22077' 'LMP744'\n",
      " 'Sabutoclax' 'PLX-4720' 'PRIMA-1MET' 'Vorinostat' 'Dasatinib'\n",
      " 'L-Oxonoreleagnine' 'MN-64' 'MG-132' 'Lapatinib' 'ZM447439' 'AZD5438'\n",
      " 'Erlotinib' 'AGK2' 'Dinaciclib' 'PD173074' 'Temsirolimus'\n",
      " 'Picolinici-acid' 'Nutlin-3a (-)' 'Bromosporine' 'Irinotecan'\n",
      " 'Talazoparib' 'Linsitinib' 'Bortezomib' 'Luminespib' 'AGI-5198'\n",
      " 'Crizotinib' 'Mitoxantrone' 'Avagacestat' 'XAV939' 'Serdemetan'\n",
      " 'PCI-34051' 'SCH772984' 'Dactinomycin' 'PD0325901' 'alpha-lipoic acid'\n",
      " 'GSK2801' 'Wnt-C59' 'Veliparib' 'Buparlisib' 'BMS-536924' 'Pictilisib'\n",
      " 'EHT-1864' 'Ribociclib' 'Motesanib' 'GSK343' 'AZD3759' 'AZD8186'\n",
      " 'AZD7762' 'Palbociclib' 'Entinostat' 'MK-8776' 'Ipatasertib'\n",
      " 'Oxaliplatin' 'CCT007093' 'Lestaurtinib' 'Methotrexate' 'Acetalax'\n",
      " 'VE821' 'AZD5582' 'AZD5153' 'MIM1' 'Fulvestrant' 'Foretinib' 'WEHI-539'\n",
      " 'AZD5991' 'Cediranib' 'AZ960' 'Cytarabine' 'LGK974' 'Ibrutinib' 'UMI-77'\n",
      " 'Nilotinib' 'SB216763']\n",
      "198\n"
     ]
    }
   ],
   "source": [
    "# 统计每种细胞系有多少个样本\n",
    "counts = train_df['cell_line'].value_counts()\n",
    "print(counts)\n",
    "# 找出细胞系名称为SW620的所有药物名称\n",
    "drugs = train_df[train_df['cell_line']=='HL60']['drug'].unique()\n",
    "print(drugs)\n",
    "print(len(drugs))"
   ],
   "metadata": {
    "collapsed": false,
    "ExecuteTime": {
     "end_time": "2023-10-21T16:25:25.196613900Z",
     "start_time": "2023-10-21T16:25:25.180988700Z"
    }
   },
   "id": "e258779048a44918"
  },
  {
   "cell_type": "code",
   "execution_count": 12,
   "outputs": [],
   "source": [
    "# 重置索引\n",
    "# train_df = train_df.reset_index(drop=True)\n",
    "# test_df = test_df.reset_index(drop=True)\n",
    "# 保存数据\n",
    "train_df.to_csv('../planD/data/drug_sensitivity_MixedSet_train.csv',index=True,header=True)\n",
    "test_df.to_csv('../planD/data/drug_sensitivity_MixedSet_test.csv',index=True,header=True)"
   ],
   "metadata": {
    "collapsed": false,
    "ExecuteTime": {
     "end_time": "2023-10-21T16:25:45.931070600Z",
     "start_time": "2023-10-21T16:25:45.664915700Z"
    }
   },
   "id": "c7de17515900204b"
  }
 ],
 "metadata": {
  "kernelspec": {
   "display_name": "Python 3",
   "language": "python",
   "name": "python3"
  },
  "language_info": {
   "codemirror_mode": {
    "name": "ipython",
    "version": 2
   },
   "file_extension": ".py",
   "mimetype": "text/x-python",
   "name": "python",
   "nbconvert_exporter": "python",
   "pygments_lexer": "ipython2",
   "version": "2.7.6"
  }
 },
 "nbformat": 4,
 "nbformat_minor": 5
}
