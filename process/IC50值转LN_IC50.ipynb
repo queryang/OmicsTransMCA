{
 "cells": [
  {
   "cell_type": "code",
   "execution_count": 1,
   "outputs": [],
   "source": [
    "import math\n",
    "import torch"
   ],
   "metadata": {
    "collapsed": false,
    "ExecuteTime": {
     "end_time": "2023-11-08T10:19:16.146684700Z",
     "start_time": "2023-11-08T10:19:15.026193900Z"
    }
   },
   "id": "5f10cc7cee71e654"
  },
  {
   "cell_type": "code",
   "execution_count": 11,
   "outputs": [],
   "source": [
    "def ic50_to_ln(ic50_values):\n",
    "    ln_ic50 = []\n",
    "    for val in ic50_values:\n",
    "      if val < 0:\n",
    "        val = abs(val)\n",
    "        ln_val = -math.log(val)\n",
    "      else:\n",
    "        ln_val = math.log(val)\n",
    "      \n",
    "      ln_ic50.append(ln_val)\n",
    "    return ln_ic50"
   ],
   "metadata": {
    "collapsed": false,
    "ExecuteTime": {
     "end_time": "2023-10-23T09:01:21.878038Z",
     "start_time": "2023-10-23T09:01:21.863953400Z"
    }
   },
   "id": "3ce2a75cd59769d1"
  },
  {
   "cell_type": "code",
   "execution_count": 14,
   "outputs": [],
   "source": [
    "ground_truth = [-10, 10, -2.5, 0.5, -0.1, -0.02] #示例真实值\n",
    "predict_values = [-19.2, 12.8, -3.4, 0.25,-0.18,-0.013] #示例IC50值 \n"
   ],
   "metadata": {
    "collapsed": false,
    "ExecuteTime": {
     "end_time": "2023-10-23T09:02:07.003712300Z",
     "start_time": "2023-10-23T09:02:06.988794100Z"
    }
   },
   "id": "e6028cb9d3772d5b"
  },
  {
   "cell_type": "code",
   "execution_count": 15,
   "outputs": [
    {
     "name": "stdout",
     "output_type": "stream",
     "text": [
      "0.9450756469048993\n"
     ]
    }
   ],
   "source": [
    "# 计算ground_truth和predict_values的R2值\n",
    "from sklearn.metrics import r2_score\n",
    "r2 = r2_score(ic50_to_ln(ground_truth), ic50_to_ln(predict_values))\n",
    "print(r2)"
   ],
   "metadata": {
    "collapsed": false,
    "ExecuteTime": {
     "end_time": "2023-10-23T09:02:08.450931800Z",
     "start_time": "2023-10-23T09:02:08.437533200Z"
    }
   },
   "id": "5da994b3b2c4c7"
  },
  {
   "cell_type": "code",
   "execution_count": 16,
   "outputs": [
    {
     "name": "stdout",
     "output_type": "stream",
     "text": [
      "0.5462755441579565\n"
     ]
    }
   ],
   "source": [
    "r2 = r2_score(ground_truth, predict_values)\n",
    "print(r2)"
   ],
   "metadata": {
    "collapsed": false,
    "ExecuteTime": {
     "end_time": "2023-10-23T09:02:10.419202200Z",
     "start_time": "2023-10-23T09:02:10.383765500Z"
    }
   },
   "id": "c7e0b96e1a0da1b"
  }
 ],
 "metadata": {
  "kernelspec": {
   "display_name": "Python 3",
   "language": "python",
   "name": "python3"
  },
  "language_info": {
   "codemirror_mode": {
    "name": "ipython",
    "version": 2
   },
   "file_extension": ".py",
   "mimetype": "text/x-python",
   "name": "python",
   "nbconvert_exporter": "python",
   "pygments_lexer": "ipython2",
   "version": "2.7.6"
  }
 },
 "nbformat": 4,
 "nbformat_minor": 5
}
