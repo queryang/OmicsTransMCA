{
 "cells": [
  {
   "cell_type": "code",
   "execution_count": 25,
   "id": "initial_id",
   "metadata": {
    "collapsed": true,
    "ExecuteTime": {
     "end_time": "2024-01-25T13:49:02.404836800Z",
     "start_time": "2024-01-25T13:49:02.289000300Z"
    }
   },
   "outputs": [],
   "source": [
    "import pandas as pd\n",
    "import numpy as np"
   ]
  },
  {
   "cell_type": "code",
   "outputs": [],
   "source": [
    "import re\n",
    "\n",
    "def clean_cell_line_name(name):\n",
    "    cleaned_name = re.sub(r'[^a-zA-Z0-9]', '', str(name))  # 移除非字母数字字符\n",
    "    uppercased_name = cleaned_name.upper()  # 将所有字符转换为大写\n",
    "    return uppercased_name"
   ],
   "metadata": {
    "collapsed": false,
    "ExecuteTime": {
     "end_time": "2024-01-25T13:49:02.463085Z",
     "start_time": "2024-01-25T13:49:02.408100100Z"
    }
   },
   "id": "d282be26033741f5",
   "execution_count": 26
  },
  {
   "cell_type": "code",
   "outputs": [
    {
     "name": "stdout",
     "output_type": "stream",
     "text": [
      "(141222, 3)\n"
     ]
    },
    {
     "data": {
      "text/plain": "             drug cell_line      IC50\n0  5-Fluorouracil      HL60  2.558926\n1   5-azacytidine      HL60  0.917132\n2           A-366      HL60  4.836160\n3          ABT737      HL60 -2.817798\n4        AGI-5198      HL60  3.644734",
      "text/html": "<div>\n<style scoped>\n    .dataframe tbody tr th:only-of-type {\n        vertical-align: middle;\n    }\n\n    .dataframe tbody tr th {\n        vertical-align: top;\n    }\n\n    .dataframe thead th {\n        text-align: right;\n    }\n</style>\n<table border=\"1\" class=\"dataframe\">\n  <thead>\n    <tr style=\"text-align: right;\">\n      <th></th>\n      <th>drug</th>\n      <th>cell_line</th>\n      <th>IC50</th>\n    </tr>\n  </thead>\n  <tbody>\n    <tr>\n      <th>0</th>\n      <td>5-Fluorouracil</td>\n      <td>HL60</td>\n      <td>2.558926</td>\n    </tr>\n    <tr>\n      <th>1</th>\n      <td>5-azacytidine</td>\n      <td>HL60</td>\n      <td>0.917132</td>\n    </tr>\n    <tr>\n      <th>2</th>\n      <td>A-366</td>\n      <td>HL60</td>\n      <td>4.836160</td>\n    </tr>\n    <tr>\n      <th>3</th>\n      <td>ABT737</td>\n      <td>HL60</td>\n      <td>-2.817798</td>\n    </tr>\n    <tr>\n      <th>4</th>\n      <td>AGI-5198</td>\n      <td>HL60</td>\n      <td>3.644734</td>\n    </tr>\n  </tbody>\n</table>\n</div>"
     },
     "execution_count": 27,
     "metadata": {},
     "output_type": "execute_result"
    }
   ],
   "source": [
    "df_all = pd.read_csv('../data/drug_sensitivity.csv')\n",
    "print(df_all.shape)\n",
    "df_all.head()"
   ],
   "metadata": {
    "collapsed": false,
    "ExecuteTime": {
     "end_time": "2024-01-25T13:49:02.535910800Z",
     "start_time": "2024-01-25T13:49:02.459200900Z"
    }
   },
   "id": "cb9580b595e519fd",
   "execution_count": 27
  },
  {
   "cell_type": "code",
   "outputs": [
    {
     "data": {
      "text/plain": "  StrippedCellLineName     ModelID OncotreeCode\n0            NIHOVCAR3  ACH-000001        HGSOC\n1                 HL60  ACH-000002          AML\n2                CACO2  ACH-000003         COAD\n3                  HEL  ACH-000004          AML\n4              HEL9217  ACH-000005          AML",
      "text/html": "<div>\n<style scoped>\n    .dataframe tbody tr th:only-of-type {\n        vertical-align: middle;\n    }\n\n    .dataframe tbody tr th {\n        vertical-align: top;\n    }\n\n    .dataframe thead th {\n        text-align: right;\n    }\n</style>\n<table border=\"1\" class=\"dataframe\">\n  <thead>\n    <tr style=\"text-align: right;\">\n      <th></th>\n      <th>StrippedCellLineName</th>\n      <th>ModelID</th>\n      <th>OncotreeCode</th>\n    </tr>\n  </thead>\n  <tbody>\n    <tr>\n      <th>0</th>\n      <td>NIHOVCAR3</td>\n      <td>ACH-000001</td>\n      <td>HGSOC</td>\n    </tr>\n    <tr>\n      <th>1</th>\n      <td>HL60</td>\n      <td>ACH-000002</td>\n      <td>AML</td>\n    </tr>\n    <tr>\n      <th>2</th>\n      <td>CACO2</td>\n      <td>ACH-000003</td>\n      <td>COAD</td>\n    </tr>\n    <tr>\n      <th>3</th>\n      <td>HEL</td>\n      <td>ACH-000004</td>\n      <td>AML</td>\n    </tr>\n    <tr>\n      <th>4</th>\n      <td>HEL9217</td>\n      <td>ACH-000005</td>\n      <td>AML</td>\n    </tr>\n  </tbody>\n</table>\n</div>"
     },
     "execution_count": 28,
     "metadata": {},
     "output_type": "execute_result"
    }
   ],
   "source": [
    "df_model = pd.read_csv('../Figs/data/Model.csv')\n",
    "df_model['StrippedCellLineName'] = df_model['StrippedCellLineName'].apply(clean_cell_line_name)\n",
    "# 取StrippedCellLineName列、ModelID列和OncotreeCode列\n",
    "df_model = df_model[['StrippedCellLineName', 'ModelID', 'OncotreeCode']]\n",
    "df_model.head()"
   ],
   "metadata": {
    "collapsed": false,
    "ExecuteTime": {
     "end_time": "2024-01-25T13:49:02.579115700Z",
     "start_time": "2024-01-25T13:49:02.517292700Z"
    }
   },
   "id": "f34057a9df3ba0e3",
   "execution_count": 28
  },
  {
   "cell_type": "code",
   "outputs": [
    {
     "data": {
      "text/plain": "             drug cell_line      IC50 OncotreeCode\n0  5-Fluorouracil      HL60  2.558926          AML\n1   5-azacytidine      HL60  0.917132          AML\n2           A-366      HL60  4.836160          AML\n3          ABT737      HL60 -2.817798          AML\n4        AGI-5198      HL60  3.644734          AML",
      "text/html": "<div>\n<style scoped>\n    .dataframe tbody tr th:only-of-type {\n        vertical-align: middle;\n    }\n\n    .dataframe tbody tr th {\n        vertical-align: top;\n    }\n\n    .dataframe thead th {\n        text-align: right;\n    }\n</style>\n<table border=\"1\" class=\"dataframe\">\n  <thead>\n    <tr style=\"text-align: right;\">\n      <th></th>\n      <th>drug</th>\n      <th>cell_line</th>\n      <th>IC50</th>\n      <th>OncotreeCode</th>\n    </tr>\n  </thead>\n  <tbody>\n    <tr>\n      <th>0</th>\n      <td>5-Fluorouracil</td>\n      <td>HL60</td>\n      <td>2.558926</td>\n      <td>AML</td>\n    </tr>\n    <tr>\n      <th>1</th>\n      <td>5-azacytidine</td>\n      <td>HL60</td>\n      <td>0.917132</td>\n      <td>AML</td>\n    </tr>\n    <tr>\n      <th>2</th>\n      <td>A-366</td>\n      <td>HL60</td>\n      <td>4.836160</td>\n      <td>AML</td>\n    </tr>\n    <tr>\n      <th>3</th>\n      <td>ABT737</td>\n      <td>HL60</td>\n      <td>-2.817798</td>\n      <td>AML</td>\n    </tr>\n    <tr>\n      <th>4</th>\n      <td>AGI-5198</td>\n      <td>HL60</td>\n      <td>3.644734</td>\n      <td>AML</td>\n    </tr>\n  </tbody>\n</table>\n</div>"
     },
     "execution_count": 29,
     "metadata": {},
     "output_type": "execute_result"
    }
   ],
   "source": [
    "df_all_merged = pd.merge(df_all, df_model, left_on='cell_line', right_on='StrippedCellLineName')\n",
    "# 取drug列、cell_line列、IC50列、prediction列和OncotreeCode列\n",
    "df_all_merged = df_all_merged[['drug', 'cell_line', 'IC50', 'OncotreeCode']]\n",
    "df_all_merged.head()"
   ],
   "metadata": {
    "collapsed": false,
    "ExecuteTime": {
     "end_time": "2024-01-25T13:49:02.611505200Z",
     "start_time": "2024-01-25T13:49:02.540097200Z"
    }
   },
   "id": "7b8e0c6b9332e8d9",
   "execution_count": 29
  },
  {
   "cell_type": "code",
   "outputs": [
    {
     "data": {
      "text/plain": "OncotreeCode\nLUAD     10894\nSCLC      7887\nCOAD      7667\nPAAD      5351\nGB        4713\n         ...  \nPRSCC      179\nABC        178\nTHME       153\nAASTR      153\nGBC        153\nName: count, Length: 118, dtype: int64"
     },
     "execution_count": 30,
     "metadata": {},
     "output_type": "execute_result"
    }
   ],
   "source": [
    "# 统计df_merged中每个OncotreeCode的数量\n",
    "df_all_merged['OncotreeCode'].value_counts()"
   ],
   "metadata": {
    "collapsed": false,
    "ExecuteTime": {
     "end_time": "2024-01-25T13:49:02.661406400Z",
     "start_time": "2024-01-25T13:49:02.592186300Z"
    }
   },
   "id": "4698dddd5c28ae36",
   "execution_count": 30
  },
  {
   "cell_type": "code",
   "outputs": [
    {
     "name": "stdout",
     "output_type": "stream",
     "text": [
      "(25367, 4)\n"
     ]
    }
   ],
   "source": [
    "# 将OncotreeCode中LUAD LUSC SCLC NSCLC LCLC LUAS 全都挑选出来\n",
    "df_lung = df_all_merged[df_all_merged['OncotreeCode'].isin(['LUAD', 'LUSC', 'SCLC', 'NSCLC', 'LCLC'])]\n",
    "print(df_lung.shape)"
   ],
   "metadata": {
    "collapsed": false,
    "ExecuteTime": {
     "end_time": "2024-01-25T13:49:02.675491200Z",
     "start_time": "2024-01-25T13:49:02.607226700Z"
    }
   },
   "id": "c128a7faa1cb7366",
   "execution_count": 31
  },
  {
   "cell_type": "code",
   "outputs": [
    {
     "data": {
      "text/plain": "cell_line  OncotreeCode\nA427       LUAD            212\nA549       LUAD            219\nABC1       LUAD            211\nBEN        NSCLC           180\nCAL12T     NSCLC           180\n                          ... \nSBC5       SCLC            217\nSHP77      SCLC            217\nSKMES1     LUSC            217\nSW1271     SCLC            218\nSW1573     LUAD            217\nLength: 125, dtype: int64"
     },
     "execution_count": 32,
     "metadata": {},
     "output_type": "execute_result"
    }
   ],
   "source": [
    "# 根据df_lung中的cell_line列和OncotreeCode列，统计每个cell_line对应的OncotreeCode的数量\n",
    "df_lung.groupby(['cell_line', 'OncotreeCode']).size()"
   ],
   "metadata": {
    "collapsed": false,
    "ExecuteTime": {
     "end_time": "2024-01-25T13:49:02.697779500Z",
     "start_time": "2024-01-25T13:49:02.617962300Z"
    }
   },
   "id": "7338961192a17a0f",
   "execution_count": 32
  },
  {
   "cell_type": "code",
   "outputs": [
    {
     "name": "stdout",
     "output_type": "stream",
     "text": [
      "(115246, 4)\n"
     ]
    }
   ],
   "source": [
    "# 将df_all_merged中OncotreeCode为LUAD LUSC SCLC NSCLC LCLC LUAS 全部剔除\n",
    "df_all_merged = df_all_merged[~df_all_merged['OncotreeCode'].isin(['LUAD', 'LUSC', 'SCLC', 'NSCLC', 'LCLC', 'LUAS'])]\n",
    "print(df_all_merged.shape)"
   ],
   "metadata": {
    "collapsed": false,
    "ExecuteTime": {
     "end_time": "2024-01-25T13:49:02.732977800Z",
     "start_time": "2024-01-25T13:49:02.633005800Z"
    }
   },
   "id": "2bc996f653359868",
   "execution_count": 33
  },
  {
   "cell_type": "code",
   "outputs": [
    {
     "name": "stdout",
     "output_type": "stream",
     "text": [
      "3.2642688614833855\n",
      "2.847476608967291\n",
      "2.774671021427666\n",
      "3.455652426305354\n",
      "3.0147438154761907\n",
      "(10894, 4)\n",
      "(2721, 4)\n",
      "(7887, 4)\n",
      "(1513, 4)\n",
      "(2352, 4)\n"
     ]
    }
   ],
   "source": [
    "df_lung_LUAD = df_lung[df_lung['OncotreeCode'] == 'LUAD']\n",
    "df_lung_LUSC = df_lung[df_lung['OncotreeCode'] == 'LUSC']\n",
    "df_lung_SCLC = df_lung[df_lung['OncotreeCode'] == 'SCLC']\n",
    "df_lung_NSCLC = df_lung[df_lung['OncotreeCode'] == 'NSCLC']\n",
    "df_lung_LCLC = df_lung[df_lung['OncotreeCode'] == 'LCLC']\n",
    "#计算每个肺癌亚型的IC50均值\n",
    "print(df_lung_LUAD['IC50'].mean())\n",
    "print(df_lung_LUSC['IC50'].mean())\n",
    "print(df_lung_SCLC['IC50'].mean())\n",
    "print(df_lung_NSCLC['IC50'].mean())\n",
    "print(df_lung_LCLC['IC50'].mean())\n",
    "print(df_lung_LUAD.shape)\n",
    "print(df_lung_LUSC.shape)\n",
    "print(df_lung_SCLC.shape)\n",
    "print(df_lung_NSCLC.shape)\n",
    "print(df_lung_LCLC.shape)"
   ],
   "metadata": {
    "collapsed": false,
    "ExecuteTime": {
     "end_time": "2024-01-25T13:49:02.735256200Z",
     "start_time": "2024-01-25T13:49:02.654008200Z"
    }
   },
   "id": "59d63f9821892261",
   "execution_count": 34
  },
  {
   "cell_type": "code",
   "outputs": [
    {
     "name": "stdout",
     "output_type": "stream",
     "text": [
      "(53,)\n"
     ]
    },
    {
     "data": {
      "text/plain": "cell_line\nA427        212\nA549        219\nABC1        211\nCALU3       218\nCALU6       217\nCORL105     218\nEKVX        215\nHCC44       208\nHCC78       218\nHCC827      216\nHOP62       217\nLXF289      217\nNCIH1355    218\nNCIH1435    216\nNCIH1437    180\nNCIH1563    217\nNCIH1568    217\nNCIH1573    152\nNCIH1623    217\nNCIH1648    152\nNCIH1651    218\nNCIH1666    218\nNCIH1693    217\nNCIH1734    179\nNCIH1755    218\nNCIH1781    217\nNCIH1792    218\nNCIH1793    217\nNCIH1838    152\nNCIH1944    217\nNCIH1975    216\nNCIH2009    152\nNCIH2023    218\nNCIH2030    180\nNCIH2085    218\nNCIH2087    218\nNCIH2122    217\nNCIH2228    217\nNCIH2291    180\nNCIH23      217\nNCIH2342    152\nNCIH2347    152\nNCIH2405    217\nNCIH3122    217\nNCIH358     218\nNCIH441     218\nNCIH522     217\nNCIH650     217\nNCIH838     180\nPC14        233\nRERFLCKJ    217\nRERFLCMS    180\nSW1573      217\ndtype: int64"
     },
     "execution_count": 35,
     "metadata": {},
     "output_type": "execute_result"
    }
   ],
   "source": [
    "# 将df_lung_LUAD按照cell_line列分组计数\n",
    "print(df_lung_LUAD.groupby('cell_line').size().shape)\n",
    "df_lung_LUAD.groupby('cell_line').size()"
   ],
   "metadata": {
    "collapsed": false,
    "ExecuteTime": {
     "end_time": "2024-01-25T13:49:02.765271300Z",
     "start_time": "2024-01-25T13:49:02.672347500Z"
    }
   },
   "id": "1f4c6191bae529be",
   "execution_count": 35
  },
  {
   "cell_type": "code",
   "outputs": [
    {
     "data": {
      "text/plain": "cell_line\nA427        2.083734\nA549        2.126839\nABC1        3.373758\nCALU3       3.685103\nCALU6       3.259278\nCORL105     3.331660\nEKVX        4.287032\nHCC44       2.315300\nHCC78       2.764644\nHCC827      3.464406\nHOP62       3.653889\nLXF289      2.541765\nNCIH1355    3.869713\nNCIH1435    3.460048\nNCIH1437    2.259255\nNCIH1563    3.567885\nNCIH1568    3.905032\nNCIH1573    3.659925\nNCIH1623    2.830177\nNCIH1648    2.244419\nNCIH1651    2.828278\nNCIH1666    3.671152\nNCIH1693    4.349220\nNCIH1734    2.196774\nNCIH1755    2.765261\nNCIH1781    2.953486\nNCIH1792    2.236629\nNCIH1793    4.643482\nNCIH1838    4.492617\nNCIH1944    2.900394\nNCIH1975    2.725264\nNCIH2009    2.674907\nNCIH2023    2.990786\nNCIH2030    2.820422\nNCIH2085    3.504790\nNCIH2087    3.883753\nNCIH2122    1.631861\nNCIH2228    3.561005\nNCIH2291    4.185628\nNCIH23      2.790524\nNCIH2342    3.688610\nNCIH2347    4.802210\nNCIH2405    5.198243\nNCIH3122    2.987052\nNCIH358     3.420865\nNCIH441     5.336580\nNCIH522     3.214659\nNCIH650     3.357919\nNCIH838     2.226867\nPC14        2.764870\nRERFLCKJ    2.969559\nRERFLCMS    1.908691\nSW1573      4.531344\nName: IC50, dtype: float64"
     },
     "execution_count": 36,
     "metadata": {},
     "output_type": "execute_result"
    }
   ],
   "source": [
    "# 将df_lung_LUAD按照cell_line列分组，计算每组IC50均值\n",
    "df_lung_LUAD.groupby('cell_line')['IC50'].mean()"
   ],
   "metadata": {
    "collapsed": false,
    "ExecuteTime": {
     "end_time": "2024-01-25T13:49:02.774002500Z",
     "start_time": "2024-01-25T13:49:02.688354Z"
    }
   },
   "id": "2257cb542b60fce8",
   "execution_count": 36
  },
  {
   "cell_type": "code",
   "outputs": [
    {
     "name": "stdout",
     "output_type": "stream",
     "text": [
      "(13,)\n"
     ]
    },
    {
     "data": {
      "text/plain": "cell_line\nEBC1         217\nEPLC272H     217\nHARA         218\nHCC15        216\nKNS62        218\nLK2          217\nLOUNH91      217\nNCIH1703     153\nNCIH1869     181\nNCIH2170     215\nNCIH520      218\nRERFLCSQ1    217\nSKMES1       217\ndtype: int64"
     },
     "execution_count": 37,
     "metadata": {},
     "output_type": "execute_result"
    }
   ],
   "source": [
    "# 将df_lung_LUSC按照cell_line列分组计数\n",
    "print(df_lung_LUSC.groupby('cell_line').size().shape)\n",
    "df_lung_LUSC.groupby('cell_line').size()"
   ],
   "metadata": {
    "collapsed": false,
    "ExecuteTime": {
     "end_time": "2024-01-25T13:49:02.823322200Z",
     "start_time": "2024-01-25T13:49:02.745959300Z"
    }
   },
   "id": "c9be80477263d892",
   "execution_count": 37
  },
  {
   "cell_type": "code",
   "outputs": [
    {
     "data": {
      "text/plain": "cell_line\nEBC1         2.756060\nEPLC272H     2.448825\nHARA         2.220111\nHCC15        3.204460\nKNS62        3.113284\nLK2          2.967368\nLOUNH91      2.992204\nNCIH1703     1.947610\nNCIH1869     3.635554\nNCIH2170     2.366260\nNCIH520      3.030817\nRERFLCSQ1    2.961082\nSKMES1       3.236934\nName: IC50, dtype: float64"
     },
     "execution_count": 38,
     "metadata": {},
     "output_type": "execute_result"
    }
   ],
   "source": [
    "# 将df_lung_LUSC按照cell_line列分组，计算每组IC50均值\n",
    "df_lung_LUSC.groupby('cell_line')['IC50'].mean()"
   ],
   "metadata": {
    "collapsed": false,
    "ExecuteTime": {
     "end_time": "2024-01-25T13:49:02.838337300Z",
     "start_time": "2024-01-25T13:49:02.780493400Z"
    }
   },
   "id": "eafcdd396b9891b6",
   "execution_count": 38
  },
  {
   "cell_type": "code",
   "outputs": [
    {
     "data": {
      "text/plain": "cell_line\nCOLO668     218\nCORL279     151\nCORL311     217\nCORL88      153\nCORL95       90\nDMS114      218\nDMS273      217\nDMS53       217\nDMS79       212\nHCC33       180\nLU134A      180\nLU135       217\nLU165       218\nNCIH1048    217\nNCIH1092    217\nNCIH1105    179\nNCIH1341    152\nNCIH1436    179\nNCIH146     180\nNCIH1694    199\nNCIH1836    180\nNCIH1876    216\nNCIH196     217\nNCIH1963    200\nNCIH2029    214\nNCIH2081    180\nNCIH209     216\nNCIH211     207\nNCIH2171    178\nNCIH2196    180\nNCIH2227    211\nNCIH446     216\nNCIH524     218\nNCIH526     214\nNCIH69      151\nNCIH82      218\nNCIH841     208\nSBC5        217\nSHP77       217\nSW1271      218\ndtype: int64"
     },
     "execution_count": 39,
     "metadata": {},
     "output_type": "execute_result"
    }
   ],
   "source": [
    "# 将df_lung_SCLC按照cell_line列分组计数\n",
    "df_lung_SCLC.groupby('cell_line').size()"
   ],
   "metadata": {
    "collapsed": false,
    "ExecuteTime": {
     "end_time": "2024-01-25T13:49:02.858984400Z",
     "start_time": "2024-01-25T13:49:02.837263200Z"
    }
   },
   "id": "c07052b69882bfda",
   "execution_count": 39
  },
  {
   "cell_type": "code",
   "outputs": [
    {
     "data": {
      "text/plain": "cell_line\nCOLO668     2.958644\nCORL279     1.840898\nCORL311     2.292915\nCORL88      3.377413\nCORL95      3.293159\nDMS114      2.996707\nDMS273      2.297249\nDMS53       3.465210\nDMS79       3.029730\nHCC33       2.536028\nLU134A      2.009420\nLU135       2.600281\nLU165       4.729243\nNCIH1048    2.608096\nNCIH1092    3.994255\nNCIH1105    3.127476\nNCIH1341    2.525309\nNCIH1436    2.876299\nNCIH146     2.549774\nNCIH1694    2.903202\nNCIH1836    4.343933\nNCIH1876    2.184054\nNCIH196     3.913057\nNCIH1963    2.265536\nNCIH2029    3.344416\nNCIH2081    2.720299\nNCIH209     1.959613\nNCIH211     1.567235\nNCIH2171    1.512347\nNCIH2196    3.194765\nNCIH2227    3.090786\nNCIH446     2.121046\nNCIH524     2.057855\nNCIH526     2.202300\nNCIH69      2.314723\nNCIH82      1.890956\nNCIH841     3.068002\nSBC5        2.299435\nSHP77       2.526963\nSW1271      4.275926\nName: IC50, dtype: float64"
     },
     "execution_count": 40,
     "metadata": {},
     "output_type": "execute_result"
    }
   ],
   "source": [
    "# 将df_lung_SCLC按照cell_line列分组，计算每组IC50均值\n",
    "df_lung_SCLC.groupby('cell_line')['IC50'].mean()"
   ],
   "metadata": {
    "collapsed": false,
    "ExecuteTime": {
     "end_time": "2024-01-25T13:49:02.914753Z",
     "start_time": "2024-01-25T13:49:02.862402200Z"
    }
   },
   "id": "52e283c261e53397",
   "execution_count": 40
  },
  {
   "cell_type": "code",
   "outputs": [
    {
     "data": {
      "text/plain": "cell_line\nBEN         180\nCAL12T      180\nCHAGOK1     180\nHOP92       217\nNCIH1650    217\nNCIH2110    180\nNCIH2172    180\nNCIH2444    179\ndtype: int64"
     },
     "execution_count": 41,
     "metadata": {},
     "output_type": "execute_result"
    }
   ],
   "source": [
    "# 将df_lung_NSCLC按照cell_line列分组计数\n",
    "df_lung_NSCLC.groupby('cell_line').size()"
   ],
   "metadata": {
    "collapsed": false,
    "ExecuteTime": {
     "end_time": "2024-01-25T13:49:02.915778600Z",
     "start_time": "2024-01-25T13:49:02.883782700Z"
    }
   },
   "id": "5d871affa1fb738a",
   "execution_count": 41
  },
  {
   "cell_type": "code",
   "outputs": [
    {
     "data": {
      "text/plain": "cell_line\nBEN         2.940921\nCAL12T      2.717184\nCHAGOK1     3.142675\nHOP92       3.507879\nNCIH1650    4.404607\nNCIH2110    2.131641\nNCIH2172    3.678711\nNCIH2444    4.923961\nName: IC50, dtype: float64"
     },
     "execution_count": 42,
     "metadata": {},
     "output_type": "execute_result"
    }
   ],
   "source": [
    "# 将df_lung_NSCLC按照cell_line列分组，计算每组IC50均值\n",
    "df_lung_NSCLC.groupby('cell_line')['IC50'].mean()"
   ],
   "metadata": {
    "collapsed": false,
    "ExecuteTime": {
     "end_time": "2024-01-25T13:49:02.915778600Z",
     "start_time": "2024-01-25T13:49:02.901160300Z"
    }
   },
   "id": "fc67b09eaf262822",
   "execution_count": 42
  },
  {
   "cell_type": "code",
   "outputs": [
    {
     "data": {
      "text/plain": "cell_line\nCORL23       217\nIALM         218\nLCLC103H     218\nLCLC97TM1    217\nNCIH1155     216\nNCIH1299     218\nNCIH1581     218\nNCIH1915     217\nNCIH460      178\nNCIH661      217\nNCIH810      218\ndtype: int64"
     },
     "execution_count": 43,
     "metadata": {},
     "output_type": "execute_result"
    }
   ],
   "source": [
    "# 将df_lung_LCLC按照cell_line列分组计数\n",
    "df_lung_LCLC.groupby('cell_line').size()"
   ],
   "metadata": {
    "collapsed": false,
    "ExecuteTime": {
     "end_time": "2024-01-25T13:49:02.954802Z",
     "start_time": "2024-01-25T13:49:02.916895100Z"
    }
   },
   "id": "39bc7812f0021520",
   "execution_count": 43
  },
  {
   "cell_type": "code",
   "outputs": [
    {
     "data": {
      "text/plain": "cell_line\nCORL23       3.102153\nIALM         4.097379\nLCLC103H     3.168922\nLCLC97TM1    2.824349\nNCIH1155     2.313106\nNCIH1299     3.083103\nNCIH1581     2.484422\nNCIH1915     3.383698\nNCIH460      1.705192\nNCIH661      3.682746\nNCIH810      3.074673\nName: IC50, dtype: float64"
     },
     "execution_count": 44,
     "metadata": {},
     "output_type": "execute_result"
    }
   ],
   "source": [
    "# 将df_lung_LCLC按照cell_line列分组，计算每组IC50均值\n",
    "df_lung_LCLC.groupby('cell_line')['IC50'].mean()"
   ],
   "metadata": {
    "collapsed": false,
    "ExecuteTime": {
     "end_time": "2024-01-25T13:49:02.956892200Z",
     "start_time": "2024-01-25T13:49:02.933332500Z"
    }
   },
   "id": "c465c739b597d79e",
   "execution_count": 44
  },
  {
   "cell_type": "markdown",
   "source": [
    "# 分割训练和测试集 Cell Blind"
   ],
   "metadata": {
    "collapsed": false
   },
   "id": "8ed0ba152bd3bf04"
  },
  {
   "cell_type": "code",
   "outputs": [
    {
     "name": "stdout",
     "output_type": "stream",
     "text": [
      "测试集细胞系数量： 46\n",
      "(105754, 4)\n",
      "(9492, 4)\n"
     ]
    }
   ],
   "source": [
    "#设置随机种子\n",
    "np.random.seed(3)\n",
    "# 获取所有唯一的cell_line\n",
    "unique_cell_lines = df_all_merged['cell_line'].unique()\n",
    "# 随机打乱这些唯一的cell_line\n",
    "np.random.shuffle(unique_cell_lines)\n",
    "# 根据你的比例来分割这些cell_line\n",
    "test_size = 0.082  # 测试集大小\n",
    "n_test = int(np.ceil(len(unique_cell_lines) * test_size))\n",
    "print('测试集细胞系数量：',n_test)\n",
    "train_cell_lines = unique_cell_lines[n_test:]\n",
    "test_cell_lines = unique_cell_lines[:n_test]\n",
    "\n",
    "# 现在根据这些cell_line来分割原始数据集\n",
    "df_train = df_all_merged[df_all_merged['cell_line'].isin(train_cell_lines)]\n",
    "df_test = df_all_merged[df_all_merged['cell_line'].isin(test_cell_lines)]\n",
    "\n",
    "print(df_train.shape)\n",
    "print(df_test.shape)\n"
   ],
   "metadata": {
    "collapsed": false,
    "ExecuteTime": {
     "end_time": "2024-01-25T13:49:44.235516600Z",
     "start_time": "2024-01-25T13:49:44.208627400Z"
    }
   },
   "id": "640e1f0fc350543a",
   "execution_count": 52
  },
  {
   "cell_type": "code",
   "outputs": [
    {
     "name": "stdout",
     "output_type": "stream",
     "text": [
      "(22229, 4)\n",
      "(3138, 4)\n"
     ]
    }
   ],
   "source": [
    "# 将df_lung中cell_line列中[ABC1,NCIH650,CORL105,CALU6,NCIH522,NCIH2081,NCIH1048,LU135,NCIH146,RERFLCSQ1,EBC1,NCIH2172,HOP92,NCIH810,NCIH1299]取出来\n",
    "df_lung_test = df_lung[df_lung['cell_line'].isin(['NCIH2172','CHAGOK1','LCLC103H','NCIH1299','NCIH2170','RERFLCSQ1','NCIH146','NCIH526','NCIH1963','LU135','EKVX','PC14','HCC827','NCIH1355','NCIH2228'])]\n",
    "df_lung_train = df_lung[~df_lung['cell_line'].isin(['NCIH2172','CHAGOK1','LCLC103H','NCIH1299','NCIH2170','RERFLCSQ1','NCIH146','NCIH526','NCIH1963','LU135','EKVX','PC14','HCC827','NCIH1355','NCIH2228'])]\n",
    "print(df_lung_train.shape)\n",
    "print(df_lung_test.shape)"
   ],
   "metadata": {
    "collapsed": false,
    "ExecuteTime": {
     "end_time": "2024-01-25T13:49:46.403272400Z",
     "start_time": "2024-01-25T13:49:46.390685700Z"
    }
   },
   "id": "2cd752ca7c9050b",
   "execution_count": 53
  },
  {
   "cell_type": "code",
   "outputs": [
    {
     "name": "stdout",
     "output_type": "stream",
     "text": [
      "(127983, 4)\n",
      "(12630, 4)\n"
     ]
    }
   ],
   "source": [
    "#df_train和df_lung_train合并；df_test和df_lung_test合并\n",
    "df_train_final = pd.concat([df_train, df_lung_train])\n",
    "df_test_final = pd.concat([df_test, df_lung_test])\n",
    "print(df_train_final.shape)\n",
    "print(df_test_final.shape)"
   ],
   "metadata": {
    "collapsed": false,
    "ExecuteTime": {
     "end_time": "2024-01-25T13:49:49.472976500Z",
     "start_time": "2024-01-25T13:49:49.461023800Z"
    }
   },
   "id": "92a587283b9ce3c5",
   "execution_count": 54
  },
  {
   "cell_type": "code",
   "outputs": [],
   "source": [
    "# df_train_final 和df_test_final 重新编号\n",
    "df_train_final = df_train_final.reset_index(drop=True)\n",
    "df_test_final = df_test_final.reset_index(drop=True)"
   ],
   "metadata": {
    "collapsed": false,
    "ExecuteTime": {
     "end_time": "2024-01-25T13:52:00.050067500Z",
     "start_time": "2024-01-25T13:52:00.031966600Z"
    }
   },
   "id": "7d8c9101230f30f8",
   "execution_count": 56
  }
 ],
 "metadata": {
  "kernelspec": {
   "display_name": "Python 3",
   "language": "python",
   "name": "python3"
  },
  "language_info": {
   "codemirror_mode": {
    "name": "ipython",
    "version": 2
   },
   "file_extension": ".py",
   "mimetype": "text/x-python",
   "name": "python",
   "nbconvert_exporter": "python",
   "pygments_lexer": "ipython2",
   "version": "2.7.6"
  }
 },
 "nbformat": 4,
 "nbformat_minor": 5
}
