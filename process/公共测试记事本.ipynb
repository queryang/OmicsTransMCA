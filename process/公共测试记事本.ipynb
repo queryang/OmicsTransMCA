{
 "cells": [
  {
   "cell_type": "markdown",
   "source": [
    "# 测试关于数据标准化的正确性"
   ],
   "metadata": {
    "collapsed": false
   },
   "id": "4aaab4fc4bef453a"
  },
  {
   "cell_type": "code",
   "execution_count": 1,
   "outputs": [],
   "source": [
    "import numpy as np\n",
    "import pandas as pd"
   ],
   "metadata": {
    "collapsed": false,
    "ExecuteTime": {
     "end_time": "2023-12-07T03:35:49.971366200Z",
     "start_time": "2023-12-07T03:35:48.626899500Z"
    }
   },
   "id": "622358e528a723be"
  },
  {
   "cell_type": "code",
   "execution_count": 16,
   "outputs": [],
   "source": [
    "\n",
    "def demo1():\n",
    "    # 生成数据\n",
    "    data = [[1, 2, 3], [4, 5, 6], [7, 8, 9]]\n",
    "    print(data)\n",
    "    df = pd.DataFrame(data)\n",
    "\n",
    "    # 对每一行进行标准化\n",
    "    # df = df.sub(df.mean(axis=1), axis=0)\n",
    "    # df = df.div(df.std(axis=1), axis=0)\n",
    "    # 对每一列进行标准化\n",
    "    df = df.sub(df.mean(axis=0), axis=0)\n",
    "    df = df.div(df.std(axis=0), axis=0)\n",
    "    # 显示结果\n",
    "    print(df)"
   ],
   "metadata": {
    "collapsed": false,
    "ExecuteTime": {
     "end_time": "2023-12-07T03:56:53.455376500Z",
     "start_time": "2023-12-07T03:56:53.439710Z"
    }
   },
   "id": "cd9742331fbe17d9"
  },
  {
   "cell_type": "code",
   "execution_count": 20,
   "outputs": [],
   "source": [
    "# 使用sklearn进行标准化\n",
    "from sklearn.preprocessing import StandardScaler\n",
    "\n",
    "def demo2():\n",
    "    # 生成数据\n",
    "    data = [[1, 2, 3],\n",
    "            [4, 5, 6], \n",
    "            [7, 8, 9]]\n",
    "    print(data)\n",
    "    df = pd.DataFrame(data)\n",
    "\n",
    "    # 对每一行进行标准化\n",
    "    scaler = StandardScaler()\n",
    "    df = scaler.fit_transform(df)\n",
    "\n",
    "    # 显示结果\n",
    "    print(df)"
   ],
   "metadata": {
    "collapsed": false,
    "ExecuteTime": {
     "end_time": "2023-12-07T04:05:12.802916300Z",
     "start_time": "2023-12-07T04:05:12.791225400Z"
    }
   },
   "id": "1b907d7f094a2ced"
  },
  {
   "cell_type": "code",
   "execution_count": 18,
   "outputs": [
    {
     "name": "stdout",
     "output_type": "stream",
     "text": [
      "[[1, 2, 3], [4, 5, 6], [7, 8, 9]]\n",
      "     0    1    2\n",
      "0 -1.5 -1.0 -0.5\n",
      "1 -0.5  0.0  0.5\n",
      "2  0.5  1.0  1.5\n"
     ]
    }
   ],
   "source": [
    "demo1()"
   ],
   "metadata": {
    "collapsed": false,
    "ExecuteTime": {
     "end_time": "2023-12-07T03:56:58.139962500Z",
     "start_time": "2023-12-07T03:56:58.111851900Z"
    }
   },
   "id": "3f694ce9a7d49489"
  },
  {
   "cell_type": "code",
   "execution_count": 21,
   "outputs": [
    {
     "name": "stdout",
     "output_type": "stream",
     "text": [
      "[[1, 2, 3], [4, 5, 6], [7, 8, 9]]\n",
      "[[-1.22474487 -1.22474487 -1.22474487]\n",
      " [ 0.          0.          0.        ]\n",
      " [ 1.22474487  1.22474487  1.22474487]]\n"
     ]
    }
   ],
   "source": [
    "demo2()"
   ],
   "metadata": {
    "collapsed": false,
    "ExecuteTime": {
     "end_time": "2023-12-07T04:05:15.697064400Z",
     "start_time": "2023-12-07T04:05:15.677154800Z"
    }
   },
   "id": "579e321cccf53f7a"
  }
 ],
 "metadata": {
  "kernelspec": {
   "display_name": "Python 3",
   "language": "python",
   "name": "python3"
  },
  "language_info": {
   "codemirror_mode": {
    "name": "ipython",
    "version": 2
   },
   "file_extension": ".py",
   "mimetype": "text/x-python",
   "name": "python",
   "nbconvert_exporter": "python",
   "pygments_lexer": "ipython2",
   "version": "2.7.6"
  }
 },
 "nbformat": 4,
 "nbformat_minor": 5
}
