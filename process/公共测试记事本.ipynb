{
 "cells": [
  {
   "cell_type": "markdown",
   "source": [
    "# 测试关于数据标准化的正确性"
   ],
   "metadata": {
    "collapsed": false
   },
   "id": "4aaab4fc4bef453a"
  },
  {
   "cell_type": "code",
   "outputs": [],
   "source": [],
   "metadata": {
    "collapsed": false
   },
   "id": "d2951e7847e8934d"
  },
  {
   "cell_type": "code",
   "execution_count": 2,
   "outputs": [],
   "source": [
    "import numpy as np\n",
    "import pandas as pd"
   ],
   "metadata": {
    "collapsed": false,
    "ExecuteTime": {
     "end_time": "2024-01-31T07:51:05.954104500Z",
     "start_time": "2024-01-31T07:51:05.950595500Z"
    }
   },
   "id": "622358e528a723be"
  },
  {
   "cell_type": "code",
   "outputs": [
    {
     "name": "stdout",
     "output_type": "stream",
     "text": [
      "1.0\n"
     ]
    }
   ],
   "source": [
    "import torch\n",
    "\n",
    "# 把一个tensor的数转换成float\n",
    "a = torch.tensor(1)\n",
    "print(float(a))"
   ],
   "metadata": {
    "collapsed": false,
    "ExecuteTime": {
     "end_time": "2024-03-01T07:01:39.507677Z",
     "start_time": "2024-03-01T07:01:39.504214Z"
    }
   },
   "id": "ed5d8248ad5340cd",
   "execution_count": 3
  },
  {
   "cell_type": "code",
   "outputs": [],
   "source": [
    "n_fold = 5\n",
    "for i in range(n_fold):\n",
    "    print(i)"
   ],
   "metadata": {
    "collapsed": false
   },
   "id": "fe3579a5f7b12cf4"
  },
  {
   "cell_type": "code",
   "execution_count": 16,
   "outputs": [],
   "source": [
    "\n",
    "def demo1():\n",
    "    # 生成数据\n",
    "    data = [[1, 2, 3], [4, 5, 6], [7, 8, 9]]\n",
    "    print(data)\n",
    "    df = pd.DataFrame(data)\n",
    "\n",
    "    # 对每一行进行标准化\n",
    "    # df = df.sub(df.mean(axis=1), axis=0)\n",
    "    # df = df.div(df.std(axis=1), axis=0)\n",
    "    # 对每一列进行标准化\n",
    "    df = df.sub(df.mean(axis=0), axis=0)\n",
    "    df = df.div(df.std(axis=0), axis=0)\n",
    "    # 显示结果\n",
    "    print(df)"
   ],
   "metadata": {
    "collapsed": false,
    "ExecuteTime": {
     "end_time": "2023-12-07T03:56:53.455376500Z",
     "start_time": "2023-12-07T03:56:53.439710Z"
    }
   },
   "id": "cd9742331fbe17d9"
  },
  {
   "cell_type": "code",
   "execution_count": 20,
   "outputs": [],
   "source": [
    "# 使用sklearn进行标准化\n",
    "from sklearn.preprocessing import StandardScaler\n",
    "\n",
    "def demo2():\n",
    "    # 生成数据\n",
    "    data = [[1, 2, 3],\n",
    "            [4, 5, 6], \n",
    "            [7, 8, 9]]\n",
    "    print(data)\n",
    "    df = pd.DataFrame(data)\n",
    "\n",
    "    # 对每一行进行标准化\n",
    "    scaler = StandardScaler()\n",
    "    df = scaler.fit_transform(df)\n",
    "\n",
    "    # 显示结果\n",
    "    print(df)"
   ],
   "metadata": {
    "collapsed": false,
    "ExecuteTime": {
     "end_time": "2023-12-07T04:05:12.802916300Z",
     "start_time": "2023-12-07T04:05:12.791225400Z"
    }
   },
   "id": "1b907d7f094a2ced"
  },
  {
   "cell_type": "code",
   "execution_count": 18,
   "outputs": [
    {
     "name": "stdout",
     "output_type": "stream",
     "text": [
      "[[1, 2, 3], [4, 5, 6], [7, 8, 9]]\n",
      "     0    1    2\n",
      "0 -1.5 -1.0 -0.5\n",
      "1 -0.5  0.0  0.5\n",
      "2  0.5  1.0  1.5\n"
     ]
    }
   ],
   "source": [
    "demo1()"
   ],
   "metadata": {
    "collapsed": false,
    "ExecuteTime": {
     "end_time": "2023-12-07T03:56:58.139962500Z",
     "start_time": "2023-12-07T03:56:58.111851900Z"
    }
   },
   "id": "3f694ce9a7d49489"
  },
  {
   "cell_type": "code",
   "execution_count": 21,
   "outputs": [
    {
     "name": "stdout",
     "output_type": "stream",
     "text": [
      "[[1, 2, 3], [4, 5, 6], [7, 8, 9]]\n",
      "[[-1.22474487 -1.22474487 -1.22474487]\n",
      " [ 0.          0.          0.        ]\n",
      " [ 1.22474487  1.22474487  1.22474487]]\n"
     ]
    }
   ],
   "source": [
    "demo2()"
   ],
   "metadata": {
    "collapsed": false,
    "ExecuteTime": {
     "end_time": "2023-12-07T04:05:15.697064400Z",
     "start_time": "2023-12-07T04:05:15.677154800Z"
    }
   },
   "id": "579e321cccf53f7a"
  },
  {
   "cell_type": "markdown",
   "source": [
    "## 测试P_value -> logP_value"
   ],
   "metadata": {
    "collapsed": false
   },
   "id": "cbc05d8a15ebd0a9"
  },
  {
   "cell_type": "code",
   "execution_count": 1,
   "outputs": [
    {
     "name": "stdout",
     "output_type": "stream",
     "text": [
      "5.999999999999999\n"
     ]
    }
   ],
   "source": [
    "from math import log  \n",
    "p_value = 0.000001\n",
    "\n",
    "information_gain = -log(p_value, 10)\n",
    "\n",
    "print(information_gain)\n",
    "\n",
    "# 如果p_value是一个dataframe，那么如何计算information_gain呢？\n",
    "\n"
   ],
   "metadata": {
    "collapsed": false,
    "ExecuteTime": {
     "end_time": "2023-12-08T03:20:13.018101200Z",
     "start_time": "2023-12-08T03:20:13.003091900Z"
    }
   },
   "id": "40dfc8f9e44d8c1d"
  },
  {
   "cell_type": "markdown",
   "source": [
    "# 处理pathway_target文件"
   ],
   "metadata": {
    "collapsed": false
   },
   "id": "7496b3c0be7cc15e"
  },
  {
   "cell_type": "code",
   "outputs": [
    {
     "data": {
      "text/plain": "        Drug name  Drug ID                 Drug target Target Pathway\n0          123138     1824                         NaN   Unclassified\n1          123829     1820                         NaN   Unclassified\n2          150412     1836                         NaN   Unclassified\n3  5-Fluorouracil     1073  Antimetabolite (DNA & RNA)          Other\n4   5-azacytidine     2156      DNA methyltransferases          Other",
      "text/html": "<div>\n<style scoped>\n    .dataframe tbody tr th:only-of-type {\n        vertical-align: middle;\n    }\n\n    .dataframe tbody tr th {\n        vertical-align: top;\n    }\n\n    .dataframe thead th {\n        text-align: right;\n    }\n</style>\n<table border=\"1\" class=\"dataframe\">\n  <thead>\n    <tr style=\"text-align: right;\">\n      <th></th>\n      <th>Drug name</th>\n      <th>Drug ID</th>\n      <th>Drug target</th>\n      <th>Target Pathway</th>\n    </tr>\n  </thead>\n  <tbody>\n    <tr>\n      <th>0</th>\n      <td>123138</td>\n      <td>1824</td>\n      <td>NaN</td>\n      <td>Unclassified</td>\n    </tr>\n    <tr>\n      <th>1</th>\n      <td>123829</td>\n      <td>1820</td>\n      <td>NaN</td>\n      <td>Unclassified</td>\n    </tr>\n    <tr>\n      <th>2</th>\n      <td>150412</td>\n      <td>1836</td>\n      <td>NaN</td>\n      <td>Unclassified</td>\n    </tr>\n    <tr>\n      <th>3</th>\n      <td>5-Fluorouracil</td>\n      <td>1073</td>\n      <td>Antimetabolite (DNA &amp; RNA)</td>\n      <td>Other</td>\n    </tr>\n    <tr>\n      <th>4</th>\n      <td>5-azacytidine</td>\n      <td>2156</td>\n      <td>DNA methyltransferases</td>\n      <td>Other</td>\n    </tr>\n  </tbody>\n</table>\n</div>"
     },
     "execution_count": 8,
     "metadata": {},
     "output_type": "execute_result"
    }
   ],
   "source": [
    "df_target = pd.read_csv('../data/GDSC2_Drug_Pathway_Target.csv')\n",
    "# 去除重复的数据\n",
    "df_target = df_target.drop_duplicates()\n",
    "# 按照Drug name进行排序\n",
    "df_target = df_target.sort_values(by='Drug name')\n",
    "#重置索引\n",
    "df_target = df_target.reset_index(drop=True)\n",
    "df_target.head()"
   ],
   "metadata": {
    "collapsed": false,
    "ExecuteTime": {
     "end_time": "2024-01-31T07:56:32.413118300Z",
     "start_time": "2024-01-31T07:56:32.310563500Z"
    }
   },
   "id": "e9cea4a34b9449e6",
   "execution_count": 8
  },
  {
   "cell_type": "code",
   "outputs": [],
   "source": [],
   "metadata": {
    "collapsed": false
   },
   "id": "eb6fa356361bb3bd"
  }
 ],
 "metadata": {
  "kernelspec": {
   "display_name": "Python 3",
   "language": "python",
   "name": "python3"
  },
  "language_info": {
   "codemirror_mode": {
    "name": "ipython",
    "version": 2
   },
   "file_extension": ".py",
   "mimetype": "text/x-python",
   "name": "python",
   "nbconvert_exporter": "python",
   "pygments_lexer": "ipython2",
   "version": "2.7.6"
  }
 },
 "nbformat": 4,
 "nbformat_minor": 5
}
