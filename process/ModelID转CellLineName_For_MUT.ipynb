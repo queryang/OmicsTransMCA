{
 "cells": [
  {
   "cell_type": "code",
   "execution_count": 7,
   "id": "initial_id",
   "metadata": {
    "collapsed": true,
    "ExecuteTime": {
     "end_time": "2023-10-20T08:41:44.130024Z",
     "start_time": "2023-10-20T08:41:44.098776200Z"
    }
   },
   "outputs": [],
   "source": [
    "import pandas as pd"
   ]
  },
  {
   "cell_type": "code",
   "execution_count": 9,
   "outputs": [
    {
     "name": "stdout",
     "output_type": "stream",
     "text": [
      "(1756, 1655)\n"
     ]
    },
    {
     "data": {
      "text/plain": "0  ACH-001533  0.013960197  0.198813815  0.727445609  0.055894018  \\\n1  ACH-000934     0.155329     2.283298     3.326827     4.173181   \n2  ACH-000653     0.043178     0.614925     0.608416     0.172878   \n3  ACH-001497     0.031741     0.452033     1.653965     0.127083   \n4  ACH-000888     0.253932     0.024312     0.035761     0.383726   \n5  ACH-000433     0.050807     0.723567     0.078038     0.203421   \n\n0  0.012690722  0.044449592  0.035552486  0.020308671  0.012690722  ...  \\\n1     0.141204     0.494573     0.395578     0.225966     0.141204  ...   \n2     0.039252     0.137481     0.109963     0.062814     0.039252  ...   \n3     0.028854     0.101063     0.080834     0.046175     0.028854  ...   \n4     0.230841     0.808530     0.646692     0.369410     0.230841  ...   \n5     0.046187     0.161770     0.129390     0.073912     0.046187  ...   \n\n0  0.010151992  0.027929258  1.866679748  1.522943537  0.036823281  \\\n1     0.112957     0.310757     0.000142     0.119686     0.409718   \n2     0.031400     0.086384     0.297929     0.132682     0.113893   \n3     0.023082     0.063501     0.820144     1.014050     0.083723   \n4     0.184662     1.287173     0.018015     0.278074     0.669808   \n5     0.036947     0.101646     0.164809     0.046163     0.134015   \n\n0  0.071162519  0.178339768  0.038094149  0.131066388  0.223151518  \n1     3.355601     5.325495     0.423858     1.458333     0.047034  \n2     2.676236     1.154587     0.117824     0.405384     0.690201  \n3     0.161798     0.405482     0.086613     0.297999     0.507368  \n4     0.172795     0.091454     0.838377     0.478258     0.000030  \n5     0.258990     0.649053     0.138640     0.477005     0.812143  \n\n[5 rows x 1655 columns]",
      "text/html": "<div>\n<style scoped>\n    .dataframe tbody tr th:only-of-type {\n        vertical-align: middle;\n    }\n\n    .dataframe tbody tr th {\n        vertical-align: top;\n    }\n\n    .dataframe thead th {\n        text-align: right;\n    }\n</style>\n<table border=\"1\" class=\"dataframe\">\n  <thead>\n    <tr style=\"text-align: right;\">\n      <th></th>\n      <th>ACH-001533</th>\n      <th>0.013960197</th>\n      <th>0.198813815</th>\n      <th>0.727445609</th>\n      <th>0.055894018</th>\n      <th>0.012690722</th>\n      <th>0.044449592</th>\n      <th>0.035552486</th>\n      <th>0.020308671</th>\n      <th>0.012690722</th>\n      <th>...</th>\n      <th>0.010151992</th>\n      <th>0.027929258</th>\n      <th>1.866679748</th>\n      <th>1.522943537</th>\n      <th>0.036823281</th>\n      <th>0.071162519</th>\n      <th>0.178339768</th>\n      <th>0.038094149</th>\n      <th>0.131066388</th>\n      <th>0.223151518</th>\n    </tr>\n  </thead>\n  <tbody>\n    <tr>\n      <th>1</th>\n      <td>ACH-000934</td>\n      <td>0.155329</td>\n      <td>2.283298</td>\n      <td>3.326827</td>\n      <td>4.173181</td>\n      <td>0.141204</td>\n      <td>0.494573</td>\n      <td>0.395578</td>\n      <td>0.225966</td>\n      <td>0.141204</td>\n      <td>...</td>\n      <td>0.112957</td>\n      <td>0.310757</td>\n      <td>0.000142</td>\n      <td>0.119686</td>\n      <td>0.409718</td>\n      <td>3.355601</td>\n      <td>5.325495</td>\n      <td>0.423858</td>\n      <td>1.458333</td>\n      <td>0.047034</td>\n    </tr>\n    <tr>\n      <th>2</th>\n      <td>ACH-000653</td>\n      <td>0.043178</td>\n      <td>0.614925</td>\n      <td>0.608416</td>\n      <td>0.172878</td>\n      <td>0.039252</td>\n      <td>0.137481</td>\n      <td>0.109963</td>\n      <td>0.062814</td>\n      <td>0.039252</td>\n      <td>...</td>\n      <td>0.031400</td>\n      <td>0.086384</td>\n      <td>0.297929</td>\n      <td>0.132682</td>\n      <td>0.113893</td>\n      <td>2.676236</td>\n      <td>1.154587</td>\n      <td>0.117824</td>\n      <td>0.405384</td>\n      <td>0.690201</td>\n    </tr>\n    <tr>\n      <th>3</th>\n      <td>ACH-001497</td>\n      <td>0.031741</td>\n      <td>0.452033</td>\n      <td>1.653965</td>\n      <td>0.127083</td>\n      <td>0.028854</td>\n      <td>0.101063</td>\n      <td>0.080834</td>\n      <td>0.046175</td>\n      <td>0.028854</td>\n      <td>...</td>\n      <td>0.023082</td>\n      <td>0.063501</td>\n      <td>0.820144</td>\n      <td>1.014050</td>\n      <td>0.083723</td>\n      <td>0.161798</td>\n      <td>0.405482</td>\n      <td>0.086613</td>\n      <td>0.297999</td>\n      <td>0.507368</td>\n    </tr>\n    <tr>\n      <th>4</th>\n      <td>ACH-000888</td>\n      <td>0.253932</td>\n      <td>0.024312</td>\n      <td>0.035761</td>\n      <td>0.383726</td>\n      <td>0.230841</td>\n      <td>0.808530</td>\n      <td>0.646692</td>\n      <td>0.369410</td>\n      <td>0.230841</td>\n      <td>...</td>\n      <td>0.184662</td>\n      <td>1.287173</td>\n      <td>0.018015</td>\n      <td>0.278074</td>\n      <td>0.669808</td>\n      <td>0.172795</td>\n      <td>0.091454</td>\n      <td>0.838377</td>\n      <td>0.478258</td>\n      <td>0.000030</td>\n    </tr>\n    <tr>\n      <th>5</th>\n      <td>ACH-000433</td>\n      <td>0.050807</td>\n      <td>0.723567</td>\n      <td>0.078038</td>\n      <td>0.203421</td>\n      <td>0.046187</td>\n      <td>0.161770</td>\n      <td>0.129390</td>\n      <td>0.073912</td>\n      <td>0.046187</td>\n      <td>...</td>\n      <td>0.036947</td>\n      <td>0.101646</td>\n      <td>0.164809</td>\n      <td>0.046163</td>\n      <td>0.134015</td>\n      <td>0.258990</td>\n      <td>0.649053</td>\n      <td>0.138640</td>\n      <td>0.477005</td>\n      <td>0.812143</td>\n    </tr>\n  </tbody>\n</table>\n<p>5 rows × 1655 columns</p>\n</div>"
     },
     "execution_count": 9,
     "metadata": {},
     "output_type": "execute_result"
    }
   ],
   "source": [
    "df_gsva = pd.read_csv('../data/mut_cardinality_analysis_of_variance_c2_reactome2023Q2.csv')\n",
    "# 将第一行设置为列名\n",
    "df_gsva.columns = df_gsva.iloc[0]\n",
    "# 删除第一行\n",
    "df_gsva = df_gsva.drop(df_gsva.index[0])\n",
    "print(df_gsva.shape)\n",
    "df_gsva.head()"
   ],
   "metadata": {
    "collapsed": false,
    "ExecuteTime": {
     "end_time": "2023-10-20T08:41:58.282964Z",
     "start_time": "2023-10-20T08:41:57.883230600Z"
    }
   },
   "id": "1515bdaaf2555667"
  },
  {
   "cell_type": "code",
   "execution_count": 4,
   "outputs": [
    {
     "name": "stdout",
     "output_type": "stream",
     "text": [
      "(939, 2)\n"
     ]
    },
    {
     "data": {
      "text/plain": "        ModelID cell_line\n0    ACH-000002      HL60\n272  ACH-000004       HEL\n523  ACH-000006  MONOMAC6\n692  ACH-000007     LS513\n911  ACH-000008     A101D",
      "text/html": "<div>\n<style scoped>\n    .dataframe tbody tr th:only-of-type {\n        vertical-align: middle;\n    }\n\n    .dataframe tbody tr th {\n        vertical-align: top;\n    }\n\n    .dataframe thead th {\n        text-align: right;\n    }\n</style>\n<table border=\"1\" class=\"dataframe\">\n  <thead>\n    <tr style=\"text-align: right;\">\n      <th></th>\n      <th>ModelID</th>\n      <th>cell_line</th>\n    </tr>\n  </thead>\n  <tbody>\n    <tr>\n      <th>0</th>\n      <td>ACH-000002</td>\n      <td>HL60</td>\n    </tr>\n    <tr>\n      <th>272</th>\n      <td>ACH-000004</td>\n      <td>HEL</td>\n    </tr>\n    <tr>\n      <th>523</th>\n      <td>ACH-000006</td>\n      <td>MONOMAC6</td>\n    </tr>\n    <tr>\n      <th>692</th>\n      <td>ACH-000007</td>\n      <td>LS513</td>\n    </tr>\n    <tr>\n      <th>911</th>\n      <td>ACH-000008</td>\n      <td>A101D</td>\n    </tr>\n  </tbody>\n</table>\n</div>"
     },
     "execution_count": 4,
     "metadata": {},
     "output_type": "execute_result"
    }
   ],
   "source": [
    "df_Model_CellLineName = pd.read_csv('../data/drug_sensitivity_duplicates_mean.csv')[['ModelID', 'cell_line']]\n",
    "# df_Model_CellLineName去重\n",
    "df_Model_CellLineName = df_Model_CellLineName.drop_duplicates()\n",
    "print(df_Model_CellLineName.shape)\n",
    "df_Model_CellLineName.head()"
   ],
   "metadata": {
    "collapsed": false,
    "ExecuteTime": {
     "end_time": "2023-10-20T08:37:33.619850300Z",
     "start_time": "2023-10-20T08:37:33.462521300Z"
    }
   },
   "id": "2df86342ce67e7f7"
  },
  {
   "cell_type": "code",
   "execution_count": 5,
   "outputs": [
    {
     "name": "stdout",
     "output_type": "stream",
     "text": [
      "(933, 1654)\n"
     ]
    },
    {
     "data": {
      "text/plain": "          REACTOME_INTERLEUKIN_6_SIGNALING REACTOME_APOPTOSIS  \\\ncell_line                                                       \nHL60                             -0.026617           0.027934   \nHEL                                0.18502          -0.016804   \nMONOMAC6                         -0.117759          -0.001927   \nLS513                             0.112177          -0.028243   \nA101D                            -0.016044          -0.041725   \n\n          REACTOME_HEMOSTASIS REACTOME_INTRINSIC_PATHWAY_FOR_APOPTOSIS  \\\ncell_line                                                                \nHL60                 0.013244                                 0.009779   \nHEL                 -0.026363                                -0.015093   \nMONOMAC6            -0.009164                                -0.008636   \nLS513                -0.00526                                -0.088062   \nA101D               -0.026194                                 0.056813   \n\n          REACTOME_MAPK3_ERK1_ACTIVATION  \\\ncell_line                                  \nHL60                           -0.017522   \nHEL                             0.121351   \nMONOMAC6                         -0.2087   \nLS513                           0.148551   \nA101D                           0.002145   \n\n          REACTOME_TRANSLESION_SYNTHESIS_BY_Y_FAMILY_DNA_POLYMERASES_BYPASSES_LESIONS_ON_DNA_TEMPLATE  \\\ncell_line                                                                                               \nHL60                                                0.010707                                            \nHEL                                                 -0.07625                                            \nMONOMAC6                                            0.047866                                            \nLS513                                              -0.046451                                            \nA101D                                              -0.018397                                            \n\n          REACTOME_RECOGNITION_OF_DNA_DAMAGE_BY_PCNA_CONTAINING_REPLICATION_COMPLEX  \\\ncell_line                                                                             \nHL60                                                0.015837                          \nHEL                                                -0.045417                          \nMONOMAC6                                            0.024745                          \nLS513                                                0.04855                          \nA101D                                                0.03552                          \n\n          REACTOME_TRANSLESION_SYNTHESIS_BY_POLH  \\\ncell_line                                          \nHL60                                   -0.012261   \nHEL                                     -0.12616   \nMONOMAC6                                0.107252   \nLS513                                   0.011659   \nA101D                                   0.065351   \n\n          REACTOME_RECOGNITION_AND_ASSOCIATION_OF_DNA_GLYCOSYLASE_WITH_SITE_CONTAINING_AN_AFFECTED_PURINE  \\\ncell_line                                                                                                   \nHL60                                               -0.098853                                                \nHEL                                                -0.103441                                                \nMONOMAC6                                            0.320354                                                \nLS513                                               -0.06296                                                \nA101D                                              -0.141547                                                \n\n          REACTOME_DISPLACEMENT_OF_DNA_GLYCOSYLASE_BY_APEX1  ...  \\\ncell_line                                                    ...   \nHL60                                              -0.117557  ...   \nHEL                                                -0.06761  ...   \nMONOMAC6                                            0.01361  ...   \nLS513                                             -0.251597  ...   \nA101D                                              0.135526  ...   \n\n          REACTOME_NFE2L2_REGULATES_PENTOSE_PHOSPHATE_PATHWAY_GENES  \\\ncell_line                                                             \nHL60                                                0.007487          \nHEL                                                 0.071326          \nMONOMAC6                                            0.166435          \nLS513                                              -0.126548          \nA101D                                                 0.1772          \n\n          REACTOME_GROWTH_HORMONE_RECEPTOR_SIGNALING  \\\ncell_line                                              \nHL60                                       -0.117626   \nHEL                                        -0.095454   \nMONOMAC6                                     0.16654   \nLS513                                      -0.084922   \nA101D                                       0.010488   \n\n          REACTOME_ANTIGEN_PROCESSING_UBIQUITINATION_PROTEASOME_DEGRADATION  \\\ncell_line                                                                     \nHL60                                                 -0.0105                  \nHEL                                                -0.000127                  \nMONOMAC6                                           -0.000835                  \nLS513                                               -0.01796                  \nA101D                                               0.019919                  \n\n          REACTOME_CLASS_I_MHC_MEDIATED_ANTIGEN_PROCESSING_PRESENTATION  \\\ncell_line                                                                 \nHL60                                                 0.00092              \nHEL                                                -0.005089              \nMONOMAC6                                            -0.01142              \nLS513                                               0.003812              \nA101D                                              -0.008509              \n\n          REACTOME_ANTIGEN_PRESENTATION_FOLDING_ASSEMBLY_AND_PEPTIDE_LOADING_OF_CLASS_I_MHC  \\\ncell_line                                                                                     \nHL60                                                0.089484                                  \nHEL                                                -0.040812                                  \nMONOMAC6                                           -0.139812                                  \nLS513                                               -0.01014                                  \nA101D                                               -0.16356                                  \n\n          REACTOME_KINESINS  \\\ncell_line                     \nHL60               0.046531   \nHEL               -0.064097   \nMONOMAC6          -0.011925   \nLS513             -0.054919   \nA101D             -0.116168   \n\n          REACTOME_FACTORS_INVOLVED_IN_MEGAKARYOCYTE_DEVELOPMENT_AND_PLATELET_PRODUCTION  \\\ncell_line                                                                                  \nHL60                                                0.083042                               \nHEL                                                 0.039213                               \nMONOMAC6                                            0.003168                               \nLS513                                               0.054741                               \nA101D                                              -0.086672                               \n\n          REACTOME_ANTIGEN_ACTIVATES_B_CELL_RECEPTOR_BCR_LEADING_TO_GENERATION_OF_SECOND_MESSENGERS  \\\ncell_line                                                                                             \nHL60                                               -0.017536                                          \nHEL                                                -0.045417                                          \nMONOMAC6                                            0.024745                                          \nLS513                                              -0.084942                                          \nA101D                                              -0.064599                                          \n\n          REACTOME_SIGNALING_BY_THE_B_CELL_RECEPTOR_BCR  \\\ncell_line                                                 \nHL60                                          -0.017591   \nHEL                                           -0.042517   \nMONOMAC6                                      -0.036047   \nLS513                                         -0.079124   \nA101D                                          0.002154   \n\n          REACTOME_ION_CHANNEL_TRANSPORT  \ncell_line                                 \nHL60                            0.002723  \nHEL                             0.012651  \nMONOMAC6                        0.032051  \nLS513                           0.005361  \nA101D                           0.020874  \n\n[5 rows x 1654 columns]",
      "text/html": "<div>\n<style scoped>\n    .dataframe tbody tr th:only-of-type {\n        vertical-align: middle;\n    }\n\n    .dataframe tbody tr th {\n        vertical-align: top;\n    }\n\n    .dataframe thead th {\n        text-align: right;\n    }\n</style>\n<table border=\"1\" class=\"dataframe\">\n  <thead>\n    <tr style=\"text-align: right;\">\n      <th></th>\n      <th>REACTOME_INTERLEUKIN_6_SIGNALING</th>\n      <th>REACTOME_APOPTOSIS</th>\n      <th>REACTOME_HEMOSTASIS</th>\n      <th>REACTOME_INTRINSIC_PATHWAY_FOR_APOPTOSIS</th>\n      <th>REACTOME_MAPK3_ERK1_ACTIVATION</th>\n      <th>REACTOME_TRANSLESION_SYNTHESIS_BY_Y_FAMILY_DNA_POLYMERASES_BYPASSES_LESIONS_ON_DNA_TEMPLATE</th>\n      <th>REACTOME_RECOGNITION_OF_DNA_DAMAGE_BY_PCNA_CONTAINING_REPLICATION_COMPLEX</th>\n      <th>REACTOME_TRANSLESION_SYNTHESIS_BY_POLH</th>\n      <th>REACTOME_RECOGNITION_AND_ASSOCIATION_OF_DNA_GLYCOSYLASE_WITH_SITE_CONTAINING_AN_AFFECTED_PURINE</th>\n      <th>REACTOME_DISPLACEMENT_OF_DNA_GLYCOSYLASE_BY_APEX1</th>\n      <th>...</th>\n      <th>REACTOME_NFE2L2_REGULATES_PENTOSE_PHOSPHATE_PATHWAY_GENES</th>\n      <th>REACTOME_GROWTH_HORMONE_RECEPTOR_SIGNALING</th>\n      <th>REACTOME_ANTIGEN_PROCESSING_UBIQUITINATION_PROTEASOME_DEGRADATION</th>\n      <th>REACTOME_CLASS_I_MHC_MEDIATED_ANTIGEN_PROCESSING_PRESENTATION</th>\n      <th>REACTOME_ANTIGEN_PRESENTATION_FOLDING_ASSEMBLY_AND_PEPTIDE_LOADING_OF_CLASS_I_MHC</th>\n      <th>REACTOME_KINESINS</th>\n      <th>REACTOME_FACTORS_INVOLVED_IN_MEGAKARYOCYTE_DEVELOPMENT_AND_PLATELET_PRODUCTION</th>\n      <th>REACTOME_ANTIGEN_ACTIVATES_B_CELL_RECEPTOR_BCR_LEADING_TO_GENERATION_OF_SECOND_MESSENGERS</th>\n      <th>REACTOME_SIGNALING_BY_THE_B_CELL_RECEPTOR_BCR</th>\n      <th>REACTOME_ION_CHANNEL_TRANSPORT</th>\n    </tr>\n    <tr>\n      <th>cell_line</th>\n      <th></th>\n      <th></th>\n      <th></th>\n      <th></th>\n      <th></th>\n      <th></th>\n      <th></th>\n      <th></th>\n      <th></th>\n      <th></th>\n      <th></th>\n      <th></th>\n      <th></th>\n      <th></th>\n      <th></th>\n      <th></th>\n      <th></th>\n      <th></th>\n      <th></th>\n      <th></th>\n      <th></th>\n    </tr>\n  </thead>\n  <tbody>\n    <tr>\n      <th>HL60</th>\n      <td>-0.026617</td>\n      <td>0.027934</td>\n      <td>0.013244</td>\n      <td>0.009779</td>\n      <td>-0.017522</td>\n      <td>0.010707</td>\n      <td>0.015837</td>\n      <td>-0.012261</td>\n      <td>-0.098853</td>\n      <td>-0.117557</td>\n      <td>...</td>\n      <td>0.007487</td>\n      <td>-0.117626</td>\n      <td>-0.0105</td>\n      <td>0.00092</td>\n      <td>0.089484</td>\n      <td>0.046531</td>\n      <td>0.083042</td>\n      <td>-0.017536</td>\n      <td>-0.017591</td>\n      <td>0.002723</td>\n    </tr>\n    <tr>\n      <th>HEL</th>\n      <td>0.18502</td>\n      <td>-0.016804</td>\n      <td>-0.026363</td>\n      <td>-0.015093</td>\n      <td>0.121351</td>\n      <td>-0.07625</td>\n      <td>-0.045417</td>\n      <td>-0.12616</td>\n      <td>-0.103441</td>\n      <td>-0.06761</td>\n      <td>...</td>\n      <td>0.071326</td>\n      <td>-0.095454</td>\n      <td>-0.000127</td>\n      <td>-0.005089</td>\n      <td>-0.040812</td>\n      <td>-0.064097</td>\n      <td>0.039213</td>\n      <td>-0.045417</td>\n      <td>-0.042517</td>\n      <td>0.012651</td>\n    </tr>\n    <tr>\n      <th>MONOMAC6</th>\n      <td>-0.117759</td>\n      <td>-0.001927</td>\n      <td>-0.009164</td>\n      <td>-0.008636</td>\n      <td>-0.2087</td>\n      <td>0.047866</td>\n      <td>0.024745</td>\n      <td>0.107252</td>\n      <td>0.320354</td>\n      <td>0.01361</td>\n      <td>...</td>\n      <td>0.166435</td>\n      <td>0.16654</td>\n      <td>-0.000835</td>\n      <td>-0.01142</td>\n      <td>-0.139812</td>\n      <td>-0.011925</td>\n      <td>0.003168</td>\n      <td>0.024745</td>\n      <td>-0.036047</td>\n      <td>0.032051</td>\n    </tr>\n    <tr>\n      <th>LS513</th>\n      <td>0.112177</td>\n      <td>-0.028243</td>\n      <td>-0.00526</td>\n      <td>-0.088062</td>\n      <td>0.148551</td>\n      <td>-0.046451</td>\n      <td>0.04855</td>\n      <td>0.011659</td>\n      <td>-0.06296</td>\n      <td>-0.251597</td>\n      <td>...</td>\n      <td>-0.126548</td>\n      <td>-0.084922</td>\n      <td>-0.01796</td>\n      <td>0.003812</td>\n      <td>-0.01014</td>\n      <td>-0.054919</td>\n      <td>0.054741</td>\n      <td>-0.084942</td>\n      <td>-0.079124</td>\n      <td>0.005361</td>\n    </tr>\n    <tr>\n      <th>A101D</th>\n      <td>-0.016044</td>\n      <td>-0.041725</td>\n      <td>-0.026194</td>\n      <td>0.056813</td>\n      <td>0.002145</td>\n      <td>-0.018397</td>\n      <td>0.03552</td>\n      <td>0.065351</td>\n      <td>-0.141547</td>\n      <td>0.135526</td>\n      <td>...</td>\n      <td>0.1772</td>\n      <td>0.010488</td>\n      <td>0.019919</td>\n      <td>-0.008509</td>\n      <td>-0.16356</td>\n      <td>-0.116168</td>\n      <td>-0.086672</td>\n      <td>-0.064599</td>\n      <td>0.002154</td>\n      <td>0.020874</td>\n    </tr>\n  </tbody>\n</table>\n<p>5 rows × 1654 columns</p>\n</div>"
     },
     "execution_count": 5,
     "metadata": {},
     "output_type": "execute_result"
    }
   ],
   "source": [
    "# df_Model_CellLineName与df_gsva合并,左边根据ModelID合并,右边根据index合并\n",
    "df_gsva_with_CellLineName = pd.merge(df_Model_CellLineName, df_gsva, left_on='ModelID', right_index=True)\n",
    "# 删除ModelID列\n",
    "df_gsva_with_CellLineName = df_gsva_with_CellLineName.drop(columns=['ModelID'])\n",
    "# 将Cell Line Name列名改为cell_line\n",
    "df_gsva_with_CellLineName = df_gsva_with_CellLineName.rename(columns={'Cell Line Name': 'cell_line'})\n",
    "# 将cell_line列设置为索引\n",
    "df_gsva_with_CellLineName = df_gsva_with_CellLineName.set_index('cell_line')\n",
    "print(df_gsva_with_CellLineName.shape)\n",
    "df_gsva_with_CellLineName.head()"
   ],
   "metadata": {
    "collapsed": false,
    "ExecuteTime": {
     "end_time": "2023-10-20T08:37:51.673078Z",
     "start_time": "2023-10-20T08:37:51.309876700Z"
    }
   },
   "id": "dacc4ca276cd57b0"
  },
  {
   "cell_type": "code",
   "execution_count": 6,
   "outputs": [],
   "source": [
    "# 导出\n",
    "df_gsva_with_CellLineName.to_csv('../data/CNV_Internal_External_analysis_c2_reactome2023Q2_CellLine.csv')"
   ],
   "metadata": {
    "collapsed": false,
    "ExecuteTime": {
     "end_time": "2023-10-20T08:40:44.568622800Z",
     "start_time": "2023-10-20T08:40:40.871088800Z"
    }
   },
   "id": "e39644bb1c9c228a"
  }
 ],
 "metadata": {
  "kernelspec": {
   "display_name": "Python 3",
   "language": "python",
   "name": "python3"
  },
  "language_info": {
   "codemirror_mode": {
    "name": "ipython",
    "version": 2
   },
   "file_extension": ".py",
   "mimetype": "text/x-python",
   "name": "python",
   "nbconvert_exporter": "python",
   "pygments_lexer": "ipython2",
   "version": "2.7.6"
  }
 },
 "nbformat": 4,
 "nbformat_minor": 5
}
