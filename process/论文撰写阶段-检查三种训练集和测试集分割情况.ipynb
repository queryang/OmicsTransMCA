{
 "cells": [
  {
   "cell_type": "code",
   "id": "initial_id",
   "metadata": {
    "collapsed": true,
    "ExecuteTime": {
     "end_time": "2024-04-11T11:24:07.760675Z",
     "start_time": "2024-04-11T11:24:07.278597Z"
    }
   },
   "source": [
    "import numpy as np\n",
    "import pandas as pd"
   ],
   "outputs": [],
   "execution_count": 2
  },
  {
   "metadata": {
    "ExecuteTime": {
     "end_time": "2024-04-11T11:22:34.411425Z",
     "start_time": "2024-04-11T11:22:34.310121Z"
    }
   },
   "cell_type": "code",
   "source": [
    "df_mix_train = pd.read_csv('../data/../model_omics_experiment/data/drug_sensitivity_MixedSet_Erlotinib_train.csv')\n",
    "df_mix_test = pd.read_csv('../data/../model_omics_experiment/data/drug_sensitivity_MixedSet_Erlotinib_test.csv')\n",
    "print(df_mix_train.shape)\n",
    "print(df_mix_test.shape)"
   ],
   "id": "3f484a5c8a075833",
   "outputs": [
    {
     "name": "stdout",
     "output_type": "stream",
     "text": [
      "(128737, 5)\n",
      "(12485, 5)\n"
     ]
    }
   ],
   "execution_count": 2
  },
  {
   "metadata": {
    "ExecuteTime": {
     "end_time": "2024-04-11T11:25:01.323358Z",
     "start_time": "2024-04-11T11:25:01.257288Z"
    }
   },
   "cell_type": "code",
   "source": [
    "df_cellblind_train = pd.read_csv('../data/../model_omics_experiment/data/drug_sensitivity_lung_CellBlind_train.csv')\n",
    "df_cellblind_test = pd.read_csv('../data/../model_omics_experiment/data/drug_sensitivity_lung_CellBlind_test.csv')\n",
    "print(df_cellblind_train.shape)\n",
    "print(df_cellblind_test.shape)\n",
    "# 统计df_cellblind_train有多少种cell_line\n",
    "print(len(df_cellblind_train['cell_line'].unique()))\n",
    "# 统计df_cellblind_test有多少种cell_line\n",
    "print(len(df_cellblind_test['cell_line'].unique()))"
   ],
   "id": "37a98001755bff97",
   "outputs": [
    {
     "name": "stdout",
     "output_type": "stream",
     "text": [
      "(127983, 5)\n",
      "(12630, 5)\n",
      "624\n",
      "61\n"
     ]
    }
   ],
   "execution_count": 4
  },
  {
   "metadata": {
    "ExecuteTime": {
     "end_time": "2024-04-11T11:26:00.700196Z",
     "start_time": "2024-04-11T11:26:00.615309Z"
    }
   },
   "cell_type": "code",
   "source": [
    "df_drugblind_train = pd.read_csv('../data/../model_omics_experiment/data/drug_sensitivity_DrugBlind_train.csv')\n",
    "df_drugblind_test = pd.read_csv('../data/../model_omics_experiment/data/drug_sensitivity_DrugBlind_test.csv')\n",
    "print(df_drugblind_train.shape)\n",
    "print(df_drugblind_test.shape)\n",
    "# 统计df_drugblind_train有多少种drug\n",
    "print(len(df_drugblind_train['drug'].unique()))\n",
    "# 统计df_drugblind_test有多少种drug\n",
    "print(len(df_drugblind_test['drug'].unique()))"
   ],
   "id": "715dc7e80ab7b20",
   "outputs": [
    {
     "name": "stdout",
     "output_type": "stream",
     "text": [
      "(129373, 4)\n",
      "(11849, 4)\n",
      "212\n",
      "21\n"
     ]
    }
   ],
   "execution_count": 5
  }
 ],
 "metadata": {
  "kernelspec": {
   "display_name": "Python 3",
   "language": "python",
   "name": "python3"
  },
  "language_info": {
   "codemirror_mode": {
    "name": "ipython",
    "version": 2
   },
   "file_extension": ".py",
   "mimetype": "text/x-python",
   "name": "python",
   "nbconvert_exporter": "python",
   "pygments_lexer": "ipython2",
   "version": "2.7.6"
  }
 },
 "nbformat": 4,
 "nbformat_minor": 5
}
