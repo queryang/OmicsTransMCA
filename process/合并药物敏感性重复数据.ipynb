{
 "cells": [
  {
   "cell_type": "code",
   "execution_count": 2,
   "id": "initial_id",
   "metadata": {
    "collapsed": true,
    "ExecuteTime": {
     "end_time": "2023-10-10T06:33:14.338817Z",
     "start_time": "2023-10-10T06:33:14.045604100Z"
    }
   },
   "outputs": [],
   "source": [
    "import pandas as pd"
   ]
  },
  {
   "cell_type": "code",
   "execution_count": 3,
   "outputs": [
    {
     "name": "stdout",
     "output_type": "stream",
     "text": [
      "(236019, 4)\n"
     ]
    },
    {
     "data": {
      "text/plain": "      ModelID     Drug Name Cell Line Name      IC50\n0  ACH-001711  Camptothecin          PFSK1 -1.462148\n1  ACH-001711   Vinblastine          PFSK1 -4.996545\n2  ACH-001711     Cisplatin          PFSK1  3.179510\n3  ACH-001711    Cytarabine          PFSK1  3.213791\n4  ACH-001711     Docetaxel          PFSK1 -5.534982",
      "text/html": "<div>\n<style scoped>\n    .dataframe tbody tr th:only-of-type {\n        vertical-align: middle;\n    }\n\n    .dataframe tbody tr th {\n        vertical-align: top;\n    }\n\n    .dataframe thead th {\n        text-align: right;\n    }\n</style>\n<table border=\"1\" class=\"dataframe\">\n  <thead>\n    <tr style=\"text-align: right;\">\n      <th></th>\n      <th>ModelID</th>\n      <th>Drug Name</th>\n      <th>Cell Line Name</th>\n      <th>IC50</th>\n    </tr>\n  </thead>\n  <tbody>\n    <tr>\n      <th>0</th>\n      <td>ACH-001711</td>\n      <td>Camptothecin</td>\n      <td>PFSK1</td>\n      <td>-1.462148</td>\n    </tr>\n    <tr>\n      <th>1</th>\n      <td>ACH-001711</td>\n      <td>Vinblastine</td>\n      <td>PFSK1</td>\n      <td>-4.996545</td>\n    </tr>\n    <tr>\n      <th>2</th>\n      <td>ACH-001711</td>\n      <td>Cisplatin</td>\n      <td>PFSK1</td>\n      <td>3.179510</td>\n    </tr>\n    <tr>\n      <th>3</th>\n      <td>ACH-001711</td>\n      <td>Cytarabine</td>\n      <td>PFSK1</td>\n      <td>3.213791</td>\n    </tr>\n    <tr>\n      <th>4</th>\n      <td>ACH-001711</td>\n      <td>Docetaxel</td>\n      <td>PFSK1</td>\n      <td>-5.534982</td>\n    </tr>\n  </tbody>\n</table>\n</div>"
     },
     "execution_count": 3,
     "metadata": {},
     "output_type": "execute_result"
    }
   ],
   "source": [
    "df_drug_sensitivity = pd.read_csv('../data/drug_sensitivity_with_ModelId_DrugName_CellLineName.csv')\n",
    "# 去掉Drug ID列\n",
    "df_drug_sensitivity = df_drug_sensitivity.drop(['Drug ID'],axis=1)\n",
    "print(df_drug_sensitivity.shape)\n",
    "df_drug_sensitivity.head()"
   ],
   "metadata": {
    "collapsed": false,
    "ExecuteTime": {
     "end_time": "2023-10-10T06:33:15.744141800Z",
     "start_time": "2023-10-10T06:33:15.596254100Z"
    }
   },
   "id": "d17ecf4496e904f7"
  },
  {
   "cell_type": "code",
   "execution_count": 4,
   "outputs": [
    {
     "name": "stdout",
     "output_type": "stream",
     "text": [
      "(229608, 4)\n"
     ]
    },
    {
     "data": {
      "text/plain": "      ModelID       Drug Name Cell Line Name      IC50\n0  ACH-000002          123138           HL60  2.397135\n1  ACH-000002          123829           HL60  1.910071\n2  ACH-000002          150412           HL60  1.909186\n3  ACH-000002  5-Fluorouracil           HL60  2.558926\n4  ACH-000002   5-azacytidine           HL60  0.917132",
      "text/html": "<div>\n<style scoped>\n    .dataframe tbody tr th:only-of-type {\n        vertical-align: middle;\n    }\n\n    .dataframe tbody tr th {\n        vertical-align: top;\n    }\n\n    .dataframe thead th {\n        text-align: right;\n    }\n</style>\n<table border=\"1\" class=\"dataframe\">\n  <thead>\n    <tr style=\"text-align: right;\">\n      <th></th>\n      <th>ModelID</th>\n      <th>Drug Name</th>\n      <th>Cell Line Name</th>\n      <th>IC50</th>\n    </tr>\n  </thead>\n  <tbody>\n    <tr>\n      <th>0</th>\n      <td>ACH-000002</td>\n      <td>123138</td>\n      <td>HL60</td>\n      <td>2.397135</td>\n    </tr>\n    <tr>\n      <th>1</th>\n      <td>ACH-000002</td>\n      <td>123829</td>\n      <td>HL60</td>\n      <td>1.910071</td>\n    </tr>\n    <tr>\n      <th>2</th>\n      <td>ACH-000002</td>\n      <td>150412</td>\n      <td>HL60</td>\n      <td>1.909186</td>\n    </tr>\n    <tr>\n      <th>3</th>\n      <td>ACH-000002</td>\n      <td>5-Fluorouracil</td>\n      <td>HL60</td>\n      <td>2.558926</td>\n    </tr>\n    <tr>\n      <th>4</th>\n      <td>ACH-000002</td>\n      <td>5-azacytidine</td>\n      <td>HL60</td>\n      <td>0.917132</td>\n    </tr>\n  </tbody>\n</table>\n</div>"
     },
     "execution_count": 4,
     "metadata": {},
     "output_type": "execute_result"
    }
   ],
   "source": [
    "# 将df_drug_sensitivity中ModelID,Drug Name,Drug ID,Cell Line Name列重负的数据合并，取IC50列均值\n",
    "df_drug_sensitivity_drop = df_drug_sensitivity.groupby(['ModelID','Drug Name','Cell Line Name']).mean().reset_index()\n",
    "print(df_drug_sensitivity_drop.shape)\n",
    "df_drug_sensitivity_drop.head()"
   ],
   "metadata": {
    "collapsed": false,
    "ExecuteTime": {
     "end_time": "2023-10-10T06:33:27.163878600Z",
     "start_time": "2023-10-10T06:33:27.068922Z"
    }
   },
   "id": "e816cbf468033a48"
  },
  {
   "cell_type": "code",
   "execution_count": 5,
   "outputs": [],
   "source": [
    "df_drug_sensitivity_drop.to_csv('../data/drug_sensitivity_duplicates_mean.csv',index=False)"
   ],
   "metadata": {
    "collapsed": false,
    "ExecuteTime": {
     "end_time": "2023-10-10T06:33:36.444754200Z",
     "start_time": "2023-10-10T06:33:36.039961900Z"
    }
   },
   "id": "11bd3764139310c2"
  }
 ],
 "metadata": {
  "kernelspec": {
   "display_name": "Python 3",
   "language": "python",
   "name": "python3"
  },
  "language_info": {
   "codemirror_mode": {
    "name": "ipython",
    "version": 2
   },
   "file_extension": ".py",
   "mimetype": "text/x-python",
   "name": "python",
   "nbconvert_exporter": "python",
   "pygments_lexer": "ipython2",
   "version": "2.7.6"
  }
 },
 "nbformat": 4,
 "nbformat_minor": 5
}
