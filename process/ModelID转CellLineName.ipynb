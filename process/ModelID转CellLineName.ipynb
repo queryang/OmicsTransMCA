{
 "cells": [
  {
   "cell_type": "code",
   "execution_count": 1,
   "id": "initial_id",
   "metadata": {
    "collapsed": true,
    "ExecuteTime": {
     "end_time": "2024-02-16T02:22:46.253500600Z",
     "start_time": "2024-02-16T02:22:45.884117800Z"
    }
   },
   "outputs": [],
   "source": [
    "import pandas as pd"
   ]
  },
  {
   "cell_type": "code",
   "execution_count": 12,
   "outputs": [
    {
     "name": "stdout",
     "output_type": "stream",
     "text": [
      "(1450, 186)\n"
     ]
    },
    {
     "data": {
      "text/plain": "            KEGG_ABC_TRANSPORTERS  KEGG_ACUTE_MYELOID_LEUKEMIA  \\\nACH-001113               0.847277                     0.000782   \nACH-001289               0.024825                     0.000279   \nACH-001339               0.184867                     0.000206   \nACH-001538               0.277908                     0.000374   \nACH-000242               0.232313                     0.000016   \n\n            KEGG_ADHERENS_JUNCTION  KEGG_ADIPOCYTOKINE_SIGNALING_PATHWAY  \\\nACH-001113            1.620282e-09                              0.012315   \nACH-001289            2.542037e-06                              0.581045   \nACH-001339            1.263397e-09                              0.040346   \nACH-001538            1.251924e-09                              0.071287   \nACH-000242            1.359212e-09                              0.014204   \n\n            KEGG_ALANINE_ASPARTATE_AND_GLUTAMATE_METABOLISM  \\\nACH-001113                                         0.148725   \nACH-001289                                         0.084662   \nACH-001339                                         0.194871   \nACH-001538                                         0.207888   \nACH-000242                                         0.069210   \n\n            KEGG_ALDOSTERONE_REGULATED_SODIUM_REABSORPTION  \\\nACH-001113                                        0.310680   \nACH-001289                                        0.676217   \nACH-001339                                        0.297178   \nACH-001538                                        0.618730   \nACH-000242                                        0.781799   \n\n            KEGG_ALLOGRAFT_REJECTION  KEGG_ALPHA_LINOLENIC_ACID_METABOLISM  \\\nACH-001113                  0.000671                              0.012554   \nACH-001289                  0.000156                              0.106337   \nACH-001339                  0.714815                              0.019402   \nACH-001538                  0.105511                              0.003147   \nACH-000242                  0.004088                              0.402603   \n\n            KEGG_ALZHEIMERS_DISEASE  KEGG_AMINOACYL_TRNA_BIOSYNTHESIS  ...  \\\nACH-001113             7.666828e-29                      3.236602e-09  ...   \nACH-001289             1.797257e-29                      1.147132e-10  ...   \nACH-001339             1.459679e-32                      9.760328e-10  ...   \nACH-001538             6.369189e-32                      7.888626e-10  ...   \nACH-000242             3.500692e-29                      4.314595e-10  ...   \n\n            KEGG_T_CELL_RECEPTOR_SIGNALING_PATHWAY  \\\nACH-001113                                0.446335   \nACH-001289                                0.293227   \nACH-001339                                0.219930   \nACH-001538                                0.067530   \nACH-000242                                0.103609   \n\n            KEGG_UBIQUITIN_MEDIATED_PROTEOLYSIS  \\\nACH-001113                         1.271643e-19   \nACH-001289                         2.645167e-22   \nACH-001339                         1.798509e-19   \nACH-001538                         9.803046e-21   \nACH-000242                         8.702349e-22   \n\n            KEGG_VALINE_LEUCINE_AND_ISOLEUCINE_BIOSYNTHESIS  \\\nACH-001113                                         0.009002   \nACH-001289                                         0.007786   \nACH-001339                                         0.011629   \nACH-001538                                         0.011011   \nACH-000242                                         0.002466   \n\n            KEGG_VALINE_LEUCINE_AND_ISOLEUCINE_DEGRADATION  \\\nACH-001113                                    8.770814e-05   \nACH-001289                                    1.144436e-07   \nACH-001339                                    3.052417e-06   \nACH-001538                                    3.898994e-06   \nACH-000242                                    5.331487e-08   \n\n            KEGG_VASCULAR_SMOOTH_MUSCLE_CONTRACTION  \\\nACH-001113                                 0.220821   \nACH-001289                                 0.274499   \nACH-001339                                 0.458892   \nACH-001538                                 0.147496   \nACH-000242                                 0.902333   \n\n            KEGG_VASOPRESSIN_REGULATED_WATER_REABSORPTION  \\\nACH-001113                                       0.000063   \nACH-001289                                       0.000060   \nACH-001339                                       0.000023   \nACH-001538                                       0.000040   \nACH-000242                                       0.000059   \n\n            KEGG_VEGF_SIGNALING_PATHWAY  KEGG_VIBRIO_CHOLERAE_INFECTION  \\\nACH-001113                     0.261073                    6.624838e-06   \nACH-001289                     0.059752                    1.734930e-07   \nACH-001339                     0.050261                    4.727336e-07   \nACH-001538                     0.109395                    6.002929e-06   \nACH-000242                     0.024832                    5.510693e-07   \n\n            KEGG_VIRAL_MYOCARDITIS  KEGG_WNT_SIGNALING_PATHWAY  \nACH-001113                0.627056                    0.015922  \nACH-001289                0.323210                    0.010679  \nACH-001339                0.001154                    0.012536  \nACH-001538                0.320037                    0.039582  \nACH-000242                0.683393                    0.008463  \n\n[5 rows x 186 columns]",
      "text/html": "<div>\n<style scoped>\n    .dataframe tbody tr th:only-of-type {\n        vertical-align: middle;\n    }\n\n    .dataframe tbody tr th {\n        vertical-align: top;\n    }\n\n    .dataframe thead th {\n        text-align: right;\n    }\n</style>\n<table border=\"1\" class=\"dataframe\">\n  <thead>\n    <tr style=\"text-align: right;\">\n      <th></th>\n      <th>KEGG_ABC_TRANSPORTERS</th>\n      <th>KEGG_ACUTE_MYELOID_LEUKEMIA</th>\n      <th>KEGG_ADHERENS_JUNCTION</th>\n      <th>KEGG_ADIPOCYTOKINE_SIGNALING_PATHWAY</th>\n      <th>KEGG_ALANINE_ASPARTATE_AND_GLUTAMATE_METABOLISM</th>\n      <th>KEGG_ALDOSTERONE_REGULATED_SODIUM_REABSORPTION</th>\n      <th>KEGG_ALLOGRAFT_REJECTION</th>\n      <th>KEGG_ALPHA_LINOLENIC_ACID_METABOLISM</th>\n      <th>KEGG_ALZHEIMERS_DISEASE</th>\n      <th>KEGG_AMINOACYL_TRNA_BIOSYNTHESIS</th>\n      <th>...</th>\n      <th>KEGG_T_CELL_RECEPTOR_SIGNALING_PATHWAY</th>\n      <th>KEGG_UBIQUITIN_MEDIATED_PROTEOLYSIS</th>\n      <th>KEGG_VALINE_LEUCINE_AND_ISOLEUCINE_BIOSYNTHESIS</th>\n      <th>KEGG_VALINE_LEUCINE_AND_ISOLEUCINE_DEGRADATION</th>\n      <th>KEGG_VASCULAR_SMOOTH_MUSCLE_CONTRACTION</th>\n      <th>KEGG_VASOPRESSIN_REGULATED_WATER_REABSORPTION</th>\n      <th>KEGG_VEGF_SIGNALING_PATHWAY</th>\n      <th>KEGG_VIBRIO_CHOLERAE_INFECTION</th>\n      <th>KEGG_VIRAL_MYOCARDITIS</th>\n      <th>KEGG_WNT_SIGNALING_PATHWAY</th>\n    </tr>\n  </thead>\n  <tbody>\n    <tr>\n      <th>ACH-001113</th>\n      <td>0.847277</td>\n      <td>0.000782</td>\n      <td>1.620282e-09</td>\n      <td>0.012315</td>\n      <td>0.148725</td>\n      <td>0.310680</td>\n      <td>0.000671</td>\n      <td>0.012554</td>\n      <td>7.666828e-29</td>\n      <td>3.236602e-09</td>\n      <td>...</td>\n      <td>0.446335</td>\n      <td>1.271643e-19</td>\n      <td>0.009002</td>\n      <td>8.770814e-05</td>\n      <td>0.220821</td>\n      <td>0.000063</td>\n      <td>0.261073</td>\n      <td>6.624838e-06</td>\n      <td>0.627056</td>\n      <td>0.015922</td>\n    </tr>\n    <tr>\n      <th>ACH-001289</th>\n      <td>0.024825</td>\n      <td>0.000279</td>\n      <td>2.542037e-06</td>\n      <td>0.581045</td>\n      <td>0.084662</td>\n      <td>0.676217</td>\n      <td>0.000156</td>\n      <td>0.106337</td>\n      <td>1.797257e-29</td>\n      <td>1.147132e-10</td>\n      <td>...</td>\n      <td>0.293227</td>\n      <td>2.645167e-22</td>\n      <td>0.007786</td>\n      <td>1.144436e-07</td>\n      <td>0.274499</td>\n      <td>0.000060</td>\n      <td>0.059752</td>\n      <td>1.734930e-07</td>\n      <td>0.323210</td>\n      <td>0.010679</td>\n    </tr>\n    <tr>\n      <th>ACH-001339</th>\n      <td>0.184867</td>\n      <td>0.000206</td>\n      <td>1.263397e-09</td>\n      <td>0.040346</td>\n      <td>0.194871</td>\n      <td>0.297178</td>\n      <td>0.714815</td>\n      <td>0.019402</td>\n      <td>1.459679e-32</td>\n      <td>9.760328e-10</td>\n      <td>...</td>\n      <td>0.219930</td>\n      <td>1.798509e-19</td>\n      <td>0.011629</td>\n      <td>3.052417e-06</td>\n      <td>0.458892</td>\n      <td>0.000023</td>\n      <td>0.050261</td>\n      <td>4.727336e-07</td>\n      <td>0.001154</td>\n      <td>0.012536</td>\n    </tr>\n    <tr>\n      <th>ACH-001538</th>\n      <td>0.277908</td>\n      <td>0.000374</td>\n      <td>1.251924e-09</td>\n      <td>0.071287</td>\n      <td>0.207888</td>\n      <td>0.618730</td>\n      <td>0.105511</td>\n      <td>0.003147</td>\n      <td>6.369189e-32</td>\n      <td>7.888626e-10</td>\n      <td>...</td>\n      <td>0.067530</td>\n      <td>9.803046e-21</td>\n      <td>0.011011</td>\n      <td>3.898994e-06</td>\n      <td>0.147496</td>\n      <td>0.000040</td>\n      <td>0.109395</td>\n      <td>6.002929e-06</td>\n      <td>0.320037</td>\n      <td>0.039582</td>\n    </tr>\n    <tr>\n      <th>ACH-000242</th>\n      <td>0.232313</td>\n      <td>0.000016</td>\n      <td>1.359212e-09</td>\n      <td>0.014204</td>\n      <td>0.069210</td>\n      <td>0.781799</td>\n      <td>0.004088</td>\n      <td>0.402603</td>\n      <td>3.500692e-29</td>\n      <td>4.314595e-10</td>\n      <td>...</td>\n      <td>0.103609</td>\n      <td>8.702349e-22</td>\n      <td>0.002466</td>\n      <td>5.331487e-08</td>\n      <td>0.902333</td>\n      <td>0.000059</td>\n      <td>0.024832</td>\n      <td>5.510693e-07</td>\n      <td>0.683393</td>\n      <td>0.008463</td>\n    </tr>\n  </tbody>\n</table>\n<p>5 rows × 186 columns</p>\n</div>"
     },
     "execution_count": 12,
     "metadata": {},
     "output_type": "execute_result"
    }
   ],
   "source": [
    "df_gsva = pd.read_csv('../KEGG_data/GeneExp_Wilcoxon_test_Analysis_Log10_P_value_C2_KEGG186.csv',index_col=0).T\n",
    "# 将第一行设置为列名\n",
    "# df_gsva.columns = df_gsva.iloc[0]\n",
    "# 删除第一行\n",
    "# df_gsva = df_gsva.drop(df_gsva.index[0])\n",
    "print(df_gsva.shape)\n",
    "df_gsva.head()"
   ],
   "metadata": {
    "collapsed": false,
    "ExecuteTime": {
     "end_time": "2024-02-16T05:34:45.690737800Z",
     "start_time": "2024-02-16T05:34:45.620553300Z"
    }
   },
   "id": "1515bdaaf2555667"
  },
  {
   "cell_type": "code",
   "execution_count": 13,
   "outputs": [
    {
     "name": "stdout",
     "output_type": "stream",
     "text": [
      "(939, 2)\n"
     ]
    },
    {
     "data": {
      "text/plain": "        ModelID cell_line\n0    ACH-000002      HL60\n272  ACH-000004       HEL\n523  ACH-000006  MONOMAC6\n692  ACH-000007     LS513\n911  ACH-000008     A101D",
      "text/html": "<div>\n<style scoped>\n    .dataframe tbody tr th:only-of-type {\n        vertical-align: middle;\n    }\n\n    .dataframe tbody tr th {\n        vertical-align: top;\n    }\n\n    .dataframe thead th {\n        text-align: right;\n    }\n</style>\n<table border=\"1\" class=\"dataframe\">\n  <thead>\n    <tr style=\"text-align: right;\">\n      <th></th>\n      <th>ModelID</th>\n      <th>cell_line</th>\n    </tr>\n  </thead>\n  <tbody>\n    <tr>\n      <th>0</th>\n      <td>ACH-000002</td>\n      <td>HL60</td>\n    </tr>\n    <tr>\n      <th>272</th>\n      <td>ACH-000004</td>\n      <td>HEL</td>\n    </tr>\n    <tr>\n      <th>523</th>\n      <td>ACH-000006</td>\n      <td>MONOMAC6</td>\n    </tr>\n    <tr>\n      <th>692</th>\n      <td>ACH-000007</td>\n      <td>LS513</td>\n    </tr>\n    <tr>\n      <th>911</th>\n      <td>ACH-000008</td>\n      <td>A101D</td>\n    </tr>\n  </tbody>\n</table>\n</div>"
     },
     "execution_count": 13,
     "metadata": {},
     "output_type": "execute_result"
    }
   ],
   "source": [
    "df_Model_CellLineName = pd.read_csv('../data/drug_sensitivity_duplicates_mean.csv')[['ModelID', 'cell_line']]\n",
    "# df_Model_CellLineName去重\n",
    "df_Model_CellLineName = df_Model_CellLineName.drop_duplicates()\n",
    "print(df_Model_CellLineName.shape)\n",
    "df_Model_CellLineName.head()"
   ],
   "metadata": {
    "collapsed": false,
    "ExecuteTime": {
     "end_time": "2024-02-16T05:34:50.455669900Z",
     "start_time": "2024-02-16T05:34:50.326743200Z"
    }
   },
   "id": "2df86342ce67e7f7"
  },
  {
   "cell_type": "code",
   "execution_count": 14,
   "outputs": [
    {
     "name": "stdout",
     "output_type": "stream",
     "text": [
      "(690, 186)\n"
     ]
    },
    {
     "data": {
      "text/plain": "           KEGG_ABC_TRANSPORTERS  KEGG_ACUTE_MYELOID_LEUKEMIA  \\\ncell_line                                                       \nHL60                    0.038073                 2.274652e-07   \nHEL                     0.587688                 1.521210e-08   \nMONOMAC6                0.182672                 1.031751e-07   \nLS513                   0.586276                 3.781511e-04   \nA101D                   0.414690                 4.646704e-04   \n\n           KEGG_ADHERENS_JUNCTION  KEGG_ADIPOCYTOKINE_SIGNALING_PATHWAY  \\\ncell_line                                                                 \nHL60                 3.826578e-03                              0.051549   \nHEL                  1.640547e-04                              0.003692   \nMONOMAC6             2.205246e-04                              0.015140   \nLS513                2.728506e-09                              0.021372   \nA101D                2.791209e-07                              0.022185   \n\n           KEGG_ALANINE_ASPARTATE_AND_GLUTAMATE_METABOLISM  \\\ncell_line                                                    \nHL60                                              0.193589   \nHEL                                               0.113376   \nMONOMAC6                                          0.086403   \nLS513                                             0.074472   \nA101D                                             0.158361   \n\n           KEGG_ALDOSTERONE_REGULATED_SODIUM_REABSORPTION  \\\ncell_line                                                   \nHL60                                             0.177713   \nHEL                                              0.057584   \nMONOMAC6                                         0.289895   \nLS513                                            0.649636   \nA101D                                            0.106071   \n\n           KEGG_ALLOGRAFT_REJECTION  KEGG_ALPHA_LINOLENIC_ACID_METABOLISM  \\\ncell_line                                                                   \nHL60                       0.021389                              0.022823   \nHEL                        0.067126                              0.110211   \nMONOMAC6                   0.058788                              0.108870   \nLS513                      0.014158                              0.081426   \nA101D                      0.795002                              0.019257   \n\n           KEGG_ALZHEIMERS_DISEASE  KEGG_AMINOACYL_TRNA_BIOSYNTHESIS  ...  \\\ncell_line                                                             ...   \nHL60                  2.722939e-29                      2.966203e-12  ...   \nHEL                   1.107821e-28                      5.667843e-12  ...   \nMONOMAC6              5.130591e-30                      6.830844e-12  ...   \nLS513                 7.206084e-29                      2.857991e-11  ...   \nA101D                 2.255210e-31                      1.174210e-10  ...   \n\n           KEGG_T_CELL_RECEPTOR_SIGNALING_PATHWAY  \\\ncell_line                                           \nHL60                                     0.030209   \nHEL                                      0.004230   \nMONOMAC6                                 0.005307   \nLS513                                    0.540374   \nA101D                                    0.297708   \n\n           KEGG_UBIQUITIN_MEDIATED_PROTEOLYSIS  \\\ncell_line                                        \nHL60                              5.249202e-19   \nHEL                               5.655172e-18   \nMONOMAC6                          6.811811e-21   \nLS513                             9.210495e-18   \nA101D                             7.715928e-20   \n\n           KEGG_VALINE_LEUCINE_AND_ISOLEUCINE_BIOSYNTHESIS  \\\ncell_line                                                    \nHL60                                              0.001375   \nHEL                                               0.000444   \nMONOMAC6                                          0.000662   \nLS513                                             0.007806   \nA101D                                             0.002756   \n\n           KEGG_VALINE_LEUCINE_AND_ISOLEUCINE_DEGRADATION  \\\ncell_line                                                   \nHL60                                         5.544187e-05   \nHEL                                          2.140380e-06   \nMONOMAC6                                     2.153743e-07   \nLS513                                        1.159735e-08   \nA101D                                        4.679511e-05   \n\n           KEGG_VASCULAR_SMOOTH_MUSCLE_CONTRACTION  \\\ncell_line                                            \nHL60                                      0.082569   \nHEL                                       0.819987   \nMONOMAC6                                  0.260238   \nLS513                                     0.091830   \nA101D                                     0.428551   \n\n           KEGG_VASOPRESSIN_REGULATED_WATER_REABSORPTION  \\\ncell_line                                                  \nHL60                                            0.000669   \nHEL                                             0.000019   \nMONOMAC6                                        0.000055   \nLS513                                           0.000068   \nA101D                                           0.000123   \n\n           KEGG_VEGF_SIGNALING_PATHWAY  KEGG_VIBRIO_CHOLERAE_INFECTION  \\\ncell_line                                                                \nHL60                          0.045203                    3.431747e-05   \nHEL                           0.005748                    1.438192e-04   \nMONOMAC6                      0.005271                    6.877009e-06   \nLS513                         0.096936                    3.484224e-08   \nA101D                         0.109394                    5.633869e-07   \n\n           KEGG_VIRAL_MYOCARDITIS  KEGG_WNT_SIGNALING_PATHWAY  \ncell_line                                                      \nHL60                     0.768225                    0.178766  \nHEL                      0.490022                    0.025431  \nMONOMAC6                 0.605424                    0.026279  \nLS513                    0.968169                    0.023684  \nA101D                    0.001010                    0.075188  \n\n[5 rows x 186 columns]",
      "text/html": "<div>\n<style scoped>\n    .dataframe tbody tr th:only-of-type {\n        vertical-align: middle;\n    }\n\n    .dataframe tbody tr th {\n        vertical-align: top;\n    }\n\n    .dataframe thead th {\n        text-align: right;\n    }\n</style>\n<table border=\"1\" class=\"dataframe\">\n  <thead>\n    <tr style=\"text-align: right;\">\n      <th></th>\n      <th>KEGG_ABC_TRANSPORTERS</th>\n      <th>KEGG_ACUTE_MYELOID_LEUKEMIA</th>\n      <th>KEGG_ADHERENS_JUNCTION</th>\n      <th>KEGG_ADIPOCYTOKINE_SIGNALING_PATHWAY</th>\n      <th>KEGG_ALANINE_ASPARTATE_AND_GLUTAMATE_METABOLISM</th>\n      <th>KEGG_ALDOSTERONE_REGULATED_SODIUM_REABSORPTION</th>\n      <th>KEGG_ALLOGRAFT_REJECTION</th>\n      <th>KEGG_ALPHA_LINOLENIC_ACID_METABOLISM</th>\n      <th>KEGG_ALZHEIMERS_DISEASE</th>\n      <th>KEGG_AMINOACYL_TRNA_BIOSYNTHESIS</th>\n      <th>...</th>\n      <th>KEGG_T_CELL_RECEPTOR_SIGNALING_PATHWAY</th>\n      <th>KEGG_UBIQUITIN_MEDIATED_PROTEOLYSIS</th>\n      <th>KEGG_VALINE_LEUCINE_AND_ISOLEUCINE_BIOSYNTHESIS</th>\n      <th>KEGG_VALINE_LEUCINE_AND_ISOLEUCINE_DEGRADATION</th>\n      <th>KEGG_VASCULAR_SMOOTH_MUSCLE_CONTRACTION</th>\n      <th>KEGG_VASOPRESSIN_REGULATED_WATER_REABSORPTION</th>\n      <th>KEGG_VEGF_SIGNALING_PATHWAY</th>\n      <th>KEGG_VIBRIO_CHOLERAE_INFECTION</th>\n      <th>KEGG_VIRAL_MYOCARDITIS</th>\n      <th>KEGG_WNT_SIGNALING_PATHWAY</th>\n    </tr>\n    <tr>\n      <th>cell_line</th>\n      <th></th>\n      <th></th>\n      <th></th>\n      <th></th>\n      <th></th>\n      <th></th>\n      <th></th>\n      <th></th>\n      <th></th>\n      <th></th>\n      <th></th>\n      <th></th>\n      <th></th>\n      <th></th>\n      <th></th>\n      <th></th>\n      <th></th>\n      <th></th>\n      <th></th>\n      <th></th>\n      <th></th>\n    </tr>\n  </thead>\n  <tbody>\n    <tr>\n      <th>HL60</th>\n      <td>0.038073</td>\n      <td>2.274652e-07</td>\n      <td>3.826578e-03</td>\n      <td>0.051549</td>\n      <td>0.193589</td>\n      <td>0.177713</td>\n      <td>0.021389</td>\n      <td>0.022823</td>\n      <td>2.722939e-29</td>\n      <td>2.966203e-12</td>\n      <td>...</td>\n      <td>0.030209</td>\n      <td>5.249202e-19</td>\n      <td>0.001375</td>\n      <td>5.544187e-05</td>\n      <td>0.082569</td>\n      <td>0.000669</td>\n      <td>0.045203</td>\n      <td>3.431747e-05</td>\n      <td>0.768225</td>\n      <td>0.178766</td>\n    </tr>\n    <tr>\n      <th>HEL</th>\n      <td>0.587688</td>\n      <td>1.521210e-08</td>\n      <td>1.640547e-04</td>\n      <td>0.003692</td>\n      <td>0.113376</td>\n      <td>0.057584</td>\n      <td>0.067126</td>\n      <td>0.110211</td>\n      <td>1.107821e-28</td>\n      <td>5.667843e-12</td>\n      <td>...</td>\n      <td>0.004230</td>\n      <td>5.655172e-18</td>\n      <td>0.000444</td>\n      <td>2.140380e-06</td>\n      <td>0.819987</td>\n      <td>0.000019</td>\n      <td>0.005748</td>\n      <td>1.438192e-04</td>\n      <td>0.490022</td>\n      <td>0.025431</td>\n    </tr>\n    <tr>\n      <th>MONOMAC6</th>\n      <td>0.182672</td>\n      <td>1.031751e-07</td>\n      <td>2.205246e-04</td>\n      <td>0.015140</td>\n      <td>0.086403</td>\n      <td>0.289895</td>\n      <td>0.058788</td>\n      <td>0.108870</td>\n      <td>5.130591e-30</td>\n      <td>6.830844e-12</td>\n      <td>...</td>\n      <td>0.005307</td>\n      <td>6.811811e-21</td>\n      <td>0.000662</td>\n      <td>2.153743e-07</td>\n      <td>0.260238</td>\n      <td>0.000055</td>\n      <td>0.005271</td>\n      <td>6.877009e-06</td>\n      <td>0.605424</td>\n      <td>0.026279</td>\n    </tr>\n    <tr>\n      <th>LS513</th>\n      <td>0.586276</td>\n      <td>3.781511e-04</td>\n      <td>2.728506e-09</td>\n      <td>0.021372</td>\n      <td>0.074472</td>\n      <td>0.649636</td>\n      <td>0.014158</td>\n      <td>0.081426</td>\n      <td>7.206084e-29</td>\n      <td>2.857991e-11</td>\n      <td>...</td>\n      <td>0.540374</td>\n      <td>9.210495e-18</td>\n      <td>0.007806</td>\n      <td>1.159735e-08</td>\n      <td>0.091830</td>\n      <td>0.000068</td>\n      <td>0.096936</td>\n      <td>3.484224e-08</td>\n      <td>0.968169</td>\n      <td>0.023684</td>\n    </tr>\n    <tr>\n      <th>A101D</th>\n      <td>0.414690</td>\n      <td>4.646704e-04</td>\n      <td>2.791209e-07</td>\n      <td>0.022185</td>\n      <td>0.158361</td>\n      <td>0.106071</td>\n      <td>0.795002</td>\n      <td>0.019257</td>\n      <td>2.255210e-31</td>\n      <td>1.174210e-10</td>\n      <td>...</td>\n      <td>0.297708</td>\n      <td>7.715928e-20</td>\n      <td>0.002756</td>\n      <td>4.679511e-05</td>\n      <td>0.428551</td>\n      <td>0.000123</td>\n      <td>0.109394</td>\n      <td>5.633869e-07</td>\n      <td>0.001010</td>\n      <td>0.075188</td>\n    </tr>\n  </tbody>\n</table>\n<p>5 rows × 186 columns</p>\n</div>"
     },
     "execution_count": 14,
     "metadata": {},
     "output_type": "execute_result"
    }
   ],
   "source": [
    "# df_Model_CellLineName与df_gsva合并,左边根据ModelID合并,右边根据index合并\n",
    "df_gsva_with_CellLineName = pd.merge(df_Model_CellLineName, df_gsva, left_on='ModelID', right_index=True)\n",
    "# 删除ModelID列\n",
    "df_gsva_with_CellLineName = df_gsva_with_CellLineName.drop(columns=['ModelID'])\n",
    "# 将Cell Line Name列名改为cell_line\n",
    "df_gsva_with_CellLineName = df_gsva_with_CellLineName.rename(columns={'Cell Line Name': 'cell_line'})\n",
    "# 将cell_line列设置为索引\n",
    "df_gsva_with_CellLineName = df_gsva_with_CellLineName.set_index('cell_line')\n",
    "print(df_gsva_with_CellLineName.shape)\n",
    "df_gsva_with_CellLineName.head()"
   ],
   "metadata": {
    "collapsed": false,
    "ExecuteTime": {
     "end_time": "2024-02-16T05:34:53.045275900Z",
     "start_time": "2024-02-16T05:34:53.029056100Z"
    }
   },
   "id": "dacc4ca276cd57b0"
  },
  {
   "cell_type": "code",
   "execution_count": 15,
   "outputs": [],
   "source": [
    "# 导出\n",
    "df_gsva_with_CellLineName.to_csv('../KEGG_data/GeneExp_Wilcoxon_test_Analysis_Log10_P_value_C2_KEGG186.csv')"
   ],
   "metadata": {
    "collapsed": false,
    "ExecuteTime": {
     "end_time": "2024-02-16T05:35:20.898779200Z",
     "start_time": "2024-02-16T05:35:20.787803700Z"
    }
   },
   "id": "e39644bb1c9c228a"
  }
 ],
 "metadata": {
  "kernelspec": {
   "display_name": "Python 3",
   "language": "python",
   "name": "python3"
  },
  "language_info": {
   "codemirror_mode": {
    "name": "ipython",
    "version": 2
   },
   "file_extension": ".py",
   "mimetype": "text/x-python",
   "name": "python",
   "nbconvert_exporter": "python",
   "pygments_lexer": "ipython2",
   "version": "2.7.6"
  }
 },
 "nbformat": 4,
 "nbformat_minor": 5
}
