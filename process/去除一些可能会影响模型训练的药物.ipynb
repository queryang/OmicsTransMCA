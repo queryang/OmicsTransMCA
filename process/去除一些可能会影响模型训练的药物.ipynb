{
 "cells": [
  {
   "cell_type": "code",
   "execution_count": 1,
   "id": "initial_id",
   "metadata": {
    "collapsed": true,
    "ExecuteTime": {
     "end_time": "2023-11-07T11:50:09.464795400Z",
     "start_time": "2023-11-07T11:50:07.187956400Z"
    }
   },
   "outputs": [],
   "source": [
    "import pandas as pd"
   ]
  },
  {
   "cell_type": "code",
   "execution_count": 5,
   "outputs": [],
   "source": [
    "df_train = pd.read_csv('../PlanF/data/drug_sensitivity_MixedSet_Modified_train.csv')\n",
    "df_test = pd.read_csv('../PlanF/data/drug_sensitivity_MixedSet_Modified_test.csv')"
   ],
   "metadata": {
    "collapsed": false,
    "ExecuteTime": {
     "end_time": "2023-11-07T11:52:33.793179700Z",
     "start_time": "2023-11-07T11:52:33.727339500Z"
    }
   },
   "id": "3c14562e94fd2c49"
  },
  {
   "cell_type": "code",
   "execution_count": 0,
   "outputs": [],
   "source": [
    "# N-acetyl cysteine glutathione\n",
    "# 将train和test中drug的名字为N-acetyl cysteine和glutathione去除\n",
    "df_train = df_train[df_train['drug'] != 'N-acetyl cysteine']\n",
    "df_train = df_train[df_train['drug'] != 'glutathione']\n",
    "df_test = df_test[df_test['drug'] != 'N-acetyl cysteine']\n",
    "df_test = df_test[df_test['drug'] != 'glutathione']"
   ],
   "metadata": {
    "collapsed": false
   },
   "id": "efbcb6471a4b438"
  },
  {
   "cell_type": "code",
   "execution_count": 6,
   "outputs": [],
   "source": [
    "\n",
    "# alpha-lipoic acid\n",
    "# 将train和test中drug的名字为alpha-lipoic acid去除\n",
    "df_train = df_train[df_train['drug'] != 'alpha-lipoic acid']\n",
    "df_test = df_test[df_test['drug'] != 'alpha-lipoic acid']"
   ],
   "metadata": {
    "collapsed": false,
    "ExecuteTime": {
     "end_time": "2023-11-07T11:52:35.921983400Z",
     "start_time": "2023-11-07T11:52:35.892180300Z"
    }
   },
   "id": "50e81f06ab21f6f4"
  },
  {
   "cell_type": "code",
   "execution_count": 7,
   "outputs": [],
   "source": [
    "# 导出处理后的数据\n",
    "df_train.to_csv('../PlanF/data/drug_sensitivity_MixedSet_Modified_train.csv', index=False)\n",
    "df_test.to_csv('../PlanF/data/drug_sensitivity_MixedSet_Modified_test.csv', index=False)"
   ],
   "metadata": {
    "collapsed": false,
    "ExecuteTime": {
     "end_time": "2023-11-07T11:52:38.403980900Z",
     "start_time": "2023-11-07T11:52:38.115547400Z"
    }
   },
   "id": "b8b06c9df9a92415"
  }
 ],
 "metadata": {
  "kernelspec": {
   "display_name": "Python 3",
   "language": "python",
   "name": "python3"
  },
  "language_info": {
   "codemirror_mode": {
    "name": "ipython",
    "version": 2
   },
   "file_extension": ".py",
   "mimetype": "text/x-python",
   "name": "python",
   "nbconvert_exporter": "python",
   "pygments_lexer": "ipython2",
   "version": "2.7.6"
  }
 },
 "nbformat": 4,
 "nbformat_minor": 5
}
